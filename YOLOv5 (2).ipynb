{
 "cells": [
  {
   "cell_type": "code",
   "execution_count": 10,
   "metadata": {
    "scrolled": true
   },
   "outputs": [],
   "source": [
    "# !pip uninstall tensorflow\n",
    "# !pip install tensorflow"
   ]
  },
  {
   "cell_type": "code",
   "execution_count": 11,
   "metadata": {},
   "outputs": [],
   "source": [
    "# !pip install tqdm"
   ]
  },
  {
   "cell_type": "code",
   "execution_count": 12,
   "metadata": {},
   "outputs": [],
   "source": [
    "# !pip show tqdm"
   ]
  },
  {
   "cell_type": "code",
   "execution_count": 1,
   "metadata": {
    "executionInfo": {
     "elapsed": 2656,
     "status": "ok",
     "timestamp": 1638231185983,
     "user": {
      "displayName": "Tan Ngoc Pham",
      "photoUrl": "https://lh3.googleusercontent.com/a-/AOh14GjTnKqizUwXZEJCyzVEpyGrf3UB4Q9hXQmOia-K=s64",
      "userId": "14181975107662818559"
     },
     "user_tz": -420
    },
    "id": "nFaU4kIcGB1V"
   },
   "outputs": [
    {
     "name": "stdout",
     "output_type": "stream",
     "text": [
      "WARNING:tensorflow:From D:\\anaconda\\Lib\\site-packages\\keras\\src\\losses.py:2976: The name tf.losses.sparse_softmax_cross_entropy is deprecated. Please use tf.compat.v1.losses.sparse_softmax_cross_entropy instead.\n",
      "\n"
     ]
    }
   ],
   "source": [
    "import os\n",
    "import pandas as pd\n",
    "import numpy as np\n",
    "from glob import glob\n",
    "import shutil\n",
    "import matplotlib.pyplot as plt\n",
    "from sklearn.model_selection import GroupKFold\n",
    "from tqdm.notebook import tqdm\n",
    "import seaborn as sns\n",
    "import tensorflow as tf\n",
    "\n",
    "#tf.disable_v2_behavior()\n",
    "import cv2 as cv\n",
    "import nibabel as nib\n",
    "import pydicom as pyd\n",
    "import gdcm"
   ]
  },
  {
   "cell_type": "code",
   "execution_count": 2,
   "metadata": {},
   "outputs": [],
   "source": [
    "import PIL"
   ]
  },
  {
   "cell_type": "code",
   "execution_count": 3,
   "metadata": {},
   "outputs": [],
   "source": [
    "#import "
   ]
  },
  {
   "cell_type": "markdown",
   "metadata": {
    "id": "n4gjDjilF4_h"
   },
   "source": [
    "# Link data\n"
   ]
  },
  {
   "cell_type": "code",
   "execution_count": 4,
   "metadata": {
    "executionInfo": {
     "elapsed": 3,
     "status": "ok",
     "timestamp": 1638231185983,
     "user": {
      "displayName": "Tan Ngoc Pham",
      "photoUrl": "https://lh3.googleusercontent.com/a-/AOh14GjTnKqizUwXZEJCyzVEpyGrf3UB4Q9hXQmOia-K=s64",
      "userId": "14181975107662818559"
     },
     "user_tz": -420
    },
    "id": "mHehrEfMF6Kw"
   },
   "outputs": [],
   "source": [
    "#datalink = \"D:/dataset/pcxr/images/\"\n",
    "TRAIN = 'train/'\n",
    "TEST = 'test/'\n",
    "LABELS = 'labels/'"
   ]
  },
  {
   "cell_type": "code",
   "execution_count": 5,
   "metadata": {
    "colab": {
     "base_uri": "https://localhost:8080/"
    },
    "executionInfo": {
     "elapsed": 2142,
     "status": "ok",
     "timestamp": 1638231188123,
     "user": {
      "displayName": "Tan Ngoc Pham",
      "photoUrl": "https://lh3.googleusercontent.com/a-/AOh14GjTnKqizUwXZEJCyzVEpyGrf3UB4Q9hXQmOia-K=s64",
      "userId": "14181975107662818559"
     },
     "user_tz": -420
    },
    "id": "5Yy0OytCIBu4",
    "outputId": "b17f30d7-3725-481f-b0b3-35d562f0f4cb"
   },
   "outputs": [
    {
     "name": "stdout",
     "output_type": "stream",
     "text": [
      "['annotations_test.csv', 'annotations_train.csv', 'image_labels_test.csv', 'image_labels_train.csv']\n"
     ]
    }
   ],
   "source": [
    "import os\n",
    "files = os.listdir(LABELS)\n",
    "\n",
    "# Filter files with the \".csv\" extension\n",
    "csv_files = [file for file in files if file.endswith('.csv')]\n",
    "\n",
    "# Print the list of CSV files\n",
    "print(csv_files)"
   ]
  },
  {
   "cell_type": "code",
   "execution_count": 9,
   "metadata": {
    "colab": {
     "base_uri": "https://localhost:8080/",
     "height": 206
    },
    "executionInfo": {
     "elapsed": 541,
     "status": "ok",
     "timestamp": 1638231188660,
     "user": {
      "displayName": "Tan Ngoc Pham",
      "photoUrl": "https://lh3.googleusercontent.com/a-/AOh14GjTnKqizUwXZEJCyzVEpyGrf3UB4Q9hXQmOia-K=s64",
      "userId": "14181975107662818559"
     },
     "user_tz": -420
    },
    "id": "XsVcsigdH77Y",
    "outputId": "49cb0539-c769-4cef-84b3-347c444d327f"
   },
   "outputs": [
    {
     "data": {
      "text/html": [
       "<div>\n",
       "<style scoped>\n",
       "    .dataframe tbody tr th:only-of-type {\n",
       "        vertical-align: middle;\n",
       "    }\n",
       "\n",
       "    .dataframe tbody tr th {\n",
       "        vertical-align: top;\n",
       "    }\n",
       "\n",
       "    .dataframe thead th {\n",
       "        text-align: right;\n",
       "    }\n",
       "</style>\n",
       "<table border=\"1\" class=\"dataframe\">\n",
       "  <thead>\n",
       "    <tr style=\"text-align: right;\">\n",
       "      <th></th>\n",
       "      <th>image_id</th>\n",
       "      <th>rad_ID</th>\n",
       "      <th>class_name</th>\n",
       "      <th>x_min</th>\n",
       "      <th>y_min</th>\n",
       "      <th>x_max</th>\n",
       "      <th>y_max</th>\n",
       "      <th>class_id</th>\n",
       "    </tr>\n",
       "  </thead>\n",
       "  <tbody>\n",
       "    <tr>\n",
       "      <th>0</th>\n",
       "      <td>03d56a9709a81b2e9d6afbc6647c8730</td>\n",
       "      <td>R3</td>\n",
       "      <td>Boot-shaped heart</td>\n",
       "      <td>378.760010</td>\n",
       "      <td>401.416645</td>\n",
       "      <td>835.143248</td>\n",
       "      <td>661.678437</td>\n",
       "      <td>0</td>\n",
       "    </tr>\n",
       "    <tr>\n",
       "      <th>1</th>\n",
       "      <td>48f7ba0b0fd5ab847ee87df2aed5cfc9</td>\n",
       "      <td>R3</td>\n",
       "      <td>Peribronchovascular interstitial opacity</td>\n",
       "      <td>247.196368</td>\n",
       "      <td>412.000819</td>\n",
       "      <td>441.763442</td>\n",
       "      <td>830.320028</td>\n",
       "      <td>1</td>\n",
       "    </tr>\n",
       "    <tr>\n",
       "      <th>2</th>\n",
       "      <td>48f7ba0b0fd5ab847ee87df2aed5cfc9</td>\n",
       "      <td>R3</td>\n",
       "      <td>Peribronchovascular interstitial opacity</td>\n",
       "      <td>613.631024</td>\n",
       "      <td>364.980443</td>\n",
       "      <td>902.238850</td>\n",
       "      <td>827.077243</td>\n",
       "      <td>1</td>\n",
       "    </tr>\n",
       "    <tr>\n",
       "      <th>3</th>\n",
       "      <td>74f8648d742bbcce79d67c967de5552d</td>\n",
       "      <td>R3</td>\n",
       "      <td>Peribronchovascular interstitial opacity</td>\n",
       "      <td>1008.515903</td>\n",
       "      <td>665.439667</td>\n",
       "      <td>1324.430364</td>\n",
       "      <td>1265.465119</td>\n",
       "      <td>1</td>\n",
       "    </tr>\n",
       "    <tr>\n",
       "      <th>4</th>\n",
       "      <td>74f8648d742bbcce79d67c967de5552d</td>\n",
       "      <td>R3</td>\n",
       "      <td>Peribronchovascular interstitial opacity</td>\n",
       "      <td>453.015307</td>\n",
       "      <td>635.756429</td>\n",
       "      <td>724.404911</td>\n",
       "      <td>1242.142575</td>\n",
       "      <td>1</td>\n",
       "    </tr>\n",
       "  </tbody>\n",
       "</table>\n",
       "</div>"
      ],
      "text/plain": [
       "                           image_id rad_ID  \\\n",
       "0  03d56a9709a81b2e9d6afbc6647c8730     R3   \n",
       "1  48f7ba0b0fd5ab847ee87df2aed5cfc9     R3   \n",
       "2  48f7ba0b0fd5ab847ee87df2aed5cfc9     R3   \n",
       "3  74f8648d742bbcce79d67c967de5552d     R3   \n",
       "4  74f8648d742bbcce79d67c967de5552d     R3   \n",
       "\n",
       "                                 class_name        x_min       y_min  \\\n",
       "0                         Boot-shaped heart   378.760010  401.416645   \n",
       "1  Peribronchovascular interstitial opacity   247.196368  412.000819   \n",
       "2  Peribronchovascular interstitial opacity   613.631024  364.980443   \n",
       "3  Peribronchovascular interstitial opacity  1008.515903  665.439667   \n",
       "4  Peribronchovascular interstitial opacity   453.015307  635.756429   \n",
       "\n",
       "         x_max        y_max  class_id  \n",
       "0   835.143248   661.678437         0  \n",
       "1   441.763442   830.320028         1  \n",
       "2   902.238850   827.077243         1  \n",
       "3  1324.430364  1265.465119         1  \n",
       "4   724.404911  1242.142575         1  "
      ]
     },
     "execution_count": 9,
     "metadata": {},
     "output_type": "execute_result"
    }
   ],
   "source": [
    "train_df = pd.read_csv(LABELS + 'annotations_train.csv')\n",
    "train_df.head()"
   ]
  },
  {
   "cell_type": "code",
   "execution_count": 10,
   "metadata": {
    "executionInfo": {
     "elapsed": 6,
     "status": "ok",
     "timestamp": 1638231188660,
     "user": {
      "displayName": "Tan Ngoc Pham",
      "photoUrl": "https://lh3.googleusercontent.com/a-/AOh14GjTnKqizUwXZEJCyzVEpyGrf3UB4Q9hXQmOia-K=s64",
      "userId": "14181975107662818559"
     },
     "user_tz": -420
    },
    "id": "gSfVZfC20BD3"
   },
   "outputs": [],
   "source": [
    "dim = 256"
   ]
  },
  {
   "cell_type": "code",
   "execution_count": 11,
   "metadata": {
    "colab": {
     "base_uri": "https://localhost:8080/",
     "height": 313
    },
    "executionInfo": {
     "elapsed": 486,
     "status": "ok",
     "timestamp": 1638231189141,
     "user": {
      "displayName": "Tan Ngoc Pham",
      "photoUrl": "https://lh3.googleusercontent.com/a-/AOh14GjTnKqizUwXZEJCyzVEpyGrf3UB4Q9hXQmOia-K=s64",
      "userId": "14181975107662818559"
     },
     "user_tz": -420
    },
    "id": "a0Mwvr1y0HW5",
    "outputId": "f8f55e3b-0e0f-4559-f38f-0dc5231764c1"
   },
   "outputs": [
    {
     "data": {
      "text/html": [
       "<div>\n",
       "<style scoped>\n",
       "    .dataframe tbody tr th:only-of-type {\n",
       "        vertical-align: middle;\n",
       "    }\n",
       "\n",
       "    .dataframe tbody tr th {\n",
       "        vertical-align: top;\n",
       "    }\n",
       "\n",
       "    .dataframe thead th {\n",
       "        text-align: right;\n",
       "    }\n",
       "</style>\n",
       "<table border=\"1\" class=\"dataframe\">\n",
       "  <thead>\n",
       "    <tr style=\"text-align: right;\">\n",
       "      <th></th>\n",
       "      <th>image_id</th>\n",
       "      <th>rad_ID</th>\n",
       "      <th>class_name</th>\n",
       "      <th>x_min</th>\n",
       "      <th>y_min</th>\n",
       "      <th>x_max</th>\n",
       "      <th>y_max</th>\n",
       "      <th>class_id</th>\n",
       "      <th>image_path</th>\n",
       "    </tr>\n",
       "  </thead>\n",
       "  <tbody>\n",
       "    <tr>\n",
       "      <th>0</th>\n",
       "      <td>03d56a9709a81b2e9d6afbc6647c8730</td>\n",
       "      <td>R3</td>\n",
       "      <td>Boot-shaped heart</td>\n",
       "      <td>378.760010</td>\n",
       "      <td>401.416645</td>\n",
       "      <td>835.143248</td>\n",
       "      <td>661.678437</td>\n",
       "      <td>0</td>\n",
       "      <td>train/03d56a9709a81b2e9d6afbc6647c8730.dicom</td>\n",
       "    </tr>\n",
       "    <tr>\n",
       "      <th>1</th>\n",
       "      <td>48f7ba0b0fd5ab847ee87df2aed5cfc9</td>\n",
       "      <td>R3</td>\n",
       "      <td>Peribronchovascular interstitial opacity</td>\n",
       "      <td>247.196368</td>\n",
       "      <td>412.000819</td>\n",
       "      <td>441.763442</td>\n",
       "      <td>830.320028</td>\n",
       "      <td>1</td>\n",
       "      <td>train/48f7ba0b0fd5ab847ee87df2aed5cfc9.dicom</td>\n",
       "    </tr>\n",
       "    <tr>\n",
       "      <th>2</th>\n",
       "      <td>48f7ba0b0fd5ab847ee87df2aed5cfc9</td>\n",
       "      <td>R3</td>\n",
       "      <td>Peribronchovascular interstitial opacity</td>\n",
       "      <td>613.631024</td>\n",
       "      <td>364.980443</td>\n",
       "      <td>902.238850</td>\n",
       "      <td>827.077243</td>\n",
       "      <td>1</td>\n",
       "      <td>train/48f7ba0b0fd5ab847ee87df2aed5cfc9.dicom</td>\n",
       "    </tr>\n",
       "    <tr>\n",
       "      <th>3</th>\n",
       "      <td>74f8648d742bbcce79d67c967de5552d</td>\n",
       "      <td>R3</td>\n",
       "      <td>Peribronchovascular interstitial opacity</td>\n",
       "      <td>1008.515903</td>\n",
       "      <td>665.439667</td>\n",
       "      <td>1324.430364</td>\n",
       "      <td>1265.465119</td>\n",
       "      <td>1</td>\n",
       "      <td>train/74f8648d742bbcce79d67c967de5552d.dicom</td>\n",
       "    </tr>\n",
       "    <tr>\n",
       "      <th>4</th>\n",
       "      <td>74f8648d742bbcce79d67c967de5552d</td>\n",
       "      <td>R3</td>\n",
       "      <td>Peribronchovascular interstitial opacity</td>\n",
       "      <td>453.015307</td>\n",
       "      <td>635.756429</td>\n",
       "      <td>724.404911</td>\n",
       "      <td>1242.142575</td>\n",
       "      <td>1</td>\n",
       "      <td>train/74f8648d742bbcce79d67c967de5552d.dicom</td>\n",
       "    </tr>\n",
       "  </tbody>\n",
       "</table>\n",
       "</div>"
      ],
      "text/plain": [
       "                           image_id rad_ID  \\\n",
       "0  03d56a9709a81b2e9d6afbc6647c8730     R3   \n",
       "1  48f7ba0b0fd5ab847ee87df2aed5cfc9     R3   \n",
       "2  48f7ba0b0fd5ab847ee87df2aed5cfc9     R3   \n",
       "3  74f8648d742bbcce79d67c967de5552d     R3   \n",
       "4  74f8648d742bbcce79d67c967de5552d     R3   \n",
       "\n",
       "                                 class_name        x_min       y_min  \\\n",
       "0                         Boot-shaped heart   378.760010  401.416645   \n",
       "1  Peribronchovascular interstitial opacity   247.196368  412.000819   \n",
       "2  Peribronchovascular interstitial opacity   613.631024  364.980443   \n",
       "3  Peribronchovascular interstitial opacity  1008.515903  665.439667   \n",
       "4  Peribronchovascular interstitial opacity   453.015307  635.756429   \n",
       "\n",
       "         x_max        y_max  class_id  \\\n",
       "0   835.143248   661.678437         0   \n",
       "1   441.763442   830.320028         1   \n",
       "2   902.238850   827.077243         1   \n",
       "3  1324.430364  1265.465119         1   \n",
       "4   724.404911  1242.142575         1   \n",
       "\n",
       "                                     image_path  \n",
       "0  train/03d56a9709a81b2e9d6afbc6647c8730.dicom  \n",
       "1  train/48f7ba0b0fd5ab847ee87df2aed5cfc9.dicom  \n",
       "2  train/48f7ba0b0fd5ab847ee87df2aed5cfc9.dicom  \n",
       "3  train/74f8648d742bbcce79d67c967de5552d.dicom  \n",
       "4  train/74f8648d742bbcce79d67c967de5552d.dicom  "
      ]
     },
     "execution_count": 11,
     "metadata": {},
     "output_type": "execute_result"
    }
   ],
   "source": [
    "train_df['image_path'] = [(TRAIN + train_df['image_id'][i] + '.dicom') for i in range(len(train_df))]\n",
    "train_df.head()"
   ]
  },
  {
   "cell_type": "markdown",
   "metadata": {
    "id": "NoEzTQOC2KQQ"
   },
   "source": [
    "# Only 35 classes\n"
   ]
  },
  {
   "cell_type": "code",
   "execution_count": 12,
   "metadata": {
    "colab": {
     "base_uri": "https://localhost:8080/",
     "height": 313
    },
    "executionInfo": {
     "elapsed": 8,
     "status": "ok",
     "timestamp": 1638231189142,
     "user": {
      "displayName": "Tan Ngoc Pham",
      "photoUrl": "https://lh3.googleusercontent.com/a-/AOh14GjTnKqizUwXZEJCyzVEpyGrf3UB4Q9hXQmOia-K=s64",
      "userId": "14181975107662818559"
     },
     "user_tz": -420
    },
    "id": "QD5pbRbL1ia7",
    "outputId": "d3a2e4d1-1ce7-4803-eab2-b99a3355fd52"
   },
   "outputs": [
    {
     "data": {
      "text/html": [
       "<div>\n",
       "<style scoped>\n",
       "    .dataframe tbody tr th:only-of-type {\n",
       "        vertical-align: middle;\n",
       "    }\n",
       "\n",
       "    .dataframe tbody tr th {\n",
       "        vertical-align: top;\n",
       "    }\n",
       "\n",
       "    .dataframe thead th {\n",
       "        text-align: right;\n",
       "    }\n",
       "</style>\n",
       "<table border=\"1\" class=\"dataframe\">\n",
       "  <thead>\n",
       "    <tr style=\"text-align: right;\">\n",
       "      <th></th>\n",
       "      <th>image_id</th>\n",
       "      <th>rad_ID</th>\n",
       "      <th>class_name</th>\n",
       "      <th>x_min</th>\n",
       "      <th>y_min</th>\n",
       "      <th>x_max</th>\n",
       "      <th>y_max</th>\n",
       "      <th>class_id</th>\n",
       "      <th>image_path</th>\n",
       "    </tr>\n",
       "  </thead>\n",
       "  <tbody>\n",
       "    <tr>\n",
       "      <th>0</th>\n",
       "      <td>03d56a9709a81b2e9d6afbc6647c8730</td>\n",
       "      <td>R3</td>\n",
       "      <td>Boot-shaped heart</td>\n",
       "      <td>378.760010</td>\n",
       "      <td>401.416645</td>\n",
       "      <td>835.143248</td>\n",
       "      <td>661.678437</td>\n",
       "      <td>0</td>\n",
       "      <td>train/03d56a9709a81b2e9d6afbc6647c8730.dicom</td>\n",
       "    </tr>\n",
       "    <tr>\n",
       "      <th>1</th>\n",
       "      <td>48f7ba0b0fd5ab847ee87df2aed5cfc9</td>\n",
       "      <td>R3</td>\n",
       "      <td>Peribronchovascular interstitial opacity</td>\n",
       "      <td>247.196368</td>\n",
       "      <td>412.000819</td>\n",
       "      <td>441.763442</td>\n",
       "      <td>830.320028</td>\n",
       "      <td>1</td>\n",
       "      <td>train/48f7ba0b0fd5ab847ee87df2aed5cfc9.dicom</td>\n",
       "    </tr>\n",
       "    <tr>\n",
       "      <th>2</th>\n",
       "      <td>48f7ba0b0fd5ab847ee87df2aed5cfc9</td>\n",
       "      <td>R3</td>\n",
       "      <td>Peribronchovascular interstitial opacity</td>\n",
       "      <td>613.631024</td>\n",
       "      <td>364.980443</td>\n",
       "      <td>902.238850</td>\n",
       "      <td>827.077243</td>\n",
       "      <td>1</td>\n",
       "      <td>train/48f7ba0b0fd5ab847ee87df2aed5cfc9.dicom</td>\n",
       "    </tr>\n",
       "    <tr>\n",
       "      <th>3</th>\n",
       "      <td>74f8648d742bbcce79d67c967de5552d</td>\n",
       "      <td>R3</td>\n",
       "      <td>Peribronchovascular interstitial opacity</td>\n",
       "      <td>1008.515903</td>\n",
       "      <td>665.439667</td>\n",
       "      <td>1324.430364</td>\n",
       "      <td>1265.465119</td>\n",
       "      <td>1</td>\n",
       "      <td>train/74f8648d742bbcce79d67c967de5552d.dicom</td>\n",
       "    </tr>\n",
       "    <tr>\n",
       "      <th>4</th>\n",
       "      <td>74f8648d742bbcce79d67c967de5552d</td>\n",
       "      <td>R3</td>\n",
       "      <td>Peribronchovascular interstitial opacity</td>\n",
       "      <td>453.015307</td>\n",
       "      <td>635.756429</td>\n",
       "      <td>724.404911</td>\n",
       "      <td>1242.142575</td>\n",
       "      <td>1</td>\n",
       "      <td>train/74f8648d742bbcce79d67c967de5552d.dicom</td>\n",
       "    </tr>\n",
       "  </tbody>\n",
       "</table>\n",
       "</div>"
      ],
      "text/plain": [
       "                           image_id rad_ID  \\\n",
       "0  03d56a9709a81b2e9d6afbc6647c8730     R3   \n",
       "1  48f7ba0b0fd5ab847ee87df2aed5cfc9     R3   \n",
       "2  48f7ba0b0fd5ab847ee87df2aed5cfc9     R3   \n",
       "3  74f8648d742bbcce79d67c967de5552d     R3   \n",
       "4  74f8648d742bbcce79d67c967de5552d     R3   \n",
       "\n",
       "                                 class_name        x_min       y_min  \\\n",
       "0                         Boot-shaped heart   378.760010  401.416645   \n",
       "1  Peribronchovascular interstitial opacity   247.196368  412.000819   \n",
       "2  Peribronchovascular interstitial opacity   613.631024  364.980443   \n",
       "3  Peribronchovascular interstitial opacity  1008.515903  665.439667   \n",
       "4  Peribronchovascular interstitial opacity   453.015307  635.756429   \n",
       "\n",
       "         x_max        y_max  class_id  \\\n",
       "0   835.143248   661.678437         0   \n",
       "1   441.763442   830.320028         1   \n",
       "2   902.238850   827.077243         1   \n",
       "3  1324.430364  1265.465119         1   \n",
       "4   724.404911  1242.142575         1   \n",
       "\n",
       "                                     image_path  \n",
       "0  train/03d56a9709a81b2e9d6afbc6647c8730.dicom  \n",
       "1  train/48f7ba0b0fd5ab847ee87df2aed5cfc9.dicom  \n",
       "2  train/48f7ba0b0fd5ab847ee87df2aed5cfc9.dicom  \n",
       "3  train/74f8648d742bbcce79d67c967de5552d.dicom  \n",
       "4  train/74f8648d742bbcce79d67c967de5552d.dicom  "
      ]
     },
     "execution_count": 12,
     "metadata": {},
     "output_type": "execute_result"
    }
   ],
   "source": [
    "train_df = train_df[train_df.class_id!=35].reset_index(drop = True)\n",
    "train_df.head()"
   ]
  },
  {
   "cell_type": "markdown",
   "metadata": {
    "id": "wImM-8152k_a"
   },
   "source": [
    "# Preprocessing"
   ]
  },
  {
   "cell_type": "code",
   "execution_count": 13,
   "metadata": {
    "colab": {
     "base_uri": "https://localhost:8080/",
     "height": 313
    },
    "executionInfo": {
     "elapsed": 5483,
     "status": "ok",
     "timestamp": 1638231194618,
     "user": {
      "displayName": "Tan Ngoc Pham",
      "photoUrl": "https://lh3.googleusercontent.com/a-/AOh14GjTnKqizUwXZEJCyzVEpyGrf3UB4Q9hXQmOia-K=s64",
      "userId": "14181975107662818559"
     },
     "user_tz": -420
    },
    "id": "Yi59NzqJ0XhF",
    "outputId": "014238a2-32b0-4fe1-8614-887946c0f32b"
   },
   "outputs": [
    {
     "data": {
      "text/html": [
       "<div>\n",
       "<style scoped>\n",
       "    .dataframe tbody tr th:only-of-type {\n",
       "        vertical-align: middle;\n",
       "    }\n",
       "\n",
       "    .dataframe tbody tr th {\n",
       "        vertical-align: top;\n",
       "    }\n",
       "\n",
       "    .dataframe thead th {\n",
       "        text-align: right;\n",
       "    }\n",
       "</style>\n",
       "<table border=\"1\" class=\"dataframe\">\n",
       "  <thead>\n",
       "    <tr style=\"text-align: right;\">\n",
       "      <th></th>\n",
       "      <th>image_id</th>\n",
       "      <th>rad_ID</th>\n",
       "      <th>class_name</th>\n",
       "      <th>x_min</th>\n",
       "      <th>y_min</th>\n",
       "      <th>x_max</th>\n",
       "      <th>y_max</th>\n",
       "      <th>class_id</th>\n",
       "      <th>image_path</th>\n",
       "      <th>x_mid</th>\n",
       "      <th>y_mid</th>\n",
       "      <th>w</th>\n",
       "      <th>h</th>\n",
       "      <th>area</th>\n",
       "    </tr>\n",
       "  </thead>\n",
       "  <tbody>\n",
       "    <tr>\n",
       "      <th>0</th>\n",
       "      <td>03d56a9709a81b2e9d6afbc6647c8730</td>\n",
       "      <td>R3</td>\n",
       "      <td>Boot-shaped heart</td>\n",
       "      <td>378.760010</td>\n",
       "      <td>401.416645</td>\n",
       "      <td>835.143248</td>\n",
       "      <td>661.678437</td>\n",
       "      <td>0</td>\n",
       "      <td>train/03d56a9709a81b2e9d6afbc6647c8730.dicom</td>\n",
       "      <td>606.951629</td>\n",
       "      <td>531.547541</td>\n",
       "      <td>456.383238</td>\n",
       "      <td>260.261792</td>\n",
       "      <td>118779.119615</td>\n",
       "    </tr>\n",
       "    <tr>\n",
       "      <th>1</th>\n",
       "      <td>48f7ba0b0fd5ab847ee87df2aed5cfc9</td>\n",
       "      <td>R3</td>\n",
       "      <td>Peribronchovascular interstitial opacity</td>\n",
       "      <td>247.196368</td>\n",
       "      <td>412.000819</td>\n",
       "      <td>441.763442</td>\n",
       "      <td>830.320028</td>\n",
       "      <td>1</td>\n",
       "      <td>train/48f7ba0b0fd5ab847ee87df2aed5cfc9.dicom</td>\n",
       "      <td>344.479905</td>\n",
       "      <td>621.160424</td>\n",
       "      <td>194.567074</td>\n",
       "      <td>418.319209</td>\n",
       "      <td>81391.144290</td>\n",
       "    </tr>\n",
       "    <tr>\n",
       "      <th>2</th>\n",
       "      <td>48f7ba0b0fd5ab847ee87df2aed5cfc9</td>\n",
       "      <td>R3</td>\n",
       "      <td>Peribronchovascular interstitial opacity</td>\n",
       "      <td>613.631024</td>\n",
       "      <td>364.980443</td>\n",
       "      <td>902.238850</td>\n",
       "      <td>827.077243</td>\n",
       "      <td>1</td>\n",
       "      <td>train/48f7ba0b0fd5ab847ee87df2aed5cfc9.dicom</td>\n",
       "      <td>757.934937</td>\n",
       "      <td>596.028843</td>\n",
       "      <td>288.607826</td>\n",
       "      <td>462.096800</td>\n",
       "      <td>133364.752925</td>\n",
       "    </tr>\n",
       "    <tr>\n",
       "      <th>3</th>\n",
       "      <td>74f8648d742bbcce79d67c967de5552d</td>\n",
       "      <td>R3</td>\n",
       "      <td>Peribronchovascular interstitial opacity</td>\n",
       "      <td>1008.515903</td>\n",
       "      <td>665.439667</td>\n",
       "      <td>1324.430364</td>\n",
       "      <td>1265.465119</td>\n",
       "      <td>1</td>\n",
       "      <td>train/74f8648d742bbcce79d67c967de5552d.dicom</td>\n",
       "      <td>1166.473134</td>\n",
       "      <td>965.452393</td>\n",
       "      <td>315.914461</td>\n",
       "      <td>600.025452</td>\n",
       "      <td>189556.717381</td>\n",
       "    </tr>\n",
       "    <tr>\n",
       "      <th>4</th>\n",
       "      <td>74f8648d742bbcce79d67c967de5552d</td>\n",
       "      <td>R3</td>\n",
       "      <td>Peribronchovascular interstitial opacity</td>\n",
       "      <td>453.015307</td>\n",
       "      <td>635.756429</td>\n",
       "      <td>724.404911</td>\n",
       "      <td>1242.142575</td>\n",
       "      <td>1</td>\n",
       "      <td>train/74f8648d742bbcce79d67c967de5552d.dicom</td>\n",
       "      <td>588.710109</td>\n",
       "      <td>938.949502</td>\n",
       "      <td>271.389604</td>\n",
       "      <td>606.386146</td>\n",
       "      <td>164566.896176</td>\n",
       "    </tr>\n",
       "  </tbody>\n",
       "</table>\n",
       "</div>"
      ],
      "text/plain": [
       "                           image_id rad_ID  \\\n",
       "0  03d56a9709a81b2e9d6afbc6647c8730     R3   \n",
       "1  48f7ba0b0fd5ab847ee87df2aed5cfc9     R3   \n",
       "2  48f7ba0b0fd5ab847ee87df2aed5cfc9     R3   \n",
       "3  74f8648d742bbcce79d67c967de5552d     R3   \n",
       "4  74f8648d742bbcce79d67c967de5552d     R3   \n",
       "\n",
       "                                 class_name        x_min       y_min  \\\n",
       "0                         Boot-shaped heart   378.760010  401.416645   \n",
       "1  Peribronchovascular interstitial opacity   247.196368  412.000819   \n",
       "2  Peribronchovascular interstitial opacity   613.631024  364.980443   \n",
       "3  Peribronchovascular interstitial opacity  1008.515903  665.439667   \n",
       "4  Peribronchovascular interstitial opacity   453.015307  635.756429   \n",
       "\n",
       "         x_max        y_max  class_id  \\\n",
       "0   835.143248   661.678437         0   \n",
       "1   441.763442   830.320028         1   \n",
       "2   902.238850   827.077243         1   \n",
       "3  1324.430364  1265.465119         1   \n",
       "4   724.404911  1242.142575         1   \n",
       "\n",
       "                                     image_path        x_mid       y_mid  \\\n",
       "0  train/03d56a9709a81b2e9d6afbc6647c8730.dicom   606.951629  531.547541   \n",
       "1  train/48f7ba0b0fd5ab847ee87df2aed5cfc9.dicom   344.479905  621.160424   \n",
       "2  train/48f7ba0b0fd5ab847ee87df2aed5cfc9.dicom   757.934937  596.028843   \n",
       "3  train/74f8648d742bbcce79d67c967de5552d.dicom  1166.473134  965.452393   \n",
       "4  train/74f8648d742bbcce79d67c967de5552d.dicom   588.710109  938.949502   \n",
       "\n",
       "            w           h           area  \n",
       "0  456.383238  260.261792  118779.119615  \n",
       "1  194.567074  418.319209   81391.144290  \n",
       "2  288.607826  462.096800  133364.752925  \n",
       "3  315.914461  600.025452  189556.717381  \n",
       "4  271.389604  606.386146  164566.896176  "
      ]
     },
     "execution_count": 13,
     "metadata": {},
     "output_type": "execute_result"
    }
   ],
   "source": [
    "train_df['x_min'] = train_df.apply(lambda row: row.x_min, axis =1)\n",
    "train_df['y_min'] = train_df.apply(lambda row: row.y_min, axis =1)\n",
    "\n",
    "train_df['x_max'] = train_df.apply(lambda row: row.x_max, axis =1)\n",
    "train_df['y_max'] = train_df.apply(lambda row: row.y_max, axis =1)\n",
    "\n",
    "train_df['x_mid'] = train_df.apply(lambda row: (row.x_max+row.x_min)/2, axis =1)\n",
    "train_df['y_mid'] = train_df.apply(lambda row: (row.y_max+row.y_min)/2, axis =1)\n",
    "\n",
    "train_df['w'] = train_df.apply(lambda row: (row.x_max-row.x_min), axis =1)\n",
    "train_df['h'] = train_df.apply(lambda row: (row.y_max-row.y_min), axis =1)\n",
    "\n",
    "train_df['area'] = train_df['w']*train_df['h']\n",
    "\n",
    "train_df.head()"
   ]
  },
  {
   "cell_type": "code",
   "execution_count": 14,
   "metadata": {
    "colab": {
     "base_uri": "https://localhost:8080/"
    },
    "executionInfo": {
     "elapsed": 20,
     "status": "ok",
     "timestamp": 1638231194619,
     "user": {
      "displayName": "Tan Ngoc Pham",
      "photoUrl": "https://lh3.googleusercontent.com/a-/AOh14GjTnKqizUwXZEJCyzVEpyGrf3UB4Q9hXQmOia-K=s64",
      "userId": "14181975107662818559"
     },
     "user_tz": -420
    },
    "id": "iYYvkoSU2l7P",
    "outputId": "a1a8c8dd-74af-4a96-f117-3bfbae5e0a5e"
   },
   "outputs": [
    {
     "data": {
      "text/plain": [
       "((10365, 9), (10365,))"
      ]
     },
     "execution_count": 14,
     "metadata": {},
     "output_type": "execute_result"
    }
   ],
   "source": [
    "features = ['x_min', 'y_min', 'x_max', 'y_max', 'x_mid', 'y_mid', 'w', 'h', 'area']\n",
    "X = train_df[features]\n",
    "y = train_df['class_id']\n",
    "X.shape, y.shape"
   ]
  },
  {
   "cell_type": "code",
   "execution_count": 15,
   "metadata": {
    "colab": {
     "base_uri": "https://localhost:8080/"
    },
    "executionInfo": {
     "elapsed": 16,
     "status": "ok",
     "timestamp": 1638231194619,
     "user": {
      "displayName": "Tan Ngoc Pham",
      "photoUrl": "https://lh3.googleusercontent.com/a-/AOh14GjTnKqizUwXZEJCyzVEpyGrf3UB4Q9hXQmOia-K=s64",
      "userId": "14181975107662818559"
     },
     "user_tz": -420
    },
    "id": "pokIUxCV5utY",
    "outputId": "b05183b7-df86-4494-f2ab-6d7cccf7f2fa"
   },
   "outputs": [
    {
     "data": {
      "text/plain": [
       "['Boot-shaped heart',\n",
       " 'Peribronchovascular interstitial opacity',\n",
       " 'Reticulonodular opacity',\n",
       " 'Bronchial thickening',\n",
       " 'Enlarged PA',\n",
       " 'Cardiomegaly',\n",
       " 'Other opacity',\n",
       " 'Intrathoracic digestive structure',\n",
       " 'No finding',\n",
       " 'Diffuse aveolar opacity',\n",
       " 'Other lesion',\n",
       " 'Consolidation',\n",
       " 'Mediastinal shift',\n",
       " 'Anterior mediastinal mass',\n",
       " 'Other nodule/mass',\n",
       " 'Dextro cardia',\n",
       " 'Aortic enlargement',\n",
       " 'Pleural effusion',\n",
       " 'Stomach on the right side',\n",
       " 'Atelectasis',\n",
       " 'Calcification',\n",
       " 'Interstitial lung disease - ILD',\n",
       " 'Lung hyperinflation',\n",
       " 'Egg on string sign',\n",
       " 'Pulmonary fibrosis',\n",
       " 'Infiltration',\n",
       " 'Lung cavity',\n",
       " 'Pneumothorax',\n",
       " 'Edema',\n",
       " 'Pleural thickening',\n",
       " 'Clavicle fracture',\n",
       " 'Chest wall mass',\n",
       " 'Lung cyst',\n",
       " 'Emphysema',\n",
       " 'Bronchectasis',\n",
       " 'Paraveterbral mass']"
      ]
     },
     "execution_count": 15,
     "metadata": {},
     "output_type": "execute_result"
    }
   ],
   "source": [
    "class_ids, class_names = list(zip(*set(zip(train_df.class_id, train_df.class_name))))\n",
    "classes = list(np.array(class_names)[np.argsort(class_ids)])\n",
    "classes = list(map(lambda x: str(x), classes))\n",
    "classes"
   ]
  },
  {
   "cell_type": "markdown",
   "metadata": {
    "id": "37G3GKE257dO"
   },
   "source": [
    "# K-fold"
   ]
  },
  {
   "cell_type": "code",
   "execution_count": 16,
   "metadata": {
    "colab": {
     "base_uri": "https://localhost:8080/",
     "height": 313
    },
    "executionInfo": {
     "elapsed": 15,
     "status": "ok",
     "timestamp": 1638231194620,
     "user": {
      "displayName": "Tan Ngoc Pham",
      "photoUrl": "https://lh3.googleusercontent.com/a-/AOh14GjTnKqizUwXZEJCyzVEpyGrf3UB4Q9hXQmOia-K=s64",
      "userId": "14181975107662818559"
     },
     "user_tz": -420
    },
    "id": "F4TRU2wI5w6O",
    "outputId": "34a61559-b344-447d-8e2c-2a00301b7e1e"
   },
   "outputs": [
    {
     "data": {
      "text/html": [
       "<div>\n",
       "<style scoped>\n",
       "    .dataframe tbody tr th:only-of-type {\n",
       "        vertical-align: middle;\n",
       "    }\n",
       "\n",
       "    .dataframe tbody tr th {\n",
       "        vertical-align: top;\n",
       "    }\n",
       "\n",
       "    .dataframe thead th {\n",
       "        text-align: right;\n",
       "    }\n",
       "</style>\n",
       "<table border=\"1\" class=\"dataframe\">\n",
       "  <thead>\n",
       "    <tr style=\"text-align: right;\">\n",
       "      <th></th>\n",
       "      <th>image_id</th>\n",
       "      <th>rad_ID</th>\n",
       "      <th>class_name</th>\n",
       "      <th>x_min</th>\n",
       "      <th>y_min</th>\n",
       "      <th>x_max</th>\n",
       "      <th>y_max</th>\n",
       "      <th>class_id</th>\n",
       "      <th>image_path</th>\n",
       "      <th>x_mid</th>\n",
       "      <th>y_mid</th>\n",
       "      <th>w</th>\n",
       "      <th>h</th>\n",
       "      <th>area</th>\n",
       "      <th>fold</th>\n",
       "    </tr>\n",
       "  </thead>\n",
       "  <tbody>\n",
       "    <tr>\n",
       "      <th>0</th>\n",
       "      <td>03d56a9709a81b2e9d6afbc6647c8730</td>\n",
       "      <td>R3</td>\n",
       "      <td>Boot-shaped heart</td>\n",
       "      <td>378.760010</td>\n",
       "      <td>401.416645</td>\n",
       "      <td>835.143248</td>\n",
       "      <td>661.678437</td>\n",
       "      <td>0</td>\n",
       "      <td>train/03d56a9709a81b2e9d6afbc6647c8730.dicom</td>\n",
       "      <td>606.951629</td>\n",
       "      <td>531.547541</td>\n",
       "      <td>456.383238</td>\n",
       "      <td>260.261792</td>\n",
       "      <td>118779.119615</td>\n",
       "      <td>4</td>\n",
       "    </tr>\n",
       "    <tr>\n",
       "      <th>1</th>\n",
       "      <td>48f7ba0b0fd5ab847ee87df2aed5cfc9</td>\n",
       "      <td>R3</td>\n",
       "      <td>Peribronchovascular interstitial opacity</td>\n",
       "      <td>247.196368</td>\n",
       "      <td>412.000819</td>\n",
       "      <td>441.763442</td>\n",
       "      <td>830.320028</td>\n",
       "      <td>1</td>\n",
       "      <td>train/48f7ba0b0fd5ab847ee87df2aed5cfc9.dicom</td>\n",
       "      <td>344.479905</td>\n",
       "      <td>621.160424</td>\n",
       "      <td>194.567074</td>\n",
       "      <td>418.319209</td>\n",
       "      <td>81391.144290</td>\n",
       "      <td>2</td>\n",
       "    </tr>\n",
       "    <tr>\n",
       "      <th>2</th>\n",
       "      <td>48f7ba0b0fd5ab847ee87df2aed5cfc9</td>\n",
       "      <td>R3</td>\n",
       "      <td>Peribronchovascular interstitial opacity</td>\n",
       "      <td>613.631024</td>\n",
       "      <td>364.980443</td>\n",
       "      <td>902.238850</td>\n",
       "      <td>827.077243</td>\n",
       "      <td>1</td>\n",
       "      <td>train/48f7ba0b0fd5ab847ee87df2aed5cfc9.dicom</td>\n",
       "      <td>757.934937</td>\n",
       "      <td>596.028843</td>\n",
       "      <td>288.607826</td>\n",
       "      <td>462.096800</td>\n",
       "      <td>133364.752925</td>\n",
       "      <td>2</td>\n",
       "    </tr>\n",
       "    <tr>\n",
       "      <th>3</th>\n",
       "      <td>74f8648d742bbcce79d67c967de5552d</td>\n",
       "      <td>R3</td>\n",
       "      <td>Peribronchovascular interstitial opacity</td>\n",
       "      <td>1008.515903</td>\n",
       "      <td>665.439667</td>\n",
       "      <td>1324.430364</td>\n",
       "      <td>1265.465119</td>\n",
       "      <td>1</td>\n",
       "      <td>train/74f8648d742bbcce79d67c967de5552d.dicom</td>\n",
       "      <td>1166.473134</td>\n",
       "      <td>965.452393</td>\n",
       "      <td>315.914461</td>\n",
       "      <td>600.025452</td>\n",
       "      <td>189556.717381</td>\n",
       "      <td>0</td>\n",
       "    </tr>\n",
       "    <tr>\n",
       "      <th>4</th>\n",
       "      <td>74f8648d742bbcce79d67c967de5552d</td>\n",
       "      <td>R3</td>\n",
       "      <td>Peribronchovascular interstitial opacity</td>\n",
       "      <td>453.015307</td>\n",
       "      <td>635.756429</td>\n",
       "      <td>724.404911</td>\n",
       "      <td>1242.142575</td>\n",
       "      <td>1</td>\n",
       "      <td>train/74f8648d742bbcce79d67c967de5552d.dicom</td>\n",
       "      <td>588.710109</td>\n",
       "      <td>938.949502</td>\n",
       "      <td>271.389604</td>\n",
       "      <td>606.386146</td>\n",
       "      <td>164566.896176</td>\n",
       "      <td>0</td>\n",
       "    </tr>\n",
       "  </tbody>\n",
       "</table>\n",
       "</div>"
      ],
      "text/plain": [
       "                           image_id rad_ID  \\\n",
       "0  03d56a9709a81b2e9d6afbc6647c8730     R3   \n",
       "1  48f7ba0b0fd5ab847ee87df2aed5cfc9     R3   \n",
       "2  48f7ba0b0fd5ab847ee87df2aed5cfc9     R3   \n",
       "3  74f8648d742bbcce79d67c967de5552d     R3   \n",
       "4  74f8648d742bbcce79d67c967de5552d     R3   \n",
       "\n",
       "                                 class_name        x_min       y_min  \\\n",
       "0                         Boot-shaped heart   378.760010  401.416645   \n",
       "1  Peribronchovascular interstitial opacity   247.196368  412.000819   \n",
       "2  Peribronchovascular interstitial opacity   613.631024  364.980443   \n",
       "3  Peribronchovascular interstitial opacity  1008.515903  665.439667   \n",
       "4  Peribronchovascular interstitial opacity   453.015307  635.756429   \n",
       "\n",
       "         x_max        y_max  class_id  \\\n",
       "0   835.143248   661.678437         0   \n",
       "1   441.763442   830.320028         1   \n",
       "2   902.238850   827.077243         1   \n",
       "3  1324.430364  1265.465119         1   \n",
       "4   724.404911  1242.142575         1   \n",
       "\n",
       "                                     image_path        x_mid       y_mid  \\\n",
       "0  train/03d56a9709a81b2e9d6afbc6647c8730.dicom   606.951629  531.547541   \n",
       "1  train/48f7ba0b0fd5ab847ee87df2aed5cfc9.dicom   344.479905  621.160424   \n",
       "2  train/48f7ba0b0fd5ab847ee87df2aed5cfc9.dicom   757.934937  596.028843   \n",
       "3  train/74f8648d742bbcce79d67c967de5552d.dicom  1166.473134  965.452393   \n",
       "4  train/74f8648d742bbcce79d67c967de5552d.dicom   588.710109  938.949502   \n",
       "\n",
       "            w           h           area  fold  \n",
       "0  456.383238  260.261792  118779.119615     4  \n",
       "1  194.567074  418.319209   81391.144290     2  \n",
       "2  288.607826  462.096800  133364.752925     2  \n",
       "3  315.914461  600.025452  189556.717381     0  \n",
       "4  271.389604  606.386146  164566.896176     0  "
      ]
     },
     "execution_count": 16,
     "metadata": {},
     "output_type": "execute_result"
    }
   ],
   "source": [
    "gkf  = GroupKFold(n_splits = 5)\n",
    "train_df['fold'] = -1\n",
    "for fold, (train_idx, val_idx) in enumerate(gkf.split(train_df, groups = train_df.image_id.tolist())):\n",
    "    train_df.loc[val_idx, 'fold'] = fold\n",
    "train_df.head()"
   ]
  },
  {
   "cell_type": "code",
   "execution_count": 17,
   "metadata": {
    "colab": {
     "base_uri": "https://localhost:8080/"
    },
    "executionInfo": {
     "elapsed": 14,
     "status": "ok",
     "timestamp": 1638231194620,
     "user": {
      "displayName": "Tan Ngoc Pham",
      "photoUrl": "https://lh3.googleusercontent.com/a-/AOh14GjTnKqizUwXZEJCyzVEpyGrf3UB4Q9hXQmOia-K=s64",
      "userId": "14181975107662818559"
     },
     "user_tz": -420
    },
    "id": "geX4iIs858WQ",
    "outputId": "4b556417-aacf-412d-8756-a27c6976e5f8"
   },
   "outputs": [
    {
     "data": {
      "text/plain": [
       "(6181, 1546)"
      ]
     },
     "execution_count": 17,
     "metadata": {},
     "output_type": "execute_result"
    }
   ],
   "source": [
    "train_files = []\n",
    "val_files   = []\n",
    "val_files += list(train_df[train_df.fold==fold].image_path.unique())\n",
    "train_files += list(train_df[train_df.fold!=fold].image_path.unique())\n",
    "len(train_files), len(val_files)"
   ]
  },
  {
   "cell_type": "code",
   "execution_count": 18,
   "metadata": {},
   "outputs": [
    {
     "name": "stdout",
     "output_type": "stream",
     "text": [
      "['train/48f7ba0b0fd5ab847ee87df2aed5cfc9.dicom', 'train/74f8648d742bbcce79d67c967de5552d.dicom', 'train/e30f04846ebdf6d40eb99757f82c5a89.dicom', 'train/86ebb0c1c68ea9c4ae596a3d87833862.dicom', 'train/a9df6fd12177f1e8d6bee8dfaec87def.dicom', 'train/f00cb4808fbd215a177cb49d3d9cb024.dicom', 'train/ddad146ec2ece997adeb63f5511d1cab.dicom', 'train/8519a063841f47852cfa1da5a989ce09.dicom', 'train/43af96342f590affeaaf305437103cd7.dicom', 'train/ca2072bdff0e0fa1bf97040471f5b847.dicom', 'train/fd1837f557a8e26d938848f7e6e8aecd.dicom', 'train/948425239932f9dcddd216b5588f9f4d.dicom', 'train/e5ddff770d57ae4b9fba19a24e94a23e.dicom', 'train/620f54c7a555130927544779dfd10e1f.dicom', 'train/80c3d88c8f7f671a88eefddd84a4820c.dicom', 'train/5837db9a35a457595734d8af385a19a8.dicom', 'train/0d4149fc1dd466c852acf7682c4dcacc.dicom', 'train/2dc8746f2dab48a74f973660fcfe45de.dicom', 'train/a89771b56ab57a63423ad03cc47c1332.dicom', 'train/6802740c77a21471bbadd82ee5514f59.dicom', 'train/e627cb1ebc379b7e3aa5cf0961a4a64c.dicom', 'train/90af2797faf76beb72b5d24325581102.dicom', 'train/7d11d335cad2b09078004985ef7ef467.dicom', 'train/f0a688e92f45ec5aa9dc2845862e9a50.dicom', 'train/2b058005f534a021ba9167d77640b54d.dicom', 'train/9be84501d2c0827009dc404f97dd7afd.dicom', 'train/57d1506312a150eb363ab35f8488b5ba.dicom', 'train/973048c02d96faa72fe30a3456c5cbf9.dicom', 'train/a2a613fc467bbbf17076e5f85f5bf0f9.dicom', 'train/5fa20aeceee620d2b9f81779dd3ef226.dicom', 'train/dae97e79172dcaa68bad9b55ff9267d9.dicom', 'train/bf78872c1dfeac793436147733685d2a.dicom', 'train/8d5c243a8cad855d5dad152bafea93ce.dicom', 'train/2a13bb3fce63310e5d2c21581989e0e0.dicom', 'train/f6bb800d3074d49106b49b5548f24607.dicom', 'train/e2345cc73ffa13a94e74baf87b9f764e.dicom', 'train/a595498cbab3659717d047ea87d9f423.dicom', 'train/85d2866d8687797d6b4c56a410bbb025.dicom', 'train/a55d4c54b5568cc827fe40a50db55624.dicom', 'train/72c832fddda6b42d629703cb96acdecb.dicom', 'train/d766c16eacd3413c7925b5b4350e5209.dicom', 'train/ca39fb485b824cd4bb9555093120bb5d.dicom', 'train/498f27f78d96ce0d3be819457b6fdd6f.dicom', 'train/7e084e35802147f0bc4fa36669d6f64b.dicom', 'train/90aba971be54534fd289243508aed1d2.dicom', 'train/4b8423fb497f42424298712c52e90172.dicom', 'train/f2cad8a9c999e57f304d45680fda5aa2.dicom', 'train/b52d69c9feb8a95a9b41dd7cab2f33ae.dicom', 'train/228064f3bb4bdbfb63757902708c09f7.dicom', 'train/4dee7281f3252bf4a5a03507deac9671.dicom', 'train/e3642ba030ab263fafdad6299af79c7b.dicom', 'train/22dbddcf7d5a8c69a51fc0365cf3c0fe.dicom', 'train/6f6d524c812a6d23267960d44a5b4f23.dicom', 'train/272191b73f7bc9591f2293ef99f648cd.dicom', 'train/5a7583c2b51fdc8fca603fe13333c6fd.dicom', 'train/d3b1d10cb75b279cd292ac662d7dfc15.dicom', 'train/e0d3d23bb6759410a622c556acc24195.dicom', 'train/0d7a56dc8e3586dd1e2f158240836fda.dicom', 'train/f166be687392d65523056ce4454479c4.dicom', 'train/e3cb94188fad5d27f51c15ee8cd2680c.dicom', 'train/7a493134e89c51ab5331a66d8ceffc43.dicom', 'train/f22e6e3c0c3db391fed56a2e1671e88a.dicom', 'train/0571e9cee355f41b238a0c391a0d68a6.dicom', 'train/ed2f96e539c41cebd5346097b7067dd5.dicom', 'train/6b1feef65f41b78a3c98576a025cf007.dicom', 'train/28e4daa0377c965d67b06598b8c34dfd.dicom', 'train/b5d63d8ad4eb13d57936c5c804920c37.dicom', 'train/54442408628ace178092e69449b85486.dicom', 'train/935cf32b991e7c921454eea91d2f5210.dicom', 'train/63dd15f6e18ea0a1e7fa16a3246f32b0.dicom', 'train/e3f3ebce9c3c173e04055450ceb317a5.dicom', 'train/1731595784d3570c52c8f66f51baaa61.dicom', 'train/746388a6071e1aa6e4e913ba222ecc0a.dicom', 'train/24127e4d62442947c867eef2c9708d11.dicom', 'train/7ad8cbfa5e5cb5d9541a9f9a7219a9d9.dicom', 'train/d714063eb3a0104cd5319406c7aa984f.dicom', 'train/b988376ce6f5f92352e3ad22f5f1db27.dicom', 'train/7be240048fc562e895606882b0fc8a4a.dicom', 'train/eb693aa5536d924419cdfc3e4c76574e.dicom', 'train/8e440826cd54e20408fd46a95cada315.dicom', 'train/299fbcac1e14926b9149f26504ec9377.dicom', 'train/89a8c902b55f0f8d4d47546e45841e5e.dicom', 'train/cf47b7fe7780d09f5f7c0fba7f1f29a9.dicom', 'train/d1343bbe8a0dbca26b3cd3cfc2b29c35.dicom', 'train/09bcad52a4c7097a7c84b300948bcdfc.dicom', 'train/05ecf54d5a102f0e32a7a0fe36650873.dicom', 'train/134f5d1f69a83456b2a2a002d901754d.dicom', 'train/7bb3aab7090566c455f36398025f2db0.dicom', 'train/ce29dd7afa59db86db3d8379a099a07a.dicom', 'train/ac51de33a5fb4470eb28f11f4ecf9713.dicom', 'train/2f4527342cc34531418c2006c417fd5b.dicom', 'train/36030891f6b3eb495f3bc98bb1dadbc1.dicom', 'train/6dca460bef1dc1f87f49d5c318686222.dicom', 'train/accdaa22f0480930fac0560e6c3920d1.dicom', 'train/cf18cc6b65040a22b3d3f1b0872c8119.dicom', 'train/a3f487144c1e85eadde14b883cb4fd0b.dicom', 'train/55277b1b215e752f656de5c0284b4e2a.dicom', 'train/6d61979a091a683469a57fc26e5f89be.dicom', 'train/ed2d8907fecab921a59d7d680c973cc3.dicom', 'train/3dfbbae6075de194ca24c13592c50e56.dicom', 'train/9225bf733175bbe22f5eabd061ae3bbb.dicom', 'train/298dd994620ed7759ba4d12db5287532.dicom', 'train/4012bdcabf46b9ab4b44eecde965d3e7.dicom', 'train/c36e64bd73991595926a515c48a59acf.dicom', 'train/032a6cfa32465d088ef0e4d0a2827fe6.dicom', 'train/a8f8ae29f46204c7a584ee5a84b422f9.dicom', 'train/691ecbbd69b4c11486dd2f9488f3e856.dicom', 'train/ec2ca4c2d9e508cf23071669fcdb4ae2.dicom', 'train/f82c3cadaf09df23f742bf6172057230.dicom', 'train/403c826850e37967c055e7e17d1d49ad.dicom', 'train/dc313f1bc3c2cdfc554b5ad359da6247.dicom', 'train/4f842728b0fe188c00794eff34af9bde.dicom', 'train/7015cb586900998f324692830284e9a7.dicom', 'train/9a69492d3c5b2ae08c387165b5a28f5a.dicom', 'train/360399d1ff8d8e016a13795c6d70e3d9.dicom', 'train/427b17889943a8e8b1572c977196590e.dicom', 'train/4ceef63edb6dd374322932560b5e4da8.dicom', 'train/235d610e1c86f328400b702795532431.dicom', 'train/de90c3e057042dbdca66a314b2f98e2f.dicom', 'train/bb3f7ab89ddf344fca1cd2ad74d2d6c8.dicom', 'train/f52d0a5ee0b6d1ab733cbd58f3522f73.dicom', 'train/40414c05687cdb156823c156967b13f0.dicom', 'train/c235e3330cc7b4d6b052fce3f19280de.dicom', 'train/02cd88077f0b0d8392398126c3e7db04.dicom', 'train/c1b06e80a5486b5cf479fff49c76dbf8.dicom', 'train/55e08361f36999d9e94cbfb28ce5597f.dicom', 'train/b45f3bd26cfcb2c8607670e13e9da441.dicom', 'train/09c16cab54749effc3f0716e4588dfa6.dicom', 'train/f456d928def987be0b60f39e295356d4.dicom', 'train/ca19a99159af23371354a9f5ed403bd4.dicom', 'train/c3f44ee65b2504e787039170c8394ea5.dicom', 'train/aaa4f1359f32b5a931f44ac25fc60534.dicom', 'train/c72f9058b9b0d228f8363399a3399e40.dicom', 'train/dfd44c977bdadd0ddb3b62015d599544.dicom', 'train/ed812cca099249a4ebf9720fade737b9.dicom', 'train/c9a8e7e75d1280a736c846291d70cbe3.dicom', 'train/758e7320b6063d03c81daab95750940b.dicom', 'train/b8bf928dceb5ba32b43ee31b198f7388.dicom', 'train/fc1ec7f046829ddf19aa507b3c498102.dicom', 'train/caf79d4d48315691b8ceec47b99022e5.dicom', 'train/1855e9f8a843c4ab0a4dea7541f7a8b0.dicom', 'train/fbec2916104de2b54d4b5764006b8622.dicom', 'train/b268010634451228e78ef6179a48a323.dicom', 'train/020c34f8cfb3b044258791a1e69dd731.dicom', 'train/a0e7beff7695f6bbfbd61f1ad0783a5c.dicom', 'train/3cb494a3bc6acec2e7eda15d26da384d.dicom', 'train/70421fcd5229cf606904b2b91546e4b2.dicom', 'train/9a088929f60be85a20286514b183bf91.dicom', 'train/b723906acba64abf78418ec445b93986.dicom', 'train/7a94ba6fcd505c071e7baa33cfd69cc5.dicom', 'train/38a195752a595f3ba8b1fc09d69b0e2b.dicom', 'train/1c453435e4b93e5a0fe9b894c3fb0e23.dicom', 'train/7423d5fa2eaee99d25adddf8c10a4cb8.dicom', 'train/b9e0ef43c39508328235183c66a9e62c.dicom', 'train/ef657f995372b060943db11f6daa0f64.dicom', 'train/60f5709045552b6b8cb722a732d6d835.dicom', 'train/2285bbef9176a086739a4aa82a0f37b6.dicom', 'train/71b64adde91422f7185c3996db8dc0e7.dicom', 'train/c4ab46603e7bf2ede0c2855cdfc9cf9a.dicom', 'train/a08cc89860cc54186a6088bb34215520.dicom', 'train/a2e5c17ec9b900b47f47711a7bea1e9c.dicom', 'train/b58c9b1c89978a0b1f8533b7a2ca1088.dicom', 'train/b90fe2629fa50f42e34c7ddaeda38c61.dicom', 'train/d0b67f0655dfcf453c18dec6815a6e93.dicom', 'train/46936587365420925dc6883324fe030b.dicom', 'train/f5388741fef52048121cf3007888631e.dicom', 'train/cca52a6e10536a5ba8a93c99595c4579.dicom', 'train/7ef3f0f3b3455abf5cb0d6d7e64c5275.dicom', 'train/d79e036cd7edd871841e0eb41f05ac5f.dicom', 'train/cbc23ac9f63dad59cdf43ba863723876.dicom', 'train/f875cc96cd67b03fe419ffcb5c807e7e.dicom', 'train/7063d5ec6ef8fb7f0aba93581ad8a5b4.dicom', 'train/c8192e4d02c02993e13edf8f81b9035c.dicom', 'train/109e236d43feb136d771c937f563b434.dicom', 'train/5c94260e63287c1ad3400eb89bdac3db.dicom', 'train/76a8d9991327af591871081f2666af75.dicom', 'train/6cb53aff85c71b98ad13d67a131708c6.dicom', 'train/32b03f7c376875031d10edb4957943fb.dicom', 'train/30a5b9c690192a2b3907e4a456f0aa9a.dicom', 'train/81492acd4db1de41aa6f7733e9f3f3d7.dicom', 'train/5315b7dfdf933ccc0f907273930b048e.dicom', 'train/6684fe083323e1f67032908c4e0224f0.dicom', 'train/9a8565e087a86b6dd908d1d7f156937a.dicom', 'train/1f6595e298c4afae02d6bda0f97aad73.dicom', 'train/e3ea5870cfbf523c270ce5498e61183b.dicom', 'train/33a1a1fa163f798ab32764facc93875b.dicom', 'train/f4d3fab0b71381e6b237dc36301e85a0.dicom', 'train/630bb50b7f0eec03f91c46550a59c059.dicom', 'train/e443bc61e9667d2c6cf8637c1e03c0ec.dicom', 'train/ea2da0bcf4380691d5905047d3f52e97.dicom', 'train/64f01ae7ece03006b08297e6ec9b3015.dicom', 'train/ba486a5ee6a206782b200d2dc5ea3889.dicom', 'train/95805a600a2645cde77b77fdc7501489.dicom', 'train/b4962ff3203709e25e3b51cbb549ab55.dicom', 'train/1aa1e248aabad75ad00d52457b201d8a.dicom', 'train/04acdc477c615f7e2fdc8f7fa2b9a4ad.dicom', 'train/4d856c109db76bda2784245eb755763a.dicom', 'train/31b6af46b6a7f6d308d089d9bb70eafe.dicom', 'train/f4d959f7b310dbdd19ddf9b9dd52abe9.dicom', 'train/f9a1190eb23e0c630b0f4deb889cf222.dicom', 'train/714a440a1fb396fa280358eb0d604d41.dicom', 'train/a1408ba4df213f3ef503d2e27a83e2c2.dicom', 'train/4e0fc5cb02bcb84e47d37d3b20c552f0.dicom', 'train/d26cd4f66c27e6df39fbf0a4e02d6513.dicom', 'train/cef7c530d2bd81b01a842684db86e42b.dicom', 'train/8e46e3c9a012f23ad9fbaeb9cce774a6.dicom', 'train/756f5084e9dc9584893803d73584891f.dicom', 'train/81da6b01ead2d818389782504162b691.dicom', 'train/c9af4105cba72721b47235822fe9d05e.dicom', 'train/f68f68089b041ccca6e67c65b9ddf987.dicom', 'train/f7c7fc005f93fce177b9defb549dde67.dicom', 'train/0f266423a8f07ed554e8a816cb71de8d.dicom', 'train/a2f0032438cbfe1cc1fc4ce405aa59e4.dicom', 'train/39864eb110742bcb4cbcc1357f3ca876.dicom', 'train/b572c87c87ca12eb4394b652513c1417.dicom', 'train/b2b934f6efe55e07b2765c354a9167d8.dicom', 'train/5d630b7ba6fcb107dacb91dd07325ab2.dicom', 'train/8a38eed7cf6ecf583fe4dd22633534b8.dicom', 'train/d2f14178226329d35fb94a467c0b3e7f.dicom', 'train/fac59d15719aa0a5cd16b538d76b5397.dicom', 'train/6ad02307d7483a79a0f97e7c247db3f2.dicom', 'train/6abc7b6aa46ea67f4d9ba9ec5076f0d2.dicom', 'train/8f81b1f1f7334f71c07cb7832ea30a71.dicom', 'train/b6e9afd9598aaa0d3134827ee0f651c7.dicom', 'train/e9fe7337bcb63ce59fdb3b1eea8c11dd.dicom', 'train/acabadf495809b8a571583706c7520b9.dicom', 'train/3487f5a79466bbc36c470411feafa862.dicom', 'train/24dbe5469b736e00f57c7e0251494bc3.dicom', 'train/8aed210502bb0f2edef0df28b07590f9.dicom', 'train/265f85d2632ac811b2d5f33db141e8f2.dicom', 'train/894bf9a3a1610b0a556d83854888b27f.dicom', 'train/fab9eba363116719c59c79306a9dca70.dicom', 'train/ebc89998c8523608da4720117775352e.dicom', 'train/605a4060366aa65f60c8a5d194e306d2.dicom', 'train/18bed70764788a667a845fcf8a21e278.dicom', 'train/0f586873d2160f8b6a9e913cdcc9792e.dicom', 'train/1d9b810b65b28ca5cd5e761e096db87d.dicom', 'train/f4a506322909bfb50551e1b7fcedf67f.dicom', 'train/382a30548f4c43568f202effc45574d9.dicom', 'train/4326857d6b0308eb084687bd22b9d52b.dicom', 'train/30e54d35ef2d955f91881277aa222f48.dicom', 'train/b0ca0214340d6e60ce9edac8e69960d8.dicom', 'train/2749616a27021654aa798b3d3774274f.dicom', 'train/171d15831d367a1aa7aaa7986e93e9fa.dicom', 'train/7a139f506cf7140d97a3c0e2175e35f9.dicom', 'train/00df8f8fbb3efc31a5f75d3e949430ec.dicom', 'train/f84a6bb0ee931ecc24f3a19f42a2a971.dicom', 'train/86a8b075904bae83b2f7460998953d53.dicom', 'train/184daf0feb4d662b8f0c73e8f4d7a5e5.dicom', 'train/7a4573448965c70cb41474f1fdc3af0f.dicom', 'train/79d50fc602f20edd3f1fbf0e7b2efbef.dicom', 'train/04a3e61167d2f5471c02f116385e2cf8.dicom', 'train/955aaf9e939a4ded489085c6a5b7c50a.dicom', 'train/bcc30dd6becff97721191ac9115a0fa8.dicom', 'train/f00c500ff8c7385c123623520300f361.dicom', 'train/e6477e5e2e2e1c2e0e94693426e698e4.dicom', 'train/f67e66bd6f2f685ca239598a2203bdb9.dicom', 'train/f1fa8749d8043a63987783fcfed32e50.dicom', 'train/6ca90cc5c64d43cd926cd0a0491f53b0.dicom', 'train/72c4fc67c7dd7d83fd9987ceb255f740.dicom', 'train/e455febe6b762baede4b52d3aff39a92.dicom', 'train/7ed913060005e229295a8dfef35e2ad7.dicom', 'train/e491212d0706f5fdad3cd24d1d019891.dicom', 'train/fe5d8b71a0d297fd176c84bda20bc542.dicom', 'train/609872326eb2499999c215ae757fe891.dicom', 'train/a3af4f3bdb5b7eeacb499c605777cce3.dicom', 'train/41dfddef35ed4b0c0d5ac32c8ed6325e.dicom', 'train/100635fdfe349ad4ed0a03b04751764f.dicom', 'train/6de0e492c4cd7e8ec07db2c11314d191.dicom', 'train/d857adbbff0f7ecf871d72b19b65a51c.dicom', 'train/15ab789843e8c73f9805c33020edbd5b.dicom', 'train/99486da5e9213d82eb3c9caad4850a68.dicom', 'train/2490a9d36d43d0df038c41410abe5cf6.dicom', 'train/bef5253fe1398f69740fc7768a8f5fef.dicom', 'train/6e71cb698b8dead6be07b6c87fe2f6df.dicom', 'train/5ff6908e86c6473eb5f2e2cd591f283a.dicom', 'train/4b9269c31edbb91fa1098f084542a8b6.dicom', 'train/ba427884c7e125566c7b135110233f37.dicom', 'train/337515f06edc0bcfbeaaa78834fd6e6e.dicom', 'train/7c6425c3d228c263a5c7bf883d9c112a.dicom', 'train/c75ff05559324ebc27b179e741cb65ea.dicom', 'train/34275d3e7bf7522519ce972738beb952.dicom', 'train/ef5e7e2883ccbba73182ea809c9181f8.dicom', 'train/ef1595a3d4767b952da76c8ada80ca49.dicom', 'train/62743409b309ff4d4bd2774a42f85e5c.dicom', 'train/95171f4b22dbc2d3be0af2aa17d24d59.dicom', 'train/b2bf81e60701af9850924d3bc3cd4ea9.dicom', 'train/cbdf53636150ca470e269c217b8f3470.dicom', 'train/d389ec6373f92c14aa8bfa23764bdb29.dicom', 'train/a92a33647d2f4778a47a2d21b469d8e4.dicom', 'train/848b8bbcd516728e2f3d739344c7389e.dicom', 'train/4bd9e7c29be9a4737302e02191468b6d.dicom', 'train/79d190d640d5d1e1cc226c0453586dcb.dicom', 'train/bba2c74f0fa5ef6d4ef5fd66b82cb38a.dicom', 'train/857419aecdd7cf181ae4622a1c5fb7d4.dicom', 'train/9eac5f99597e391d85c47f428f3d0e6b.dicom', 'train/d1a06bea33c51cf2dce7cdaba2a149a4.dicom', 'train/ed153f4ac929260dbca61e6b9a5fb912.dicom', 'train/f05bd7ead7954d59c72b867ca0902064.dicom', 'train/f2f506af16c8f269728b7892a871a16c.dicom', 'train/8e25f55923860a100981fbbc3105d426.dicom', 'train/60cedac00c304f20f99a1a8f6fff08de.dicom', 'train/9f8726b930514406736f0d6c419bedec.dicom', 'train/31307762c7feb87d6402e351fd2d0a82.dicom', 'train/4035b80cf165bec8cb55051c3e764cc7.dicom', 'train/32dca4194af5a27a664ccd08b994e039.dicom', 'train/c09231802b1155a09b93f0b719314388.dicom', 'train/ad7ab413e948b01c075c8c8c979e26fa.dicom', 'train/e3271a224f698e800f22deb81999b0a8.dicom', 'train/f97e9c80583187ffeecfe51bea6ad7d1.dicom', 'train/32da069b560b57fa3e1510945c8e8b1e.dicom', 'train/0b1e69d222f2da46dab6a203e2943d0e.dicom', 'train/dddd0941e93baaeb21a0d1484f78a9a8.dicom', 'train/eb5b54f8294babb9b87943af8c8b44bd.dicom', 'train/a684243c272f70c0b28e0485c6a92f12.dicom', 'train/3d75179524db609fcae1cf762b6bd849.dicom', 'train/44f7bbfd8d21289e29bf54f04dfbbc70.dicom', 'train/18b46a3a49c78f9d01df774de16a107c.dicom', 'train/75267e6adba6417cbe18048076ca2a14.dicom', 'train/9245771d2677900170c63d2f23167883.dicom', 'train/0e799168c602b6b334a65c60c26e8845.dicom', 'train/00e5c7c8c64dcf9c2b85f2d92d67a1e3.dicom', 'train/3660ea790fe0d76b2ca2498f37c7af7a.dicom', 'train/f526eaf8c264bf9985f85ae3e0e80eaa.dicom', 'train/c9e84aa8c265b128568ee433e81df09e.dicom', 'train/4965944c229a381243e02958b96b6652.dicom', 'train/0fcc3cb40bde39ee7b1a7730af75f805.dicom', 'train/1b268135af1285d80ca36f5170e91aef.dicom', 'train/bdacd2fa7bddfa0a1e0d7034bb941ce2.dicom', 'train/3077b863f49172794e44ea6f2874dc9a.dicom', 'train/e0031223022f8c9c44967fc5cea53a7e.dicom', 'train/d4497f4dc9743b5ad8a4c33d7bec6e03.dicom', 'train/d7c4795f7202aad4189ff3f7f33dc6e0.dicom', 'train/be178d46c147b5c0925a716b54eb1874.dicom', 'train/38e2ed00bb862847c3b6afd829cc1847.dicom', 'train/2fb81f3fc7b5d44781a0198ad7237753.dicom', 'train/f3ed6a3d6d7bd29940d1c37b33f2afb3.dicom', 'train/8ddb9a163fbc6d24bd26894aa2becf33.dicom', 'train/da8d7de8dbd1b72f71951028cf69b956.dicom', 'train/dd06aa5a84c26ffa9f46b9ad3d7982e7.dicom', 'train/208b90f6e28bf871da3ebb1d10b927d8.dicom', 'train/8af200513681455dbb803c603102d04d.dicom', 'train/12b802a59b0abec524f6b8ca394a750e.dicom', 'train/73c22ccfba00f0eef4af8b165db42b72.dicom', 'train/e4626d641082c8300b599decdad80840.dicom', 'train/ee80798f0007c89f45e19ba53a15e36c.dicom', 'train/cb4a70f69ae659496bde6bdbb92f62a0.dicom', 'train/ecedfdc3e5a6d9d1f23d766da7b90aa6.dicom', 'train/beaecd0ee8f59c8272528d2458b3c936.dicom', 'train/9556a059ad03e90319fa2f75d565168d.dicom', 'train/1836d4809f70435074b537b61c115c09.dicom', 'train/25ccf27f006012e90142a0d7f7da0b91.dicom', 'train/08a7edcb5224db584a04321b66b3a827.dicom', 'train/273f8f06e5cdc8723bb76d20a4d1ca83.dicom', 'train/82fbbd73b84517ac7d84003be68f0ddd.dicom', 'train/ec2658f4e33fe506c228856891c4ee30.dicom', 'train/fe7205509c2b725558099a36c861c7c4.dicom', 'train/c4565287a24cf776c1e9d2938f7ebda0.dicom', 'train/da3c5b123544431ce5e50dccea307bb9.dicom', 'train/c0b2c1cd1584630c6aff44bb029e96a1.dicom', 'train/568c00e74f645bff337394a893c5a627.dicom', 'train/f260d77ff342a8c70f291bbf3f55aa4e.dicom', 'train/7c0044ebcb6102f176ca60eab95cbf8b.dicom', 'train/34243baa293ad2781a7d14d4f409f083.dicom', 'train/46a088999c3bd53a94a6cf0143099f2d.dicom', 'train/986364eb44add26390cb0834c4819422.dicom', 'train/3d830b8787e2255b10316d053a72a0e8.dicom', 'train/eefa8e9bd65e3f8ded4bce6629ba72a9.dicom', 'train/8af1bbfb06780c8fcc8468d277c6b08b.dicom', 'train/b87b9c5eed517af3915e70fcdbf31bf2.dicom', 'train/4c02c88174ca178977cce56b3efeb46d.dicom', 'train/ff6157fdc2abb3fbfb0672e7f0144a22.dicom', 'train/a7b3a80026bfcaf2df57191066e225ac.dicom', 'train/008000749ecc9074e80562f9f90091fd.dicom', 'train/c9d8ae703c00f84e1df44c9c0af36f60.dicom', 'train/1cc9bb3024da52246c21fc3fea499adf.dicom', 'train/dabfdc9e3c278c00cb689a590909405b.dicom', 'train/f85ce370d9a48f2344044d0c67faf7c8.dicom', 'train/3070284685cadaaadb3a60a499d64967.dicom', 'train/42b2275a80efd638de50c84d7d187176.dicom', 'train/16cbad8934988363294c4fb945222d52.dicom', 'train/2f0f7dbccd622e7940cbca000b40e931.dicom', 'train/6b8c88a4a0d73dde0fb3df02ff5e4fef.dicom', 'train/da7752021293b637e04c87317796f93a.dicom', 'train/e2c66cbeda8bbe78746850543bd56f78.dicom', 'train/4bd132a2a7024aa45b9016deae6b75c5.dicom', 'train/0c5f29d70c0606d839f204977918ca56.dicom', 'train/36e00051cad2c8e261ecdcc020489716.dicom', 'train/5963f822decb6da898bb9ac9b9ec880f.dicom', 'train/ad3c584eff95b1f39edd30cbf3388ed3.dicom', 'train/6156d7b86c9b18f71a9f277984b26c7e.dicom', 'train/34686aaa077c1f6f58023f45b22d4ff3.dicom', 'train/85db9c9cb14716ab41099d00b0ccca40.dicom', 'train/7bd2263978229bd614502d0d32c17c5b.dicom', 'train/42bcf79a642d33560942207cbbcccf45.dicom', 'train/d8113fd07ac627bfe31220c5e2eb6085.dicom', 'train/e78babddc0bb9ef57013f752e00687b3.dicom', 'train/0a94c394a7ce651a806203af8145f065.dicom', 'train/fdb979334b6f40b8b4c91ec36600106b.dicom', 'train/ff13915dba67dfc8770b32d1204b42b5.dicom', 'train/2767a1b17440563ec25c95f7ba28bd4f.dicom', 'train/299a931af2c4ae0185380ccbcaf9c9ff.dicom', 'train/81c3e27c34e43807a0e9577bc64a411a.dicom', 'train/dd74dfd0fea54ea7149d960557e78ad9.dicom', 'train/4ccf33a82a13b8b6e58fb7ea18df2db8.dicom', 'train/52b67371c62b5fc9392a451b9a4488fe.dicom', 'train/64d74e6882488a5842a283740d73572d.dicom', 'train/3eea629fb5a2c7481b595e5332dc913d.dicom', 'train/ef489c7ab233338b9e7590286c8e4ca3.dicom', 'train/9dd8650b3ac7936c6c8599ba66e01892.dicom', 'train/9b767ef9729a1746d7c28f5e6ceb088c.dicom', 'train/80edca3e39705e08073a029fdb5f9484.dicom', 'train/fe374ae8476d0ed6e4b6ca4eb8020ccd.dicom', 'train/b2f388985f06e47fd6b15da16ccb1de6.dicom', 'train/ab033a7f83a21b417a1b75f0ad9c0a22.dicom', 'train/af01cb2b987d093adec839b231c1294c.dicom', 'train/97b8a142c3a97c931d937fdca063127a.dicom', 'train/171d4123ac889f0f1a23b40c51b5f6e3.dicom', 'train/5296681305d71abcd9c217a6a989436e.dicom', 'train/d5e681d58f3c8ed79398817cc20ce8ec.dicom', 'train/6095263c970c4c35b2c48a97bc7c9a01.dicom', 'train/012c47f3ea75ba1a98e20ab3ff8b653e.dicom', 'train/6c727a295c4a83d91c329be39d459d50.dicom', 'train/5334044ca0f4b54fd0848b334686ddd2.dicom', 'train/d15682080b16d1f4bb9f88210f552e4a.dicom', 'train/892cc9f8713550727819df6a9671c627.dicom', 'train/5876aed39b95379beae671c845a34e1f.dicom', 'train/730d9b7130c8cb50f712eafeb55173a5.dicom', 'train/e68950add82db2c49d6efd06d20da72c.dicom', 'train/8e6a15f4fe3cb42eb752755051424ff3.dicom', 'train/e15dce05edb5410501da25e190917ebf.dicom', 'train/79c4e2d1efbf390782fd8f356e819f29.dicom', 'train/a1dd3392dc5d5fbc320f11650f1ddf20.dicom', 'train/ac531fef2c44838dd3914bb68db2e5b5.dicom', 'train/f33e8592ffe43c77aff52762d85e2fae.dicom', 'train/eea91119f2552e6f9a575ae6cb30a4d9.dicom', 'train/41ff9d75d449a00c16ab78a0cdcb4f40.dicom', 'train/971aaada3d6450e48029f6efc5d44452.dicom', 'train/6a51f21d5d3d50bb8dc6b08d90503f92.dicom', 'train/95bca394255c32d30d6fe6f252823344.dicom', 'train/cbfc26bd3b61621328d338cf1a726852.dicom', 'train/8c9dc1aaf0c0782f2152ee54a23eed5d.dicom', 'train/73ed04a24c03b8e90a8fea24d4fe8c90.dicom', 'train/c202ed2da56a26d9752a1baa42171dce.dicom', 'train/d10ca4ce241eb6628c2cfdf16fa90098.dicom', 'train/7dd67b4e447e5b85eecb48be81cc8ec7.dicom', 'train/4570774386ed8aa5c9421bc6a5c82c39.dicom', 'train/099d2c06df65acfb2a9e077e584699d5.dicom', 'train/7efc56c59c6558877b56155fb423e020.dicom', 'train/99b9d5dfe9f738ec50094330ca730a32.dicom', 'train/c52b331032d2adb926e9d98d1de2d826.dicom', 'train/a8925de2d6f289f85bea8a4e30c8386b.dicom', 'train/f87a6fdf4d933b922c8f9370fc5afd62.dicom', 'train/b2ac51cf4ac4a0307b8d5fb6843a8a3a.dicom', 'train/722e6931ad28028d262f3f208f237215.dicom', 'train/aeea83b82c1bdaa3982da2dcd343842c.dicom', 'train/da0c6a06274566def8a36bbe52a93f3d.dicom', 'train/ab67949ee143e997cbcfb93f2c46cadd.dicom', 'train/b70126cf5bffef798cba9792657f6d61.dicom', 'train/aa8f9402efc8cd71f74324a00851f324.dicom', 'train/6a4737c4b8eece795a0f6636b2136402.dicom', 'train/66c31616db235e0214768538b2b8f4ef.dicom', 'train/9ed35823324e6eb9cfe5ab6d24cf4849.dicom', 'train/c197a3b959c29d671ffe60468c4a0832.dicom', 'train/065c7f81e530d7f8af3b5555674ebb0f.dicom', 'train/1c0dbbb21013a307e4047b1815fc9962.dicom', 'train/e6f47da2a9bf341e5cbe406bc3d4dec6.dicom', 'train/ec09ceb60ca22c56b3b8500f65c94f4d.dicom', 'train/fff630c5e8914944fd99321aa8336b01.dicom', 'train/35f701e0296ef95a0f4ef07ebf83714f.dicom', 'train/587d397578d283a79c29041c4244fb6c.dicom', 'train/ad6d3e621381a98958ff314a6d949874.dicom', 'train/7815e0bb46e91d0283c8d1bb30871f2a.dicom', 'train/ac6fd5d1965b7de1d0b3213e5f9a4e23.dicom', 'train/d8ea24ce01d19287f0aaf17a5636034a.dicom', 'train/5e0adbf0ca0221d37a24674cb535b813.dicom', 'train/a93a445300787fef0265e9da544e66c1.dicom', 'train/3be846d4561a386767d200c76fe18dd1.dicom', 'train/c93e14a59941159e301aef40a84778fc.dicom', 'train/7bf78214835c2b22c5fe426423139c7d.dicom', 'train/eb815804224813099380294377197c6d.dicom', 'train/da73d90328b3b52e747650de86cdec0a.dicom', 'train/e5e0d99b6f004f0e89c0a300dba144cc.dicom', 'train/621ae48e72a690bffb38ff329b23ead2.dicom', 'train/e25f03fbd86ad0764282c368f4017ced.dicom', 'train/9004dfb9b88464f477158752d3296823.dicom', 'train/0609b1fd3647577e8244882f90f15793.dicom', 'train/c93bb6fb7f5cd98f4808fd1109fc82bd.dicom', 'train/2b157b4169eac2e93afb7658f0aa2189.dicom', 'train/6233b18e0b0ac227388fa679cbb1a808.dicom', 'train/203fbbc1ecf857a79ae5e83755bc2f2d.dicom', 'train/eeefeb75678aa909746f2ff9781c90b0.dicom', 'train/b6bf4e7640c9a00434774cda8949efe8.dicom', 'train/3b46899a153066984776f7bec5fda6ae.dicom', 'train/46dd4b0acc27c3629a16c8e16876608e.dicom', 'train/66dfd0c691498b528d3f619979cebf7a.dicom', 'train/4df80327000453fc833fd243cb7ed0aa.dicom', 'train/cfa7fc34fcb87c3220e7ccc7e9908814.dicom', 'train/c3a8bcac4eac2726cc4816bbe09138d4.dicom', 'train/e9eb660d6a022725f23d407bf32336fe.dicom', 'train/1dc9034772c07ad07b62ea40bbae2243.dicom', 'train/dc22bc6bce0dc5465cb624a0a3620120.dicom', 'train/d118b4cb273337e800dea77e297f6f4f.dicom', 'train/dea674999acdaac6fca03fb3a6fedfa6.dicom', 'train/fea32bfe5a1c62d1e75735d7944a1673.dicom', 'train/1f9e514eb167486e69e76e3d2625ba9c.dicom', 'train/033684cd409af22cd984aac6239d374d.dicom', 'train/8f2da6a9ba704d907f896533b00e3375.dicom', 'train/a36d1efc61eb2af6dbfe8691af57c3f4.dicom', 'train/334f40fd25b7265a40be6327f6b530c8.dicom', 'train/69b69479396762ace8412ff9e4cc240d.dicom', 'train/afdf94369addcf2c2f918033d421a891.dicom', 'train/4e149fe119ed2d809923e2ae1b241a8b.dicom', 'train/528701e8d7b0ccde0ba21c77f38397a3.dicom', 'train/d375b0c814d6abc3eea4600fa53d3743.dicom', 'train/a6bcdb0204f8b6893bd7d941c923883c.dicom', 'train/edc32606819da76614f9011f4899adee.dicom', 'train/d0cf299948c3ee7539171e21f87225aa.dicom', 'train/3d227a5199e641393d9fa068ef99f5ec.dicom', 'train/973c65059e962795aea344737f181f4f.dicom', 'train/a654ea91c0eb3ed0dc13cebfb51ff27a.dicom', 'train/eb1fe652e7401f085b38aaaf20795822.dicom', 'train/d1ae39301d942f43e9c1d4f03dc5ed24.dicom', 'train/65d558305e7208801b8bea741d809a2a.dicom', 'train/a9ca264e44ceb3bcb1087b37a21812ec.dicom', 'train/5682eaa0ef34222b01a74dc32311649b.dicom', 'train/a83de66c8099ca7179dbfd2432df83e4.dicom', 'train/d4f5edc52feaeefa77f4a3efb396a920.dicom', 'train/2ffc0db82db9a16af88041fb69bf462c.dicom', 'train/2e8df22439f664a5fbe043caa5abf240.dicom', 'train/0d8128a389f0a1aaaa8b4190d8d738ef.dicom', 'train/1eb9d16eb1dbe9d62011bf5edcf3a65f.dicom', 'train/ab7040678ad1e1be6a161f06051bff39.dicom', 'train/9869253d827ac520b87660eb327710c9.dicom', 'train/a06ceb56549611020b5a0121e4d4a39e.dicom', 'train/6af9ad54c62963ad950399608a594593.dicom', 'train/e23118c9c82e47b584918901ed70473e.dicom', 'train/14e396ec8342fdab389bfa3d90ba7915.dicom', 'train/326a6ea51a23a8fd4f52643d5cc3d431.dicom', 'train/a7eb04fa8ba099fef7a3442836569c95.dicom', 'train/683680d2ed8eb0886b266270aa3b3c1d.dicom', 'train/5b310ffb2ed8b740b53dde511879071f.dicom', 'train/1575d598402553411ead030dd08881e1.dicom', 'train/259df3232cca7fff934ad57474b4077c.dicom', 'train/fba5df1af5404655ca65275453c935ee.dicom', 'train/41902cf561553271e0d676d370ac35e4.dicom', 'train/a477ebf36238b62e60c6311051119af0.dicom', 'train/e9b848d77609bb5613d0b107259bbfc4.dicom', 'train/1688dce5da6e455c8a7565dfd0f6e417.dicom', 'train/6d4a52049f78fc83566e96194e56c7d0.dicom', 'train/3629dcfcfeecccbae6c41839616c5089.dicom', 'train/8b1a1c4b947fbf528eb0f13fca60fd18.dicom', 'train/dbca90270a65d0dfd314abf9f5f13671.dicom', 'train/3fe3c2a66240b62c58145544361a2d59.dicom', 'train/3e24ebd5b8697c41ab1f55f88622d5e2.dicom', 'train/827cc0d5c385c5aa07a720b2dc244ca0.dicom', 'train/afd85718e3a0d4a58d98feb2232bf99e.dicom', 'train/7557ac4c99344384641ea1ff7434248e.dicom', 'train/88942e512610f2c3f24b7e12bc21cc96.dicom', 'train/efefe6880b9ff50ae51b537252e4dd2d.dicom', 'train/c9ca70180d2e6749d3bba25ae4f41c6d.dicom', 'train/ce03efaa79c2727973f1c7493f0d7741.dicom', 'train/d7d6ca1066fdd64c27564c39e9e6fe92.dicom', 'train/0f2b6c0d13650b373920b4aadf4dd8f5.dicom', 'train/585295a05123e4f3851005083127f0ce.dicom', 'train/a956882d62821c54398b2000d4fe0177.dicom', 'train/7d8f77204cac5bb4e02c843b4dee274f.dicom', 'train/3783d596af8c75824d3dc00ca6a3498d.dicom', 'train/99374fecbedc2aadf2bcc2eecd10cd4f.dicom', 'train/46d9e96c2def7121b9a94a464e3abf68.dicom', 'train/64ab9a89e394e2aefb0e8446247ce585.dicom', 'train/fa2f95998a8b880c354e0c870254999d.dicom', 'train/ccc8983d52fbd92ff7c3a4e89b04abb5.dicom', 'train/667d4a622dabfe40e6c861b3575d14ab.dicom', 'train/42f4496775c1a9d2c2f1b17555c1d4ec.dicom', 'train/e966c3cc5ec12b8724352909f8544504.dicom', 'train/6a98bd65149d828f6e4d927c3c62fe52.dicom', 'train/df5c648bd61a1adaba31de1b05378615.dicom', 'train/050ffa833ea8ce757ff5d53e74e373e4.dicom', 'train/38221f2548b6ba6dd409e6c620ce520a.dicom', 'train/08267816aa6165f202b11f4be8fc0a03.dicom', 'train/66f08ea3f9d32b8a2c328dceb81eecb1.dicom', 'train/8609d05a122ee0d4975c40a65fb5e6da.dicom', 'train/3db82c4e4dc4de735f94e9ac539a21c8.dicom', 'train/cb779139fbb2ef149c91708712ab8bc2.dicom', 'train/9f8b193950d2e9443667689a64bdd5bb.dicom', 'train/642d7a2a4cdd14a7422de320afa5dc31.dicom', 'train/57f4f7f177516c2a9cae935fe24b492a.dicom', 'train/94d7557cbf156b59bf942ed5caf7c51b.dicom', 'train/f9ab3c9fc86a95cbe05e7ca951f4271a.dicom', 'train/e221381f96681fb3f9ff5a3b2d0cff7a.dicom', 'train/81d299b71955f194db128d912498ca34.dicom', 'train/fd5d5d15b0d7047ab011dea521038abb.dicom', 'train/db8f6b654a17696ca045f00d6071b664.dicom', 'train/0de90ce56661c8f66c5169d0887860b7.dicom', 'train/c1a73d7c0828063e22f937bf75e94aaa.dicom', 'train/6d969a85c67c2d291fa3ed3eff469691.dicom', 'train/60efaebc5a8f25b3eb693d812209df1b.dicom', 'train/05bcc9719defb6af51a66cd27701d7ab.dicom', 'train/db4ec3b09c5eb7b3aac7674b40430302.dicom', 'train/a6eb49f4edbcaca6cfb834b964a6d4c1.dicom', 'train/64a2174f7f1cbc3c40f59a42ac898666.dicom', 'train/73bdb0c3ba76a908b4fb888e751e973d.dicom', 'train/090a1124b028e8470b870465f7ff6088.dicom', 'train/849b86a5132dd776e223e891c9271aca.dicom', 'train/f4103a41b6d10f22c402d009c3ff7bfd.dicom', 'train/46c1a0c3b410222de9f768754050eb05.dicom', 'train/73159419512d6824620c1615ff89c535.dicom', 'train/a177e4b7767f05218f55ea15a412a21d.dicom', 'train/bac38b796850976d9c28be26037f876e.dicom', 'train/932f9c16850d923b066c0f03d573d6c7.dicom', 'train/f60ad119c30878240cd976a78b7cf39f.dicom', 'train/e3cbe9c27c38643d9530c62c8a30bbd5.dicom', 'train/bdb327522e5f7d899191bcdec91fe943.dicom', 'train/e63d3f2518196aed9f3a198fa7d567d4.dicom', 'train/58b21619a15fadd607a8d10ab4bb5628.dicom', 'train/90a7e2e026e6871715b173d6b835ab2d.dicom', 'train/ff52cd188eb01a9a09d0fac788f64c60.dicom', 'train/b13774cc09ed61375397af10e7bb594e.dicom', 'train/962462d59fa47cf47eec6d31cd8f69c0.dicom', 'train/762aca7efaa9db97a8ab78f911a934b5.dicom', 'train/23b66d71bae18bee974a7850511a0091.dicom', 'train/6bb1cae3bfdf7c471c66c7707e05abcf.dicom', 'train/dcb34fa852f0097abebbd2c08d770df7.dicom', 'train/b9301606b4129078ecde074aeb97bd97.dicom', 'train/0c273a908f636e043e1299063b544ac0.dicom', 'train/7ee78bd7d1a2117849640572b2d34940.dicom', 'train/03a15405172458c36739bfdc6f937d79.dicom', 'train/f0f570104b6fad09c2b89c1caf5ed1ce.dicom', 'train/0390e9e0278c5266f0d9b873c0edbbdc.dicom', 'train/0ff0f136f95a6ce2b880e762f30a7325.dicom', 'train/7e2bdd03e25a59d5fe2090dbb87cb906.dicom', 'train/447488be7262e7347c66e09d4d496434.dicom', 'train/e252e3ec2de00c6d30a9dc6c114c5df6.dicom', 'train/15493f5a0d3d99ada793dd6d8de56924.dicom', 'train/dcb41d1dd61768bbc6f8163f5c260d88.dicom', 'train/3d50f90baa43dd46bf98b3cce0fdf246.dicom', 'train/8ca80c2eb098aef55a0fa9feea15eab1.dicom', 'train/e8917b6ec3091ada1a2e39d19d3cbfb3.dicom', 'train/cccf82ddb96627843dee6a6d5cd91af6.dicom', 'train/4f7e3befbf47a0f54ce5ae8fef75fae1.dicom', 'train/3b072999af026372bfee5a811e39021a.dicom', 'train/fcedcf260ca822a09decda42cc695784.dicom', 'train/14e052307736edee159d6a9f00dc79cd.dicom', 'train/979b9fb7db84aeb909e555672c9b1856.dicom', 'train/4064ead4322e9fdebe0d6d5d6e4062b6.dicom', 'train/bc3e03909f2353699145803539968e20.dicom', 'train/7beb9555aca2dfb0e5ab530dc6ae29bf.dicom', 'train/f079915d42a411676dd10ad4cec9e8db.dicom', 'train/8eca95331d0c860d4f58cfa5d2faa2a9.dicom', 'train/dd9f6cc80148ed7b28e6441c738250c2.dicom', 'train/f21691e35e24f7bf5eee0da536ca15ad.dicom', 'train/cb7a41bdb4d2b1aec54ddbea80300957.dicom', 'train/0d78cadbdc54127318f97457ef3d3f77.dicom', 'train/83777c5bf140bf074c65b521b27fac63.dicom', 'train/10796b7d198cb45897fe5ec4b5b7d8bc.dicom', 'train/8a0161d205c3bd18d34388d10b95b246.dicom', 'train/5457001453d5b7b8413cb0112e14de97.dicom', 'train/feb7727721336030545c5188e21314a8.dicom', 'train/c46a7d0540d98b1d7b86b93cc918a3c1.dicom', 'train/50558ad6e860d16bec5a354d53db31b6.dicom', 'train/7e52e2796606426842fb0fd353ce3395.dicom', 'train/2d630b43ad204ddd1b980b6e4ed7d2bd.dicom', 'train/85d8a1b68b87505ac7a6f9dbf29b77b8.dicom', 'train/7bf283e9bda4075adc14bcb5fc8f38c5.dicom', 'train/dc92b520cc6b943b3b609d9a3b3f078b.dicom', 'train/dc1e496955cdbf9efe8249a806117cee.dicom', 'train/36ff28f13898fc29ee4b95cbcc0b3441.dicom', 'train/100c01f6218d4312a25aebb691f0e13b.dicom', 'train/4a332267635563e329995c3880310f2a.dicom', 'train/56229d90121b3cf4aa9c3ca810759a0f.dicom', 'train/f4e2c98b8b98b04ed4b04aae8892b5a0.dicom', 'train/1a64b351ec31c3c9a4a41bd2431dd30b.dicom', 'train/f085cc5b9cff4a61c752c7e51cc29d2a.dicom', 'train/c9a827a9e8871d7f92e52ccd3b5e7eba.dicom', 'train/540919b8adae80e213b1813eb73c39fc.dicom', 'train/94af105c5ad679539a7b96efe702a157.dicom', 'train/a133dbd9d1969e8bac961d2eb32084bd.dicom', 'train/0152c34de9d60f5be407c3b4253bfb05.dicom', 'train/3f25df2b5fc8acfd1ccf2915c4a604d4.dicom', 'train/bdf2fa66bcc5a7f5e87870961614294a.dicom', 'train/e9aa5d1bd150eb4984c8caa47f47c0e3.dicom', 'train/c47d1c816e8d15e28b133211bf5fae7d.dicom', 'train/2755c7614902b3f31c962d6b9a1faa22.dicom', 'train/ebca198a0842d28e10d8d175b92e673d.dicom', 'train/4ec7c359db464393ef93be23bf14296d.dicom', 'train/348b90a68c10f86cbc49f8f38368db59.dicom', 'train/bfbbb5520166ee486b97136ecac57d1c.dicom', 'train/4815bd59e1757773e67bc64910e3dfc0.dicom', 'train/ffe9705c781f7e370e3edea51eae9d88.dicom', 'train/18c4814a21691ca6c5f82c6b14cfb2ca.dicom', 'train/6d1f4dafdb6f518fbcdda722e9468c9c.dicom', 'train/cf7d7beccfac08ecbbc342622a2ca1f8.dicom', 'train/fcb80b3434ec7dd5d1016e21957e86b8.dicom', 'train/27630136ce98370a5bf9e450c5b38db6.dicom', 'train/51e148cdab85a6d9fbd826fb5fe14505.dicom', 'train/4899675f8741cdb60e703625bdca7218.dicom', 'train/e40dca5bebfd5246e620ebf56996a159.dicom', 'train/8f6fb43ecabfe31d47eb86758b7d1d8c.dicom', 'train/a01e8b4fcc3b7d3bb1b7169fe498f298.dicom', 'train/6cda7e95f9b3f7912ab695c1aa88b485.dicom', 'train/469679a7c854558ab549894a338240bc.dicom', 'train/484429d3ec56a890c7598489b41656b7.dicom', 'train/52f6f7b88a6a39e0cf9213f25f8af062.dicom', 'train/17ace74db0715378f535d45f50c66bc0.dicom', 'train/b7620d98d433d70bf0a9ef8d13885539.dicom', 'train/2e16c309e8dc2456e7d84e07da1ca538.dicom', 'train/0122d09ed0b38d8fd9b2558f302a3c5f.dicom', 'train/022642929352edc9ee0f239f9161bd66.dicom', 'train/518d2435185276d2a22e06543b60a5cc.dicom', 'train/8495e9a80259bb9f44d5b2bcfd060e26.dicom', 'train/9387801f1203ca1e3a7df0ae7fc29b0c.dicom', 'train/31307ca63a0de3b102415aa055ab18e2.dicom', 'train/15a3f3e3427966566f9f9390ea9a1a03.dicom', 'train/c6597b40939dac8377bb1452baf9610c.dicom', 'train/5ca02cd4ee51f725c0e87a2f3f2993eb.dicom', 'train/2ab46b408014f7427c53ca729a87d4fc.dicom', 'train/f2068ca5570ae0c71baa55fa0d6bc1c6.dicom', 'train/c3cfc4faf0471741f2c62785d4adfdeb.dicom', 'train/5d2ec42391df48603ab22cb27801b297.dicom', 'train/43bbd64596d3ea68fcc9e98a334710d2.dicom', 'train/81d976ae21dc483503107bd63e1e049d.dicom', 'train/b678c8a8d99fee6b27bd191a99ddac9e.dicom', 'train/523bf78a36f26631aacfc215455ac665.dicom', 'train/2add695de72a8f6674330c3952d9f8b7.dicom', 'train/6bdb8dc445d3a8b8e638a48494612b47.dicom', 'train/68d1472b0df7a375504687c584416c57.dicom', 'train/be7153318a84c3607693502b39e349e1.dicom', 'train/f79ee589b3180e1a5d48913f834e3798.dicom', 'train/8d486b767ad74ba84d28f3c68058fe53.dicom', 'train/ce235ac4f25b31bb23b2e867664c0b35.dicom', 'train/8148bcf7584da20d9dd4b63cb4eeefea.dicom', 'train/aa2d8bc5dc8168109b287706b5043d1f.dicom', 'train/458f0704db068deafa6c915657d116f5.dicom', 'train/5141a8a1e72fda4e15238560eb4b02c8.dicom', 'train/b74aa09dc28ea49ba03183794a45cd88.dicom', 'train/165de8babbe7ecf04ba4408ac92e4d70.dicom', 'train/89d0019adbb02feab46e21dcdc8cb972.dicom', 'train/7b4d83791336e625d9d7e594da1b4110.dicom', 'train/fdb6883125a06eaaca0a9f6904fc0960.dicom', 'train/17752e11a4a682da95388cb6a5082695.dicom', 'train/5515d110f9cb8f0b89425d9a732004a4.dicom', 'train/edd5263f052f2f1b2b840728e55a0a50.dicom', 'train/239d8cbde73da52bf83959881bb4ae12.dicom', 'train/68ab6631003b97dee80338d350684915.dicom', 'train/aa331da27d59103adb6a8aa77be72cbf.dicom', 'train/e9fe8f4747e7ded3775bf303d2a24842.dicom', 'train/1306f1a47713edb55b2fc7192b14a4cc.dicom', 'train/89c815c18d380e79000211090eb1ddd7.dicom', 'train/9f5a6cd015cdf232da7cafc72e6b5acf.dicom', 'train/db21276ceca2b1830016510ae49c0c47.dicom', 'train/d015fb9884035df017720361cb8a06ee.dicom', 'train/5934472f024c76130c39294726c79f46.dicom', 'train/13b290294b3d15c013771e53c3720c56.dicom', 'train/0e61e63396dfd39f40dc135f06a8fb4b.dicom', 'train/dd993637ad43ad42cba78bce3e4e88e1.dicom', 'train/cf663e254e81664a97c5a63af119f1ee.dicom', 'train/74c7031b2b2b5b5e36c326ccec7b3986.dicom', 'train/38f1f9d04d61edb71728929ee32a813f.dicom', 'train/5a9de30c40d586a782bd206143c7783f.dicom', 'train/dd35252553ea9e35abc5ee84e64382f7.dicom', 'train/73e321154000b0e7d23278ffb45e63e6.dicom', 'train/db68758862957cfb69e87a8e172ae5ba.dicom', 'train/1600fe749149fe1fbdcdfdf1a6d27604.dicom', 'train/d1a95ee84b19688cba51942cf91b297c.dicom', 'train/926bdd13989429082fabe39cb2fbb59f.dicom', 'train/889194acade75c7e2fd26c0b88d00ea1.dicom', 'train/6400fa00bb0e1a41033d878b6488ff93.dicom', 'train/bd4e2cf34bb28c61687dcde57a4d14e5.dicom', 'train/570a6fe4ac351f8b3a4225eb33fc2104.dicom', 'train/79c0aff46614e994b7a729e95b3259b9.dicom', 'train/ffe07cb11d4970c8789db030251885cc.dicom', 'train/148a80db7fda3f3053bfdac03ba15246.dicom', 'train/bbc953d4894a492cb351da1e95611cea.dicom', 'train/ef89174ccc09a4f310cf9b030657ba0b.dicom', 'train/b854180fde745176b9df73f96fbcc46f.dicom', 'train/8feb88e48ee53af817bbaa96c3ec9eb2.dicom', 'train/5e18e54d090a94731cccdfd6530aa961.dicom', 'train/45d497d8da6ba4f3ca880b9b26ffb9ca.dicom', 'train/017fc14b3333578679134437da100e67.dicom', 'train/cc4dc91cbb8a52c52b52f3af5f79203b.dicom', 'train/a37ebaf45005ce9887a4cd7e00424c58.dicom', 'train/6821bc0bf5bdfd14871c202024b8e3e7.dicom', 'train/a35b9579bb21b585870ec8e462d29e35.dicom', 'train/a10a3c8d509b919882f9a5cd7868f9e3.dicom', 'train/90e2f2ebf14991c7f8f42d5e4803f4f1.dicom', 'train/3542a8da94ec3e1f578ad88ca0c6b5a4.dicom', 'train/391c6160b4dbf89f8e4e67d8364f46ac.dicom', 'train/07779e97b6d768c73de1faf51f32bb2e.dicom', 'train/6e8f03916261fbbcb24748eff1a9f012.dicom', 'train/f86beaada89461b594850c8f39346209.dicom', 'train/8e541c827ba1effcb7f7d2a1a17bc482.dicom', 'train/e6ac769dda783420622180e0680d081b.dicom', 'train/bb3226410e0cd26082420923ccb1b31a.dicom', 'train/9dded6f80fd818e1598e5738bc50073d.dicom', 'train/ad9998f17a59dfe1f5bc732d819427eb.dicom', 'train/1dd11c14fe400643b2acf128872645dc.dicom', 'train/fd38f75dc05927389b9aab5bcfcb043c.dicom', 'train/41628c7b8330950cce67ddd7f9ae3e3e.dicom', 'train/86aaeffa25b5109354b053c204c5f946.dicom', 'train/6c8d13e0327538909eac98f50f6a927d.dicom', 'train/558e4442404d13c5e1a0c9c623310135.dicom', 'train/09b48676cf6040dc0718e05ff3006163.dicom', 'train/bf2102ff0f9afe6edffe79e21cca4358.dicom', 'train/6df1ff2298b349a1f54d1c343771115e.dicom', 'train/2ff58cb4bd7a92e8c7fa1e60aacbc564.dicom', 'train/dc29712dbbb9be8a9990c34bd8ea671f.dicom', 'train/eb494113941bee1db7905b0a032dd830.dicom', 'train/ca3cbe4936cd8e189d5517112a4526c2.dicom', 'train/466ca5e84cb8e75129c3c845f5df1422.dicom', 'train/22de0d849cf011ec4e0154f28e0d6ff1.dicom', 'train/bac9ca4ebc6fff6a669a19786fbf184f.dicom', 'train/62f03ea733d480b85a470f2c1400e9c4.dicom', 'train/16961db89efb11659beba50c8dfbc4e0.dicom', 'train/3d9f336b32c02c6dc4581cdf8b5b9161.dicom', 'train/23df02f211bab5d77bdae76a33de048a.dicom', 'train/726a69c444970fd71d6da342bf80af3c.dicom', 'train/4034b07cfadd25f53aa319b4f1d1967e.dicom', 'train/0c58cee65ae72dfd34a9bec10b9cc7a4.dicom', 'train/1aefbf5cb526142a32b9cf053c872ba2.dicom', 'train/622d7a092a8ca9523fdb1bb8685a8db5.dicom', 'train/e2188068346c3f36a5a59c11aacd1af8.dicom', 'train/c17006caab77721f3897cfe6e883cddc.dicom', 'train/8287734f9fb97b18e1ce68f52e2a0f09.dicom', 'train/fbce698d215ea0bc043add829bd00ce5.dicom', 'train/7e0071896416fe849769454e9959230c.dicom', 'train/fd1d8c663099a4f54f78bb5f555393d8.dicom', 'train/716c1d468eb25e539c7a2c48fba27403.dicom', 'train/6d6650dcded52f576c7ff84944117938.dicom', 'train/8b9045b9abd527a1b51fc8d4c4ce80c6.dicom', 'train/22e439a30ccb91432bf42dba185ec8f9.dicom', 'train/d5e2068f4cc0307b064e27dffeeb9056.dicom', 'train/3253b531049448e9cb5cc7a74ea891de.dicom', 'train/564459b27521c0b5b8ebe4e25a755f02.dicom', 'train/3b31409e13f00c6c495b0d15d65b10aa.dicom', 'train/c4aa088a7e411a353be58632c1a40d79.dicom', 'train/6c25e5acc3d59c3d367af07396f5b020.dicom', 'train/2b40bc51c2982db05d1b38cff4e11ddf.dicom', 'train/284b733630e970a97efa2d51e075de54.dicom', 'train/f90b29acfee8e44f1a76151dc37ed396.dicom', 'train/479adaef0618825ea71c2e80530b0db5.dicom', 'train/e26af3ef4f3b37f36a85b189112d34cf.dicom', 'train/5f98f5c9ee1c9dc059c1e2e12262fca0.dicom', 'train/d5c1ee05953382e7f5d565e554edf9ff.dicom', 'train/caaa269cef54894d4a397b5b672ab16b.dicom', 'train/7ca8e77f0b5fee2df9599b774748b876.dicom', 'train/682cde4297c1350092ad162e1ddc367d.dicom', 'train/09e00fa98e29a56009b7e79afec6bdb7.dicom', 'train/41d7f55df756b33610aa2057ea37a784.dicom', 'train/d421656886859bc4506a258a0e11cff7.dicom', 'train/496efd48bc9714efff358810dc4af208.dicom', 'train/49decacc3ba0243a790e8e441b62dc1f.dicom', 'train/9f2e2a0296f017a0062d5073aa8a526d.dicom', 'train/6644d3eb75269b787d1fb147eee6ae69.dicom', 'train/e1527d50aa9c3e456477ccd3023c9b28.dicom', 'train/dd07b2553977dec4eaa58c582175de19.dicom', 'train/7369d59bb542629b9b0df40109671236.dicom', 'train/ad922b6e24c812b513aa6eabac8484d0.dicom', 'train/0b1f1d169c6362db8033239e830094fe.dicom', 'train/1a3997f73e838b9f70d05cbd32e72d82.dicom', 'train/9290636e9351b23296f37f633328a677.dicom', 'train/612c499f0039c401fac754ed2ab71c68.dicom', 'train/b0e9850f5aae17f189a3d205338d1a6a.dicom', 'train/f0f58a150800247c3390924c1cf1e4a0.dicom', 'train/4bc2826a13b62390eb2a488b80f370a0.dicom', 'train/4973c51f34a91d98b5ae7368a9f6462c.dicom', 'train/7cceef36e5d046c424bd883029af15eb.dicom', 'train/8975f2be5c7e491164e8ae016fc1ce13.dicom', 'train/32208e546cdd9edbe2bf03fdddd0561a.dicom', 'train/821225082503ce6a316aa001131b53b4.dicom', 'train/ca19616cb2a4c3dbb5029c470d4edb58.dicom', 'train/c85106622cf6fb722094dddcfae2c1ff.dicom', 'train/68bbfb4c51f56b804c2a37c32f5a762d.dicom', 'train/393cfc431a12056f63b7f1acd7eccfe0.dicom', 'train/f6365d19abc1aa610ce9afcc62e5845f.dicom', 'train/b23b26c494c91e54631ff5163f8b0762.dicom', 'train/633cfd3ac9cc90c9e67295088fb5457c.dicom', 'train/a9c007f62b375942c2170d6e71f5895d.dicom', 'train/bdea8fe2c73c66d12fab1f9c53aee0eb.dicom', 'train/9406440204ebcdb5f393a28b184594ac.dicom', 'train/d272a6dd200aeb8f5632fb95a768115b.dicom', 'train/96fb612ddd283459e2f5974b4e02c791.dicom', 'train/8f8d8ce6665623498ab5996e29504b7b.dicom', 'train/df062c6ef77d74a97510e4b53f5fa277.dicom', 'train/773f522c78ea91fea1c09d07393d0c4d.dicom', 'train/0ffa285635adf1840961a06fdb4e428e.dicom', 'train/33ad5961d4615dc600efb44ede46defc.dicom', 'train/ce7b6f2596714d8eb739b6b8ed940f88.dicom', 'train/af2f708b0b81e2018a6008fdb2976921.dicom', 'train/2e82093fb5af0c225e2df6d69314b77c.dicom', 'train/39ca939881a9858dba7cdd352755ebcb.dicom', 'train/8cced17eebdf9b622ca516d4fc119280.dicom', 'train/cbe300288849526eceb9394bc630a3d5.dicom', 'train/feb317513503ef0d2fb457447bd58e84.dicom', 'train/f80b08dac6636cd006c2980e14054524.dicom', 'train/b802642643bf5c0d4255cc0a3be34e22.dicom', 'train/02b7ed2849f993fb42cd9e4eec3bd76e.dicom', 'train/5a0de2e7a19444af337f44e55d931c45.dicom', 'train/317e7e9c5bfb2b5c24e833767da67d27.dicom', 'train/323d4edd3a79233869a83fd36246e1c7.dicom', 'train/2c9bad092d016ab4a18d947346b21334.dicom', 'train/f17739592cdfc0a724ec4d059b7805a6.dicom', 'train/4d088f083fa110b6e60077b10c5668bd.dicom', 'train/03c02e5ee20ed4f61169aff1f1268f31.dicom', 'train/53ba280d11ca51224b919aa1a75963d5.dicom', 'train/f0267ad9e388bcdd31ccc572c4fdc711.dicom', 'train/46eb17b23732aec2fc1699cc95f349a1.dicom', 'train/2ea1141a4c3043f7dd06b282844a5e4b.dicom', 'train/bb508729c23f48849a8cd8bf9a57091f.dicom', 'train/787737530706ecb38fffee490eca1a06.dicom', 'train/77c67dfa8595b13a295d20c068cd06df.dicom', 'train/18ab1f4311c2aac4a0e3362b30edba20.dicom', 'train/1856ba703f48c6cc551b64547c52ca23.dicom', 'train/b15f5022738d2f607b20a5518f081f92.dicom', 'train/b0691fb8060347dbfa0646af07e2858d.dicom', 'train/b35df78da8225e499015edc59b62df76.dicom', 'train/f00177dce5c34414d34c3a67ab454342.dicom', 'train/55f3bda4068e6f8ac688313b9209e0d1.dicom', 'train/b394e697456f950b6f3bb61f6b186fab.dicom', 'train/0c610f96cb7d9950b9563184a30c071d.dicom', 'train/e4ee754cb9bf6f29cb21a20d064fd7a5.dicom', 'train/9631259c6f7d37196f149daa130800f7.dicom', 'train/afde04b97a4bf7835198cdaf3fa696db.dicom', 'train/046a011bce34381981acb6cddb8da123.dicom', 'train/af8b22aaa00a34028e356c4ef3e8e7b0.dicom', 'train/f5d851633e02212034fd65ff72511947.dicom', 'train/22731616a27f4d4931bdc00ed7720ff4.dicom', 'train/f7d8bf2b3b46a3ac22531fa1053bbb7a.dicom', 'train/c5f43a2bbc4bb06e25e1502dfd01d9b0.dicom', 'train/b5e047815eb5b5c23a9ff09ee4fb4ea3.dicom', 'train/c083e79b04c1a226a34abcfbb2e30ca9.dicom', 'train/dcc4fccd8d06e30ba4c5fdafa95fb343.dicom', 'train/5110e246b21021a0e0ae51c31de1f0b1.dicom', 'train/6d17f9ec14c5642c0476c5ee06e54d09.dicom', 'train/f783b9757698d1602b78d20e6476796f.dicom', 'train/f60ee42309ce2b3f0cb5f2324b4091d6.dicom', 'train/b2221cf56384faf20bcabbaa252d959f.dicom', 'train/a519ed8d078145da5a9a99d64f0f0335.dicom', 'train/58ace9246b05b8c239d80689b1d45875.dicom', 'train/0947487fb9d37d00a5f613dec4af6d5d.dicom', 'train/f360b361d878f789419ae78ba0dfebfa.dicom', 'train/0f6e072d05a8656d010edaecb282081c.dicom', 'train/15d55420d7f208367aee001c096b4385.dicom', 'train/4e4237d0ccf7ff3d2a326acefd380c5e.dicom', 'train/c4ba95c42d499d008fa42902888779da.dicom', 'train/fc1f99cfc6f7801d96c8df164b29991a.dicom', 'train/476065d77a35a106786fa0e973d22972.dicom', 'train/6d6b8110a622c8d02977cc83fc12c5ef.dicom', 'train/52f42c135cd393d9a7f77f0cd1bf67b7.dicom', 'train/83171d96e0c2fc070565178638ebec9e.dicom', 'train/3a121fd6e39687a17d70aed0d540e6da.dicom', 'train/1dba51c4a29d6da61424445bb2395a58.dicom', 'train/3a302eb8300c4748a235fa4ed3d5a5aa.dicom', 'train/ca86b7e18dcfc1b24e124fadb97dbc79.dicom', 'train/776f649d56710edbb09c342d288afcd7.dicom', 'train/6e1f4a8faa5d6993df4a0c4c1d502e5d.dicom', 'train/5ee3897f457ada5fbf0f444657833e3b.dicom', 'train/4b764ad74a2736b7b6509b1b89934bc6.dicom', 'train/c91ae1e3d6492370cf540c0a3afc7fc9.dicom', 'train/6d5ba192b359c10d913cbbcd1a6aa3d5.dicom', 'train/735fd3306a84bf8c3748df7b40b31cd4.dicom', 'train/21ea1194f078fb8b163a3ad9531bf5e0.dicom', 'train/d5e78f3dc1c246e4598419c1262392ce.dicom', 'train/ea16c26dffff88aba9572c9faf277f62.dicom', 'train/2a962cb8cc845a3afc5f25ddd9bb38a6.dicom', 'train/1c995abd5a41dd0a558107a40785b046.dicom', 'train/6f8f50e789d7da4dcf74617207821e22.dicom', 'train/4ffe6f1a4ba874a07641b57cc133fffe.dicom', 'train/54579a843aa5df2f9b67db88fbc677e1.dicom', 'train/e0f978fe04738777ddb3fed98b67b76c.dicom', 'train/7928779e058f1d41d5873321c93b3270.dicom', 'train/7f23e9fe8013426c1cca7edf4ca8b37a.dicom', 'train/3f53ff9db9419619464cc53ad28a1377.dicom', 'train/f4a14bd7e374713cd438543901a3be90.dicom', 'train/97f2ebfb2423eb724dda107047ab9d69.dicom', 'train/3e974fea57c1b29a6540963641eddb77.dicom', 'train/54fe6da86972ff3e98c43ce26d2be892.dicom', 'train/b795fa7823dfaf01117929e405af66d5.dicom', 'train/4b0c97a2001769c635b93a1ce2cc4fc8.dicom', 'train/16f9d2b692619078362e4016ca33f12b.dicom', 'train/f259c6d4a5669d59d6c7d6c0b750ed74.dicom', 'train/60d2efa34ad38bdb8c76e61df941b679.dicom', 'train/5aa76fa4ad3897bb73c21e556b8fda5f.dicom', 'train/73b938acabb119800ff0c2a0e3db0920.dicom', 'train/d4b6028b5d9c8bd669caa4c491346acd.dicom', 'train/088a8520a24613d22e22850d585be935.dicom', 'train/2a465145721226ef0ea066ace34e561a.dicom', 'train/88ed52fade9297ff2268e90fe47d6a66.dicom', 'train/75ee62ec0f2c40628f5460d0e71db8b2.dicom', 'train/09fd7c84b5367f7f0e0c17cf009a8f04.dicom', 'train/6ff943d2be69df923ef737b042ca321f.dicom', 'train/435ddd2b335d17a2a79dfc4135c3c36e.dicom', 'train/7a57e7936a23bdef0f99f517115d8402.dicom', 'train/bbfb857d171e662718e2ca8b88e30ed5.dicom', 'train/e2a0a03b2a43c7ec60d6fad56b794183.dicom', 'train/a7217c06c843bdcbe0867452e9f43bf5.dicom', 'train/239a14911b02d9e41c269536a4ae74d2.dicom', 'train/e208029c08e0d6dbaee4fc16957c47f5.dicom', 'train/b4141d779a6d26fa00ebe4265cca9bce.dicom', 'train/557b7ee88ffc63a5a2accd2cbd6ee58d.dicom', 'train/fd48d53f29baa176b1ed7854c643557b.dicom', 'train/34f9f45620b7aa62674b1bb4f3061e00.dicom', 'train/679a6873de59578aad259f33d82375a3.dicom', 'train/66def744c0386a2f416079809a585f83.dicom', 'train/9a3e0de89c4c38d3cadd09a93859b481.dicom', 'train/bcd6351930363a0dab953eb844f8aff1.dicom', 'train/9ed048a288961fa13331a565bb47cd30.dicom', 'train/bbef8223d7f923b5d031a7547050e69d.dicom', 'train/1aa56f87dae17fa42f12d11da9c25779.dicom', 'train/45c5f90e97660a194e4a9c2fe4a26b7e.dicom', 'train/ce45a90932c94c1f62f19503087b4adf.dicom', 'train/d13a469d58cca67c08014c2b3a5806b3.dicom', 'train/a8ff2d523442403456c599b324712ff2.dicom', 'train/6b26b147224106c64166e32c0056e574.dicom', 'train/334dd9772af1b44f6825e2f590cb207b.dicom', 'train/c734faaa6c1a9c2c1ad6cfeb87918e0f.dicom', 'train/2a69c69a6c9e0399381c6df4f54db2fc.dicom', 'train/eb799bcc26df4cb4c40481c86d5baff4.dicom', 'train/39c2b05d0f225e6f8e7fc6b93cf14bf5.dicom', 'train/cf3071d0c99833268af361c86c24902f.dicom', 'train/f6dc8f80af5296fe6c1c2fdf12b223b3.dicom', 'train/d170e8f20a0ceb37b79c39c31420724b.dicom', 'train/bbd44d4138723be30cc0d772a3c727c0.dicom', 'train/a510b0d3f3da076b3d238e874fb33613.dicom', 'train/57abfb326bec9782cf582675bcaba2ec.dicom', 'train/c7f725c6266f93a1feac717e7e4f231f.dicom', 'train/d39268f77e6ad97a58b92e9b82c8e854.dicom', 'train/68a56c0769e78e1818dbf04cd91b9012.dicom', 'train/f2066dd257b5aa33164d1b02a69d77ef.dicom', 'train/407de734b707c7166293f61b2fbe074b.dicom', 'train/c5732afdf48b81de337556c909a00833.dicom', 'train/12398d58cf3bd48132d9c5e17803b8f8.dicom', 'train/37ba2e7b6239e8ac3a8c18314d96b41d.dicom', 'train/ac8c0bdcee9869004f10e26ca21ac6fc.dicom', 'train/55bd62717a7cb4728f00268cbe625fbc.dicom', 'train/7733bd5dbc2e1790eb797adc0a457375.dicom', 'train/99074e50ab8c67bb73f98f6beeed4b0b.dicom', 'train/759e26a3ff7474c6499af9847846420f.dicom', 'train/818f7fc653c9510dabae8ca22bb44fe1.dicom', 'train/20c33c630cc655abe08e15b653be2e03.dicom', 'train/37df9adda3b6d291fbb4a7e61c035054.dicom', 'train/dd2c3450087867b5052592bdd17e35c1.dicom', 'train/194e1ccfc8d683a14968726da5356e6e.dicom', 'train/b9f5bbd240756b407536cc46fb1a8ae2.dicom', 'train/7d6f2e9a247d60c7598884e833d1797c.dicom', 'train/b64c5ff3e864a978491c72c27ade540a.dicom', 'train/39f0a3b4be9eb111b2d288bb8b767802.dicom', 'train/126964657d4ec5f5e0fedaefc8bc1703.dicom', 'train/cc072d3361989a7fe977f45ff66e6d53.dicom', 'train/01bffcbd15363711155081fe1bae4599.dicom', 'train/97d6c3a670887e211e2b3700b778a8fe.dicom', 'train/c3493eb0b72178a2287919f1f1d33bd7.dicom', 'train/8fc18f349cf235f1e361b69c2ce64795.dicom', 'train/7498d3cc2f8f155dc606afa01149b526.dicom', 'train/0e48a2d702a5e58230c9bda5718cea09.dicom', 'train/6397f53702038c3a2ba98fca291435af.dicom', 'train/d97d550e57c0e1a5bd4575497f28e6cd.dicom', 'train/3588bdd43363835bde1234c65ca4db7a.dicom', 'train/d219ffea5c19e096b4bfd87cde32ac8e.dicom', 'train/27cff0defafdba1b4a8b3cdc98efa5f2.dicom', 'train/7ae356e194a76af7a6f134e00362f318.dicom', 'train/1c2df18a338ab62d5cbd5899ccca18d5.dicom', 'train/0d9d8e78964ea10d431af103ee6788ee.dicom', 'train/06f381a7f468b8d2bf54f5373cce2603.dicom', 'train/308a6093ff8315050c111475718e06c1.dicom', 'train/cabc4390be7057b5cf4f289e2d67723d.dicom', 'train/0f2d736b0b72ba565b287155919f9fad.dicom', 'train/47f06bba62352c15eea7c56b306d3955.dicom', 'train/a49118f5c87610e2deb728b4f472e740.dicom', 'train/dab47319e5affea89a28f7ac77eb0e0c.dicom', 'train/7af8bddc373163191515151a1106dea4.dicom', 'train/806a2b85bf9e43febd6e005707597d37.dicom', 'train/2510dfef4ca7d4b49cc7becbc4cbb3ff.dicom', 'train/5b3704d9085339a3ae17ab55d63635d4.dicom', 'train/1dd8f9302de27f591cfa32b3d2c9c64d.dicom', 'train/c06191eb851505fb7005ce84a85058a4.dicom', 'train/c90e30ec096c7d5a05c1550ba2764e18.dicom', 'train/698a2c1a3b44d02d45a0e5513b86f0e3.dicom', 'train/ce54640e6a39aab46cd2186c53b78ddd.dicom', 'train/b4827472e27eddcf62524f3630276021.dicom', 'train/f21f40a047fbd0f4b6cbf911c808d286.dicom', 'train/f9f11336066400dd7b2166172950c6cb.dicom', 'train/780f83fd010c59e356d1b57f128c7baa.dicom', 'train/7ff8de3022178061c04b028dc40b259e.dicom', 'train/1212eab8da513c85e25893cd173c7969.dicom', 'train/e707ed3291a5817ccb71e4c4fb13a45b.dicom', 'train/9e3661b5ddd632f68e83783d4f77bfcf.dicom', 'train/2139d0bae3996b6828324ea4ce2b446a.dicom', 'train/a23f0b7eed62394c542c8fd9577977f2.dicom', 'train/d5f6ae42a3062ba2ab1e93f43133ccd9.dicom', 'train/bf0417f216c6837c2965ce7f9ed8dec4.dicom', 'train/7e8493ef75d6f5e3353e2488b35c704a.dicom', 'train/b7fb0c5b99dcf57ba56b8dce69e46f35.dicom', 'train/69dfdc78da0103d91bb307aa053e4f19.dicom', 'train/224640110989780d97be81339fdf4ad4.dicom', 'train/d28e765c39b2a4309f14461069389166.dicom', 'train/d7192c1ff6b54f4a2843deb896a64d60.dicom', 'train/882de96b011ba51d2171a30ffb3b336c.dicom', 'train/42a6b8a8a20ed7045a5be49aadff5cdc.dicom', 'train/8946fe0dc1ef03f864fcfa4011d7e4e2.dicom', 'train/140d6cc2f4b6a28cf8930fa165d25f75.dicom', 'train/1861ffb8a7428f7ad35c542ab7f79761.dicom', 'train/72ef654f801c49b3489df01b38465a09.dicom', 'train/3ddb13bd4ace53e2bd9bb36458bef614.dicom', 'train/6171c4ff082cad8077fe6691f54a3776.dicom', 'train/395476107d17a950db891face271c3d3.dicom', 'train/fd24ffa55e87bf69af64b137feb11289.dicom', 'train/cd16e8421ed3701110623b04f655a7e6.dicom', 'train/0ef99ffaab2c3cb9c6536293b5c22a47.dicom', 'train/aca5712cd5705e5b800a1f5bb75faf57.dicom', 'train/37c5fda58886face88f20ac2cdd49eb4.dicom', 'train/84db956c548fa2a71d522c5a0d60d1bf.dicom', 'train/a12c90f13f14329e5d6a38bfcacf1727.dicom', 'train/f4b64f551231a108b831ee3ac654bac4.dicom', 'train/36f1c621d8274824bf6863915057ee4e.dicom', 'train/513f5bdd9b8bc45b79980187f471bef4.dicom', 'train/30df3d12b2c15c1bc5b24c06d60199d1.dicom', 'train/d5cb1e5afbc46f1f0629b6c160817e83.dicom', 'train/590d92180ee7d56a2f5ec65e51c6217b.dicom', 'train/950bd28bbd59bb1e6c6501abc377af23.dicom', 'train/d9a02b5c7014fa0e7a5b3b985653e85f.dicom', 'train/7debfa1d4d245f56f5c3fc2f7822b1d1.dicom', 'train/6876bf751cd478eaa4ad3f01965896db.dicom', 'train/a68f5e336ee30c2bbff9a2f116b66da3.dicom', 'train/6074d6e938c1c6cc7a2bae78f3a4bd8a.dicom', 'train/8fc09ef0345cd2d3f6e7e495bafce3b7.dicom', 'train/651ab0e8755c0f0c344b4713f3843aa6.dicom', 'train/81be3d8321396b8dbf8ebec85e56a51c.dicom', 'train/9b7933bad60ae6f641fb38b3c0842e09.dicom', 'train/42a6374be3a4775a84d262bc42a3fba1.dicom', 'train/afe0938330fda50c545d6b3595291d54.dicom', 'train/d579bea01778eb7e435ffb8fffee5f11.dicom', 'train/e5590542506c29984397a7b6662d5019.dicom', 'train/314d982aa9744b11c4cfba8c8ba6bea5.dicom', 'train/ad6b31b506f2e3a0feb22983c9688712.dicom', 'train/76d4da9e49a373eb35b4d5a9c5ee0d47.dicom', 'train/a56e1fe19c3e52461a659d0fc1e6bda2.dicom', 'train/5dabc807385b4fc402d8269d2dbc2842.dicom', 'train/f3bcd4e1c63e2ca3dcef0724f39cedbb.dicom', 'train/7e7be791ba874d524cd31c45d14c0626.dicom', 'train/c90f1abac226fee94b68e54eae4fc0f8.dicom', 'train/c323dc55f1f0f19a135987851d09e08e.dicom', 'train/b21306a3af16cd5e516588173121c51d.dicom', 'train/5bf176cbf0deb3af383775bda912b792.dicom', 'train/84183bf5761568a1feace32d7bb596ae.dicom', 'train/5cec9d5e914613a3c89cb7c357ee1127.dicom', 'train/f32cdda6e23a7da314f0d0384f1c1454.dicom', 'train/5a814a0e18dfc5d732376d8a6d14e22f.dicom', 'train/94a044cef13a8f482ae0ad0d0293de70.dicom', 'train/13e77596914b877538ee651df56fb6c4.dicom', 'train/e9dc4730748ec0baf30823569f827d55.dicom', 'train/144468b81743ebc766723fbad94cdd30.dicom', 'train/c01685967a940deaeb614bb2ff78f8d3.dicom', 'train/b7456af5107666f8b237b670f3e2ec80.dicom', 'train/e29e518bc4a428f0d87558f6a77cab7a.dicom', 'train/4494310a8559c220aaf9cf744a9dee07.dicom', 'train/3ee653a5e7350ea4792effe6f5f3ebc8.dicom', 'train/d5b7fb4552a5220f3e96ebd625ec2dcf.dicom', 'train/a76cc05933d4aa3ae914a03ca666a5e6.dicom', 'train/5a2cee4c483fea024442d0350a61a000.dicom', 'train/f39ba0e622add5d82d606b9d3a75ed7f.dicom', 'train/6b31087ed43bb7ffef7c94df5b68f756.dicom', 'train/a8ca1ce717c860f32aa684f8c6609a77.dicom', 'train/11be428297e69d82257259f01ae72d23.dicom', 'train/efbdb482ac62fb2fd20900072447f2d9.dicom', 'train/aac8e6f95524bbef4cc96563f4f6a3d5.dicom', 'train/6c044d479f0c99aa3be5235f4ac6d4de.dicom', 'train/a57585a1fac7f380a09a4fe0eb6d59b4.dicom', 'train/9b21f9297e241300eb9a45666e2e8c20.dicom', 'train/b912c8c12fc10e3dda531edc6104a7fb.dicom', 'train/52a1ec82ca1ba222da85a72139c47c5b.dicom', 'train/684171bc304abed6f372f9ebd01b82a6.dicom', 'train/df3e13b5b6fc8c999edfeabbe57a5e46.dicom', 'train/eedd990225c93f25926aa8ee0402eedc.dicom', 'train/dfc355d9a4c301925ec51a7230d4bdc5.dicom', 'train/705869d89c565270130319b17c564078.dicom', 'train/0f7d734e37b86faf021468666ab9a81b.dicom', 'train/c0b9f074a42fa65d79b6c713d52c6837.dicom', 'train/01aca60ced6e10c6387901b1863fea21.dicom', 'train/3cc29633f644af0a0a471d3d25b33faf.dicom', 'train/40463efc948822e50065b9525eac1cf6.dicom', 'train/1190c00d6ff000e150ddd92a8b4a393c.dicom', 'train/550c9c27bb2ecc3037306bc6f891f152.dicom', 'train/ac2bb817cac06f82d4011adfd8e9fd25.dicom', 'train/b85983c614175a2a9aa55434808bd1a3.dicom', 'train/b7cb00724dada249a1b0884d77316a05.dicom', 'train/cf45b518dcca93d2951ec93881a993b0.dicom', 'train/fbce38bf95833b8e1b86e67b1f4dae21.dicom', 'train/af5c9db3de6be3de02236d127cde9f80.dicom', 'train/97ed8d9b81c9766e627096a9ef69cf81.dicom', 'train/50dd255370769f2c51d0a0903e8a6851.dicom', 'train/1aa19760b6e8d05c1b84e70b728cdf31.dicom', 'train/59bc487b1cbc8b36e8738d4959a6cd2a.dicom', 'train/1de7005b3d6673dfc8ad15c96070a5ea.dicom', 'train/5284307ea96026ac5ef4290b5176bfff.dicom', 'train/a7bfeafd523da37dce29709d181bb114.dicom', 'train/938befbe2c2fbfe7d80d4ddb986eb0bd.dicom', 'train/b056cf51a951a1bef31da1047fc780a2.dicom', 'train/bd1608cbfe21e54f736b9e789f525b0a.dicom', 'train/95a4d2810b7019a75bb58bbcb02b861b.dicom', 'train/99f5f9ce9f6555f12e317cc79e7235e6.dicom', 'train/2776cedc398dba8fc9dba72a06aa5587.dicom', 'train/3d9cf5149a88841f1c3eb250a42fab71.dicom', 'train/e62e901ed6903af3595373ada2426233.dicom', 'train/0a1665762c67817e64f4cbee1c79b44f.dicom', 'train/e28b2ef8af8ec2a291412e2ad513ce49.dicom', 'train/06a88c0dccb48ea5070e8e52b841b5b8.dicom', 'train/1a33a1675ec4619d8fe5f92040a5c65a.dicom', 'train/e2df16794c67a5f699aa4812d0bd99bc.dicom', 'train/2b47da517e338ad63e7da379efb7dd28.dicom', 'train/db39667a34563ecd1719191839f30d1b.dicom', 'train/829064af83da2cc3046090a55d9b168e.dicom', 'train/63414108d1753d2409a12b91661e57f9.dicom', 'train/68ee7e045dbbe0bd7b7bb60e41586e34.dicom', 'train/03261eb57d5f1cf466e1eee862029ff3.dicom', 'train/069ba975266af0b01b173158384cf70b.dicom', 'train/356edb602ef6018b9c1285405fbbbb54.dicom', 'train/84eb98692d9c8cb02fe341305a47021d.dicom', 'train/7e2be8cc8555b9ad56479bc463db6e70.dicom', 'train/30d36ee4926e2fb0c265b013b7d7155c.dicom', 'train/55c6de1d8b90545f8d2e6ba46353005d.dicom', 'train/8057b1703b52ee520fbc0174d9e52c28.dicom', 'train/ce1d440002538cccd60d2e72deec7a74.dicom', 'train/2b41824f678b1a1a5ce661ee31e68967.dicom', 'train/e906a5467200a55b2eb52065011b5403.dicom', 'train/cb03c4192a4ecf2cda913606c306f2e3.dicom', 'train/bfc94b2b4789e50f7976a10785387726.dicom', 'train/c1ca258af1c169c52eb3f033e7dd2dbb.dicom', 'train/b2d1d519d8a7a49184b5c3603a1ae8c3.dicom', 'train/f9219a162545ef8672ee287e91c1ebc2.dicom', 'train/ad68416fd0ba7a88ab43b9fb56890e95.dicom', 'train/11dba35e843909bfeed7a78dcda2ec66.dicom', 'train/3fb3d6819e6b3497f7f008526b2ce5eb.dicom', 'train/88fe0d4579d4338269abbf73813784bd.dicom', 'train/82afaa80acf61e88e044038500141e63.dicom', 'train/1eb3e6d899595b2ef297bd458e34f6ef.dicom', 'train/6f5bbabd33f860656f85f14267ed0f85.dicom', 'train/4e9283296e97db1623008829d403c949.dicom', 'train/315f98e8787a779e10f3a37d56b96595.dicom', 'train/05ca7efbc57d622886c811be587cfb78.dicom', 'train/1d43c600895d12b6f65a7f89992a0017.dicom', 'train/e936939146865becdff7749ff442c09b.dicom', 'train/5dd19b64586dc54d685850e5a46db77a.dicom', 'train/122d5a9f1b5bd22f6ddad0fd5e47c001.dicom', 'train/bcf32e79f79dbd4041f6b7815a15c789.dicom', 'train/f552cae145fa1fb448c12d580815bd1f.dicom', 'train/fb602175f17a32978cbcb3131ee2836a.dicom', 'train/33e4265093a985cf81d3f710ce3b9d9d.dicom', 'train/3e1c13afeca4bac723393dd735c4b878.dicom', 'train/07bfc39eb3426850d2b0b37fd164d0c0.dicom', 'train/a2e7af788816bf4587bcc0bb6f4fb998.dicom', 'train/7af4b091385e9f6059745c541224bf9d.dicom', 'train/421c05755e031c3f5d3179fc1bf69b8c.dicom', 'train/9d542bc279be2b947f3fae64ac5954af.dicom', 'train/32eab3c156608cbd80c0124d91e4f13d.dicom', 'train/e3a85e41bfa229e42b453f775b5a6745.dicom', 'train/804865c5e898d4c0e9b754e1f58b7330.dicom', 'train/894173a545fa40e2b93d422269c6c94e.dicom', 'train/4433b8936d06e3b8154291627d66fb7c.dicom', 'train/92f758874b833b1e711bc7773f6986b0.dicom', 'train/1156093407033df3c59b29524b500621.dicom', 'train/b1862a637b67e8d45f6668dbd1f35347.dicom', 'train/4650e5b985a771253d52246b4677a5cb.dicom', 'train/83b0e033b7a6fda77f6a2adb88191e82.dicom', 'train/62fef26780dc95c1383ff226f3f316bd.dicom', 'train/0008e7acbcdf2fedd05cc236e5594074.dicom', 'train/1bbd82113e78346e1a311de4830ea15a.dicom', 'train/4ab154d0bda6f0e2fa1a2ad727226a1f.dicom', 'train/0e66d235a69c1b99c45b2fb501672cbb.dicom', 'train/bb0b3c64abad264f0a210f66e37775e4.dicom', 'train/f8527dd8bf7122ede1113c984708a72c.dicom', 'train/472094101cb6e1882fd5245b08e64dd1.dicom', 'train/0645a34241b27e35ab22b1d7157fa6cf.dicom', 'train/5e83fd7a3955e121a957336fed4c4960.dicom', 'train/7b7d0f5fbaa93aa0b5ba89ee2c13532e.dicom', 'train/a772a23758f62dedb88ce9752b081828.dicom', 'train/f1a17219add7637c370f4ab6d148099f.dicom', 'train/04054ce796a6210def5824805150f133.dicom', 'train/0394d936a647a16dc0ecf4a4f5563133.dicom', 'train/0c2a6ffe7c75d8a890ecbbf28c2115cc.dicom', 'train/a28f3158250d6d1c4850e2f09156356a.dicom', 'train/258f48ed2969fe7dcaedf83b3725e958.dicom', 'train/06ec72cff67748069876096fc0df6cbc.dicom', 'train/1aefdd54c2045e92c6606b116bd63369.dicom', 'train/f5854a15c2506e36c53dfd43a53c32f3.dicom', 'train/3a964aae5f38ea88a942e4ec86d7ac4c.dicom', 'train/72c42f82bf416c8c5c9bb14d17c5d8d4.dicom', 'train/7072cfe309d6f6b5017d9f32e8a67142.dicom', 'train/7bfc4b0f0f202c9ddfbdbd80e36cb2fe.dicom', 'train/e0fbb76e00725e3bc8f4b3ca58fbc303.dicom', 'train/d349992211677af447c627f952c806b0.dicom', 'train/153e692df351efb6654e12105c7428a0.dicom', 'train/c5004f614543f88558d695edb679f834.dicom', 'train/478513f6289a8a59f1921e0ef3c3aa29.dicom', 'train/ebfa509107438eec23cd799dee2ab584.dicom', 'train/31fb92ae4de9d6f2b923f57dba03f2e3.dicom', 'train/e0ffd8f6e4a7509e67a4acb2dcc564c6.dicom', 'train/fc822994fa8a7ee7ee4fc1bf493c8a88.dicom', 'train/4eec05418b1ae92ad09f18f1d9c4407a.dicom', 'train/1035a420b73f9dc031b906513badd101.dicom', 'train/89617377f7c5d1c8ad810519b58ccb7e.dicom', 'train/190883a24bcf655126445cb6afc47397.dicom', 'train/74a9b54f19c2986b387cc454ecdc3959.dicom', 'train/7586f043af8649d181b4de483b1ad748.dicom', 'train/2dd6411da33d3ba3143d07aebf053c36.dicom', 'train/be628eec9847314cb0473f927f28f70d.dicom', 'train/4d427004da4dc0c65256c95269818661.dicom', 'train/61620b684030ced0872f09ab3d266373.dicom', 'train/4470625ecfa4ff6239124644ec413a13.dicom', 'train/94f844db139ac4d2d6ca750622473801.dicom', 'train/56d8cc648ae93cff64480d59fe691760.dicom', 'train/86046cccd3f3894ba43ab2e891352830.dicom', 'train/f9069c7138649a5a66876d91f318c573.dicom', 'train/5c576527440fd35128d7f9b5fd883577.dicom', 'train/852054f2b180e0244ecc09b767e437b3.dicom', 'train/ca7ba8a768e457ffc47d6771413d7f0d.dicom', 'train/8a6b6ed21f053d41fd1046438431fe63.dicom', 'train/4980df2189f8a50e8af726ed1bfe7ebb.dicom', 'train/7baef9d7225d2505b99dd34b37b0d902.dicom', 'train/7cf1d13654b74542b4e7973682857d9a.dicom', 'train/0dd43c464006955b91c6007b9b2e625e.dicom', 'train/bcd203f6dbddfe12ee2e12ba512c0b6b.dicom', 'train/356d8fec5d9297180da6ab985d38f9c8.dicom', 'train/12434801e28ce659e93309fae68faa13.dicom', 'train/2e2ff398c40d805f47cb2b7e0ca1f035.dicom', 'train/23032968e7057e3cad045a4128ef3cad.dicom', 'train/3744b647368d7a99a8058556f48f15dd.dicom', 'train/43f27ae6c7e36960d9435948e7a373fa.dicom', 'train/1fa7ea4a081da1e684764636f97066e3.dicom', 'train/454b641d105381c25b9742287a6f0102.dicom', 'train/c7eb0ba0e86d76127bed31d376786d3a.dicom', 'train/86eb067e41a5a72d3e1ab02ab0635947.dicom', 'train/74c65f225de5215fffdbbd5ca29674de.dicom', 'train/893a75444dded36b4e1bd2637fa3d33b.dicom', 'train/cd96075c7a90ac449329bb3112d4237a.dicom', 'train/f73eb2ebdb0563d07b319906e0a5c166.dicom', 'train/2bf9bc0e25c7fdb2195864acf6959337.dicom', 'train/8017edc8b6c5cb885bd598ac7d1066b1.dicom', 'train/fb49790f7a199ae7e74d53ffa5294802.dicom', 'train/2a79b9ca1b0e8e865526678cd99706c8.dicom', 'train/486f453ad773c54a6597d35da78163a3.dicom', 'train/2ad28234258973bbdb00d46cad6f37fe.dicom', 'train/cb182f7689ae8d14ab0814bf2143c029.dicom', 'train/6d505f379485ac46d2846a38e5539244.dicom', 'train/39e58115ca17a2ad5d05cdf171bc3c46.dicom', 'train/6e7ecf8810ccf7f7b6e8c7aef8ccc158.dicom', 'train/15b66fe4d274062562776786eb6dedad.dicom', 'train/f5082ea0fbe5779a70cfa6eabe0506c1.dicom', 'train/b5a04e9551fde37d9f5a03b0af12f9ab.dicom', 'train/3c11ea587b2f57dd6a852d6db66a33fe.dicom', 'train/aaa546db142abe400fc6d39c10134357.dicom', 'train/f180879a56d33be47373ac5693cdda6b.dicom', 'train/241317f50acf52e794c98a0722b5fd08.dicom', 'train/08e136cd2867573f2e3251a59e9743f4.dicom', 'train/9cf0805b20135a95349657fce2b4ee8f.dicom', 'train/8f622870fb199c0e61244de0a9fe3ebf.dicom', 'train/28c4bdb56e811ba2c5dfaf2a5bdbf193.dicom', 'train/0e5c1f6b8204db4d9eb2a2fba17e556d.dicom', 'train/8dd6524eec167ca179a26f60757a9cbe.dicom', 'train/acca176007297bf3d6460badd6938028.dicom', 'train/1fdf4a57a4f5b4c3984d86c638738358.dicom', 'train/795e75d2fe0eb8ae5fbe9f51a60b17c5.dicom', 'train/d7cdd575bccebde497bceaec43988f06.dicom', 'train/2decfe08926df1b7e2c006e9f229c39b.dicom', 'train/cce7c8dbbd977323f3dc4965bf41bded.dicom', 'train/9915fbaadbe24c657b664755f76cc90a.dicom', 'train/70d656d685edb00362d1ee0096cbd5f8.dicom', 'train/df3f18eb6a70fcb028e3cacdc7fd2544.dicom', 'train/ccd92c412e5193735eae7c9a8aeaae21.dicom', 'train/01010180f98c184adc806d3bb53dd8e1.dicom', 'train/b10e7eac731186c942df0587792cbc04.dicom', 'train/bb4a0c1c3b78216755c1c9e82164dd96.dicom', 'train/930517be044753b5f791b96a8c8c9516.dicom', 'train/f5067e2a6b29e01abafc89f78ee242b3.dicom', 'train/9c4c8dbe54404d2210aaeb7933d32dfd.dicom', 'train/4a8fd4baca83af927f49c886d6354210.dicom', 'train/d0f81056b96299bad14e40233ae3e1d3.dicom', 'train/9b7135b89eb295ae7f919ad3c2ef8d30.dicom', 'train/2bab10943cc5e4832540e2f83e017d84.dicom', 'train/160841032f880de64c1a201cb7dc0f8b.dicom', 'train/17feabd65f403c1a0674f58726a1b47c.dicom', 'train/939ca00ad55e165a32ef85ac867e2250.dicom', 'train/fed22836e82cc79474baae9b7a31e9bf.dicom', 'train/7a9701bddb4fe00bd8b2435c17323ef5.dicom', 'train/4b90af6f6e8f7a760b7ffe06e8358a6c.dicom', 'train/59adc3aabcda95351ccad22962555e59.dicom', 'train/ac096022b69c7c3f885db03d39409bb7.dicom', 'train/f057f4cc117d12076aa59c080b141ae4.dicom', 'train/a992cdaf77b5a116335c94ee66d2935a.dicom', 'train/c69de74e69224aadea8dbcea1a782ead.dicom', 'train/a232de8e496b89b522d63836686b91ff.dicom', 'train/360a657c3ef6fd85333cb40ee83f115a.dicom', 'train/a66f7cb3f00788096a1eca85a3d25f6f.dicom', 'train/f5531fc47a85f864c05646b575aa6da4.dicom', 'train/4e248d1334e03a14340467c9c32a28c9.dicom', 'train/6dba75e9c35ea0a0605d32cebef33df8.dicom', 'train/95dbe923a0c3a60dd5e6d95741544f6a.dicom', 'train/d5eb8d274af69925532217b886a844f5.dicom', 'train/3eae3a6ff6d30aefbb1277bd085e7d40.dicom', 'train/ab94199ffa91eb630cab617c1f9eeb4f.dicom', 'train/e3e03f8b896c8a71ec99443eb37056e5.dicom', 'train/704866ac1af1707ccc8f12b01baa6061.dicom', 'train/5f37e1cd5cb9f4e3c7092964d231535f.dicom', 'train/2fd1957a62675f7a33332f363a5eee47.dicom', 'train/37b30239c128824dc69050c977a36f9d.dicom', 'train/783b491fab740ca52a0a960343a21ee7.dicom', 'train/718c30b7b12d757c7161209409db9129.dicom', 'train/d389a480ebc2a59e49af787777ae4da3.dicom', 'train/96ea578fa3af549ca44d812b1c706ca8.dicom', 'train/842dfb9e90500bdae7f05a7960bea6e5.dicom', 'train/d4b029f25c2cc21eece89ba4c0c47391.dicom', 'train/75d09b86312e18c02cd58bece84641a5.dicom', 'train/731ef9d269720cd26c7a404cd169270f.dicom', 'train/2f1df551f7ac8076a9659fd3be06ed29.dicom', 'train/d1b51340a52a7bb7fbd84e7d4826885c.dicom', 'train/01b386a829001d4c828f0364bc6f6c77.dicom', 'train/d4767b74d5d2d964e1c1295be0b35332.dicom', 'train/749ee7da80cd684cb032f15c74222e99.dicom', 'train/6c01faac866034bd65bf29a32ff546b7.dicom', 'train/52dc2382d75699ef76d97a6492c1aa70.dicom', 'train/0d7d65bcddfe1c4f11eb7a9a93e41553.dicom', 'train/753e7f6eb942d4b0c443e25f6891bc5e.dicom', 'train/aad1f30a823c94c878814cc0719fd8c9.dicom', 'train/36fdae8f87e1bd3d0c67a171d00e9228.dicom', 'train/3ca0b93a6f483dac9cc68317d4b6a2f4.dicom', 'train/7181aee3360ddf39eec2182ed504616c.dicom', 'train/27b120225e25b83acf1d5b4065e70ad4.dicom', 'train/2ce45265a9c780f8648b4743a79a4eda.dicom', 'train/b1163fa7306602cb9b504e671d1cf9c3.dicom', 'train/b5dd61c3c246f0bac1aee6c6eb19cfd1.dicom', 'train/212d00596b75dd1b457bfece3e472ef4.dicom', 'train/2461fd073dd309c331e3ae3346a3ce16.dicom', 'train/48b84698266fc599d647b45d912a4d83.dicom', 'train/434877e9f0dadd5685387eae6802b6b6.dicom', 'train/522272324e3698275cd165a20cc73ef5.dicom', 'train/2f5e4b1b2f5abd116845aaf114b6ae3b.dicom', 'train/2285fdbdea97d545f364520ffb377df4.dicom', 'train/534457d66cd990bf36c584c35a6992b9.dicom', 'train/efa991c978e17e62924009908f82a5e5.dicom', 'train/b738924d13eabde0d6ddf2c962a45d57.dicom', 'train/e2e1efcf8c4960044e19f0e7359bef8f.dicom', 'train/52ab4807df3cd8edb4a247f1864cba5b.dicom', 'train/a6ee5621a9d88e66da18bfeedece38be.dicom', 'train/07c3283d5a7fe6ca288c8a506a3aaa63.dicom', 'train/8937e5a920db1c3068208bcf4e760b3a.dicom', 'train/a5bcf101cd4d4928f92dace380362342.dicom', 'train/dfddba45b5006867a643f4c69aca897a.dicom', 'train/c14adc48d013465fe20b17dd638f6858.dicom', 'train/ebde66733e89c8a925cf74821f3c8e8e.dicom', 'train/f97d7eebb669eebd702c88dfccd309c2.dicom', 'train/e55b8baa577f1cfe17dc24b410c39081.dicom', 'train/8e86e117c7f528b25c4811896f0a34a7.dicom', 'train/d287636d2e248c72b4b1493196c8a5af.dicom', 'train/3cd9c2d73a9edaca01fe9adfa050b67e.dicom', 'train/b1b20466cc2db8105cea37d23e16e623.dicom', 'train/793345d6438b83984372566a5f5d4665.dicom', 'train/f3961e1d47ff9365c379334c3de32b4f.dicom', 'train/8aa166dae17a9235f7f4e4ebe46a1e1a.dicom', 'train/5a3cee40cc76fce11fa2b482f438b2a1.dicom', 'train/a3a281744c8b4e0ea2aeed5ea0a516bc.dicom', 'train/a36b3c76642c521cdc37b054a7653f1b.dicom', 'train/a1e7598d0a3885409710f1783601f384.dicom', 'train/ab7bd0e68fe8cfd49eb95c7f2976cb07.dicom', 'train/cc6966fd1c6bd9951400768ac045e4d0.dicom', 'train/73d9b34a94fc4a5cd6aa3033307963fc.dicom', 'train/4ad485966028d6eb5116ebaf4ba6e058.dicom', 'train/cb0b00ffda65f371714b0e9a568b48e5.dicom', 'train/25bc4b340c02764abad81022764dd49a.dicom', 'train/b3b26044a30bfc2c74a745bc34a2a522.dicom', 'train/4916d76625791e15ab9b05979e613db9.dicom', 'train/52db2d26b460ff8b03ac5b353ce4f336.dicom', 'train/224d19ded1a80f9f2a37eaecb397e04d.dicom', 'train/62ffc54d75519a1fea97979eb63a04b6.dicom', 'train/ca56f99228631c7169f229679e65090e.dicom', 'train/0d003f5e3007e5efa16f5f2a63afff88.dicom', 'train/d0f9edd494c9a7ef21adec0b8658bf7c.dicom', 'train/812c80ec999f3ce350e5a6ec54fb502e.dicom', 'train/55b59c0405fd804aeeac893e6c234d17.dicom', 'train/62a21236163ac9b474e87752c42143b9.dicom', 'train/b380fe0230322eae41a6936a46211842.dicom', 'train/0ae82c151ff20a3a11ad1c4e460abe0c.dicom', 'train/986931cee0783241033090ee651808fe.dicom', 'train/29dbe06c05fc4bf96b0b36c38e1dca0f.dicom', 'train/091feb28496379b627f3d36c9e158a43.dicom', 'train/27d45ed41e016088f6ba99befde6a478.dicom', 'train/eda7519b5a116fce645382396d7ed802.dicom', 'train/8c37d60ddf047bbec042438bbad3a5d7.dicom', 'train/1d14957834e1b50463d71298ff71a830.dicom', 'train/aa630d6553637dc6ea266a1a08261cd4.dicom', 'train/f43d81c1377fddceaf1c506fcca12515.dicom', 'train/c18ddb55e98a22d8334490a120a3ed15.dicom', 'train/14cd3b0fba7618a8de00de94b6037f14.dicom', 'train/84176ee09f3c96c234a5f2971473d060.dicom', 'train/e806fefb479f72c7180d5ae7950c9e24.dicom', 'train/4a4f575827e81a52dcdc3ca1e3966b85.dicom', 'train/418093d2d7036aec5b482bc757e536b1.dicom', 'train/2db229a4644430553ffe9b90db5a921e.dicom', 'train/3a0658e8a7a40726f950c69f81c1c4e1.dicom', 'train/d3f248d7a2493c25b1027abff33a282f.dicom', 'train/5e975c6eb39868db13f5985934908bab.dicom', 'train/0282d0094ca106b93da8372a74934697.dicom', 'train/6714eed1e5495cbf24cbee55b8b655c8.dicom', 'train/f191cb3760feddd680f8298201f3b297.dicom', 'train/2956fcacfe395c00912dfa69c2d907d2.dicom', 'train/1653ed790ab76fd434b5cf322c432d5e.dicom', 'train/f913bf30a3a9e830eca4806f5c4e434f.dicom', 'train/a2c7b4d7c746736610440cdda3b96647.dicom', 'train/098d9232ebd4a09e2f45a6ca3e7c32b6.dicom', 'train/d99279ec451124fec939e3b8af37a603.dicom', 'train/d4fb913ac12465c2489c6e8adf0cbc9e.dicom', 'train/12f437be5fd6f910db75108e26fdee39.dicom', 'train/76e05d3b9c6b9ad2b5c60151bbff6bfa.dicom', 'train/946f6b6a20042f69f32153bad2b2a84e.dicom', 'train/e9bde1225dc20491a7603d0064bf01ff.dicom', 'train/7b167fa761b872e2243495c1b38b501e.dicom', 'train/63c76159aedca30a4decf9e3d750f5b7.dicom', 'train/76262a15e4027e50514acd50bd8dbdaa.dicom', 'train/8c89c197e1088155f9c502087651ac95.dicom', 'train/5f4644691bd5f3ce78e75c46c29cb0fa.dicom', 'train/87d61e798a75784648ccb3b082e7602c.dicom', 'train/3fbbe67643eef4b177a4827626a4f721.dicom', 'train/bfef62474864e6dc92c707b15d9a66c5.dicom', 'train/b26d7d37941eb97b817f2fea8b25a0e7.dicom', 'train/768a8616a48fc07d60a63ac4e91c3900.dicom', 'train/bfcfd440b0eeff73de0b72785ade0124.dicom', 'train/b70ef12a33cd9b305068905258733cf2.dicom', 'train/55ac8fd683a22f93fbe70d661f55a117.dicom', 'train/b7b34dd77ba31b2a459286b538d676f9.dicom', 'train/b7491373e8c6dd2aa1986dc38928a349.dicom', 'train/2f522e6d71a808be8b4bc185d45dbc4c.dicom', 'train/3d81229bc1f3d17b21766a0bce23c9f4.dicom', 'train/0bda9ea63f1f2161e82fc2f77ec6d7db.dicom', 'train/2369191dd5bfc5aa343e9565c9157de5.dicom', 'train/5d7e142ea1bca02ced9b5dfea7785e07.dicom', 'train/c019885acffb64924e3681379804d547.dicom', 'train/9e23a43a6f8c034314fbb832ac2de8fd.dicom', 'train/7431c3870d11f2a89e54da764d954b75.dicom', 'train/ca592cad78d2776d930cdb4301de4a71.dicom', 'train/4bb7b05e735c4baf294d975b7793569f.dicom', 'train/62ece7514a15db335b261b40948ad7ab.dicom', 'train/9d16394cc7b5d4575bdbaec49c0e8c2d.dicom', 'train/d7aea4e1eda1c913239b04a217a5ab10.dicom', 'train/288c9733235ca913bdcf3e5b8c2294ad.dicom', 'train/3ee2348c8f94912c97fc9c3725a9c2a7.dicom', 'train/c9c1383c37e43fe2c87db2af0080f70a.dicom', 'train/b6e0d4b9f877b5eb895fb097af85b41c.dicom', 'train/50a90970af4545898f2f24cc7dddbcc1.dicom', 'train/5478a13aa4c5edb1bdcba3115f8ab000.dicom', 'train/605eea97d086d38f39d286104b4013ac.dicom', 'train/d0fca36e5c8a19a3a922b5d57d8e592b.dicom', 'train/3bd955a9f7d1f922a8267b4664091686.dicom', 'train/5e6bf14771a49d4d55810fd4918d4c96.dicom', 'train/7740bdefb7369a7cd4591034e8dfac7a.dicom', 'train/3ee878c9f8a9059d468a167a43cefbea.dicom', 'train/dac45a31341a01f9c219098a622cc28c.dicom', 'train/c6d3bcec6c1d4e72d67278aab03df624.dicom', 'train/a5d01c416d856833b04f1860fbfc01d9.dicom', 'train/bc17896700b33ef5febe563498a0d59b.dicom', 'train/0fa39b1c5ebb84f4f28caf8b40beafec.dicom', 'train/a7fda73f6e34acddc157e4b04343e22a.dicom', 'train/9c10fae18192dc64049757eff20b973d.dicom', 'train/32c9b1762a38363bc3ecac9dbbffcbf1.dicom', 'train/4a9077bf01ae3f5e4b441399ae98331b.dicom', 'train/7c16f2bb70c9d62603d6c6279d1dc874.dicom', 'train/60c0304c6a35d1118692f75f1f4125ad.dicom', 'train/b5f65b7c243c16289651e4e104f754e7.dicom', 'train/c1842c8e4322f8d09ef836688ea1edf3.dicom', 'train/f09d369f6a6deed1183798b60f3a3af4.dicom', 'train/d867cccc30da7ea5fcc36d8bdb6d5458.dicom', 'train/edc0693b12b16a9ca54b364952dc667d.dicom', 'train/d5543499893fdacb31c6b1622ca9086e.dicom', 'train/f27c6901f260a5fa1b5d7b912826c9f9.dicom', 'train/5eddba3e846582173fadfd1df59fab64.dicom', 'train/a62343d5a94d5804c0240ff2507bb560.dicom', 'train/a526412393cf6ed311fc3416aabe35e2.dicom', 'train/9e7e504770b424d0db3c2f7de39cd8c7.dicom', 'train/59223768a22d8a84f370b5353945833c.dicom', 'train/c2f52f5e8d5ad0fa70013a85b31108f0.dicom', 'train/3dd0897ced0bc10a1f26d69d7a9bc082.dicom', 'train/949bff3c6ded32edc5c59ca55e87bc43.dicom', 'train/a1c16f605c1ed177610db81acab99afb.dicom', 'train/c24abd1d315dc4bac35d0182c22806d3.dicom', 'train/b82679845e175fd6415233671ff77aa8.dicom', 'train/feff230e0d877c1c01802d058b90d1eb.dicom', 'train/30ac240f30407506c054f21f84701875.dicom', 'train/4f2b96917ef54f3af138554f8a826da0.dicom', 'train/0d55bd593813ae19e656a3f4afd15cd7.dicom', 'train/af9fe27caa1077d4ad44fa9687a8d070.dicom', 'train/5850c3c90a73dcacab8d3523c80f68ad.dicom', 'train/bf64e84dc6792e4c135836c9720ab83b.dicom', 'train/3033c285aad067ad130f4a84cc93b385.dicom', 'train/46042763f883a47c2a42aedfe2bbc724.dicom', 'train/2fbe53aa67dd7aa72c8c2898dfb47664.dicom', 'train/ae6e28d28969941a0dafea415c12fffb.dicom', 'train/3194338bf2ada34a49c94f2348b851d0.dicom', 'train/598e91a8b24aac1af865ace3d378601c.dicom', 'train/90d257bc8425728bf35731b2219f45d2.dicom', 'train/4956ffe4af5a3a9e4f4fb0753206c12a.dicom', 'train/d8ee7d9529529fc08fddb20bf3220856.dicom', 'train/53f4240a0430d03a80db058c54962103.dicom', 'train/f9866a8c7d2f793a867f9238c877c900.dicom', 'train/5eb3d121fd523f3884f54d125035a7a4.dicom', 'train/052b2ff22f4f6c2ee0dfdfd9afa2eb5e.dicom', 'train/050de21b590399d9a909db0021cbee69.dicom', 'train/7af3217f99f193602b5362ec21eb72e0.dicom', 'train/1ea86f48f0164a93e39f5a7cec03f063.dicom', 'train/ae6064538ea9b16291450d9e7b0cd608.dicom', 'train/20e9daaca5ac20e3f3e707368247c75a.dicom', 'train/b4935ad3af778571fb9ad1d78e7bad88.dicom', 'train/1e8f2662a7aff4a1c7f541d55e014816.dicom', 'train/280c693e78dc8176e8935fc9226a53a8.dicom', 'train/e7e3a10d20494604b3bb4b49a780d4c8.dicom', 'train/9824a88114f6cb085cbb654d81809e1d.dicom', 'train/01e426d8246a6df3895e7aefce6e0b82.dicom', 'train/b0f25aee26787302122ccf7b25f6f464.dicom', 'train/cfd0173284d483f0e83ee4691d028363.dicom', 'train/ef0978a51bcdd27804f52840ec5903cf.dicom', 'train/606624a3d515df8db2b46efaeb41fe17.dicom', 'train/382e23ae49f0ba1207c3e71332a94207.dicom', 'train/9fa7871d6b6904981c72f8a36a2235e2.dicom', 'train/f385a29a70a3cc6172af35f4b1ad24d1.dicom', 'train/59b3ae24efd05be38f09ac8b08fae1eb.dicom', 'train/4a9c71ccfc6d8b72b0ab2cb97a88e5de.dicom', 'train/48af617a32e6c0ae57c85892f48c4d47.dicom', 'train/421cf253a325ef53cb801120296b0190.dicom', 'train/7c8de90ffeec29a7cdd799232c413deb.dicom', 'train/06ec5781f1c9594970c39c76a51abe2d.dicom', 'train/bbe7805f8dfbfe633f4fb938cbdf6500.dicom', 'train/05e7f5ae00048f7ccfb5d008e7b5cba9.dicom', 'train/99bb61f2851dcdcf5714e996e63cdeab.dicom', 'train/f0b9bdabdf613a27415ed04552e88ebd.dicom', 'train/ba1c8e3054423872599cfdbe64c4e56a.dicom', 'train/b3237df5a9953b09e7b19eb37fd8a232.dicom', 'train/2c7021918e85939562b59b4a9cf60969.dicom', 'train/e0ce357d8c95037cfd554e477856ea4f.dicom', 'train/418c5bf1d57775c6bd3f4b5912e0a889.dicom', 'train/6be560d081cb2459cb644295a0430d30.dicom', 'train/7b986a10c506cec4e4ffb37b8c151a3b.dicom', 'train/6acce196900f398b58c87bf06cd62e16.dicom', 'train/8c66c76b1c76be6fcf29747441e73f14.dicom', 'train/8cd09be533094d3c47af509bc921ed4a.dicom', 'train/64b94025247367611cba608d7b718173.dicom', 'train/763f3ca8c0f891305b9f0a016dc526df.dicom', 'train/f29ad0ab13f1e656e08f9493a65664ac.dicom', 'train/bfe8c03bca13ce4453ab619d4bd13fe9.dicom', 'train/8763ac1857ed60c7484dcc8a3012328a.dicom', 'train/50776049c57f286017fcdedf7f2c2edc.dicom', 'train/8068e02ccf15e751482b67cd836a3586.dicom', 'train/042bbc31cdc373bc017677ffc5853c85.dicom', 'train/ecc136e4cd61dcf07d6090f91e8d6d97.dicom', 'train/775442158bea6cc520cc4de4059214b5.dicom', 'train/8b96a34baafed4b98524a9e942e7587a.dicom', 'train/76df139f858716fc4a5448000ff177a3.dicom', 'train/cd7b6add2e965f53a1fbfda45e088a61.dicom', 'train/033d1b561365018a36d4b800cae39a1b.dicom', 'train/80be8c78c5105fd5b92cdbb321ca8a44.dicom', 'train/f2f3797b1e010e2bff0b567451394c00.dicom', 'train/043f99626ed97dbbb2c0365671c20428.dicom', 'train/f38503adb7df4221ec1df4983b079a86.dicom', 'train/da424a48497f1adcbe3851c7f391d67b.dicom', 'train/969136b52224b0bf96833ef383dd3255.dicom', 'train/f807d4bedb3206f9418486de1d13a124.dicom', 'train/1e2cc85664938ac2f45697eaa3d2f88a.dicom', 'train/5ffea4b7479c6152c1179ce59c5dddce.dicom', 'train/c3b78f11900ebb7da7b516a0dd485b4e.dicom', 'train/56bdb47f34b148464e236a366b5a3dc8.dicom', 'train/d54b8ef69626851d6a1e9c662f922057.dicom', 'train/058805bed2eaf115d843c95e847924b7.dicom', 'train/1314c2c42f3e9d25885b78597c28f431.dicom', 'train/29ba2ea58b170a0120cf89da367ee336.dicom', 'train/aaae1fd1323e25f754819cceec875f5d.dicom', 'train/d32fdab08725a250de04b50877afa0e3.dicom', 'train/d2bdce11f80f728b3a47e3b1ef90345d.dicom', 'train/84e534f59de2d88ee4be8a50a9f0710e.dicom', 'train/82a6d9e1bfae77ebd093c8bf10e13d68.dicom', 'train/f04a3a3a37e2148b0b499dbbb255a1da.dicom', 'train/d5e2e78047bd949b8dce0d73cf970fa2.dicom', 'train/5c5860f34f927547dc826b96abad06cf.dicom', 'train/a30859ef9e4de194fc539905f05c8c32.dicom', 'train/6623fbbbfbf3b77c91ece08effb464aa.dicom', 'train/9f2b2dac9319e001cd3ed2b5f10f6632.dicom', 'train/110127b4572f47442af4d0b70aa85822.dicom', 'train/90429fa863d5f520857d0184f4b72f3c.dicom', 'train/418f6af8115b8c95206f4de15a88ebce.dicom', 'train/d5b250c62a25fd0bd761744cce6893fa.dicom', 'train/83ccefb5ed7b94b4369eb236e54ddea8.dicom', 'train/31ccee739dc5165a35b45cd14cd6285d.dicom', 'train/f5be720ae8596bb6ccb8c11091eec0ad.dicom', 'train/a7ca5c9cbc22b23ab1f7f2bed65f0fb5.dicom', 'train/137cc0c1dc10fd5e392f05b98b679d78.dicom', 'train/9107089e6a568ca6614d58a465b1564d.dicom', 'train/f32287ee1e9a85a0a87c9bdbdf5bacca.dicom', 'train/af42f3784584b0d9f16f9f6c3a0239de.dicom', 'train/ab8581d16e8d4ad2310c8090548da967.dicom', 'train/2d7aba2a41d2c1036f49a053cc183882.dicom', 'train/2c9feeafec9c8918d202930ad6ed6a28.dicom', 'train/9e06ae4b180505d9db4d90061e859ef2.dicom', 'train/056fceed18f85db63af43238a0ee9863.dicom', 'train/c19c07f77b1cc47c20061e85d080b108.dicom', 'train/c7ffe93895f370fab4a13401ab15eb5c.dicom', 'train/1e9857e11e59dfb6308f1df4745e2d05.dicom', 'train/9f1c954c40c6b2e676e0f179d0000afb.dicom', 'train/51ccf68afd23669a13c4fd5ddd72bea9.dicom', 'train/e45ae19ab046563492da8560b6d1c280.dicom', 'train/5db9f2685a4b447b603b8d57296680ec.dicom', 'train/ebdc37a54d35b810fabb3be6b68982c2.dicom', 'train/9a775ea9aa374030a06279ba6e8d6a78.dicom', 'train/637f03df0f880c6c7f37b5535448268b.dicom', 'train/760ca6b5e84c0a6189422a5ef7a2ca0e.dicom', 'train/50dbd9f1ebbf657b357d4373c38d8d16.dicom', 'train/8961ed4e62e618ba61ff07b944578b5e.dicom', 'train/d97f0f090f729ddbc67f87438996b0c9.dicom', 'train/ce2204d8d6e1a931acd2d54c8f7e03da.dicom', 'train/038dbf9a2896adb990c7393d9dca7cc3.dicom', 'train/d4c8fb9954b1e784174760ebbe8e8d71.dicom', 'train/e55c07325c52b342bc3923ce48e1c5fb.dicom', 'train/a5ccf23e51f668cfc6d713bdad422891.dicom', 'train/c61ef4b60e891fc8bf65a0f890daedc2.dicom', 'train/43b5435729f68482e966172bca17b5dd.dicom', 'train/6bdd3f3ac05727434da965339adfbf01.dicom', 'train/b3c52fdcff3be53ffd461232879dad97.dicom', 'train/8a2e8801841de80bfe63395652e6c3e8.dicom', 'train/5383631867f35ff6e2186a176b0b3020.dicom', 'train/223400c4c181932d63357a43ccc96aee.dicom', 'train/e1cf292e96945a3cc47bfec9dde22f3a.dicom', 'train/b7981586cd0ba7d3b71165210e841ce5.dicom', 'train/9b4423b747fa28f550221d672eb3c6b7.dicom', 'train/85642c6b5d8e165ecbae7be34157ba0e.dicom', 'train/cdc3156616f87eff3c5caa446166bb46.dicom', 'train/dee1cc04c74ce6f2d5ccd901c6f3ea9c.dicom', 'train/41c5829c88f93d7ef02883597e22ffc9.dicom', 'train/54700f33aad4d8aa371f7abecddded40.dicom', 'train/69fd288cc9c4a8572c5d296fd22720bd.dicom', 'train/e8083dab02e9a6d16b4e314a2463bd92.dicom', 'train/32649b4949a370f8c9159a96222cbce6.dicom', 'train/2724179ed16c5dc89be3f6febf95577b.dicom', 'train/b4656df986d702519a86459f0483e1d7.dicom', 'train/fc7940fbb80628cba56065dfcfc93614.dicom', 'train/987ef73ca9d3d0de6c5f6ff276d5667a.dicom', 'train/728431fad3dd008381a9d7156500c418.dicom', 'train/6df4dc317d4d3d83b334c0a87da314da.dicom', 'train/35393017f235cf5d51cb3fac6a831654.dicom', 'train/0ae6904661067b0e1ace63d5cdb7c967.dicom', 'train/f5c1f58d2fd291ee69606594a23bf394.dicom', 'train/28305f1601df6b0e3653d1e831b5f940.dicom', 'train/5985223a1d66b2ea9bf75da500f34c3d.dicom', 'train/9e40931c024cfa8b36310db7575e6ebf.dicom', 'train/64a4e0117feafea7f9883c8797d562be.dicom', 'train/f0a35abd7e52b692f14a8f8315f69887.dicom', 'train/51fe4231ad88cb8114e65edbb3d28be8.dicom', 'train/755344a38d12e07ba68198456e417230.dicom', 'train/02047bf392b702eca2d44a1e0ca3839d.dicom', 'train/89bc1bbb451552a6b1c69cc8ac57dd6e.dicom', 'train/487b608d8eebcef1fba3a0080830e7bb.dicom', 'train/aed967eec914381ac7674019106a5edb.dicom', 'train/4df83a392b3152d55fa13df494eec3c5.dicom', 'train/18f8104085c19d4efe88db501f72c981.dicom', 'train/2f18860bdef56e2026f51f3c00113629.dicom', 'train/3f34559df0c8504a0395c23dbc04235a.dicom', 'train/66f7a4634c5c29db06f4c484e2d91581.dicom', 'train/810a15ad33f4531a4178b8d68751ccc3.dicom', 'train/891ef788bb194855f7df3e26e0d6d7d5.dicom', 'train/6c7b80ee088a9f65adca3a8a94a2f40e.dicom', 'train/b72cf5f12acd22cac35baf7359157ce2.dicom', 'train/39529d8fdc89a32f385ea0c17a417eba.dicom', 'train/ea859329664ea0e123322aca506d0c8d.dicom', 'train/0591f984b116fe03e995b4c2b1f4d5d5.dicom', 'train/87894a52ace25c6cd5dbda761add719e.dicom', 'train/c5946212bf2d9f9e149bcf449e6381f2.dicom', 'train/7e034a67331ce29fb72cb61856fbbd6b.dicom', 'train/1ef8a7e3f1ab0c1ce2afc7b63150ea20.dicom', 'train/9c30799f45550a0292d88a6632ec8587.dicom', 'train/925507f76c457c49c54bf7164621561e.dicom', 'train/ec8957164ba16324d48a889bcc3d54a8.dicom', 'train/7cbce35c56b7eba1e6a562ae4c444923.dicom', 'train/991134f8475432913c14b7164b404770.dicom', 'train/7f2357e7915158a7887cb5390fac2602.dicom', 'train/ca9ba4db85018832c509a3948d6b28ec.dicom', 'train/bdbf1d70548e0c32e9086cbc85f198d2.dicom', 'train/eabfdb0a30fa09cb8d9d0ba534dbde08.dicom', 'train/248faef53fea309f27f2920296f14db3.dicom', 'train/88518b878c111f467ff1a84ac3438a38.dicom', 'train/3878a7d3983f7233df00668b248eb792.dicom', 'train/fa6cfaa97c740d7d828f703ab5f1dc13.dicom', 'train/2221cc2478920b5e1d7fe28f86d9ecf5.dicom', 'train/239b0a21c52290f3c0eff2e0bd2688cc.dicom', 'train/99f06764d00d5d4790cc43ce578b49c6.dicom', 'train/a183344a28ac970f2304c9bf2b51ee4f.dicom', 'train/91be92735cd15f1e52a7371ed22f9bbf.dicom', 'train/ca722fd35370582baa2ffa7566f13dc6.dicom', 'train/87da4e83a293f6fbf4a89c4ec57293ee.dicom', 'train/03c511e33d87bad7ec181bf1098c12c8.dicom', 'train/d374381fe6a7a1c7462e638a5450f72c.dicom', 'train/e5592a5b3fec50c18b8a9ef965ddfb8e.dicom', 'train/8183a2e4db9ee898ac2e573d72b42c71.dicom', 'train/9628822752b3f0510012f8b8fbdc0991.dicom', 'train/ae8f5817d102a29bcfb24afb5f5ca860.dicom', 'train/c97242061b537b960b8ac66d5661478c.dicom', 'train/2d3d72c97e7d4d54164baaa1f0dd03d1.dicom', 'train/0359a500f7d864895f5fd93c7c40e45e.dicom', 'train/22930d52304b94cc5ff125a480409a06.dicom', 'train/f10065fc5a6a5a8350e65c2ef6fd2499.dicom', 'train/21407ed43ee924ec67c3b08243e56b3b.dicom', 'train/b72214666f46b1f29daf1a66b3d9e769.dicom', 'train/32d2df88024edd4fac0ee963add34732.dicom', 'train/8261140ffb668d0dd38ff0616f598514.dicom', 'train/1ef1ae3a86cb360bb3a05158a341d509.dicom', 'train/ccbadaf74b231c37fa2b11530914b9cb.dicom', 'train/eb627a9b93e0a9f72e970a8c0134c273.dicom', 'train/91166d93935f5ae354b6b7429980b48a.dicom', 'train/f8999bf2de18e57a6b195d4191445706.dicom', 'train/2e3e192797d02c2a543e1277abb7c5dd.dicom', 'train/2f7dd55b30816834190dcf13c85e0070.dicom', 'train/388cb1625b7ef795e3ff1059ff8c1f1f.dicom', 'train/a5cbf2132e7eb0b5fdad125bcf5269e3.dicom', 'train/d7ba2d9f6eaecbdf1d43e2484e6f46d7.dicom', 'train/aa554547a46018e8fff57841c4cfbcc4.dicom', 'train/f25b5513025e723325c8faae91bff371.dicom', 'train/e629a2909a0a945dbe6b39068f7755a5.dicom', 'train/139a2340f7207702c030e7bdd9b082e3.dicom', 'train/c3406fcaa5c50bf46c7ae0908f9d774d.dicom', 'train/4585a91c24610c7ea866fa67206db8b9.dicom', 'train/81cfd78cb555521b73c34e07f0fff829.dicom', 'train/661e5e57cdcb5b97174d611b408a8fe9.dicom', 'train/cb9f442e647e535f9c71485a2a8b6c59.dicom', 'train/1b5343721c06c14e56252552c061152f.dicom', 'train/f2a3bc4b99b432a985eff367d866c4b6.dicom', 'train/c03fbe2c7668068e6925b9ac5a732dd2.dicom', 'train/b68d88c55c58d7984db5097111af3ddb.dicom', 'train/dcdf5c105b1f4bc0067cb7790cacef4c.dicom', 'train/00e898fc3a6a95d56510c5c87fdbc03a.dicom', 'train/363d74c6248fd05504751416fad1fee3.dicom', 'train/80ba809b238948efcab098dad9486866.dicom', 'train/eb57124a478bddcce4c2823fc43d03f1.dicom', 'train/22ed90c356cd8e63f821b9dacd6ce33b.dicom', 'train/d5cffe5b430f8734874cc0ea45c6a37d.dicom', 'train/14b309031b44954192f19bce07eeb4d4.dicom', 'train/6ecb0cc1fbbcd0e713f37e4cfef1a7b5.dicom', 'train/beeafdeeb84b3df47e01c5661121c2ba.dicom', 'train/b93b6fff2b29f2a3401a03c13823e933.dicom', 'train/1025f870913bf4bd5d46b0cca3b36325.dicom', 'train/401e6ec206f929e2e9a3fec581da8202.dicom', 'train/c373c5e5cbb81bad312feaffc419ad91.dicom', 'train/ec8396c85d8b4e9b05425cf756390861.dicom', 'train/4cfea1d0d63d564a348b475d450ff495.dicom', 'train/250dd3563aa52860c5f94e97838aa22b.dicom', 'train/e939326613944349992c17f07556245d.dicom', 'train/b27448c1ecc2edc087a52850905a9160.dicom', 'train/07256611732c2feae315ad78345f05a9.dicom', 'train/a499f8d5ff04dddc0a808d8cad5d38da.dicom', 'train/3c07e5602b47d56b650beb8b9954327b.dicom', 'train/b934fd98edb4bd5e576f4617fb34e55f.dicom', 'train/de1c095b36f24ae9f31de664b9912396.dicom', 'train/7484dd6a09368e547c30ba8c5251a143.dicom', 'train/1798eaf7289933fd649224e48beffb05.dicom', 'train/0f8c20c9ac4e231c4ba897584cbe19b4.dicom', 'train/1effcdd4ff23a6c3d68e11756cc281a7.dicom', 'train/89d374136e05f5848c2ab38e2d6ce2ad.dicom', 'train/5aaba94418e274bf6653063a141cdda1.dicom', 'train/da3f7668edd649e389d053d713441034.dicom', 'train/65e9e0174b07a4c6667bded7bac83f06.dicom', 'train/40e3996785a047ac85f56ca244f7beb3.dicom', 'train/c1e57b1900781a3abc8e91bcad025525.dicom', 'train/d9c9556454549324bb24a1e15a2d2278.dicom', 'train/b22808141889855f3d134c91d1358427.dicom', 'train/e86bc4fc9dfdf41f00aada8e80f3dd24.dicom', 'train/6b6092a931908059b2dedb5234266cf4.dicom', 'train/3be600c3662d9b62257047926f293439.dicom', 'train/2f17663b764618f4d5a58940542c54c6.dicom', 'train/c30afbbe079b5bf6eed6a92e62aef8d9.dicom', 'train/9822adb6089d30b0e0750a986d40d01a.dicom', 'train/dc75a5899065bf63c398ac2914febf37.dicom', 'train/5c3ca873beb7cf1692914a892a01534a.dicom', 'train/285a58ce2159e57e9ca00a9ee9ad89e4.dicom', 'train/58192fc18cec4ab44ce2ca66970edeb5.dicom', 'train/fe6c611185d2f47c4c3452506744252d.dicom', 'train/93f2b8aeba26b12d2821bb63f83c7b90.dicom', 'train/699209f39e2029c5f90831020c26d5ad.dicom', 'train/c96080034ffd5437a9f576eb3d979d58.dicom', 'train/0c94108e1ba9624fcde117009092e68d.dicom', 'train/19c1188c46bd1240ac921a884ef6ebce.dicom', 'train/c250ef46d32adcbea009a0df5b32050e.dicom', 'train/b49e69685e98b2debb1c5b306429986d.dicom', 'train/71b4a3dbf6d3f939995c32aba82aec5c.dicom', 'train/6c1d9f0f6ac8821086185204a109f600.dicom', 'train/ff76bad7ad6f33f86cfff83268989f35.dicom', 'train/b1ec8e7633dabb834fcb9ce9e88c0e34.dicom', 'train/d90d82b2b9294bd4dfe6a377140c292e.dicom', 'train/49347a3096e6ba0bd4f6673c11aaaf51.dicom', 'train/ccebde05d5ce9709a4bd1fa72fc06579.dicom', 'train/1f8d382bba389c1a4381af7d63e13b2f.dicom', 'train/a0e1d1e6dd18ad73fa2fec0efc653996.dicom', 'train/2fb667d232b78e77b62173d082cfe738.dicom', 'train/21d5bdffe5f66532b36bd735294b17dd.dicom', 'train/2dd28b942772b8b43133646b168651eb.dicom', 'train/e4f85d9e41460f2816945213095d43d1.dicom', 'train/7da613d8a3ceb6bb6797ded1c5b71b73.dicom', 'train/4d87be597f321002eb4e2b7e62b30151.dicom', 'train/eb9e17149a81c38afba4d5f2bb1aa0de.dicom', 'train/65e0ad559c16441897505b5f74d916c5.dicom', 'train/b8ca5d47fecd1c8adb0a61a1cf5ace91.dicom', 'train/6e2c6a2797af200f380dd927210c6bd8.dicom', 'train/ffc1fb41737cbc399d23c69cda1a435e.dicom', 'train/e6615cec5768111cce1e0d165749d08b.dicom', 'train/093ced13d4f5f822850e86f2bc5a3628.dicom', 'train/bdb577ab3de5cc004b5e1bbd403e6d21.dicom', 'train/b38552d29ec668b566b57f1672c98e72.dicom', 'train/7f689e179920dbfa8dd464eb8af10500.dicom', 'train/da5e3da9c97219f3617e99c4ea961305.dicom', 'train/7b16faa2f1291288cddd53e3fd5d1427.dicom', 'train/14f648750480a462105f1293aaa8992a.dicom', 'train/d71826220296524253883cf71b6b11ab.dicom', 'train/5423fd27aa4f06630620eaef15616136.dicom', 'train/f8f6861b459b28973a5484ffc6db8cea.dicom', 'train/48e4e2ee3c8b778c39749c549f717cec.dicom', 'train/818ce67bf4b7fae09bd3d25356542c2a.dicom', 'train/8d61f3a864487b3a67908314dd01d9c1.dicom', 'train/18faba419b4fd18ae2bc4f499f0943e4.dicom', 'train/188618694499bee6b401f1d3de6b7fa1.dicom', 'train/cd637872ab7823db8277cb528b6f62fa.dicom', 'train/ab46e6c35f1ef61eb608d3be0f37f849.dicom', 'train/98a6530140c422a03cf1a10c8c490ad9.dicom', 'train/51a3e02092e09f1893a59b3c1285f30a.dicom', 'train/ca928af56afe675ed9d3a3fc349be568.dicom', 'train/f1012c1aa14154662e3bc1f6820d7545.dicom', 'train/ec3527c566f7b0c05a72a248604685d3.dicom', 'train/0b70efff55d87838351e0bb41e642919.dicom', 'train/73c38ce7e24bb4499761af8ace7a6d63.dicom', 'train/c4510792c3f78cdfafe92ba1b0c976d7.dicom', 'train/21828135ff9a734a0388fdab2ab391e0.dicom', 'train/622dc1fc74c209767816b0489d7b55df.dicom', 'train/dd1bd546bc88c61343adf8f24b81a526.dicom', 'train/327c73c5c63adbfae2c9f34c82ee2def.dicom', 'train/6620685e5c2c699411dd9a867453aa80.dicom', 'train/419b04223bc511e608028eef03ea4c2d.dicom', 'train/a8428cb3c25dfeda692ab11cd0e59632.dicom', 'train/f9bf72870c10c58afeb34f19c3f01265.dicom', 'train/382af3124ab3c6ba62f0443789053363.dicom', 'train/ee7587c45fc21550226d92c36bf12a0c.dicom', 'train/e74949a0768fe1a6ab9d60750ae4d953.dicom', 'train/fe293bbd0ace8ba76cf7490cdcc28cb3.dicom', 'train/6cd0b2aea6fd12b2e94ae6a670cebff7.dicom', 'train/c4453ebb2a61a47ac54c2bee7ceb6650.dicom', 'train/17807233f2e5c347ce233ca7cfed6d54.dicom', 'train/cd3c3804e3627ac5ed64c13b9fec887c.dicom', 'train/089dcbb111193964f4bfa16774255d47.dicom', 'train/fe308f8450d7a2acf170f59db3eee1ca.dicom', 'train/1615ca54acd8e0fb5064f223f02e0831.dicom', 'train/6161b70a1f69d3c211884a66f8a8c9ee.dicom', 'train/2546a08273f8aabc37ed837f8282d4cf.dicom', 'train/5f9bbba5c710a359a151f636568958c8.dicom', 'train/2666db67b1929b4ce732bfcd6332e2c9.dicom', 'train/4e123551d443dbdfa27077381bbd3358.dicom', 'train/52d48a766b1a029e8eed923b18cc9f6b.dicom', 'train/5fc9be3ee9519ba02b75e714b3636511.dicom', 'train/93a3353b11257f6436a13d8b405aa0f4.dicom', 'train/608687e3947797c24635875677e75e50.dicom', 'train/d39e5cddb7d561b68e75e2dcd66dabb2.dicom', 'train/f79aaafb92b49e3a85f963c5657aefdb.dicom', 'train/978c2c2ba9e1ae5b7b53a1cb1f176fb5.dicom', 'train/7061cef3cc9a2af4b931916241c0f3a9.dicom', 'train/f28a594523655b3fbaf28eb5cd9035fb.dicom', 'train/1b82060f6e1a19ac5fcc9a8206e147d7.dicom', 'train/3ba11b18b30d3b5455c7927a216ab5d6.dicom', 'train/212e25e16a080586349a59a330e8d16b.dicom', 'train/710041a0187ff1ff653984cb6ee07e36.dicom', 'train/fcded0e64dab85052eb9342bb69c4f56.dicom', 'train/bbf7c9207824374845e1ef27a212d555.dicom', 'train/979817450564eac9731132a5bd819c3b.dicom', 'train/22e672468c9924623be5ff16872b8b24.dicom', 'train/ec2d3493c266461c8b6fcfab3edf563a.dicom', 'train/c923c2f2a8fced075835e1e080af2871.dicom', 'train/35154dad499bcd156650e75a762dd09d.dicom', 'train/e6923f4b87ffb36b5b1c85b989d21ec5.dicom', 'train/56a95b4d7257a947ce82f07eb6b8b33f.dicom', 'train/ecbe2ac685873e86cc87be166581c39f.dicom', 'train/473de8555845f3ec50353021914acfaf.dicom', 'train/3062b74e4be612c3baa4ae67b9618094.dicom', 'train/4c759feacf39e51bee2d606ce4ad4008.dicom', 'train/43f89870bf7e65351c49704bac70d90d.dicom', 'train/4100fcec898b1e0a7f8e7425736123d0.dicom', 'train/193e94e365b73e7a021f0da47b5b45e0.dicom', 'train/7ed7794bb313409de880446107e9f0d5.dicom', 'train/d302e8096b014f93837edf195beecb02.dicom', 'train/d9cd6cb5351e17acbcd8712e2400d8bc.dicom', 'train/e208dec58c14ac51cabb3816f815073c.dicom', 'train/4e7f008af3085cfdcec8e257a7ef806c.dicom', 'train/9959d2b56bb570afb1545a3f43df617a.dicom', 'train/ee1d559711e08ed19e44594d6bbd560f.dicom', 'train/cbb1c84cd47e1c7602af76536c988bae.dicom', 'train/e956dd16a1efe83b4cea340e5f13bb15.dicom', 'train/42838f796be883533d2145d629d9f1d8.dicom', 'train/6747be842feeddc6a5f99d139094ac8e.dicom', 'train/b5670c70198d97fc844f1013336da89d.dicom', 'train/ab05fd7fb0d1244890d97a8ea173cbfb.dicom', 'train/e044803317a642e2ae50cbde16b27774.dicom', 'train/3ffbf49d2c71ef42dd103c67aec9e936.dicom', 'train/dc9b7b93dbddf3e235b6905b9e280bb6.dicom', 'train/25dbf9bf1a066cb971225cb8ecc77f8c.dicom', 'train/3ae363cae729bfb8219a9674c685abba.dicom', 'train/9ed400d49715df7b896d3d1e8bba62bc.dicom', 'train/2d1122038d39821eedf0966ef692b055.dicom', 'train/463e5a88a3f6d5b020278f9d77349ddd.dicom', 'train/d6f7e4fab97b0618a25619a932fb7858.dicom', 'train/8c00d15ae950fcb1ea5e864984472e32.dicom', 'train/310ea60051cb9ba772c0673ffc066a38.dicom', 'train/bc951bc820029d2a819f3449976bf916.dicom', 'train/bc5439635b585603ed6aa02bf057670f.dicom', 'train/cf00f1d3dc3825ded8dc1cde6b2f4048.dicom', 'train/571a7548a98912422fc79bc2d2291ac3.dicom', 'train/307513300a558f3a714bb33536c556cb.dicom', 'train/0b431b93353fd7c21f4f0a202d41fb1a.dicom', 'train/a2aac13c9fdbc43a40d734f20ce22f6e.dicom', 'train/6d89acbd1749b97204da776105646008.dicom', 'train/f388c4ec015c27e6263ec1ba5ff1758f.dicom', 'train/868ea87d278cc501897d2ca0e18b8350.dicom', 'train/83a7f7cad581835646dbb163e9b17036.dicom', 'train/8fdd154259f6dde3e2ec4b62a8a3d228.dicom', 'train/cc36b9819d00718ba93077828e4fe6e3.dicom', 'train/e8c44fe77459d476a95b8058f0a904e5.dicom', 'train/62a157f12ef0ee716f9422a7f5b9d1c6.dicom', 'train/55e9cda758a2cd7ddd7684af6103327b.dicom', 'train/f12ea3be8ed14c93b55a69c2cfa8a7ab.dicom', 'train/fccdb56aed00fdad2794101cbe014727.dicom', 'train/e781c4b0514945f74f40d87a5dae8fbe.dicom', 'train/69c556cb5effd9acbb05d3cd9f7c1f61.dicom', 'train/c00848693b145b925b3b23f56ac0edc5.dicom', 'train/a058361800b66d4e4317cb774972c93a.dicom', 'train/bebef02d249a0730daa74c4bd5efb5e4.dicom', 'train/4f51d5dd9b2e3cc53e935285b70d75ed.dicom', 'train/ddf48979a033f2b095a6a1c949a2b768.dicom', 'train/4401b75fa941c79359f9c235ad73712a.dicom', 'train/7903610a370b03f3f01e48f01045fdb1.dicom', 'train/dc8d06873cb95e89897e081cf3ebe683.dicom', 'train/50e2c14842985bdc801885f0c3361244.dicom', 'train/8d0f1d66597a9bdc97eefe400c62c498.dicom', 'train/d4852cbdd243eef450be8598ed9c689e.dicom', 'train/60e3ad5759cf4a3ebeab389fca533eb2.dicom', 'train/2dc08c0871f2382488855315ad398066.dicom', 'train/0e2a36100c02b706cc77666b1af45c14.dicom', 'train/e30937c7b68aee7b94d27b010f4fc4b5.dicom', 'train/aa6b647417716a3f0448e3890c88f838.dicom', 'train/28d022ed74a2cafe67c2785f73a9f8eb.dicom', 'train/6f676a225582c5fdad9d7b900195eb0f.dicom', 'train/9c2ad56390c2385b505036b9c6822ae8.dicom', 'train/f36465bf2bf3c811ca329c7f15e9ac5c.dicom', 'train/7fa72ad9c02000ea85648ec7bf2a8d23.dicom', 'train/9c63b35599595112ebac673ed4984e46.dicom', 'train/ef9d6886b8f359a69455bc21505f64bf.dicom', 'train/7099141960f82cf0c04dc6317ad93f05.dicom', 'train/ff4f73bb15a830c8ef3f9256de0cce38.dicom', 'train/cd13fc6a75d373cb42f1bb01f9ef5990.dicom', 'train/91f7ebb4222354535b15e1136f9d5308.dicom', 'train/e548535bafd108deeccdb985aeb555a8.dicom', 'train/0c3a71c759a819c32c47db8076a09bca.dicom', 'train/bc9a68c98a792cb7602c3e8a05e68e53.dicom', 'train/03277f74035b74212ff549b838b39f8f.dicom', 'train/898f6c0a0699396c200605a8159b8335.dicom', 'train/e5ba6b4f35924695ea2d586828cdabc1.dicom', 'train/57437817791b5d797272c8df4c5699d7.dicom', 'train/a0c750721b6fd408d6faacfdbd43a59e.dicom', 'train/fab7da903cb6c8a71c1247f871ea99f2.dicom', 'train/3326b16bf00edd7f25e34804c5a51489.dicom', 'train/e5a957f4598f3f1b4a5e5afa47209096.dicom', 'train/7b497df3a6d6bd1188e9d6431cb094e5.dicom', 'train/3cd137e74d07601c8aca5d4c3488e3ad.dicom', 'train/19c92efa6eb86bea2ab80582c353c29a.dicom', 'train/4b3e536aa65bd217f36319d527f22aa2.dicom', 'train/9f2298e443f8a41a5f339588dd8b5714.dicom', 'train/cdf541edd3463c61857145415d3bf7b6.dicom', 'train/baf09ffa02723cec92d71da86360b436.dicom', 'train/546c936bb2031b64151f9855390548fc.dicom', 'train/25174a496bc24f8769aef9fac25b4f00.dicom', 'train/50708346695904e4a69f661540e73190.dicom', 'train/8d53993bac6cabdfdb5cd3d6d5455a2b.dicom', 'train/f948be344bd37dba49f3dbbe22f819ca.dicom', 'train/0c1680262463ca9b17e53b4ee165710d.dicom', 'train/cc9017d1e9fea683118cc613016e22d5.dicom', 'train/f1edfdba50dd9f7bad9a541d85692c60.dicom', 'train/dda0d19770d523ce0761c5ecf3f2eb90.dicom', 'train/72c44483be00da1ea5191d041cfd80cf.dicom', 'train/3b2f77a04562cd9c6786aecf59d246b2.dicom', 'train/e6a74a8eff5711b4d4b2e53d17c7787d.dicom', 'train/fbe6401031a56b90e72a8320a519ee16.dicom', 'train/664eb8d4ecebfdbc9b9f75a6e4f04916.dicom', 'train/8a08ee136e95b5a3b603e7929689bd9c.dicom', 'train/02f0dd36aceadd16101c35b53c0f0667.dicom', 'train/815f69719f0146b07d8f45f251fd11f1.dicom', 'train/f30d85ece30e7ab805161a0e3dcb968e.dicom', 'train/317bbab6f10dd8a7a05c6cec6c736b15.dicom', 'train/17ae1adfc6b086c910bc94924f45526a.dicom', 'train/c8d16790ff014b96fd2e96fb17e1b9f8.dicom', 'train/17c1218148e0188b52bab650f9d18278.dicom', 'train/4339fa497d698702c1b2e6d2b1b34c48.dicom', 'train/aef53cacf286c6052163f26c02ff9a17.dicom', 'train/614106b0fd841a238b347fa6e51e1ae9.dicom', 'train/a1010ed492a914743d3e828bdfd5af8d.dicom', 'train/29128c8b44ad2fd5ef6ef1295fc9a507.dicom', 'train/8cd099aa216ebd95e07ec1879b5b89a6.dicom', 'train/e958b674c5b8085caaacce60136a72e9.dicom', 'train/96e32129562a81a34dd27c30f12c96e7.dicom', 'train/3c7454628807e2572ba0b2573a177f04.dicom', 'train/5866598d3e19c7473d43f2a774437931.dicom', 'train/714379e77309766a6834f381f8e60b52.dicom', 'train/b4ea06804b01cfa12075893ae5a1c6ca.dicom', 'train/6f8375a2dc2b9b950ba726e685116ede.dicom', 'train/b637659753c89b4b92138d309ef1fc14.dicom', 'train/a45b2febe6ce259d0ff5a89351c7945a.dicom', 'train/37d147a97cd49b887ef4de2aeddab1f3.dicom', 'train/432c1f15ef161a811c588fa7b92f9a60.dicom', 'train/ba581c0d7f5eaad5c0ae293658d60eab.dicom', 'train/300daf2d231647f38ba820d03257c53c.dicom', 'train/ac4c199ae09343b6d3f60627f561f5b0.dicom', 'train/58f799902107f88e70cdb9444f0181e3.dicom', 'train/4da4b0df327d0b80f089fcea3bf00019.dicom', 'train/8968838c65593d1d555d6bd43f735e6a.dicom', 'train/1b655c499563430e4bce2d0112ba838e.dicom', 'train/203c722926fd37ef97047119e08d7621.dicom', 'train/8f061c0f105e191773c88b33625ba649.dicom', 'train/3d928f1453567ef8393a29de688fdac7.dicom', 'train/c88b34640d6a20b2df74e7c2416a2156.dicom', 'train/a4462e57ecab1c3a19e5848367742081.dicom', 'train/a323f465a5a2c528a383f72dd7b415f9.dicom', 'train/ae004cd969b8ed93c5b3d118c26fe231.dicom', 'train/dadbd88742b820b334a90ccc31854cf4.dicom', 'train/92118a3210b896f64791c36588dbc1b4.dicom', 'train/fd038558a8ce1dfa2045d79607cdcb8d.dicom', 'train/e2538e6191ce5093ac07bc5d30ef377d.dicom', 'train/f3ffe7529bc96814ef558c1dd845ab71.dicom', 'train/7477e5819aebfb2d663263ae88c9528e.dicom', 'train/b0f07dbc05d176a9be3565c8282b3621.dicom', 'train/b399f844d3c14a43d95935b52292627e.dicom', 'train/331247f457b8a45c95a6aff6aad8ea69.dicom', 'train/13b588b2deaabe804af6d08d9407eced.dicom', 'train/bb4d547e0737da02ddd10b29f7c5a192.dicom', 'train/90764bb59c8b0c47854809c902c344fc.dicom', 'train/04a54f373d7c4d36f13774a6ac7bcb65.dicom', 'train/7ef7f39dc09eee5023909f5d94740c2b.dicom', 'train/e1efda0eb2aef283bcd929327442c74e.dicom', 'train/6c8a9c2cb5be2df0a5b3b4232c6e9055.dicom', 'train/290014ee328f786d706b96d93769c9ef.dicom', 'train/13d8691087df095b56b901210d7b9519.dicom', 'train/bf35b7de08bbfe4e022bc62e598f4edc.dicom', 'train/988761767bdf06da6b3828ade281ce53.dicom', 'train/50621418349965e9cda7e9b90eea778c.dicom', 'train/defb58aaf7bbdf3bb3f616ebeb3e5a9d.dicom', 'train/4799265139c97ca65662178bdf6f723b.dicom', 'train/1a718d07692258b309a1c92192ca0892.dicom', 'train/051f72b99ceb0308efd7d845a57e3490.dicom', 'train/29f7d23bd462d8594e39ea16444f7aae.dicom', 'train/6c869c85894936a54a724e1969c57302.dicom', 'train/2db50143c0377c4fd89ba4a2c3420f3f.dicom', 'train/3fe956d9bb857535116e1adfe6e85ad7.dicom', 'train/685856f49e8eeb7c71553ecd17dd5b5a.dicom', 'train/8666d3ff0fe78e046d5cf716e5e1332c.dicom', 'train/fcd5ae8d7dd0c21fec072690ab4e473d.dicom', 'train/3eee44a8976f5106b0d131c516e85c4c.dicom', 'train/464858ea5549a1fdd4a712da77494944.dicom', 'train/2429aec16375094341e3b8ea4cccbd70.dicom', 'train/f3e18f5fabb5e3f7a18ab187b0d48605.dicom', 'train/0f586f62b657e803bc61793375b925cb.dicom', 'train/451bde844d4c14ee15322c9285699d34.dicom', 'train/41061640920325aeb28b53bdb6a850d2.dicom', 'train/4241cd85079553210de511b8ec6fa505.dicom', 'train/a7887fa08add6795654aa906e2c883fd.dicom', 'train/09414cc94953284a43da1824dc976653.dicom', 'train/b3660ac23fdec01c685a104d80d39dc7.dicom', 'train/c2701933c390ffc1c8830653c189a099.dicom', 'train/cd91bb5451fd33ce495e307a8943dbe7.dicom', 'train/374d2efd550a4b48ebcc622b5e6b7cc3.dicom', 'train/07fbe2ebbedab68d8ac562af7d53c88b.dicom', 'train/11a1c2b3053df51a39ea99cf13bb5b5e.dicom', 'train/6fdd3d1ab62e6e7c3962fdd9764bb2b7.dicom', 'train/8c759630588cfa205ab350dd2942d32a.dicom', 'train/fcb53cadd6dbd470a5c693faa6a45980.dicom', 'train/88c0eccea337a165a8a3a583ba79585c.dicom', 'train/f079370685513cea92a145ee5b1184c5.dicom', 'train/98dab7087499a0c8033af1d96982cd99.dicom', 'train/1b2f1bdd4f10d5b67c1992e1e8b794e3.dicom', 'train/8ebb64daafec121ea5f3974279481396.dicom', 'train/f06cbb9bbd00ac2d06c27a9683eecd7f.dicom', 'train/2f444aec26e455a1cf07f93ca7cb0022.dicom', 'train/b698af355db25d9c91d1dbbe0477cc1b.dicom', 'train/9ed1d6f860ad9b31545caec0a87f748d.dicom', 'train/8f0cc2fc0f845b7e5900a851120cc55c.dicom', 'train/79fce7723ee4257b3acf0ef0e6a6ea71.dicom', 'train/0fe67c4c77d49d44e27630e8e560dd82.dicom', 'train/99905540dca6c8ece8e07ace8362b679.dicom', 'train/b557e3d5da4803dd60f4a51889ad9c7a.dicom', 'train/8920178d0a17bd4f79a5f502c559ae3c.dicom', 'train/64d46f8e8c6ec771ffcd3c2f0ed93a2d.dicom', 'train/2c7e93c612f30a03f1dd19fa528b18fa.dicom', 'train/b09557979ca5cc42e374086f70b5ecdf.dicom', 'train/6af4445acb0bb62cacb526d685774d22.dicom', 'train/b805683aba1196550d0ed2e5ee44d0ce.dicom', 'train/1cf4f3f5077ee3e8469c83eea0932e1f.dicom', 'train/4adc0cdfa3fbd0575b458c8bc71451a9.dicom', 'train/28c6db374b59c1500011c7ae73107179.dicom', 'train/3082574292b6508e4e0fbe632d8acde2.dicom', 'train/f8a5664ecfaed2f23326a6d460266b63.dicom', 'train/aeb140507bd7c949f40ec9565d8bf395.dicom', 'train/0900784ebab5323f220a51e9f5a05bb8.dicom', 'train/1264c167b3e63b1b37bb0f659b6f8e23.dicom', 'train/5a37e9fd6c9e67f69a91e5f7e65d0473.dicom', 'train/a51486af66554d17b3621c2a6d58692f.dicom', 'train/13f376c56035043a765e004d4a3fcd09.dicom', 'train/125b98b09716634ffa5affd884f2befa.dicom', 'train/ed11d7cf40d09d2a680c6392c3ed805e.dicom', 'train/54fafae29776c62026b1e5267ecbcdc1.dicom', 'train/d4a9ad56da743e2e1cf56739740972a0.dicom', 'train/2897562c80cc34678e6a0adcf187f8d1.dicom', 'train/d03b5539453613ce53dbf414b41ea3c7.dicom', 'train/2db0cfd9c64f042974475d694480aaa0.dicom', 'train/68c3b5c637fa6a812be3ba7e6354c20c.dicom', 'train/22c923093ce1f907fe54c06379994ab6.dicom', 'train/ac80179158791c9f65d628ddd2042eac.dicom', 'train/ed87e7cbe0a45d524663593d573b649d.dicom', 'train/40e2596a3ceb63cd177ff474b9945d4c.dicom', 'train/93861402b66069da8946ad02f33e2f18.dicom', 'train/73a8d39298487377cddddc042e050d09.dicom', 'train/d412e377a70b399f73817a0d3a16da88.dicom', 'train/5d26ec7ab0450a2c83a857c5bd17a2ea.dicom', 'train/08353e27f2bc28ef0b08c8c3de1a7d5d.dicom', 'train/e0eaf8b2756a734895ae654cb727e767.dicom', 'train/7b57c670b417f9bda9bfde2c88c09ad9.dicom', 'train/6823e2f52f112a34a1f6d3bd74f961c8.dicom', 'train/dc1441c3f65adb0caaad75b7d4f0af48.dicom', 'train/aa8dac310336386f2bd88cef9666a194.dicom', 'train/0119beca31970c7d5293316a515d7ee9.dicom', 'train/1aee17fb3d8bbc0b1bdc60235f67cf66.dicom', 'train/4c8a6862e2e77805866cde68bdb499a2.dicom', 'train/8d635dee20c1716ca04e42deb14654d6.dicom', 'train/d8c47ff89d5232e3102e8a3e652184e9.dicom', 'train/ac6b61482268d5066eee23c9a3420715.dicom', 'train/52ae81dd448702c91c067f67a085af65.dicom', 'train/e47e18db1b0d4d0f447790386ad7c2a9.dicom', 'train/be31a90e49d385aa4e12c11c9a35abbc.dicom', 'train/29c5b2ab5501848d4c44b23b82bb750d.dicom', 'train/29fd554de76388e4d9e25024af234360.dicom', 'train/4b8d7d91593cde86bd8f12464e3fdcc2.dicom', 'train/1f79f5533e9ba78735172eeb88127085.dicom', 'train/e4b8634b0af58a0c9084ea889092f41e.dicom', 'train/2e3d155954e2f48645fa3c85c125546b.dicom', 'train/d84c331570c14c08876e4438007c401b.dicom', 'train/6a27ce436c5b7e9aaa47aafb466a66fc.dicom', 'train/660d505f460709195c91b5a4553bb67a.dicom', 'train/d22b70c6029843ebff15c7e0d0c4b259.dicom', 'train/0c113459d40ccb1d41f18d8b94a2770e.dicom', 'train/9bd179e0c9f0519d41c5378385351910.dicom', 'train/a3adab55aa4d6cca48e69342f0dfc531.dicom', 'train/1a551dccc1c945a95cd3c295e3ab5ffb.dicom', 'train/b3ed0f58230d744d5e8cc65d9164ac43.dicom', 'train/892da26bac24a3094f8d8783118952fd.dicom', 'train/0fea5a251553f31291d643c725f2b739.dicom', 'train/d17e8a92ead650d497d0001fb53eb057.dicom', 'train/4173dac652f9540c25cbc240c15e7cba.dicom', 'train/b83e07ef83117e9bca17403993a61320.dicom', 'train/3d86416c409945f70ec932575a1b783c.dicom', 'train/daa50a6e12ac1384066415548b806df9.dicom', 'train/c69bf9c96d120e703b9f71227869539f.dicom', 'train/c71d095c06c012b744fe989e6bcb82e1.dicom', 'train/9c70e3efc396fb67762f83cfb6f34a15.dicom', 'train/c612a6594dd041cfe20ccf85b5a5c6a9.dicom', 'train/44e87906c2506cbeae0133b6cfbe0668.dicom', 'train/4d601a20edff6f7aea9f3e3ff3c1e2cd.dicom', 'train/d50018e2b5b00a4e3d82e41db4be392b.dicom', 'train/faa483025e091dcc6a334ad86a45f402.dicom', 'train/6a74dedc0768c7599c940c0c44f5652c.dicom', 'train/8f68482426655ff19a6dd074214515c6.dicom', 'train/69910c291db0b524ee6308db6e9414fc.dicom', 'train/a13c88e2c103fd010e23829f73cdbaac.dicom', 'train/4f662879bc8d35ccadc4fddcebaa1a8b.dicom', 'train/8e17f30368fdde9f53da6c7f30c99a2d.dicom', 'train/c7d8412eea957c77467b6cae3988d663.dicom', 'train/35b2d3a9cc768be242205d3e1565bdd5.dicom', 'train/df77c7fdd48a8fbe454061d293914fb9.dicom', 'train/759d97f4c56fab5912ff8cf49ea42207.dicom', 'train/8bb48c052c55d1d439c1ea53429af2b0.dicom', 'train/d60ca696123bc623e972a1052c537741.dicom', 'train/a1348e07dcccf161de1884c6579aa15c.dicom', 'train/ce03d7ef0b8f366e7a957fb766e9e023.dicom', 'train/492fb271e7e275f74672ee57a794eb95.dicom', 'train/775ba833c44e0e49e0b1fd4ea765d2ad.dicom', 'train/6d9820eb6623986fa9d241361d15bae9.dicom', 'train/2e0ed754ee387aca4b29971fe2acaae1.dicom', 'train/87bb598b1e8d58e5226bf3c772820458.dicom', 'train/627f9c8e7c0288f6acd8d3ed83f7f8f3.dicom', 'train/8bce214b56c920fd294cf2189594af77.dicom', 'train/cdf2b5ea803d45b48c74765ccaddafda.dicom', 'train/e4d9b0e1dbd6198c796733f7b32a4889.dicom', 'train/3ff92def426436f5b188b6bad3e9f797.dicom', 'train/0cf3b51a1560ff9332e008ad024e5b88.dicom', 'train/685080cba63f9cb880e11a0d2c31cc4a.dicom', 'train/d9ca3cd89c5b0b96fe5a5c0c437854be.dicom', 'train/d08a57f8d9e39cdb7775e1ca0e617c9d.dicom', 'train/80710f5c4a9097a61b02867f7c64209a.dicom', 'train/5904982aa394a55d432605fbac0dcba2.dicom', 'train/f3a7a50cf2c3466fb4ecba07020e1639.dicom', 'train/667ef4efa4792d53bc90f82817cca3ad.dicom', 'train/ea9c9a854a5889f566a05179f9886d41.dicom', 'train/631c6902ed01d0e865faeb572a491605.dicom', 'train/58e52bdcb6b3fd5f05fe074292b56db3.dicom', 'train/2e27ec29b28a8b4c41d3fa85eb98947d.dicom', 'train/7de943669dde6f224c6770a8c2b87cf1.dicom', 'train/03f2f9897cec3c951c72429b395f37f7.dicom', 'train/00b818c3d77ae34a189558fdfc798006.dicom', 'train/833b58959cec3e33a788f5783a021e65.dicom', 'train/5e27f54534507de9eb54c3a89b0947c5.dicom', 'train/04d1a42ece7be03485942159be559228.dicom', 'train/940693c33f6f77abd24b50817d06ae58.dicom', 'train/24d98e8f29fadea12a99ec0cf0d19eeb.dicom', 'train/1045db363b6cd800bc982d54702ce9c9.dicom', 'train/e4136a66a84c8501cfa03a51fa308cf8.dicom', 'train/b43aa499516dcb28c4eac0ce1d20acd7.dicom', 'train/e89d4eeefd98d3d746b17f09f163ae3b.dicom', 'train/c0426196c62fa77e04f15fbbba34a3ba.dicom', 'train/6218e3540c6c8d9ba803e5b3a0f1d18e.dicom', 'train/898b7862c9925b4783c6b35e00c16705.dicom', 'train/6d89edfd44e05c2b0848caa31d0f4c35.dicom', 'train/92bdb3742df86baf77d587fcd20a9e1a.dicom', 'train/8efe8d1c0633ac144437e8eefc5a0039.dicom', 'train/863f74acccd0a6f4b4d872db99cb6992.dicom', 'train/64c3b731f9e3a48ef62cb310c85e30c3.dicom', 'train/849b0091a4eb02b7ff7444c5ff411654.dicom', 'train/2472d4306307fa1b1fe82c2a4d15a39b.dicom', 'train/e743a2d3328b1510fcb60ea54e5723a1.dicom', 'train/37c812dd8033bb8c55a9aedb44f2b005.dicom', 'train/36550f4711ca1b0a0cd7860cc1c8cca6.dicom', 'train/ab0a4cb064846f5423317a03953f023a.dicom', 'train/08a364529790e3ca72376353ae64fb7a.dicom', 'train/b7725161f0007037bc1065beb3485bbc.dicom', 'train/ba082c74e6a8134b109e8141fc777b8a.dicom', 'train/0c8cc43b837e714177323e74969cd787.dicom', 'train/2d1da6825bc47ce57be0d50892fc7a02.dicom', 'train/11a13cef96e32dc407abbc72a6a16fca.dicom', 'train/8c41f1425ae9df72a5ce1bb8df55abff.dicom', 'train/08e3123dbb0d846e20eb22eaddc61b2c.dicom', 'train/8282fa678fd660a25f5995ccc532c809.dicom', 'train/1f6b30727a195d63ce68a1943aac25f7.dicom', 'train/8f4ed45f6f9fcd25c22f0bf2d414495d.dicom', 'train/031f3b78afcbd05c8034798ef06fa2b2.dicom', 'train/c1923b40ef3a41ecc491d84b16054bda.dicom', 'train/8380094648a614c03abd7f26d656fe75.dicom', 'train/dcdd62dd12a596077c5ec6dd2b146462.dicom', 'train/079df7b5cc2619db2da3285aa2732fa0.dicom', 'train/dc2a13ac93e817ee850b1f1ff485aa46.dicom', 'train/6c89f652a3fc32fe2438bbb20c1de1f3.dicom', 'train/97def3994bd3686c1e7d9f52baf0ea0c.dicom', 'train/d1c9da8755a02b7119c5c6f4c28e384f.dicom', 'train/a35abf185c6c2e687cd3b667556aedb7.dicom', 'train/9601932d82e4c56014e311537a1a4226.dicom', 'train/7fca0acaa308bcb0d0187baf7454bb33.dicom', 'train/e32e3cba8086351350a8269950c5fa74.dicom', 'train/f08a3c262cdd90e4705d94bc4e1c8cbd.dicom', 'train/d8e5ccd7578f83ead3a55d57db21a427.dicom', 'train/5868ad1be09fca7017c77044fb65400a.dicom', 'train/8be5b1d30845e41cd5ca0ff8e38d4fe1.dicom', 'train/3e88e456ed79552e98980e0ffac61fbd.dicom', 'train/0d675d508bef51b4774b18c966236a57.dicom', 'train/47da15c03b0a8adc52b5ee68cd03137d.dicom', 'train/0d81f56bffa5f2c1072c2609bcf1c573.dicom', 'train/809b9524f2c16e4fa5d39f1b05b693f2.dicom', 'train/9626418ecf8a0e529ebd7ba7ced99b27.dicom', 'train/d0c30c8311985c72c1976268cf2732c0.dicom', 'train/fc454af393249eea37720ffd471063bb.dicom', 'train/afbc4be5be9b43326786b72875ead199.dicom', 'train/3284616a8d8e4fdde99ecc8d2aadc116.dicom', 'train/d274495d902d54799d7ba20737fb95d0.dicom', 'train/f4efca2ece6a21cb99c3f61c17d01fe4.dicom', 'train/7fc25c7b37b55a386da3144786796cf2.dicom', 'train/98e52397bfc1b3fb9aac422176e71906.dicom', 'train/82e879d571464b368fc832760e3dc169.dicom', 'train/f03016415d6765b1845956514043065a.dicom', 'train/4602d70871f1eb00e8240d9e775f3edb.dicom', 'train/c9b0bcd8d40c9ec881c8dd8a2b0949ba.dicom', 'train/a7cc1efad02d8fab51cded54f6575b26.dicom', 'train/121823f8c1367f4f23e1ff625df33e32.dicom', 'train/cdbf30fe59012d565042ae24477c4a4f.dicom', 'train/421809958ca4a85a296dc34e556e8991.dicom', 'train/9238a8f062bfce095449efee50328519.dicom', 'train/db949e9a5b85de3973f6a9f1733b9b54.dicom', 'train/8c2f020e3c714f36adbc2b4a1cfa9e3b.dicom', 'train/0c74b43b7f9924159f6ba7a22af3e2f6.dicom', 'train/f4c315b06dab3b0be23017d2ae3a77f4.dicom', 'train/d194f1adc5b734d557929f9f1031883e.dicom', 'train/afe56a7a299a3812a13e57984eec30aa.dicom', 'train/f332e5143c3b33356adc2a047a2735ca.dicom', 'train/cc28d589267320e002e641f6db726cd1.dicom', 'train/dc58843ed243b37e467d0b651ee4e2bd.dicom', 'train/cacf6aa1cb7a1218aa23759f8c813962.dicom', 'train/337a590020f9f4b74d9ff2d80864b34b.dicom', 'train/43060855d5b15c3343525928252b1f73.dicom', 'train/7ad4069ee7dd0eb1662c1ef0fbe2051c.dicom', 'train/8b29900618bbe78d63682422d47f3c35.dicom', 'train/e05a65102cf1a35a338c1b48f7f9c5d4.dicom', 'train/b172348172eec9f9dad25b89dfb9a88a.dicom', 'train/159900c6749f8661f0fcf16efb5d5b5d.dicom', 'train/bed8136511ba3b56c3aad10220f575ee.dicom', 'train/5d4a402de53cba65bead6720a6dd7d8c.dicom', 'train/798c7a8dc7a3040cd6a10a39ca0decd3.dicom', 'train/80a8121e48984a4b9e191e74df4cc140.dicom', 'train/10a9d1fd0bab8ea3ba5fb4076d4110b2.dicom', 'train/01b9c6193cfd9c247cad1b843a95aca7.dicom', 'train/67edb23676974454b0acb0111d78a717.dicom', 'train/7864c17a6475422e7f1357931e411419.dicom', 'train/a98cb62b084eaec4c60fa7220cd7d826.dicom', 'train/78784e7c15207d5bc39ff2cac77e7b89.dicom', 'train/8132b1a02c265bc04a10d7f7584f3a6e.dicom', 'train/e470c4f903f03bd3a9fdfa8c42c3207b.dicom', 'train/cd6efc9627b3631f1a6d005078ee8571.dicom', 'train/daba115091f42a66d300278fc4021527.dicom', 'train/b1f64510236828c89322bf27adfb7905.dicom', 'train/c07ead5abb3e41cfb83b83627b80ab84.dicom', 'train/cb9d6bd56e3581c032bce13f2627dead.dicom', 'train/8c62f43ae96b592190c8a0bec10ee7a9.dicom', 'train/c35c32743bbc73b9247ff96cf9d7b86e.dicom', 'train/72cf5c3a5b673fdc389cc64e8fa9fdf8.dicom', 'train/24b5d5fc863475235cf4d3fff9a8a00c.dicom', 'train/220ffaeebae9a99e13f7aa259b15a26d.dicom', 'train/85afff48c74ef346aa8bda6400e1e12d.dicom', 'train/6095cb11aae7c3427c82476b71215d59.dicom', 'train/690340873459d9799dc27bab3ecc7500.dicom', 'train/93235fc1296a667f07d8c42ec9bd1d83.dicom', 'train/43f393afcd14bd98ddb12cbf267134b3.dicom', 'train/6f410e2d544b6b705f528af1cb4fd9bd.dicom', 'train/32e8f19517c87d20611cd50d0f003f7d.dicom', 'train/7f15bcef3c086c0e518e6d3fd600103e.dicom', 'train/0da1b548e17aba8c9f8a408728108f24.dicom', 'train/82fee94d605814eb279b24c484394a53.dicom', 'train/9135e0c35934acffd4b9b792d6835f95.dicom', 'train/9e5bbb9c984fca705820cb6295a6a0ea.dicom', 'train/9e8f15950e938b6f30c5f36b07335ea2.dicom', 'train/417541eb91af598d32cdc30d749dd0df.dicom', 'train/94c16471ff0ac4f738ad00d409215f8b.dicom', 'train/4a6a3ad74c66ca4c127155c863aa5c6b.dicom', 'train/5c7e42328295638914560ced47f6ce7b.dicom', 'train/7f8ddfbca1281e7bd6c6087181cf86dd.dicom', 'train/fb2efe7b6c0f40b4f75d5f104988bb4b.dicom', 'train/293778bb183559f9b0a3d190824f6f6c.dicom', 'train/7672de86fc99a56da2f138196f0a43a3.dicom', 'train/59a9073fda248b6b3393df45c7025e7e.dicom', 'train/efef8f91ee2e835fc148efbfcbe82fdd.dicom', 'train/b6ef4bdf4e7268d5ba4bfcfbb041c73b.dicom', 'train/bf1b323c828d3d80c00717e089974315.dicom', 'train/2710dc474d829eaf4121c0d0b72c318a.dicom', 'train/9c2b037c3f1347301d346b168d9bdad1.dicom', 'train/f3e0738ad0643fa8176b7a8005dd425c.dicom', 'train/d545bce404905a26686404c88fd66250.dicom', 'train/429022c4887424da3d23852bec1a3fd3.dicom', 'train/26d52aea9c44d85370a3df7bca0502ad.dicom', 'train/f24d80439c85b934de72fa96855f284b.dicom', 'train/864b54463e0a53d98ad4c09d569e17e7.dicom', 'train/6feadb824950a7b09af3eb8db29e53be.dicom', 'train/37efd124615e7890d7e1771ab3177d32.dicom', 'train/7c9d3f83e8e5ce8d8cd933d087b75368.dicom', 'train/d3bf5a685372c3312ed1cdbb4e3c74ba.dicom', 'train/ebf89800f37399f116029ef6c16d1389.dicom', 'train/b4e813c51a95a183fe8da98c53c7de37.dicom', 'train/ce03c7ead4c9b546c4d00a8796c1faae.dicom', 'train/2761b74d12d978ab22c20b63553769a9.dicom', 'train/c499de064eba1bf3d4a1f86546fe668f.dicom', 'train/188695569b3ebb3025c5c09bb4e29e12.dicom', 'train/0d1c0ebcbd1f45871347a9fa7545fbf2.dicom', 'train/8db60cf84589cbfd40d0250fa95209a9.dicom', 'train/62c5f72988ba3ad0cb2b418aae7dc24c.dicom', 'train/52fd92b6f8fee8325761a8769b36a2fb.dicom', 'train/d6b489f94fab91f3a68a61dff7c35a3d.dicom', 'train/b3bafc59a9718625486eda9f83a1d6f3.dicom', 'train/8ddb05b575c86bc8d69eda5bb427d6a0.dicom', 'train/49027b541e627dfcaefa314581c0bb8c.dicom', 'train/5c7366153f54f650a2f7541a0f6288f4.dicom', 'train/b0b2ddeba7e8fa6943ed2034c874a722.dicom', 'train/842087f8eb60d9663e4f5662ae960c17.dicom', 'train/4258ef1d63b151a98fb2393d4dc2efa2.dicom', 'train/4b06fe831726744139959f948f6e53de.dicom', 'train/84103326dd7cf6cf3c89e4e3faea5c3a.dicom', 'train/e4ca17dba5c1cb044f6e39d9cea42d40.dicom', 'train/2870818b1b294fef51ce700b5d8d807b.dicom', 'train/efff244af835cdd4d3e05dd9c85033ac.dicom', 'train/5b08fa5fc34f044d9ef158fa15281e6a.dicom', 'train/746f2d1c5db9e076298eed4a9f2b92bb.dicom', 'train/2a62b8ca6aaaded156a2680cae609493.dicom', 'train/2efbd3ec146feed1a25159725cffadfc.dicom', 'train/a8f9d843568ec730ee240452cf7fa65c.dicom', 'train/56b0555acf7c75bf035e5c0864b078c8.dicom', 'train/e95e5ae5400b0dc5420a63b7750636d3.dicom', 'train/f430cf47a9852d3ee809a7776f84a228.dicom', 'train/c72ea9a7fb13049dfeb3c7ca82fd04df.dicom', 'train/41f7b8105e4f67bc6b2a2a1f1e9ae7ba.dicom', 'train/c9fb0b31c75e95e0512325a8764be14a.dicom', 'train/615599e95a442f9849311aaedd82ef26.dicom', 'train/e5faf337f0808bfd36a534de1bf20204.dicom', 'train/0bc6c6e5aac85778cc5e04f62a7c9acd.dicom', 'train/0eda26d2efd585c8b4b6b7dfdb223636.dicom', 'train/a8e7294a0fc49c4f8dc032f4c5ccbcc8.dicom', 'train/8a9027db42056b56e398630d5b64fe2f.dicom', 'train/8e246fdb21e638fedd6368bc0332c194.dicom', 'train/5f5da801f6dd3bd81a7428c94412adca.dicom', 'train/c15b5a1e19a5731bc8bbce1a46816f72.dicom', 'train/ad2632a141b68369db68476dec8b0931.dicom', 'train/cce06586f381fa9dbcda99606a03d176.dicom', 'train/6f0cae9e1914e29f1f8fadd932a3d846.dicom', 'train/1ba9781fbf6379e1d91c9cac248df1b0.dicom', 'train/189cd7ff172af34f678dd165769f0f22.dicom', 'train/d6f28af9020a3ee0160dd9b883432136.dicom', 'train/51f935f9e1853e038b8e396a033b1542.dicom', 'train/c5634c4bcfb819ec354472aeaa850a16.dicom', 'train/6a6ac86ad27cfd3123db2295309befbb.dicom', 'train/44e1786b6c7530dbe8a9fdf174b7ee32.dicom', 'train/7b01c8cc82c5cbb5cc22d2ace4b7ceb1.dicom', 'train/24407ad5ee6de4ce575d30f3f42dbdf9.dicom', 'train/40ad22ca886a4c4bda1f17c9287aef42.dicom', 'train/2ecf5ee44989a0327067a37dbd4e6eb8.dicom', 'train/b58cb73c61cb19d5d95c9266567c4374.dicom', 'train/40c96339d885edae7b645c3c639e597f.dicom', 'train/d8d1ecea3d92d96cdbaa2c94cb8eedb4.dicom', 'train/c3e01c85d3476389199da4545acdb205.dicom', 'train/a8ccd623089a77d63fae8681b42b0afa.dicom', 'train/e0350df4f3edcdfb0200c7fde3be34cf.dicom', 'train/794410b1c4c3f010044a709939cb4b24.dicom', 'train/f4ea4250f38f154dff44e5ebc755c8b7.dicom', 'train/97b23c36c52aca86cda1192a4ac149db.dicom', 'train/8a013c89dbbda71e03f1e99b7affebab.dicom', 'train/2c64ad196e40becf5d2a080853e4196f.dicom', 'train/87387a0aa9adae27898b8f75411376e8.dicom', 'train/d2bbc442315f6d798dc06af2b1e70f79.dicom', 'train/667aa6069ea43b0e9fd1997b7442cac7.dicom', 'train/0de80b64593160fa8afe1557e848986f.dicom', 'train/d50ca72feeb7d78cc6e838fa84fcc0ed.dicom', 'train/1a1944e2f48e688a2a3ee9f2b24c503b.dicom', 'train/52b474af91248f4a70a24e6bbf39b45a.dicom', 'train/83576bf47d678ed939592ba2fa37f2ef.dicom', 'train/b95776e2ba6ae737650bba2db96c3599.dicom', 'train/594739277976af2a18c09a419e6e9b10.dicom', 'train/75e545f964c3699bec0a0f1c2b78a576.dicom', 'train/51f03cb9e6c863f15d6b2e24c8ecc98c.dicom', 'train/5b388bb1d925eec6dfad2bd272e80844.dicom', 'train/c47e7b0e5b82f38b096be6c86f578983.dicom', 'train/170aca3b5bc213ea5858e8c51699a680.dicom', 'train/85bd0957a62dfc3d3fface28b9c448f4.dicom', 'train/db728c3edbc06febbebee535b0230bca.dicom', 'train/8b694f31a69092944f798e02ac1a9e2b.dicom', 'train/9dc3c2f04b5d41b55817d70c798e80a5.dicom', 'train/009a3dd54bcfb144d12d29a3fb859582.dicom', 'train/014c0f6ffe36e32639726302f7ef3990.dicom', 'train/367ae801294082844dfd5862404d93e5.dicom', 'train/2c236a9cee1c324ff1184358c027f9d4.dicom', 'train/eacf0835746823542d9c78657ecd3900.dicom', 'train/3d4583ec84fe7320fedb4de9c71c6925.dicom', 'train/57c3f0189c545b2ef38d7213cc9bc4b3.dicom', 'train/01e1af657d2f490a08ba32793863e482.dicom', 'train/bf86cdfaf1468a135d546a6d34385b6a.dicom', 'train/6350f9e9c0fb7b380e293023cfbdea31.dicom', 'train/78054b76069713f738b95153245fdc3d.dicom', 'train/097424227f49366a3037d551327af18f.dicom', 'train/026a1ae71a7498c8837e1bef43961e94.dicom', 'train/e7ee7ed2fea264b680059f11bd837026.dicom', 'train/aa64fb1560718ed55c1de9a30e326133.dicom', 'train/e4e8bc3408fb3eb71498c5ad44c2b988.dicom', 'train/9c7fb0185a47aeba8b8616ad9b77482c.dicom', 'train/c3b375aef01172d64ce5836166c23053.dicom', 'train/b9aab00e9452566dcf2c6329b75fcb52.dicom', 'train/b9dfb000c35a59f379973d0d99d9a72d.dicom', 'train/9bcee82517b926edd5448ac941c24fe7.dicom', 'train/65704c9772296c423b5aa70752e114fb.dicom', 'train/729bbaab04bc73194b88ccd42fb0baba.dicom', 'train/55af4fb7ec08e073253519d6a55e14a4.dicom', 'train/f0ab04e7a2d4857759c57e455f8e8845.dicom', 'train/b7ad430c6e5b52072cc5a01e3f96dc4c.dicom', 'train/4c3794c19a4e2177fae8fb9af1fa39b9.dicom', 'train/e300562d4de0cf2733ba306fb92f854a.dicom', 'train/c843b17810af4d2a5731179d3d3414ee.dicom', 'train/9bfae1f53b81e325e44a180ce5f31966.dicom', 'train/e809180113276bc886f97fd4f250beb8.dicom', 'train/ffeb05a2947bc74e573606a5eecf03fb.dicom', 'train/202011a249aaf982cd0b5e6484e53e1c.dicom', 'train/e4ba1d816effe4f21ae54417cc26d4a3.dicom', 'train/0e99057061e48222743b0ab31f9904c4.dicom', 'train/3d4e09160b934195961e1592bfc8cd9a.dicom', 'train/2dfbf28e0dc3124e6b420536f693902b.dicom', 'train/87ed1e378bffc8db217e5740e0cd0d46.dicom', 'train/0da43179a4a4d578d8a06d93358ab52b.dicom', 'train/74866372493e91f207bcda36b2a80c1b.dicom', 'train/5c8536cb9f54599474e3d03d974843c1.dicom', 'train/b47ca388b526328fa536d51b5a16bb20.dicom', 'train/6cd20d2e0e8110b594c389cf4d47fd85.dicom', 'train/ca3b44e34973949e5a8676befacbea11.dicom', 'train/3c1cc0d04ea65e6443215b09315538e4.dicom', 'train/60120fec272ade6d496f52c0930a2ecd.dicom', 'train/3bb70e0b7f0d6054a466197114a8403d.dicom', 'train/bc4543ebed5aeb3d46bc39c33cba4d4e.dicom', 'train/52f7581d62c3acd95546b61561350549.dicom', 'train/43fcea7ba35ad56a4c51dd576dd5bd2d.dicom', 'train/937f962411d91b47d09c2d098ed50cf9.dicom', 'train/f34df0b2820e31625bd5dea6fc52a0ac.dicom', 'train/865cc3c4f652db6be2de14f17dd3d9f6.dicom', 'train/8ab73c24b8452cf8085e27e0beb38f52.dicom', 'train/64ac9fda7343aed505e41f1796ace655.dicom', 'train/ae92e223e694fd35e994e2d208752282.dicom', 'train/94cc193f22250f7a908a569192c93abe.dicom', 'train/682dc66e5e9933b62699a6d2527f1a12.dicom', 'train/89b7fc98f145a0f56e0719199fb65c57.dicom', 'train/f125be59968dd08e6cb393f5b7c50edd.dicom', 'train/34abfb7a1b63d44274a86f419910369b.dicom', 'train/e77a6993731f2671f0f8d532845bdcd1.dicom', 'train/3fb84055f7424c79dcc7de35c086d02c.dicom', 'train/8344922c5016a8029189ff22869c57b6.dicom', 'train/c4185aa14dc57c14b26db7e01d7b5182.dicom', 'train/afd71ca203b9bec4700f7700bdd1f7ad.dicom', 'train/e94683c34ab6af7f24008c97a0d08038.dicom', 'train/88979771004e4c5b189433eab4edca19.dicom', 'train/9546374ef593de84b449136d4bfb3a11.dicom', 'train/4ad10f1b21fb23d7f9c869ee830871b1.dicom', 'train/dc62381a525f4208f5c49b646d45fdf2.dicom', 'train/e174c15ea470264995a49e6b0adcb833.dicom', 'train/b7b609c57c191474379f2d0f12417657.dicom', 'train/f7c8b9d7727b216df09a93d0c9d3c504.dicom', 'train/feb4cf5865f7668c33eabe3fcde6b1a9.dicom', 'train/f85b552e6e495c8bb022e9564a3f41f4.dicom', 'train/9a32bf8a854b4f2ce55d3d90f6d9dc0b.dicom', 'train/683d46927cb510829511a5279f87da40.dicom', 'train/14bec2f52aac8bd051b551b4fc9c3f72.dicom', 'train/6ed64dcbdc2fd3d21ca2838417f44185.dicom', 'train/7d7dfa287f0bce5c2908ae9f74c224b8.dicom', 'train/8110f2dfddf1933931648668538bac76.dicom', 'train/6bfac722cab40ad0c2b863655178def7.dicom', 'train/da60114e62ba64abd0f2b3a7b9488c59.dicom', 'train/04c4dfa1d44ba1487534e42ac084130f.dicom', 'train/8e2618b55060106c3ddfddc4317395ee.dicom', 'train/1d4842d599ec1a47ce37e8feeaf5a179.dicom', 'train/ad7d93c122444608f518271121468eb7.dicom', 'train/e5ad98e72b2d4ecefa75c2b5c758578c.dicom', 'train/48a62338695a40a664938d37caad14bc.dicom', 'train/7aeeff1332f5c0b25efd91fcb7513129.dicom', 'train/44b70df59381530a6f10e1ddd88d74f7.dicom', 'train/45031ad9021c07aeaaee3114abf1870e.dicom', 'train/a810f3cb51491760b00f19af8aac2476.dicom', 'train/78639c96e6f23f28ea03c1f39f970866.dicom', 'train/3b241318da2aaa56ec3c588277b387a7.dicom', 'train/99a7bac5d7075444d3910b6dee8db216.dicom', 'train/a92c508a6fd3a415a75e08802d732d57.dicom', 'train/ad8900fa21bc229d2d73de1f93004f71.dicom', 'train/66158e282442070a401f3d8d9a56d3bc.dicom', 'train/690cc6a542ad4a57668889dc567e6887.dicom', 'train/dd723afc635241f3484e5563090d5728.dicom', 'train/5d8a2e42a7bb0ef57c1be2a8c0426112.dicom', 'train/14386236ba4d4d66100d07018dee8db9.dicom', 'train/55b24ca0052cbeee7f64c722342c52b0.dicom', 'train/5c387b6d00a79d28dcbd7e41aeef380d.dicom', 'train/0792f3fcff5ee1c2959459d75bbdd99f.dicom', 'train/b3321dce2a2af044b87d89e20b8732c1.dicom', 'train/d8618dec9236bed105e12d1eff6cd4e9.dicom', 'train/7c8b48f6f20c789bf50b8d844debe7d5.dicom', 'train/9b4391bccd2a2cc95d6d016c616a1033.dicom', 'train/dbc50073afa249020cfe22386eb37f1e.dicom', 'train/082e831b5868bbd458e846d0ee753afa.dicom', 'train/ff9bfa5a7e1fae28973384f4726ec605.dicom', 'train/7167aa8cb333c5367cc07ede6c104bc4.dicom', 'train/6ca40ab676f8087292375a66289a2cf0.dicom', 'train/ca27d92fcaccadc11c9a5674e2e9a82e.dicom', 'train/d6498a39525d1570ab0398b360723e5f.dicom', 'train/6e0e6a4a9a343bcd57c4465e4c9199eb.dicom', 'train/4aa45e78cb0b3595dec06847a8a6cf2b.dicom', 'train/dd882fbf840f66aba9eb701487514a87.dicom', 'train/4bdc80668af2b6772b8a72011b02afae.dicom', 'train/2c480c60eadc77123ae01cc677ebc93d.dicom', 'train/a5a8387c5ec210fe4823427a8a33b796.dicom', 'train/e3359e645cc729a1e903916c48892aed.dicom', 'train/f602ae6ad30db926fe7c0afebf133e6c.dicom', 'train/388fc64b24c347d3fdbc92f17b96d93a.dicom', 'train/c49e9ba5003cd14234c08584d08930ff.dicom', 'train/8fe95a194f513939e1b7552ea495e7ce.dicom', 'train/dbdaeaa9aa69f7b5ae320190665269c6.dicom', 'train/2f60b9f6c476642f79ab4a9532f84fef.dicom', 'train/ea7c150a967b1093c9680b0c42b68fe8.dicom', 'train/0dd7a9d94bd0661ae1d1bc07af992afd.dicom', 'train/ada34abe622e109da8449cb776415a6d.dicom', 'train/74db944504f7150cf06357b551ea97b6.dicom', 'train/90f901eef89d81048928f0475bcceff8.dicom', 'train/8759bb4a7117b62efdba5e06d1567e14.dicom', 'train/892219ad0bb893ee5269e8df732a8e9b.dicom', 'train/32e70db9a51b36f52c0d19a404fff25d.dicom', 'train/ac46fec0c466e273f1393274b5748b94.dicom', 'train/0db1e66f4ceb0ee6c054afa72e214e86.dicom', 'train/39bc3cf57d51408a691d37d741b044b0.dicom', 'train/331f44abc2e6ed799e506b07c7650943.dicom', 'train/843fcf6ae5f4b3c658e423db5d2140df.dicom', 'train/172323003b48eba5cf36cd90dde98304.dicom', 'train/058b4211a0810de1d1cf626cd6400f13.dicom', 'train/ed2f284d0ecebc4125ce3e727a46a596.dicom', 'train/a5d39e346d9986f9931adddbfd1b1144.dicom', 'train/e7ebd2b327975ff6df28d114e04bc3cf.dicom', 'train/8a74230ad2d281a3afb0e838443eca57.dicom', 'train/96230c34f0dffc0cacc11daa8a823dbc.dicom', 'train/bd836ff322e27d03c1a411b57e1f7628.dicom', 'train/355fdbff87d27ed91ff91c68d73d9eeb.dicom', 'train/b57a3e78f037596255188239fd81a39a.dicom', 'train/9ed05209799b102b72fc090c81de9313.dicom', 'train/55ef351c296fdb45c0676bc88eeec0e7.dicom', 'train/a89c4d207272d1bd3bfb905f82594656.dicom', 'train/64f852be8b10fe81c34a70c22f7f3469.dicom', 'train/b61e111b6f06e0b728fd8468ec53dabd.dicom', 'train/a75ade744c284e8dd6396c3a4cb57f46.dicom', 'train/b15f696a539018c5be927f497cd674a4.dicom', 'train/28d07f27bfb473102c04741bd24d9016.dicom', 'train/d551b439b43e1a338f094724049ca7e3.dicom', 'train/8e8e708d8bfd5e708641c9c03cc945f5.dicom', 'train/20500c17ae56fbf6f457aff552948849.dicom', 'train/f3c9690e0c310b8b0c886152810c5181.dicom', 'train/cf83746b08ddb811103d1cf10279e4ec.dicom', 'train/2aec8e9a8bbfe13c0f17367c7ef82294.dicom', 'train/f7fb289d1435e074b1d4760c647b587c.dicom', 'train/ef75447094b9999b04d029efc21d5568.dicom', 'train/7a33ea6664117b74a32cd4e8bd2c9a54.dicom', 'train/bfe70fa8b638d35718ff900184554b5e.dicom', 'train/64c4e4dd0cc244fa59c7bb3799df8581.dicom', 'train/9fcb21579c31e6ca84c2383d3af9f37e.dicom', 'train/ac60459009bc00cbe869918b76eb1bf7.dicom', 'train/4c9089f39d272d9eda49d3c2bf135eae.dicom', 'train/fcb0d5a4a56a0f11a1d889e613ff8e45.dicom', 'train/3927740134b8a644950a3d6adec20d93.dicom', 'train/55a4ea79131c9ffde9836b388d72367b.dicom', 'train/816cbad1b6f5bb401ffc5e88ae506951.dicom', 'train/50e9af2b6229940ff1e7eeedf1221873.dicom', 'train/0da317f20b3b7c7603cb1be99fbcd921.dicom', 'train/831cea3ca04e8c121130091e649f2f4a.dicom', 'train/9c24f1c33d81319c8f6a6b66e89e4280.dicom', 'train/a9442810b5d742b01720f8e29c5a16cd.dicom', 'train/ff4346741455ddb304e6954c695e2c9c.dicom', 'train/d5e8127843f69d066a4a03b036cf5533.dicom', 'train/04935fa9ecc92a5fdd36aad05d4f9e59.dicom', 'train/4c7b13ada3bd8e7d171c649e2f834281.dicom', 'train/89722283fcb50a15fcd940646f37726b.dicom', 'train/b922785559c2cdab4a1bcc1f2ac83c83.dicom', 'train/fe2a48ff9418f110c6f0ab110106ad68.dicom', 'train/f559ff86d128c34fe2ea7af18650d620.dicom', 'train/de9987d66311037c43405cfed3cbf6e0.dicom', 'train/36a1f59561e66524ce6c9383b1823e8c.dicom', 'train/4f0db61ca080e61f7ad7b6c7265de677.dicom', 'train/31ea93575dd8e9b0370076dddef62b06.dicom', 'train/383b08270567dc6f4b1965222b2202d8.dicom', 'train/151e1192dac5cd0af09406b9fc62bcf2.dicom', 'train/071e4f5bd82d63639eb0b4da2827c1f8.dicom', 'train/19913bfdc10667f87c0c57fb2cf23505.dicom', 'train/db4c12ebe968bc3a57a6ffb342f994f1.dicom', 'train/d8354353934f680563099ab8822b26d5.dicom', 'train/55a036624d243400a4ed540bf364a754.dicom', 'train/9c51a46273c3abcc6254ef792057deb9.dicom', 'train/938ec39fa242336af28bac37d96636a7.dicom', 'train/cc84d41f2fe834c16d22112b44bc622f.dicom', 'train/7af007b3c687634594e94e3b09ae3300.dicom', 'train/648ba5fc61350f7632d360ade1c9e1e8.dicom', 'train/be3de6e8604c55a26f71e0fa7aa08c50.dicom', 'train/bf5106663fc90eeeebffdb00b1443a3a.dicom', 'train/a99668cb64f888f8947ce8ee698a32bd.dicom', 'train/544bc2abefe9df8cb1e7f4f7360bbf67.dicom', 'train/4ce14327d034b78aada941fafdc65796.dicom', 'train/8b2e19b2ce18d89d064a21bb0a2ce945.dicom', 'train/a88b8ece48086ecb578769a0a1e9de6b.dicom', 'train/278f273f4fb33e4bf15c3c54805edb99.dicom', 'train/1512bd492ab398ac6c4f45b6f4eef9b3.dicom', 'train/eb90fe7876a718afea4b0fe3301373e0.dicom', 'train/e6f5c89026a0ee122d9912aeac35e9f2.dicom', 'train/5085afadd2b5ebeffc22533904a8dcd8.dicom', 'train/83e865866ec973041eb9035810482e57.dicom', 'train/bb2ff5356294ec1cbb66c0eceb07f934.dicom', 'train/70a46ccc39fc2cf377980c25cad5d785.dicom', 'train/3de39b73ec94b7f1af9337066db454da.dicom', 'train/1f80c1e80896aa6ff671219c77c485e2.dicom', 'train/c008e24f0d50eb49e00b65c031af37a4.dicom', 'train/22a6150b7eaa2ca7fa7875ad934fce41.dicom', 'train/56ec047af98ecdf199a6590509b6f633.dicom', 'train/9b888ee89221e6ec4be1a151a88d03bd.dicom', 'train/a58320942e6db489c8628e2d7161798a.dicom', 'train/22a8391eab00ef210824ecf65e08f4eb.dicom', 'train/a7e56e9929798afaa41ff0fb9aa01ce5.dicom', 'train/66313b6497c3198d08c9f9b5433dc1eb.dicom', 'train/1a242ee8c92b7297b5c696ac8552d17e.dicom', 'train/5a3b66c23916e8023a5681e59cf40c2a.dicom', 'train/b32087416eff6547b05f578f12f3195d.dicom', 'train/11cf7bfc12a4a9bbca75743bcc2a73af.dicom', 'train/c0f026d5c4c087acc45afd89b32dcef3.dicom', 'train/9d3a5754e7e7dc9cd6a1e93b0364b22e.dicom', 'train/7ce3f628e30558817917cd5054704b1f.dicom', 'train/af0ad1ee360c5bf63afeb662d8774906.dicom', 'train/50c99f2628a65c36296d027c5030de16.dicom', 'train/5fd4594e30d4b6d221b245d2b3dfb79b.dicom', 'train/b87486f428cb52a81824148a0f0bb2d2.dicom', 'train/c10dd828ddf13ceb847a8e74b22ed62d.dicom', 'train/8d1843129a2355036ef6d9cade42623b.dicom', 'train/184abb8a942a23f3d2343d44108fc169.dicom', 'train/fc2b7841f0c9c9662da36c8293096253.dicom', 'train/49d3a743a48319c88511b9b6928b2fe8.dicom', 'train/657a4bb627b29c77d9be88007f89bd80.dicom', 'train/76f1ee94209c008d3b77cca54a7aaf25.dicom', 'train/e690f5c06e92de3a1fa0471073a1a00e.dicom', 'train/f4ee7d5fa457316ab76550bf932624f2.dicom', 'train/bd91dac5e31dd8d5fcef61e748af1c1f.dicom', 'train/b027b7ee2dc77c98b138194c9e60bb8b.dicom', 'train/7a375ba82a1e64d9eda264233363e630.dicom', 'train/65533aaa2b326245a2834efbcd4d3739.dicom', 'train/5282b1b024ec459286427b3d0aa4c4a1.dicom', 'train/7894d39275917cc1755cee90066b68e2.dicom', 'train/da65b87c91f308cb3e5782b54f00a066.dicom', 'train/6fe24e5e5f0a5faf7edffbc0e38ea374.dicom', 'train/5fe9ac9ab3c7da2bb93446c3ee29c5c0.dicom', 'train/177ce8be4886387f158d84fa792fa310.dicom', 'train/5a064efe3a383ded041d2fa98e8fb4ab.dicom', 'train/4c1a9a5557062a02ce398beb1c9ba7b2.dicom', 'train/a2ec8b7cca5557a8a4c065eb7c13d0dd.dicom', 'train/35d6dc7204b68cc083a5c833a7158dd2.dicom', 'train/18424be157dfb366cad6811d499e1816.dicom', 'train/22bd6e0421eb944faffdf8d810e2b34f.dicom', 'train/7d1e4e71f6910c236c018741437c6db9.dicom', 'train/1c3954a57ad4081d7018d331d9dd3a98.dicom', 'train/82d7b02481523c0e099d176c4216179a.dicom', 'train/b0459eb3ad0d40755521fb5923eb6af8.dicom', 'train/837dcdba9928047078bd71eb382ef634.dicom', 'train/2057b816abda248c7afc9c66fccd3342.dicom', 'train/9595353a9c75c8cbf4316a34d4231a7e.dicom', 'train/4a1c6accf17f38e25ff8a3df1ab093fb.dicom', 'train/21f06f335a46f81daad4d7f8cd5276c3.dicom', 'train/9337b385c635b826067820fd39023fe3.dicom', 'train/57cef3f65ba77575fffa54c6c5c3d1d8.dicom', 'train/d0439008f6f2d2888001020ff2a5fba7.dicom', 'train/e0816c1ad9c3a5f482264fc3a18b210f.dicom', 'train/484b0dc4a5c07afbe64eb1a07d801f04.dicom', 'train/d4372fa948ba20c379f9d1ad862b77d4.dicom', 'train/d64fb76ae27e69946cff31c04ecef724.dicom', 'train/69bcc31fc14d11a48d83347a6db223f5.dicom', 'train/601c269f6459d64356b973e6f8b22cb7.dicom', 'train/3b919b95e73472500194a58fc4dab72d.dicom', 'train/28122c880b828babc2afd07b8a441244.dicom', 'train/6d4719da2b0ae776d1578b6e05bb7446.dicom', 'train/de555b7454aba3cba74e0f47c51b536b.dicom', 'train/7ec8f3073e530ffed7102505c0449130.dicom', 'train/14d71010db727e73350dda63db0daec1.dicom', 'train/bd5216ac632fd60fcde49aec1422d34b.dicom', 'train/c9a87350494e272f075e805f2a905daa.dicom', 'train/f2c515fbd5429190b4b43a31d22492c6.dicom', 'train/c05e005596603ca833f6186c9e5737f8.dicom', 'train/eb826c55455e5bfc7fc2eac2260149cd.dicom', 'train/0df9dfff05c54b051c00cb31f750ce02.dicom', 'train/ff051b0b5004d858781f0755f644ac32.dicom', 'train/85414118905ea940925c7cff7ad84acf.dicom', 'train/ebf6d7c90fa5b4ebc9a5329158f44688.dicom', 'train/eb26a4b306dbf61e435762f7cada9863.dicom', 'train/87181f28f753ec1425fc64852e67394e.dicom', 'train/5ea102ad385125decc80770f66b88b6b.dicom', 'train/e63f75ff1c62b19258ff3234fbeb10d6.dicom', 'train/acbcdf2efe57d4bcde9f4f9d0b63e162.dicom', 'train/2c3d1ee213ea83232bbd327f008914f0.dicom', 'train/a7d36d0efac62450c9501f219a855f36.dicom', 'train/2411afacf984556bce7005167b9c940e.dicom', 'train/4268c8ad4ec1f6744995730c9e9247bd.dicom', 'train/c88edf90f6e3b2157a4f86758df81a4f.dicom', 'train/fbea30d9741bc7391ab063e0024ea100.dicom', 'train/0f3c5a20961b2d8e9ba5b39c8f525ce4.dicom', 'train/e2639c6b2af9c4b27be115a2ed912b69.dicom', 'train/bb5a2744bc9d7ffb4c0dc8441b920750.dicom', 'train/ad228b3b66b95a7783892a5baa306bd8.dicom', 'train/cdf3fe02880d0c1decff5bf6ea7bc7ce.dicom', 'train/b4b031151067cacfbc4dbfeb3ff62543.dicom', 'train/e85526dd3be4bae80c5365fa7b275555.dicom', 'train/0c5bf07ddc5a9662407f4b695c183f1b.dicom', 'train/be62c9e2b05982fae43b29d137a21fe7.dicom', 'train/f0cca231c6d20a93afc30e09cd95d247.dicom', 'train/48bca9d08ff7d5a7fd92c0d38edb807a.dicom', 'train/d1beb73db59dd3c9f4d8ecf0951205a0.dicom', 'train/80462d38d7b651440b5a8380a962edd5.dicom', 'train/c02df2c1de2ae62ae473f6e6df6e669a.dicom', 'train/7b76a3eff92a098a67c07d490e4b832d.dicom', 'train/4d3577b11d2e01fb15fd6afa604eb90c.dicom', 'train/9a97be8b8b178e09a5b4a096f94afd94.dicom', 'train/06ffb579888754187656e7d8e82016ff.dicom', 'train/1d4ba4fd25920abcbd27d1e008d22002.dicom', 'train/2e117328fc65a05c9fb542b834bd15c4.dicom', 'train/b4abd09b327a039c638d54e073d4e632.dicom', 'train/487fde57443bd4e8a4a667d4fa2a9c17.dicom', 'train/45a2bd8226de02c130a5888780e6dfe9.dicom', 'train/806fec10166ccc16d4a6c2c4ac042b27.dicom', 'train/9834d7f76b1855fb63d22c98c6b21ca1.dicom', 'train/b60e0a80615ce868d6ab3edb7b9584aa.dicom', 'train/0d0a2266d48f8cfdf88131636178fb08.dicom', 'train/4f88b47b6222231ef3d462dbe2b5c888.dicom', 'train/79ec414daa681bdfa4dba1a207357e56.dicom', 'train/42afd3bd38ea93414f41e13a0c9bce4f.dicom', 'train/a1dc2bd62061b8620cb74ad8163871d6.dicom', 'train/3b80779efbf932ec7257db8ec1ca71cb.dicom', 'train/0121a1a6c1316e37c331f77fe07d2ed8.dicom', 'train/3e5e2b2e8ed537408e33542f50544ae1.dicom', 'train/578c7a9fdc4dcb0119889ec9813edd70.dicom', 'train/92c589ab7e4ab9ce89ce10138348da29.dicom', 'train/c2f2b58e24f5ccf954845ce2a3420b05.dicom', 'train/c26c9e65548d4d833f004681218b9829.dicom', 'train/b54e7595f601ca656e8b3b7ca9159f9c.dicom', 'train/3ada2c2f1e805823b7d36fae49e0ddd7.dicom', 'train/183a37034024b9ff148fea2f31297919.dicom', 'train/7c8ecac58f68da8d0696f9afb400aef8.dicom', 'train/5949f4e71ca81a3fa4101293090471f8.dicom', 'train/c0dfb284488ec6fab25051ee1555f658.dicom', 'train/e1e10ac69f53ac85a4566188a0abd72c.dicom', 'train/7295b6d1a3aae63e0b60b5a6412d37a1.dicom', 'train/7a0c0638a47100dfe5b550087529912b.dicom', 'train/a1ed7cac77738f54ef3b771b7b4a2e15.dicom', 'train/cbc4033eb7094a636f74d70cca297276.dicom', 'train/bdb08cb54a65d726c01d80a6524509da.dicom', 'train/de52f023f159222c0a8511ada0dd0875.dicom', 'train/91460f5ac3c1e3d50afc7246e09aa14e.dicom', 'train/be50dacfae77fd729e0859ca3cc5969b.dicom', 'train/df4b8c95c02ca0e31684380417279e74.dicom', 'train/bc1dc5439a17c4e203d1854ebee3539b.dicom', 'train/c680d7c6f41aeee9f495bf169e23af1d.dicom', 'train/fe78492f013c2375687ac43f8a89679e.dicom', 'train/5be80bd46c383b2e941a0e26d1b58d77.dicom', 'train/a798808f13e9377621081316013437c7.dicom', 'train/8dc11fb6a469e69b540cce23359af835.dicom', 'train/492d73cace806f264a81200d385190aa.dicom', 'train/253e07bc296d6fa248bcb5699dcfca1d.dicom', 'train/c19a0cc59b72eb199b931d7efeb5bd4f.dicom', 'train/be0dae3ec19ff38e67e777af0a1e9338.dicom', 'train/57db4ebf2e58d79bf50bc8ad33488c75.dicom', 'train/67f1a9104c419d3d284552d67c1501af.dicom', 'train/2569c0a511150ffa4de847e3ade89f3a.dicom', 'train/c35173a4339402e88072813639ee48ae.dicom', 'train/b0bfd7ac8bb95e09cdbe23810746aa78.dicom', 'train/6b16af88ad635ad45def4b51d75079c3.dicom', 'train/fb0a7feaf778ec40a74f10009e3016d8.dicom', 'train/914205440e3304ba47b5773af990e3b2.dicom', 'train/cdefb231a496e3039ef6235fa77e5ac9.dicom', 'train/9872f7ed19c9907ecbbb7cfc38243024.dicom', 'train/fb69d994884e2b9e1eeccc6cd111f5a5.dicom', 'train/d93269f5320af95263253eae4c8dbea9.dicom', 'train/e475d623ac0bd6c833825e7ea8104569.dicom', 'train/cc9fa450ee2c66b0b5a097b1bae70a06.dicom', 'train/738e2b5e25386139c55c1bfeffe88369.dicom', 'train/30a0b0fef5911912003a7d996bde310a.dicom', 'train/a21804c9c9566ecddc6ce15e8659c274.dicom', 'train/1efb4c681a6db419b40d3cd1f78c0886.dicom', 'train/727b3f5d02a09bf5cac4d88ef3125c59.dicom', 'train/95d504820a5031f81101a5dad9015fbb.dicom', 'train/a19d4c29653d3e44d64c4d002bdbdcd4.dicom', 'train/31f25aac2fa995a3ef94cb900bea7b6e.dicom', 'train/068de3b5611d1b1bc9b58eaeb25071e3.dicom', 'train/f0909d7f87c23f565cf6cc41221bcda9.dicom', 'train/00841e8a22487dddd0758ade03868361.dicom', 'train/d1ef458d9c1678eec8de991b5e2e0f43.dicom', 'train/d91c6f98329ce75e7f3d1c521591b62c.dicom', 'train/5c9f9899fd9541ffd314acdae107bd9f.dicom', 'train/6e3b46659b932ae585fdde7c04291c94.dicom', 'train/6e269d4d44f6707845d31087f4f8249d.dicom', 'train/86cc47eaa820f3ac3938ba9f949576a5.dicom', 'train/cfd6b966c5141a32edea6678184429e4.dicom', 'train/7bd0586622396bbaf9ce336067083af2.dicom', 'train/47747005dd5a7f80e0184918953852dd.dicom', 'train/600fe04128290b1a325f04735dec9328.dicom', 'train/204ee6966df9d8ee0cedfc07fd71667c.dicom', 'train/980ee1efba7ca4cddab7067c0a6cc640.dicom', 'train/3a9a706fdde5e5259fec351f3d3f3241.dicom', 'train/04d3e5bfef8a7c41b75e451261dab2cb.dicom', 'train/5ea5d7f5d004961725b1a4cd493341b7.dicom', 'train/eef96140ca9b260e4df3cb13074f071e.dicom', 'train/5ce6ef5582956562e291594202d10472.dicom', 'train/70047da164f5df0dc1599636cd0fef90.dicom', 'train/6bcfdcf5fd127ec898cc54ef81ec9812.dicom', 'train/df54e76c773bd0ead0e50e3123e24d74.dicom', 'train/3e2f998d010fc2d2897fa3049d2f499e.dicom', 'train/5ba45f41ab4d3b30873fe327aa738200.dicom', 'train/24ee74b855d79d720f17e2bc07b4e9f7.dicom', 'train/bc9a7f13a497a46df9f48c62dce627a1.dicom', 'train/f10627504a838130501bb74a6a1b3b2b.dicom', 'train/ce7e8cae10de36eaa38b56015eedbc9f.dicom', 'train/bcf01ac5a2d17fe5dda92e051a13717a.dicom', 'train/52dcac4efe4720048561589dd298fea0.dicom', 'train/3041f46452ccaaa69c2efd64d6d58291.dicom', 'train/c3f3bf0789e70f37a29132922e435eae.dicom', 'train/d4d8ae47bf9fcc5fb66cd297a15b32c5.dicom', 'train/7777935391e360e62d4f6d758284ac00.dicom', 'train/b8ba699ceed4975fd8a1b74c35001a74.dicom', 'train/70974bb60da34ec5d5fc21d05c9589ce.dicom', 'train/f1a70aae1b206d491118d41979f1ec6d.dicom', 'train/799ec76a1f659172da9ad334dcbf3c5d.dicom', 'train/56fdb6bdd7c780c2683fc8592f6cbbc1.dicom', 'train/51b9f71bb6106d48b8ec55ef20b18fc0.dicom', 'train/a92f81660e11a5cd3622115923be4da2.dicom', 'train/07d7ca7c88e156038f11d974e9b1eb21.dicom', 'train/e6020709bedabd850947d5d9dbe30308.dicom', 'train/ad184fab2dfa4c11f3568340cf78043b.dicom', 'train/3e75d9467452a6d878a507d537e56b8f.dicom', 'train/1a8ac38bc0d12e7330f5dfd1b35e9a20.dicom', 'train/8a9ccc6cfe683eb1a7545498cf31b294.dicom', 'train/9c67b79b1399ed15c897c61307a06a9c.dicom', 'train/1254e0bf1ab3fcb2b7e51ae4351419c7.dicom', 'train/571c140c6927cc232683f9bc6a963e12.dicom', 'train/9b8fc9a7290cdb8b3887197a6ea0b89b.dicom', 'train/40fc05f9ab826b642274fcc5208191cc.dicom', 'train/aa5c21b1ef74edd14625665d95321639.dicom', 'train/ca04e30c4306e37c3095c6ee2f7e632e.dicom', 'train/908cf3c92067217dd33e7467f90ffbb7.dicom', 'train/09874caff8abf18ae888b6d2cdeb0aa3.dicom', 'train/ffc3b595a691d7e8f82be1fcdce1fbd0.dicom', 'train/dd60146f69ad04c8752d7bc92fc0d35d.dicom', 'train/d89f68d72e547eea1e2f9a1dfd00f4f9.dicom', 'train/bf441291157298b6254702d5cd92f921.dicom', 'train/69cc6714ac92e04b2e33130c59eb0817.dicom', 'train/695c3ecb7221663e1ff8ccb6a970603a.dicom', 'train/4122336fbedcb497c302e95abf67867c.dicom', 'train/4d6ee668628ccf77fba66a6206076390.dicom', 'train/d73768e43d4cb045ef9385de70f5389a.dicom', 'train/81ecaff191cb2cce0c1c1b5f8d6d28de.dicom', 'train/d7670f8efd3fc0510b43b6b04c0b5e20.dicom', 'train/7f4de81427327949a1edc6d10048a22e.dicom', 'train/25fcba6b2664ee184d8c43378c24422f.dicom', 'train/5daf8113ac114d1bbb18596901c367fe.dicom', 'train/428f3a311405bf6be85ac9e5227efedd.dicom', 'train/d350d9b7a964bd704666dd8e30431a51.dicom', 'train/4fb83dedecf2bb256a9af00898cc5699.dicom', 'train/c55f254fb3c36b62152e921fbe883e6a.dicom', 'train/4590f542ac58981390f49a33567d0408.dicom', 'train/863819cbc2524a0d89624d6e5d54f791.dicom', 'train/a89a3d0de3fcdc895c0f8d04ed8a1de4.dicom', 'train/6977f2e9c90739f821922e2850d581ff.dicom', 'train/dde8aed1da534090d0a1970a8492f4dc.dicom', 'train/9b9d36092ac883bbe91e130ba6f35137.dicom', 'train/406d121df2f2142320455a445156fb2f.dicom', 'train/12815812278df3c8d10bac02342335b7.dicom', 'train/e137f82faef38467e844295ca0b61517.dicom', 'train/d1dfe1f922cb50f3dfcec66389cdf618.dicom', 'train/ed31bdfc715b86375cd63a54cc333cc2.dicom', 'train/e1766a1e6b3cbf35463384c3465dfd3f.dicom', 'train/c2885d6b0962a7896ed47479ef4a6029.dicom', 'train/86fce596e559e53085259278c33ffa47.dicom', 'train/257a8a6bd83537c8fe664b3825515155.dicom', 'train/5af37fbc2aa4707159c1d08704b5204b.dicom', 'train/b1c3b296de80ce50d6b27a6c48fa15d7.dicom', 'train/51b142a868eb21685e57e237cc65a656.dicom', 'train/4d088f18478c9460e5edc95319f29810.dicom', 'train/7b83c67d56975d76056c436b4fd939f3.dicom', 'train/15872bbf6dd0417234d01394826a3eca.dicom', 'train/460d28b7903521b50f98b8f0a0e215f6.dicom', 'train/067b2edaededc5969562c27925e42450.dicom', 'train/5f114d66a7b6cd4b2f1faf4517e5084c.dicom', 'train/6fccd41adfe5013a68e37bc925757d3b.dicom', 'train/2673b8e3e375ba7b4cdc94923cee594a.dicom', 'train/6efab5180df561d45bbfb60cb575e255.dicom', 'train/834bd8a72fc243ffc567ccee05f075c5.dicom', 'train/bc54b05132926a0114eb3b645c92cb0d.dicom', 'train/033386e28d7e2ebd8b638166e557001b.dicom', 'train/249d639a7a49b8c0f7b0271c4d15c5bb.dicom', 'train/2d4fdb74b2b76245c275cb80cf30fca5.dicom', 'train/00edbd26b5a47a05c72be21dca8e0bac.dicom', 'train/58ace4b43682d402ee90bd370b3181b6.dicom', 'train/193a2d6779c4cc7c74fb91ae9f0bebbf.dicom', 'train/6bea9a1deef9b0a7c18969eba937d4e3.dicom', 'train/1b0aa4af08df055b7e39e8e94f7be3b5.dicom', 'train/d8a1917a620fd6e3db9b208f414d7cb2.dicom', 'train/bce8ac29e263fa9b15c6dc919bffc4be.dicom', 'train/6947b9b023fbba96987b2ade4710b7e8.dicom', 'train/6922b07dfb61a6298d11f62730df0702.dicom', 'train/651eaa729d4aaa069354e338c5b41560.dicom', 'train/f5f5eec923089bd08ab34387a2fa0c12.dicom', 'train/1e2f2bb45dbce6a7d7726218b839cbb1.dicom', 'train/53610e33cccb50c23db7a2440ba3d520.dicom', 'train/d4a2209434ad64a6a5cefc47f9ccae9f.dicom', 'train/ec7e188d99873afcdeef1b22b12b0513.dicom', 'train/5abd35445b400a331c7e38ad145d247c.dicom', 'train/c8b34eaafc1081297d2ce039d1fbf0f1.dicom', 'train/93ed13029e2cc89ac4d15ac365c1228d.dicom', 'train/19c9084bb71c52d16d1e6bc759b134a1.dicom', 'train/eee2e058230f80410e153d39f373f0ea.dicom', 'train/f29bb8ace7cfd3b9925c6b647746e0b8.dicom', 'train/2e1c834a2bcf7556f7895d75cd03ccb2.dicom', 'train/8936c1d3a397e581e26fcf7ac12c912c.dicom', 'train/54ca7e3848b7182f07560e70db684a21.dicom', 'train/ec196b6db2e3c0a12beb4c08377f9fbd.dicom', 'train/c08b17434608a5b4e88d104d980948d1.dicom', 'train/8ab1894451de98701bd18335223d7e66.dicom', 'train/04cedf6d4b7cb3a41c6894f4bac6825a.dicom', 'train/9bc7d4b9331b52a8244b831b19f52f5c.dicom', 'train/a2401b32c463d5d205c2bb2b327dfb2f.dicom', 'train/22d7c8aa6103f329a94fb0ee935ee0e8.dicom', 'train/9976e96d014ce43f7f1e721be50060c8.dicom', 'train/75907af9b63ca0236505355642f4716e.dicom', 'train/0812a4c2ea9e0759ff4b605decdd0c23.dicom', 'train/c15e074960206898b45f40953116dcee.dicom', 'train/a3022c787bef7b3f5629282dd51ecf91.dicom', 'train/fb7d7fe3a89104571ee5b663b585b654.dicom', 'train/ce31d761875709298e3ecce6523f1753.dicom', 'train/9fd0d845160b81cd540b5aceb0c1a9a6.dicom', 'train/52f196565f56cf0a82bb4c3297e23a89.dicom', 'train/08c44e0f8f3cf556e00caaeb6fc47c92.dicom', 'train/a81680ba0cc6d4e6c2194c29b5719262.dicom', 'train/9d0f51afc56de00d8fd96d7ac5928a10.dicom', 'train/b0cb0bd4e984e947f4824e5fa41948b1.dicom', 'train/6b39d6c43407b5a8ec9fbe4cad67b393.dicom', 'train/bc37d2f3a44c3ef7947717f2c113d879.dicom', 'train/4eea1ddee4243e58488681b1b299a10f.dicom', 'train/3d47b5ba7c2adbd47262983a6727bd23.dicom', 'train/b5ae5314056224a74c3edc817659c782.dicom', 'train/ae03eecca80ff4eed276be9156ae97c3.dicom', 'train/3b02dc886854ae88623d687f531852ef.dicom', 'train/9f80c0c0d4549cb58390bb594e40c415.dicom', 'train/cd376c835378d3c7c866f449b89ba1c9.dicom', 'train/2f5bf95e1dc9d5feb47840705791ab29.dicom', 'train/bc333f73e99d1907931add3cfe7e3764.dicom', 'train/01d7ee6c5d21f4b4b2334893c6390f0d.dicom', 'train/6beeda381a0a548133ca4d531ed3840d.dicom', 'train/7e24f9db62f8dfaa6587b415a445134e.dicom', 'train/6e9ddf061aecce1a20186aaeff8e07ac.dicom', 'train/dac5d46e5961cea70f1a0f29ddaf14da.dicom', 'train/d884e38f6f38f00528782ed6c19a1034.dicom', 'train/7bb32b14db630b5f8b49645cdf0e2b04.dicom', 'train/b5714b6927285f5de2a1caa144e24cbc.dicom', 'train/99dba34497ce222449b2b00e4946317c.dicom', 'train/ea058c36df18fe0c48ca65159cc846a1.dicom', 'train/0ace23d70b058938bcf3ef79f1bbec98.dicom', 'train/5e74565147c4be118299b4610d4d378d.dicom', 'train/72bc97a8d130ccd69e2d62147eb7e896.dicom', 'train/fa0a60dfc46e49c04b0fb113741813bf.dicom', 'train/deb3f734dc7c39630eb2676505bd4aeb.dicom', 'train/66898c2d945aa66bbe6878b15dc5f23c.dicom', 'train/346936cc863835b23f7358c67c3fa7f1.dicom', 'train/467e1280dcf5a925aeecd026561fec19.dicom', 'train/f4ad4515e3529b5de4974836bcebdd78.dicom', 'train/fa4a428322be8d8603cf9d8c8c4a7b93.dicom', 'train/89695fba3798f961223d93165a2a7078.dicom', 'train/4e39b68a0594cef8faf4c80baf4b8879.dicom', 'train/06ec1cb62473957434f11043e54be8b1.dicom', 'train/2edf9553fe6c9908c3bb343ca14fe2e3.dicom', 'train/f6a1e22eb0bc0567ef43d35c1e411a54.dicom', 'train/d12bf5d47ff6bdea0395e95750db0414.dicom', 'train/bb48e47696659d0f6c4e8e47d7356f75.dicom', 'train/bf8af51baa0b05868a0f7bc469197d19.dicom', 'train/d82839a843992cf503b31001e6771e89.dicom', 'train/bcacec472618bd243df48723de6da0ad.dicom', 'train/9e575061618febc33f3fca6c295a3929.dicom', 'train/78b7df7ca1f816b4f1deadcb0bd447e3.dicom', 'train/7f6054195973cbb6daae415314d89926.dicom', 'train/599601fb862b06cff6a6ea307b45746a.dicom', 'train/4703c0120906bf4ac4cf3ca1d8dfdf13.dicom', 'train/5c10ab0f2eaa5aa719751382d8e0fd33.dicom', 'train/d21a3e40bd114f0d150cabb056ceb770.dicom', 'train/ee68ae19b7622bd87208cb037037cb9a.dicom', 'train/e2e2ceb61247965d3a7f1ec8e228b0ac.dicom', 'train/272188487179dce888b5621193aa945f.dicom', 'train/e239802cc69c5bb036813229499f1712.dicom', 'train/52d36e63841f1ba36842ef140e3b54aa.dicom', 'train/e2f1b282133a76632ed2925e4315d889.dicom', 'train/fe7ef389073d165faca4fd17600c9f97.dicom', 'train/cb0cb8137d7c3d669e6de76ae0d0c316.dicom', 'train/09fe65a013b6242445ba6b9da8518daf.dicom', 'train/028a087262f607beb38e6c73daf41096.dicom', 'train/e53ce8dcd4ebe6851ff86ae046ee84c8.dicom', 'train/e17e8350141922b08b8debb06ff7c4a9.dicom', 'train/4abe0a3ee6852e611d6de58f4f61760e.dicom', 'train/6a4b7692163b9db271e5b1d2678c5ac1.dicom', 'train/d634e8d8bad61fb9ca47aa69d086383a.dicom', 'train/05cf85596939efe572189fee225b6cbd.dicom', 'train/ed1f5b33d0706ebf7ab8324ca24daa0e.dicom', 'train/ac743213e6c0a097924b906b0aec69f9.dicom', 'train/d44f269e8fe8340104e9f853eea45ec2.dicom', 'train/7a7fdfa6cbd60ad425057c82309c075e.dicom', 'train/768612f447e324164833afb8407cc71f.dicom', 'train/24594d1cf52c221aa1d4c2755538e2cc.dicom', 'train/b7bd21fa4668952bd0b3ad6b80a4ed59.dicom', 'train/be2b2183094bcad1b08f5bbfcd88826e.dicom', 'train/a3a970833bb40a90a74332831cc9817b.dicom', 'train/2c286ce31666da769130d696bc97e88e.dicom', 'train/7e0ba32cd911e7e37867e87da44cea77.dicom', 'train/92686670fe25049e37567033bc0ecbb5.dicom', 'train/0e8df7e69faa5de32837e3065c9fa6af.dicom', 'train/73dd5add30e09914dd5a5aa3dde0bc7f.dicom', 'train/e126d8d12dab8a552bde89cf812066d1.dicom', 'train/0b53d4615b0c48f310f2330ac99657ee.dicom', 'train/7d92ee650f4f9d1152480901a45e1dd2.dicom', 'train/2ed4e95f5796873db10a1122aae5b6d8.dicom', 'train/e4a98269f85a327b49cbbdaaddc731d1.dicom', 'train/973ceb5968d55e55642ad4a99fb89ef3.dicom', 'train/0c7fbbad6f04ff82daefe29e970983e2.dicom', 'train/2e3204c2bb7a8fcdd6ec1ed547e2967e.dicom', 'train/db8ab3e49a939fd48978d4dd40347628.dicom', 'train/19ff195179dbcc35721d6b098d424272.dicom', 'train/e55fd6d7096807e7ebbaf18a27d58a28.dicom', 'train/7fb8d41803c64a45e51decfe569b2ec5.dicom', 'train/f1039cc72089f00b7233d4855fa8f9d1.dicom', 'train/7cca2ff1019fc0b5f55961eeaf7b2e85.dicom', 'train/a5fe9fdb5d90cc4a8f595abd98e5baab.dicom', 'train/b0042b67211c2f2701d86aafdf7338a3.dicom', 'train/af1daaf6048538332398af9615f9803a.dicom', 'train/63b63687eb768b1882fdfd0563fdffb9.dicom', 'train/abf347cb263af218a7beb93057b82931.dicom', 'train/ef4dd56e0f1d98d5d285b9cd4e99410d.dicom', 'train/2f8f29fb177fcc4335df5360237cb3e7.dicom', 'train/1477cb67025357c8d100841459750542.dicom', 'train/45324df4125f302b6a220d6bb917e562.dicom', 'train/82fc3dbfa4fe606587f6a403c2d7bc99.dicom', 'train/190896ce873fbf6b0ff97b11f8d27ceb.dicom', 'train/5254ccde071d427c8f71ed2f5892b191.dicom', 'train/a67953af2e226a3382fd49b872ffd9b4.dicom', 'train/fa2f6d9790a96e821171d994bf50b31d.dicom', 'train/3071ccc20f5ae1b6ee179d4d20061aa3.dicom', 'train/e0cd0fd4768be36ff7c0b22062696487.dicom', 'train/f3bd082d0197e4fa32378a412e1264cb.dicom', 'train/8e5c7dd60cf089f8d8c4b90c00db48b9.dicom', 'train/035d90e0cb8f917db81dd45e791effd9.dicom', 'train/7f1b8f687327738872cc0e8c7e79313e.dicom', 'train/a246b932571623a376b9e89a23872450.dicom', 'train/7dda83842d392afa4249a78dcfa21396.dicom', 'train/93beb094076d077ff14a148a1cf20d0b.dicom', 'train/1ec0787ee2af3fc084439058c9a42e3c.dicom', 'train/b2916817cc96afefd31d953bf63708fd.dicom', 'train/2473c32ebc08616c3d0f3ded99cbc448.dicom', 'train/94acdeed07f8fba64a8c0b31769ef440.dicom', 'train/24b04483c7920e6dbe5338e1d51a28f0.dicom', 'train/812c48046fcf9c725fd694a4cc776045.dicom', 'train/0b49bb9bc2ca1743babda0c11220653b.dicom', 'train/74ba6244fb772c2a97304f9733a00653.dicom', 'train/d4adc1d9694137e15325f3c81ef11cc4.dicom', 'train/01a7af5ed0c601c5d1d50e37d9457e29.dicom', 'train/fcc8ac43a35fd8aade09b7746c4916c9.dicom', 'train/774a30e8b3a5adcc20b4223b15a0348d.dicom', 'train/c7cc021ddee3e478ea7af0fe8caa6ef8.dicom', 'train/a77b33296c31a9c75c4829d9ae8544fe.dicom', 'train/6639172bb346b8ce31a60f30afdceef4.dicom', 'train/616a05561e4806cf4d8e2cf56469c46d.dicom', 'train/a07a07ef46eb4e7b806dc3c97a878262.dicom', 'train/e747815b60c55a6000d2b58b97572965.dicom', 'train/93ab38d7198d131fb08e79ae000ab8b1.dicom', 'train/2f995293e8aca8be696fdd275006b814.dicom', 'train/8f444f2a20ce90b6e5a115b46ecb4ea9.dicom', 'train/90037b42c9aa9f9e15b502f5d5d65249.dicom', 'train/3debd9156a1d7f9adc7d3bacdbed820c.dicom', 'train/b521459580511e7573250ca02d43ea4e.dicom', 'train/d8f950c71f720d22f2980c36c948f097.dicom', 'train/9db699f08dc220788a491d6aa22823dd.dicom', 'train/19123108ce87a7ae2f9cdcdff4761c2c.dicom', 'train/1a4167ffdd636baf06be50556bd80e92.dicom', 'train/0187b788e988f25e33ee384905723162.dicom', 'train/6bd7ae42d7c518133a7be3b855a9ad1a.dicom', 'train/22fb6475fb08291dd5341ab9ef666925.dicom', 'train/9a94096b4fb554ae066a95a13df52325.dicom', 'train/35d3dc9c1f06f8ee94870984691b2691.dicom', 'train/8f77a8d6570a2eadd62ceae41bc6ddf7.dicom', 'train/d6aca1c861ea57a9a9a62c9a330971c1.dicom', 'train/c0ee2841e326cc0ae6f235ef2511071b.dicom', 'train/d53d56b9eafe04f2ae0787dd94d01996.dicom', 'train/60e5c049d6f47106aff7f1495425676c.dicom', 'train/37eaf0b7fa5f2250b193ff9e5898d7c6.dicom', 'train/2e1b2d6a35b7ee90bcf7c64693920067.dicom', 'train/7f7c8bb3cebd69f693dd988b847655a2.dicom', 'train/deac0964f19a14ff2e0fb0b15991e464.dicom', 'train/1147379cbc9a215201de26972bce3d94.dicom', 'train/b1f0e1d7005fe3a19536b001ead9ed45.dicom', 'train/4ca4dcd27ba8862d12147ab79b9829d7.dicom', 'train/30f704c2871cef85f2fca275ef62c041.dicom', 'train/9bc598e8d6d7f135e428b64ae80bba2f.dicom', 'train/31b8dc189bcb6e0bd7656f2f91cf7b80.dicom', 'train/a75493b46b43b909ee6a0be4e07a6309.dicom', 'train/7812e0287ba18aaa06f38eca7b4149a2.dicom', 'train/72e6c34141a80ea22c606cd32b0ce9f3.dicom', 'train/6047025ccf34545e1c65b0dbc6b3d20b.dicom', 'train/b00194597273a4500b432df0a9b78c62.dicom', 'train/6ecccb6a6bd4911326e8c1ca70f5fb5a.dicom', 'train/a25cb54bb5a67494122f690123405406.dicom', 'train/9fca5159f8ecad8168d8296a8590cfcf.dicom', 'train/1c040404cdf645f5635f658488ce7c49.dicom', 'train/46c1b88c48a78d5b4d8047408e7fc674.dicom', 'train/9d79e8e55d8cb09a2347f39e65216964.dicom', 'train/ef0a25100bd4247d2951532242483c66.dicom', 'train/7cf7fd4ccd9797a768f6fe411496d458.dicom', 'train/4863172ed2070eb44c3903edf38f49e5.dicom', 'train/c90dcb405cf010a409f8b24014815bc4.dicom', 'train/bf05b4727418a6d0f2262ef0680fcae4.dicom', 'train/3ca1dbc9aadf71c7380e1ae979e303bb.dicom', 'train/f16e132cbc2422b938d0dc99382db1b1.dicom', 'train/7cc53b711cd4acc5969cc15b6bb4e327.dicom', 'train/e358d8a30e10356844901b7aaaacefa3.dicom', 'train/524486df537699bb31fe5e9ea5880055.dicom', 'train/d93358fe458f3519ba8ea9940d3b9cb9.dicom', 'train/64e195fe1235168b58f9f5c77f8ee6e5.dicom', 'train/72f15b514d73cb1d1cca055b099467ad.dicom', 'train/a848134f18d314c44e50d9e640537ed2.dicom', 'train/b5eedcd481d95152346a4c3565ba5426.dicom', 'train/839b9f5fd91d74622452aa81298a4cd0.dicom', 'train/c6870522143534ae8d0aa3cac9c27714.dicom', 'train/9f56d107337a0533b41a0acce2745d6e.dicom', 'train/b824d77cf86b0c0ca06bfd85f5fea323.dicom', 'train/9e0c533452190c56a5d88f614016f615.dicom', 'train/866ff2efcea6bd93620709308bb93e8f.dicom', 'train/45ad8e70dd4a116647d3440f2e274b50.dicom', 'train/248c391051d4121b1429e855d5bc1ccf.dicom', 'train/6bade411d80c2807894e786914c5be2b.dicom', 'train/782e083ade332ada590ab27642bafb06.dicom', 'train/7bd987a09f2a65a16f14e0823dfb2dc0.dicom', 'train/e73206633a1f81c73b3e8e5454edb809.dicom', 'train/3c139796b34773c70b01a11a5dc0f3f3.dicom', 'train/8b41d812f49c836eef02ea754dfd5920.dicom', 'train/c64a06a015d0ae25f92ceb28ba948a32.dicom', 'train/85f58076bf53834b9b4a9d2fdf0bc058.dicom', 'train/202eb363310787b43a80811c563dfef7.dicom', 'train/97a910abe485967423276a1bd7d433d1.dicom', 'train/a9a3e7978e4387c10802a2bdfbc23cd3.dicom', 'train/cb45ecee8156b004edaf7d4a4b83cbc4.dicom', 'train/e12dccb62254f374f3c8d14ab890dc9f.dicom', 'train/1024a975925774bc5eaee023f7f7bbc3.dicom', 'train/2abd082cbaee2eac1813b4a194eb52b1.dicom', 'train/ce1c523471c779ffcd13a3a71b4c36c2.dicom', 'train/c4a3f270e58f9d686fd14a2d7e46d4ac.dicom', 'train/898abdbdce7ece7bf230bc90d7df7348.dicom', 'train/124af21dc3de1ba2a84714a328101e5c.dicom', 'train/7f4cd147cb2950d87cb9950efb50111d.dicom', 'train/6ca412214c2a978a99735b9f3c6841b3.dicom', 'train/3578f5ad7825fed9724caaef14c49863.dicom', 'train/e88730160ee686804b22b1e022049b2b.dicom', 'train/bfa149829711869127999514ff01657e.dicom', 'train/da7f19b9393435275e4730df3b362f17.dicom', 'train/8a9fe67b190bdce564f4fff3819f10c1.dicom', 'train/9696de61c44a3479156e228e9a563d8b.dicom', 'train/d19344331bf864326f46cd0f93d568ab.dicom', 'train/578f1a503f067df1fee2299fd5ce41df.dicom', 'train/d22fced8a9bceaa297a5b9663935adf4.dicom', 'train/ce91d8da6f015c0c6866a16c6bc37b05.dicom', 'train/35278d054c3c1c064597ad9659b6296f.dicom', 'train/855e14a14b70060a7312e9ecfcd021b5.dicom', 'train/3a3a13cd1d300d17fc4cbb1b02e5201c.dicom', 'train/50fe683f87578ce089eb48008124ad6f.dicom', 'train/dadd3b168752b2327c7287fccf770f4b.dicom', 'train/32a34b39ccb842a84c2f44bbed94c075.dicom', 'train/c7502b72df38d93177a65c322fd877e3.dicom', 'train/9aba5ecbeec5b2b9cdda232d3cd75754.dicom', 'train/5f1235e62447a241b553380165e3487f.dicom', 'train/da1e7e9d6aeba784539fb626e9b370ac.dicom', 'train/1bd0b2bc20157e635461b8c78c9f7f93.dicom', 'train/91bf1a41fffd04e4888e272737f40523.dicom', 'train/6156d66e67080b571259b5971af5aad8.dicom', 'train/4a0021bed78cc4634b133b1db03b1ace.dicom', 'train/4a758a8858f5e24b5222a4c30e70cf0f.dicom', 'train/2c6cc7b2dee345e17f70eb099084b337.dicom', 'train/8c8dfb39ba272965fe5a936d851ea8f4.dicom', 'train/01fbe05afb0c17c0370c77b535e9eb73.dicom', 'train/cb3d76df8f091fb5167e11ba42124d08.dicom', 'train/980d7f6148633aff5acded9383172152.dicom', 'train/ed8a67ac614d0c17a6d2017b491fa6ab.dicom', 'train/b0d02fbe95c99bdf40495c09519d656d.dicom', 'train/5267f5ff038a18f4dc716e5ef4a2281c.dicom', 'train/e02824c3787970ad9f73ef9689e04abf.dicom', 'train/a695cd176eb8bf2942d7560f78df127a.dicom', 'train/bf29854d7ff0247df47ef158240f0268.dicom', 'train/a1b262d0f213ed99131c69c8dde4e44d.dicom', 'train/d2017f7695fde0bb1a6763beb5c67e36.dicom', 'train/73023345883967eaadd24e01fc337c2c.dicom', 'train/4173ca97e4bfd5ef5c50bd543583cec0.dicom', 'train/45ba48a40e46ddd8352131fc25794f40.dicom', 'train/0ded867dd28030df83455f0c0f14f89b.dicom', 'train/19e4b6e53fa2ae38c8575984d40289fd.dicom', 'train/38c2545a51f7b3024ff7ba9d6874d95c.dicom', 'train/0abbb787256348e4f50ec5885add73cd.dicom', 'train/26c03c063d321a9b8ccc72248566ddad.dicom', 'train/b6a05cd42871cbec9966a2298c1c144e.dicom', 'train/e9813794df7d375bf95f75df9115ed46.dicom', 'train/7c06b9c6beb67f6da3d6838300f5087d.dicom', 'train/985e0b53314ff4908b9699e0421f0746.dicom', 'train/2d051d5c77527f70d21cbcf465c1b66f.dicom', 'train/30dec6ef178a3b5dcf8fd90c3c36dc86.dicom', 'train/0158419b242265fcfb625789cf605a85.dicom', 'train/ac049b15203e04513fe5792fc8c476da.dicom', 'train/312f207d38e27c1c13b0f792d6ecc813.dicom', 'train/433430e1038682819ae556c2f38e5c0a.dicom', 'train/e5a36b4fd535514705509dccb82f73a4.dicom', 'train/9d1455aea314746411c9904819f96c4e.dicom', 'train/2f2cf6049e3274a39f4f05fb42a56fff.dicom', 'train/f91d1a0c6a62fc03a65853c3aed00692.dicom', 'train/4384c6b8b293a8814c631501a75d111a.dicom', 'train/a3a5fb834003ccac61bd7cb962265f7c.dicom', 'train/3d02366355e860dd61d6efa7074fff45.dicom', 'train/c54fd5c0793f88a9ad1112a4ca02e140.dicom', 'train/277a380b6451783551df08db710a5fef.dicom', 'train/63e9835b7b61ac891cc825f93d24efdc.dicom', 'train/d393a4a48b5a96eba592f9535eb4563e.dicom', 'train/93d7f9009071cf6b0d0d14fde3b71cf8.dicom', 'train/5fd4b891511bf3beac2b44828e324d47.dicom', 'train/3689974cf492280b2ace37467e6040f9.dicom', 'train/0a2cd91233c14850ea7a02a5b8eec58a.dicom', 'train/60546e2c3393a9bbfa2c07c9cad85a3b.dicom', 'train/4be7106974e6fd1ce571e857e3c3787e.dicom', 'train/94eabebaec7bbd13d7f31d05155b6dd7.dicom', 'train/a13547c6188f03e55f175a7088c521ae.dicom', 'train/6cee9cf6477868d48d8ee4d60b3dbb60.dicom', 'train/4697d76ffe81b6994944ccf749ab985b.dicom', 'train/7ffbfb040367350b2e1de9756611f8d2.dicom', 'train/f39574f0876febc2919e059fff654708.dicom', 'train/4ab82c7d8aef3e398a9aa52692b73788.dicom', 'train/e443e581081cb8ff2699dd8e904c7344.dicom', 'train/ff2e80a2f546904e890652a672216310.dicom', 'train/74d47949ead52a6cb005a9389a6be5ee.dicom', 'train/af66e84a456e3838ce491f14eb801f76.dicom', 'train/38288d81b21f2f626411f8dfc1b4748d.dicom', 'train/f7a6fa67fb6ef34e66946a9eeefeb00c.dicom', 'train/29fa1084a0ed1a729d79a1cc3b83d1ad.dicom', 'train/a995d785a1befe562f4ebd37731f279d.dicom', 'train/da9182880d8f3cee31a90d63833e6487.dicom', 'train/79ef7cf54aa3e1c4ec976c4796e83a25.dicom', 'train/3fc5f2e573a439e7fb26f1643dfba475.dicom', 'train/68e9d48f396863609e30b9bdb7713ecf.dicom', 'train/f1eabc7524cb6300e737017fe3ec7d09.dicom', 'train/2f85780d757b75009b05d4e5cd9fbdfc.dicom', 'train/99911933346607fade77103f1ed3d08e.dicom', 'train/7ae7aa6218e00b167837eb49e829d61b.dicom', 'train/935db86bfb581814b4a5f0c90c3ed446.dicom', 'train/cf8d596ae4c32a013e86e4f7d582bf1f.dicom', 'train/1c6e88e297cdc0757d5410387a941d40.dicom', 'train/de8efd209ae0695a5cf0a99ef900b95e.dicom', 'train/f5375e103eb12f0bcf5be52314d5435b.dicom', 'train/8ec4083bc3ddb62676ce3a51501ee9fb.dicom', 'train/a17d2a61a06c65fac9f0a158c0436a07.dicom', 'train/45dff2c330df7639293afe225a7451f3.dicom', 'train/b713bab735caf566acaca80cf3319959.dicom', 'train/1b2306a4e9818c307b3193e01e4c8d78.dicom', 'train/c72ea5164fee3d6b14708ad0dbfb372a.dicom', 'train/8876a165fdffdadaef95ef56b2947d0d.dicom', 'train/d486fe70c1b79fadb6427f914faff97e.dicom', 'train/e140ee18ba20e3722c00863d91a06bda.dicom', 'train/00cb1a621a60e829eee88ba9d22c9513.dicom', 'train/7ecd342e8330ece29992b28071313899.dicom', 'train/f7dec3c5c097473fc9f6f332cd43fcab.dicom', 'train/1bd2d4f1b4d3b2104ed3c4cfe6445d57.dicom', 'train/944d2368678cf756b6d34421bea894f5.dicom', 'train/fde3d667e5b5900bc3f029a858daf7a6.dicom', 'train/7d213b491fceeb02ca272b32df004e4b.dicom', 'train/eaa2fad3d59518a37f501118bf603436.dicom', 'train/f0c39c2ebd50b459e357a3d3caacc480.dicom', 'train/0ed8569cd408bea5b350065832f94817.dicom', 'train/097b4f00f61917557ee47008266ed616.dicom', 'train/f028da2b51e079f3d8ad4bd4be359564.dicom', 'train/29deb2a71480298c044cef3f0c323fbf.dicom', 'train/24bb99ae508bc0faee098fdec8c871a6.dicom', 'train/c277e6b5126a2f1308c4d2bbb217584b.dicom', 'train/a85d8c06d5b06c3fc035d9c35dd6247b.dicom', 'train/7cd9c0893666906cf53c6d3ea4a5bfc5.dicom', 'train/98d9d272dabb9d4f42c3988759cefb36.dicom', 'train/f469b2251dfd5b98bb287e82eea210eb.dicom', 'train/39485cff4c78b10e212b5ea46f0a72fc.dicom', 'train/edba2d338cbf7414641140614ae3c6fc.dicom', 'train/62e8d3ebf10584e581ed5964d9a9946b.dicom', 'train/9911abfc836d33b95dcc6e6969c43d17.dicom', 'train/9454ae8693c52bc898b4872802b7122c.dicom', 'train/a8a515a900cba6ae693e09e10e2322a8.dicom', 'train/2e08e4f6fced66a4edce7c8100509c2b.dicom', 'train/a2b9598fdc931b0cf01ef20930e558e5.dicom', 'train/8d342dcd4492b740ba1046a571068e2b.dicom', 'train/6279afbaaf341c2594a0f35e3d1a77b9.dicom', 'train/247d1d0246e1e5545ebd5a51ad2fd094.dicom', 'train/561f1e0702d554494e82b1162c49ea8c.dicom', 'train/fe19afa6bbd3161df19e170894094e36.dicom', 'train/3f9985811baf21ad81174e1171bc42af.dicom', 'train/a7e0953be2f8738f822c1d49dcdb4ba8.dicom', 'train/d3e07bfb28d7380aa209fc7651db249b.dicom', 'train/dabaebb50af1c86fb8d4172c5fe6a999.dicom', 'train/b5a36fc78ab7bf1d4b46eb3393131cc4.dicom', 'train/7cd6897e26443f21ce729862273173a7.dicom', 'train/49a83ca25ff720f15613410e55c95086.dicom', 'train/7162864f7fcbbd7fdb7297dd401e5805.dicom', 'train/b468add76779c5f692a09594bd91abc8.dicom', 'train/cf9cc36e0e0df3807402baf5ee28ee9c.dicom', 'train/50fb0841167c49127bb285aab9b8b903.dicom', 'train/9c9bfc1cc2362b9c0500ceb30fbbe040.dicom', 'train/1005724ec26e0794c5c7f49308181e03.dicom', 'train/0c505943cb19ecc2c923c02fa3c469b0.dicom', 'train/8e21eb6d394969762d5a12b42e4e65a9.dicom', 'train/03c4cb0ba5719a163d2fd6b805665ff3.dicom', 'train/852afa355ebd04260af1d6f83bc00e29.dicom', 'train/a9b8621d46f5e56b0d8a678a6d6552ab.dicom', 'train/cb8d0c391b15aa0a5a368b3126fc3e8c.dicom', 'train/22431353c5dd6ce81fc51a328a32a59c.dicom', 'train/efc9e23838d67113aaf54a301dc931b7.dicom', 'train/a8c7e41f5cfdbeb3bf8c7b56b98a0b7e.dicom', 'train/6d3478afd8d21e7cf59616431e5f679f.dicom', 'train/04ddb9b0d9fd440c3465ce084166e46d.dicom', 'train/46643e8c892b81b3309a69f41444b1d8.dicom', 'train/ff91fcec4c1d642aa6a111f20b72ed1c.dicom', 'train/d03a7227326093a712f19fe741f24701.dicom', 'train/0d197bbdb5df822e92477347b1907cf2.dicom', 'train/5d3839ab0d7134dcf940e1802eb0953a.dicom', 'train/40f42860e8a490550e6354014e149a54.dicom', 'train/4753c0969bc365c4e0fee93effa26f15.dicom', 'train/0c2fdb266f42ddec0e315b94d0fba678.dicom', 'train/8fb83caca1cdb0d964a39703df2449d2.dicom', 'train/05bdfb50e1179e0657dcc9ab0880c1b3.dicom', 'train/3c982b5c28e32e471b7aa701efcacd62.dicom', 'train/c077d187ad6b65170a9d81c7d9fc6b4e.dicom', 'train/a1881868518be3b31548220cfe18679d.dicom', 'train/bd95f3b9899557cf75291c6aa097f9c8.dicom', 'train/05120fbd16174ad337d2c0edeee038d3.dicom', 'train/8463d7154f82eec021d6d4ca1e1cb503.dicom', 'train/631760aadfdb9c8fcc423693c0f4688b.dicom', 'train/24223f780434f34f61c6ecf62a23d7a0.dicom', 'train/390fc0d18e62f0776b54a384f8c71005.dicom', 'train/2ac982f86cd6fd518fe19935092c6613.dicom', 'train/a508aec256b4f35ee9bffadd4cd2d387.dicom', 'train/108ae5c39d13beae0027351f1ee2e624.dicom', 'train/20c3fbd93b4586f31bc98e0863968be4.dicom', 'train/3dc49cd3be037c5027de1a012474484a.dicom', 'train/5e46d9e3e26f96aea2ede017a767ebda.dicom', 'train/8aad1cfaed7db8c1b2a3a72e77e3d7d7.dicom', 'train/0620ae4c0d57ad21006be5e9e06af57d.dicom', 'train/7c221671cee4374ee1f578426a365fdc.dicom', 'train/6a5a28f2b068f948696859f6818e5b5b.dicom', 'train/687bafce5d020f887c7802facf84e9f0.dicom', 'train/94227f39261c8cc560c0518f7b45b3dd.dicom', 'train/d26b3351fc41dbfad965f372c7241b53.dicom', 'train/ac92e3a0e33218a2962b4e8239fe9e54.dicom', 'train/4a91435ddd07bccdf129cd86066dd986.dicom', 'train/fc181aac4a975e48247100b3694b00c1.dicom', 'train/933b0c21d101b8f4011a349f5fcc1b79.dicom', 'train/657e1a9d1ecb91ed3d1183dfed719171.dicom', 'train/c85b2d9bbde9bece921ea290099e8268.dicom', 'train/f101f366c783e40b3cf79934aad701c2.dicom', 'train/ed7007016a252de49be05566fef1ed86.dicom', 'train/92c4d6aba1521c8e7dbaf24c9c6ce479.dicom', 'train/1f79c10ab974c74584bcbecfa15da5fb.dicom', 'train/e283a90e683052947391cd1212619ba0.dicom', 'train/b1bf297156a16ad5a66d6d663d6aa036.dicom', 'train/cd8cecce4af2ab489002e2b9aa5f4d26.dicom', 'train/c782847daee61b17dadc0e5149069205.dicom', 'train/73ac013b04bb08652052e40c76af1b3c.dicom', 'train/8b73b91b6ada3c0bd436b1041181707a.dicom', 'train/5d2f01b6d6ec57633cb4b98dba26ef48.dicom', 'train/1e16184442437d778e189ee438f2d646.dicom', 'train/0ba911142a234e8bd6af13e3d08161b4.dicom', 'train/007b5868d6f550e42c40dfff9a5f7996.dicom', 'train/31b240d7be3c83db8584b8887620a858.dicom', 'train/acb266f3ea0185234685293253e2a1af.dicom', 'train/14627f610f4fded9497fcd60c920ca3b.dicom', 'train/1f04233b2e008436580146985fcb5122.dicom', 'train/8f96da1de9fdfcff72356c5acf44d071.dicom', 'train/5868b02642de93d086ceab38847db270.dicom', 'train/2b9a263ff7c700a8a464941282a93020.dicom', 'train/7f767d390336ad04499a0364bfad8cef.dicom', 'train/bf321c11ff23f67d5ec34edfd8a5558b.dicom', 'train/2d7ce8eb96af28571fb135bea21a8e3f.dicom', 'train/aceacd7749a0e1a5df6c7f6d8d5327b8.dicom', 'train/27b2ee813b2d7433506fa422ffe751d0.dicom', 'train/9217c1501b5e56835669e1c4468cd254.dicom', 'train/ef8bf553469494c920cc03640840066a.dicom', 'train/bec14198a42e82d81f0f7e5522ac5937.dicom', 'train/0e596ba7f9aa0bb9fee4dda7c3e3f3d1.dicom', 'train/2ee858f091e41b18331e68c70b26a71a.dicom', 'train/7c42f6326607f3122bf8c852f71e3c6c.dicom', 'train/68bc02278c8aabffa27f82400268f2d4.dicom', 'train/730fd95eaa240e0def6a63f816bac84f.dicom', 'train/03e0dc2ade7db70a8bedf9637b06c8b2.dicom', 'train/fa1b9a4d92410500c95c026e1b85ddc0.dicom', 'train/91bdf125f62a4bf875e73c2fbf96fb20.dicom', 'train/e7df65f4ddd031b2ceea8cc4cdbc59aa.dicom', 'train/e49a08e865573ce1179baa1bd7fe48cb.dicom', 'train/2faaac7862b5f9d6fe25bb62bb11cffa.dicom', 'train/5b0f765b0242c7b54c963c98089010b4.dicom', 'train/677bfa194a2c06ba7f07d89d705fb44c.dicom', 'train/0e8a342c4a9845c64d25f3d023d2e82a.dicom', 'train/11693d82e4e8cddd9459eab25cc0b423.dicom', 'train/e879c8d60cc66deef123f2045d95ea90.dicom', 'train/2d750454d869e26ed32778be37a91466.dicom', 'train/9c7b01e2f9928a5ad46af3599daa3168.dicom', 'train/a6d59e0b6b629ee79d20ac0d059e03a8.dicom', 'train/fbbfda4533374d2cbb6798c73a0ea7aa.dicom', 'train/8cf9318c79b520a7da35779dfea734c9.dicom', 'train/45cea561aacf108d77643344497791eb.dicom', 'train/bd4d3873ba48a00764d30d7bcc985ac9.dicom', 'train/b003961c955c7575cad240cac95de21a.dicom', 'train/ef697602ac480edf6b99fb810683ecef.dicom', 'train/36f07e8454217c5b6a97fdf21344fb4a.dicom', 'train/c013d2a9a99d78ad46aac3751c514260.dicom', 'train/abe44dcf92d507440252d52b854cc0d2.dicom', 'train/3a062b3609b7f0896a5538a551b5379c.dicom', 'train/2fa745c343184dd41078c65eb635e271.dicom', 'train/1e01664474a1f75d8f1b6c63aca2a112.dicom', 'train/8a0952530596c531423d775c0d56d9d7.dicom', 'train/5460abe3634b7ae84cc2dd251a38b78e.dicom', 'train/ea92968e44da1452b45a6bada0d14b28.dicom', 'train/5b5fd9316cc204abb57986f8fcc66dfe.dicom', 'train/79bbea521d8eccee1938ce949788ed06.dicom', 'train/c4fad3691f3f67d8437fc57223fbe6ff.dicom', 'train/c0f7d5a8c44afd34d3c82c166f321665.dicom', 'train/15d9d40b01adc8b4985e10642c885386.dicom', 'train/4c6c6ed290cbf1fda4031cabf19389a5.dicom', 'train/8f639d50cff76ae123a45fefb9c91056.dicom', 'train/7ab46bb1dff96709817f14112e72a22e.dicom', 'train/2313b5d8ccd70aa0f5be4c3f06a64b1c.dicom', 'train/454165835704ceb41a7ba55f95ffdb8d.dicom', 'train/81edb4effae0d900accd72361a5cf42b.dicom', 'train/d093f1837e18442f49c622a826e18413.dicom', 'train/a8ddc8d65322aaea08f4cfc56d4b27ce.dicom', 'train/6cd447c85e9b1a3212e3555c76ee31ed.dicom', 'train/b1d75b0881982aefe88a4450a11e1848.dicom', 'train/9006686e0b313a1850235c898cdc1c84.dicom', 'train/1e9d995a3a932c59a1034566169edc73.dicom', 'train/33c775db0d90f41f9abde3cbec4854cf.dicom', 'train/c520698cb8454b8d5cdc75a9328b0b61.dicom', 'train/0319409a1abaa50394d5f8e5c43ec781.dicom', 'train/9373972e7f363062289311bf793f2e27.dicom', 'train/17ee1bbc09f65d8b31133a3fda67421f.dicom', 'train/2b6534691a37471f47a4e7c448228244.dicom', 'train/88cb9b368df1b505e78842b69a5f4053.dicom', 'train/11f8963afbd7a851286979f3d88cdfcf.dicom', 'train/17bd4deb403945f179bf1a90fa69d9d7.dicom', 'train/ba53fb732f6c13353b2c5afa25282019.dicom', 'train/12de16990d67454ea8e03ab55dad7789.dicom', 'train/d278e0d0dd863e7b828766ff3b8160f0.dicom', 'train/c7ebf051a916dcbc0727f36a51edfac8.dicom', 'train/7bbb31c41e54ee44194595bc293b66b0.dicom', 'train/9d84bbe719834ed5bb89cdf0bf42f668.dicom', 'train/184d8b62ddcd204052805f17b21fda4e.dicom', 'train/ff58b1697341796e128fd6dca4b33fad.dicom', 'train/dbf958d5f461a166456da2e1a7ffd77d.dicom', 'train/6116092799b3a2677168f5d569d4f7b0.dicom', 'train/95ed4ab188a5a347722bea1fa056c8b2.dicom', 'train/837b1844cfd682adaddf7d0dda202055.dicom', 'train/f454616b029d18e70a7e6439626f7553.dicom', 'train/77ef079145e06c59fb6b6441f3a0df6a.dicom', 'train/68562805b169c423a7e3e48deaa4d8d9.dicom', 'train/5ebc8772b43855b8e437c4efecb06b26.dicom', 'train/fb8d0304fa63f1e3a4535e3e3791da5e.dicom', 'train/62e4a6f174bca5fcbe57b7dc38bd2790.dicom', 'train/7c75781060b4229ce5f6b47e2e33699c.dicom', 'train/dd05d9b21680ad6260d93d14c7040753.dicom', 'train/0938fb63779ba3dc12b2f893bff120c3.dicom', 'train/20014e149d4bd02612b7bba02cf064b9.dicom', 'train/f06a9784571e9cd12341885455837bee.dicom', 'train/b7b72054600630eb5cd1052826edb275.dicom', 'train/99af0ee5d73102be9171345f29141936.dicom', 'train/49534217eac62698b34e0f86f9568fc5.dicom', 'train/1f976dcd461d214ba8bc0cb5ab3ebc51.dicom', 'train/0aae16b3999ab60305c58070cc04d65b.dicom', 'train/7ddaa04d439a34ed81002c2d7f39a924.dicom', 'train/23b8ff724ad126cf59565236e21b87af.dicom', 'train/a86f78a39c953c686a26a41bfe5a9366.dicom', 'train/b003897b98be3452fe126194f3a7550b.dicom', 'train/e353ca056c14eb180eb42b1327d9fb76.dicom', 'train/8b3e0041724e5df8096d411bc4069d0b.dicom', 'train/1d28a9eb146a819e7cff8ed35bb4c36a.dicom', 'train/21d526a892af0fc5f35a43e9d056f8b1.dicom', 'train/c1d3d2ae12da8d6a0f56d0a5c0045dae.dicom', 'train/104223a523dc559605767f6011d2990a.dicom', 'train/98ce75fd399e4837488d2809e3926cc8.dicom', 'train/533ed558fbf764b4e3bdfeac2e49df12.dicom', 'train/5e24f6ac1bdb6a78fa1612444151f0b8.dicom', 'train/12849ca304633d54423e661bf47e2ee3.dicom', 'train/23e32e4baaddd26af05e4ba7b9882d51.dicom', 'train/95552aad3636076ce65b042ca2f69134.dicom', 'train/4a3dbe722858ae18d7385638c7734c38.dicom', 'train/7a71e5fb211ad10730910f2680b98371.dicom', 'train/d2d9165b682cf04a3fbba2a986432500.dicom', 'train/cb0287e40889b13ee8d79cf706285c66.dicom', 'train/e412d8e26dd252dbc201383f3e554534.dicom', 'train/6710b07bf54014d00daac234e32d5f0e.dicom', 'train/a968da2a32cae9d1f47a335b18ecba82.dicom', 'train/d32d80227f16bd6fb147e00eb2ab1993.dicom', 'train/0431264943b8a4b28b36f66bd73d5ff7.dicom', 'train/8a2aa470a4304284c3adfd3c54761e31.dicom', 'train/945515438407bd71ccd1fc044ffb0544.dicom', 'train/9b38dd583ef48f926492eabfa3654ca7.dicom', 'train/3c5606c70325770e392ea429f9bd045a.dicom', 'train/37ff2c89ac4d5d1aab6c75d768d0410b.dicom', 'train/5055efe9a70977f74d5ac0d3495d3ffe.dicom', 'train/f1bb26c3aa2e2a09cfdcf7668ec7bc24.dicom', 'train/e90e71bb10e8906ab95cf42a64ca9343.dicom', 'train/64bbf586af12cd738a1ad81952412523.dicom', 'train/8e0c3621f260ec2f05e9125698766c96.dicom', 'train/faf835021e22e1264fc51513faf272f8.dicom', 'train/a94bb8a37a309d3e6a239640323bf9fd.dicom', 'train/c3ad8e06a53f0d91b060fe35e056cb2e.dicom', 'train/eb42205349f5201f4dc8271fb39e4e76.dicom', 'train/1491f9c743ed8eb97f5c33b577f42b84.dicom', 'train/17a7b0d6c212852fa4cc0ca7b0eb07f2.dicom', 'train/08cef4807d1e2a0773f72641402775bd.dicom', 'train/afabcc5752d79ad0a6905a08441e4d8e.dicom', 'train/ecf3b3968dd04c427a750cb42bc797f3.dicom', 'train/97e0b908bd11f0812c674af75f258f0d.dicom', 'train/6a46923ff90adc6b8b529a1355825b04.dicom', 'train/13f478008f4864eb5a50c98f5aa2452a.dicom', 'train/82098ddff19a54ce6cb9b9f8bd55ba3a.dicom', 'train/1bc1f106666d8a3d83fda9391ab4b311.dicom', 'train/7cecb75c8475ee83db1917e9eb0051cc.dicom', 'train/44da887cccee8aeb135a2278518e8682.dicom', 'train/c045345ec732bcf61a022b1f9cc54b81.dicom', 'train/3534a0212de0217b5291b519a2876c7e.dicom', 'train/f314e2ba79c504b20ecf790018a34f78.dicom', 'train/b69c80dafec18ed89a08b5494ec669fb.dicom', 'train/6bd8091c4b7b9ffdc5dbced90726181e.dicom', 'train/3e255b996d2a57b39f6b66777ce3ef10.dicom', 'train/c5e4e21cf6107f10c41dc72c2cfd35c4.dicom', 'train/27222d83729db0b6a7380c25e320ee60.dicom', 'train/4b8f6dad49c2ee2afb7c7fa939d2da91.dicom', 'train/3a9ce38fb592370130009726d8225af5.dicom', 'train/005d47f4ee239825b564dfa63b3b59f7.dicom', 'train/f468f8315594f7f30abcdb2cfe883c4b.dicom', 'train/cb3e1b500c492716506d234188cc8e19.dicom', 'train/6d256dc0b84acce5fce87f4269afc8f5.dicom', 'train/8ce73071cf3e0d5b210c81c1c11bbb59.dicom', 'train/f8797a45ccdefae862e562ba3edaca15.dicom', 'train/bb74c661b7d49687035e215c39128eb7.dicom', 'train/b6e7cf2e2c4e253fd770dcd940b412b5.dicom', 'train/a3547c0d0317ceb1a7c670ca306fda09.dicom', 'train/cc11b3c3c3bc09bd913f41f00d654844.dicom', 'train/143daae3da91e766535aa57564a05dcc.dicom', 'train/c44c954ad0d93db4b96b082487d32da3.dicom', 'train/f9e4f0e1a0bf79b6f1fddfd85ec7eb54.dicom', 'train/da7d0ed183561f809abeb0ddc7949b41.dicom', 'train/608f51f7a3da56e8c3eab46a0048af3a.dicom', 'train/7504df6225fdafa1ace9a111ac8bb1d0.dicom', 'train/5c955df3efa22df78acc77d4b1c2060b.dicom', 'train/d2367b0def1437da0ba4fb5a4f881ff9.dicom', 'train/c3ddab40d6a7ed42495c3c2d8b6739a2.dicom', 'train/118a10b813b03c52c57e57f6984dc3bc.dicom', 'train/ef3b3bc325dc8a5d933a69b60dcbe837.dicom', 'train/3252c3d0ff49cacf26c4f8daa5a0eb00.dicom', 'train/f293b3d546864a84153a6c23151f20b0.dicom', 'train/0acace01e54d8a8d8202ff4bd3ad7f69.dicom', 'train/e388cb3289f231fd2047f5712993ffbe.dicom', 'train/9f6168864b2f19414d8afeb3ec2fd0d3.dicom', 'train/0ca1acec5a99d8cac6cad7d6f5b951b9.dicom', 'train/38b76da5a49fb8ea23d25c04874fa863.dicom', 'train/7e7b822d09a74a224bfb9aaf19bf7397.dicom', 'train/9875c75572048470228d03edb6a07691.dicom', 'train/dc2a1449421627afd8c13685575dd2e9.dicom', 'train/d08acea6b6248b0ddc92ac522df1c6db.dicom', 'train/0c03043f904dbf25f9ef4597dfb29f89.dicom', 'train/a0ce052a8827a3fd458487cf65b035a3.dicom', 'train/3987685015ee19193a08e5b6de748495.dicom', 'train/6d99dc71a0eb2ad119bc0eab031a8823.dicom', 'train/273ae3d2a4cd35106b607bfc6d675bfc.dicom', 'train/22dbfdf184c13f5b7cbfbcf37d0ac279.dicom', 'train/08ae9f901d8bc6b285e6fc6f6ba5f404.dicom', 'train/a993e787ebdc147bc49814739c24d644.dicom', 'train/976e1081a8b49267e25e8c972ad76320.dicom', 'train/3eb90550845b5843cad90ff7a40091c9.dicom', 'train/af99b5761c579b4b8edfdb2c69d75c37.dicom', 'train/45fb96e226ace42e3b21c49067d0aa6f.dicom', 'train/8dc079ec499108bc40fcf1ae31d10672.dicom', 'train/d3278c1e7b69c4a7eb8727c1180e67b6.dicom', 'train/964a63d1c29ae3aebb38cee200897b2c.dicom', 'train/2adfd37a373546b99eaa402509fc945b.dicom', 'train/e23eb25214757f9743cca27b068e573a.dicom', 'train/add4da20989662a8029ca793259d9d99.dicom', 'train/11048a80ffd0987c2490a4cddbcbd0ef.dicom', 'train/17af728030d630412824a1202c612ec6.dicom', 'train/137a2ce82b7b9ca9a2fe29753c31e6a6.dicom', 'train/da8c388f0562471c6aa155bfc1aa9b30.dicom', 'train/d921e1a722d84e0c3a47c15770a24816.dicom', 'train/cf539be113be0375a32b40037fd5d669.dicom', 'train/46459906fd5ae86b0551edac4be49d75.dicom', 'train/a60242a13551eb60cbb80905ddc2a19d.dicom', 'train/152c76c42fb54e2053b9b7e35f01d623.dicom', 'train/141b4749168e8e4cc004e93636e4f46e.dicom', 'train/a74598ea50a07c951c81e13d341eaa23.dicom', 'train/9c2be1fc7c52bf0fe59d9244c75bc814.dicom', 'train/f9daad36cfcb1f0bd9b72b148e966720.dicom', 'train/fe8c67229ed6a1738233914431bdb386.dicom', 'train/2cca82cb3a74b05912fd06df75c3fb49.dicom', 'train/5019484697c0206cc6cc2ac6d963b079.dicom', 'train/2f03b75d86e894d489fa217e54858157.dicom', 'train/e97789821d633399912c703d0b200b4d.dicom', 'train/d22f882ecbf5dfc7877ded9d1373124f.dicom', 'train/49cf606532fc372cb88e4b597a720355.dicom', 'train/e067c918cb32349928df3f7ec9f64181.dicom', 'train/8a8d3ddc4444ac691a958aa84ab1d943.dicom', 'train/352c917fda6ac7096a8324f95e836ed3.dicom', 'train/9b8015f97955415bd692e6db612460ba.dicom', 'train/88f8634f5deea011f3fcfef549dc7c84.dicom', 'train/006003c8a49669b9a2c69f6351c8b02a.dicom', 'train/5b07e7d6e9bbf0c6fc20eb94f45a9d61.dicom', 'train/d4896cf449a45e6d533dee5b36df42b5.dicom', 'train/a4a3250b5c56209fbbce274c0f40fc57.dicom', 'train/ef97694500bb438a538838e88d8e7e76.dicom', 'train/f25294d4711eaabdd950c22b5b5e97a5.dicom', 'train/c3f7d046e87c3e170a25dcb6a07f5102.dicom', 'train/f590fcd891d8a991049f0d04bf3109e0.dicom', 'train/91c6ae16a6f488acc941f4c8f5f87beb.dicom', 'train/74372b87c139f59c7baab1f8c4093620.dicom', 'train/55c0a4761d15d87bbbc2c7e509ba192b.dicom', 'train/d7f9f77c21474ca5e58e488d479bfb2f.dicom', 'train/71f4c0a549555317cb9446e797333329.dicom', 'train/2551f70491463268999015e4af7f2b6e.dicom', 'train/9ae9d72ef8014364b688a8c24b0b8a30.dicom', 'train/27d53ff81139f2d3db7a0b9e26bcabfe.dicom', 'train/bc93e11d97c944b6cdf1c5ea4537a3d1.dicom', 'train/3b98ae773a7b1a8d25d9728d50c7cf0a.dicom', 'train/81abc8d70116648681199f09d95b096b.dicom', 'train/7c4cb936172f49d7d835ddc10dc284e9.dicom', 'train/552b17a08d09b5a2a49c714ae65e89c1.dicom', 'train/1b0df7be7e3ab1aba1f49c2ec796c8a7.dicom', 'train/940355f6e56ca68326a06a92423ad0f4.dicom', 'train/37841821ce197b83a9d543f5ab4d7b4c.dicom', 'train/4f93f49bd7f4e362c52d3e239f11ab54.dicom', 'train/1297caf3ac7b165b5115aead839ab1cf.dicom', 'train/670532f22a853ecf9c38848eab3cfab9.dicom', 'train/33beea2de0516299e9d66a3659f57a4b.dicom', 'train/19170ca51e34186cce7795912a3dde51.dicom', 'train/d67fee43deab002294c903eadb085a51.dicom', 'train/0d731423559f884d9900ebd299191a94.dicom', 'train/d23f7254531c133e251fce5045c0b39a.dicom', 'train/1aa56cb71c4c83ce7a61611707a26e82.dicom', 'train/1bca04c8dccd0cc2766da6cab36722bf.dicom', 'train/6b7a844a6f67279c286655576c66ee02.dicom', 'train/9238db1b4cc5ec27cea276e80eb7033f.dicom', 'train/8a3bb5642941b7558fbfdb63fd25200c.dicom', 'train/6185423470044b1cbd5e14596a81fb28.dicom', 'train/c428c7b36ac2eb258cbdc46fac38e946.dicom', 'train/58dd8d05e3bd6f82005b6f1290e74324.dicom', 'train/4c163ea906815bbf366ce0f64cf215d1.dicom', 'train/908333d651860e86725dde3fd8b77669.dicom', 'train/fbf8bb96f6f18654b08b6585829f5e6a.dicom', 'train/583fa7fd88791b5c4aa7c339d3befaca.dicom', 'train/06932e3eabb20a601be9f4d24486da72.dicom', 'train/d18b701a934b6d6b6f10e11f7a73726f.dicom', 'train/f9adb816a787ab3dc31b671744a140b1.dicom', 'train/29c8d8a7d30064be64e296039347b77a.dicom', 'train/9e32b59b919d67200728b4e4257bd74f.dicom', 'train/d7936b4ddd3b39d8e4f7bf7febdf09b0.dicom', 'train/d985deee9682defaa73da56611237966.dicom', 'train/e7d5331394c6733f2fbecfc72d40c32b.dicom', 'train/3ef69f94e3361a50481c274c0aaeafad.dicom', 'train/568bb1cffb26af720b924f340c5b3114.dicom', 'train/d40f1450ce5c7e416eaf4617f287212c.dicom', 'train/a9abec39824c13bf570f0ba177dee022.dicom', 'train/44a70b1a3412fb12ebd6e5038325f84f.dicom', 'train/74fab030d25fb0a07b0fb6ed1f3382f2.dicom', 'train/d219e945dd273f46635b90163b27ed06.dicom', 'train/3e2a663b434cbcc4ef15a73be9c78c2b.dicom', 'train/0c61468df7d1dda8a52c14b9af1b9559.dicom', 'train/144a8760c0b44b51bc31db6a9ee9ec24.dicom', 'train/1e6d626620b7a7786e45b3ce9681a7fb.dicom', 'train/52df376e249661b2e427a7de54189d0c.dicom', 'train/714856e6d50b02d825161a7d85cd3392.dicom', 'train/6e8d737050e85672c1726212d644c379.dicom', 'train/78cbe55efcbcc756d49bc91729dc3fca.dicom', 'train/c7554bbc09a40a3596a414913195399b.dicom', 'train/6122cb4070f1b3fcc948e1800c2cdc4f.dicom', 'train/f0c3265def8055ac6f0b24d9609da776.dicom', 'train/c2b91f318618dd77d900878e98bc3967.dicom', 'train/8bcc1e8bac747deffedbc04cb0a9d950.dicom', 'train/61248e3abf8eda4eb65898f6719860ed.dicom', 'train/7ee340688790d07c89704d616de6516e.dicom', 'train/58eb58e9dfab9494ce9cb24305747fcb.dicom', 'train/b87a01857709d3025da67f2ff3003e3e.dicom', 'train/ee5860b1315c513e368b8c7af34da2b1.dicom', 'train/39da1316c43000707e071d7356389376.dicom', 'train/823e2ae22919b264db9db53a1b724074.dicom', 'train/ca65187bf055a638005ef41020b638cb.dicom', 'train/3e4df6f84a70be82115198c5c2bbf38e.dicom', 'train/2182312a0aae5b3fb60919ef3f32fee2.dicom', 'train/287fc87a7e890efd75dabebfdd28e262.dicom', 'train/84bea8bef04b55a5ce9e5f2da2f12305.dicom', 'train/51af6f0d13cb5e70d3b8231fc907997b.dicom', 'train/14c88e49af4d8fcd8a6d3a98e45925ae.dicom', 'train/0201d70660bdd974a11f0cafdc654ff3.dicom', 'train/1f7c247bd68b8c55cb77be0fa21d7a98.dicom', 'train/d29846e34c727f8b810eddc5b0dd1e33.dicom', 'train/cf5fe6a662710afca199978938ffe65d.dicom', 'train/8d6674cd69e33044f9b7599a837c0991.dicom', 'train/f8427d7d4da21078f75eb42a5e0cfe7f.dicom', 'train/2db7c9f24fdb26da3312ff5d2aa91eab.dicom', 'train/e0e708f6d3d00e1f176199db63936a72.dicom', 'train/64812f8530a104b27e81d68a7b6dc239.dicom', 'train/d63882754f1ee4c2154ca7fee4cb9313.dicom', 'train/9a281f7b1a6bcbad6d357f4fd6e4719a.dicom', 'train/7a5b6c26ef7bae6a158a9b0bc9dad5db.dicom', 'train/2269b7f350608a2ea423ace1533b6807.dicom', 'train/515a37da68aea74aa715bf9ea39bf427.dicom', 'train/ea3dd3b5d29019255c7258e87c66530c.dicom', 'train/7fcc633457f5314b8ecfc6c77a1b4450.dicom', 'train/ff6f9eec634fe92162eaeac9c76a2395.dicom', 'train/b6d43d0d6cb58a3a4212666154cfead9.dicom', 'train/827624d39a0a1eb2196c95118dda3532.dicom', 'train/3a72db8d6e14ab15d613dbc65a7797aa.dicom', 'train/ec530138ccc356b1247748345754f5d6.dicom', 'train/bd964d5d6e8a5dd911bf5955a66aa715.dicom', 'train/fca624cd9357aad58a166053c293dfd8.dicom', 'train/5cabc7ac134ee0a7d0ec4a2d898976f1.dicom', 'train/184e82fdd1193f782b72ece61713bd13.dicom', 'train/ea131af6c6220e2716ccb1accbef238f.dicom', 'train/7032892d5065f954412063080797347f.dicom', 'train/dc1ae4df4bb21cd56051cd3a0d31da52.dicom', 'train/80d05a9040df1f87305af772c5803c98.dicom', 'train/6c5628ce922388ce6392a5b2e1f4748e.dicom', 'train/e02f4f66fac3bc57c2289787d5ac2c4a.dicom', 'train/02a8b3cf39f1156b4bcfe7942e4cd1b7.dicom', 'train/123869925c1eeab34e926c14a3ec118f.dicom', 'train/de6870349626911fe7321695d93b30b7.dicom', 'train/92edd25cfc89b0cc0d6902c89cea556b.dicom', 'train/d0cfce79fc12562e0f3663759b34b7fd.dicom', 'train/baf5875341297a8100c4e06453cb4444.dicom', 'train/a3229e9123490f2ceca0ca7f06f7c9d1.dicom', 'train/8d940b8ccd4b034b6e1dad94c82d1d68.dicom', 'train/bba029fa5e2cd1db57d3c9935877efa6.dicom', 'train/58fd63f20f2a44596cbf70e9e16c2f30.dicom', 'train/c8c235f2f301027db1c4e2924fa78d16.dicom', 'train/5ee1fb6757b0d045e11073db49316bce.dicom', 'train/31684af75506e080547a61b3462c428a.dicom', 'train/656b7a972946064b7bf4c5e942cbb9ec.dicom', 'train/b312f913cc594c8ac237b8c3f8551964.dicom', 'train/c2ac2c2e80298c5ea3e5cbd0410ebf87.dicom', 'train/e1a777ab9f3809e938759436f0db5db8.dicom', 'train/c173a87a3a3c223f746be3bcb6b2ea74.dicom', 'train/a36d476bdd27ec9071e9932761e977b7.dicom', 'train/1d40f62f248ed70bb420a25d0edafdfe.dicom', 'train/697dbfc37998587a16aa9ef9b2fa26c9.dicom', 'train/9db210216b83f1f5b490299cae8b8cc7.dicom', 'train/058773b75f41419cffa2bccb7a065f65.dicom', 'train/a31d893efd49b97dee1d55483b10d6a8.dicom', 'train/0bbba97f495846f6d5f1a32ec8073fe6.dicom', 'train/15b010f2eea65da16a131155ab2c3b8f.dicom', 'train/63350f3d31132feb48badc6e12e49b56.dicom', 'train/6ea6b6a1772b6bbd9b0715ea5b965872.dicom', 'train/7b11168540a850fe3ec8751d5d7da8fa.dicom', 'train/e0d5cc63cee595e35f337a332a652e9d.dicom', 'train/3ca144df67cf48224ef58c2e0d54f969.dicom', 'train/142745aa49aedddc83bcf1f314c6890e.dicom', 'train/af8a3bc7dbc9292e59867f3148ec32ff.dicom', 'train/8c950f068ed827e81593749eb29aabaa.dicom', 'train/b36c39ac95b4bc4af9a497c7466c1592.dicom', 'train/5a19d646752c0647c7074d40e87ae7c1.dicom', 'train/18031bd1cec24e2268aac121369883fa.dicom', 'train/b9ba4cd1d2aa47e7ead9161c15e02acc.dicom', 'train/aec5bd16ee2e3e8b203ff5f3f9bd7b21.dicom', 'train/cc469b123c614c390d25f6377229344c.dicom', 'train/08a0b1d80d2312c7bfc439d940f708ef.dicom', 'train/000f60ed28579e82c402b99fcff67ef5.dicom', 'train/f762c1e53c829b9bf8944b77728c6c88.dicom', 'train/11d30f9880e125571c81293c84810ab5.dicom', 'train/83d28bf886ac64bcbf772380044235f0.dicom', 'train/82d001dcfee80209e7d1899aac677409.dicom', 'train/fe37f109674d3e0282a39f79d897239c.dicom', 'train/033dc5b0c18a239b99f9e0a680287c20.dicom', 'train/f3b55648ba2d714b0265787950d13bf3.dicom', 'train/1c92d435568b6b15bfb04d73be944e99.dicom', 'train/06b6845980e5fb86454e3093b53a396c.dicom', 'train/89f6de10bc07c8687f48519d001ccc9c.dicom', 'train/bad8a673329fa9a7be5fa3d99f01a218.dicom', 'train/7019f27c2303f95aaa80562b3fda093a.dicom', 'train/35e9925ef874e91ee3f9d327b8c841d7.dicom', 'train/919c1282b26e5ce5f74cfdb9606af57c.dicom', 'train/bbcbd233f77ac9064db2999ee063322e.dicom', 'train/71ad0216828772ad212da9e477b0ca42.dicom', 'train/ab682789a829c44eeb364ba519ddb1ab.dicom', 'train/c8238150ebfa1617f4c1e5ba7a78ad06.dicom', 'train/e947ac93d8005ef1ab6b0bae0edd1cac.dicom', 'train/39088708578c57be8fd4e8fbfff75e88.dicom', 'train/0659f200adf8b6725b4be707701d2b39.dicom', 'train/1488b6c5e5ae98899350f1032c67eab4.dicom', 'train/8b55c11b74bad2708716b541989df18c.dicom', 'train/7d5be3270eba4b585baf0d8d1f1adc4f.dicom', 'train/3b580576d8b493223a00f9625f5549ea.dicom', 'train/3f66e69ad8915df0873b03dec6e83e28.dicom', 'train/59a24b25740a1e47612c0b9d1fd1325f.dicom', 'train/f42fa0c3fa0d3aecf53e7b365e40242f.dicom', 'train/20c295e0bc8029606ad19c024fc4fa97.dicom', 'train/587217d696de9a5fc4c95023de2706d6.dicom', 'train/69e2caa2f20fd92b8faae072df21de52.dicom', 'train/7a276f8ebe0faee9d107cce82d264983.dicom', 'train/cbe693463095e63c0f25369217f6e860.dicom', 'train/a5fb00d9197dcdf902991dc3754ce9b6.dicom', 'train/2169f5e9fa79c921b6db1aa8cc43ae0a.dicom', 'train/c8001c83cf2e61841c4c04ae211429af.dicom', 'train/795d3710dc1bf8555bdcd518bc89283d.dicom', 'train/4f878ab3e71ef98b94871c31ed2e585b.dicom', 'train/755bb114e8e5174386f708bfd7331b0b.dicom', 'train/2d66e30a175def3b76294974cf42ac83.dicom', 'train/bfdb78083d931ab3a6c3da921abcddc9.dicom', 'train/6258a50c73f79b38b5acbde426b9a290.dicom', 'train/0c526da52b81841e70750ec05f98a224.dicom', 'train/9cfd827d937a742caf60b404a5948f13.dicom', 'train/8e6e80ec4aab949c8a15ee13801791da.dicom', 'train/6a41ff08c293ffc59f39e213271d4008.dicom', 'train/9b4547bab4b56eb62a691909b6304e57.dicom', 'train/91ddeaff8312ef9f04d25ab1e9a49421.dicom', 'train/8dc2773f087a886b83cd53a8d602b23d.dicom', 'train/6cd3142267079bbcda61a0825d05261f.dicom', 'train/b8286e8d2517cbf002b8d6e07fcb1b77.dicom', 'train/c4d75dbfa854eb656fcc65f84ae1b2cb.dicom', 'train/a5c320531c508f5d5b9e58a249a51806.dicom', 'train/d24e6788a547c43f8d1e401fa5411cd4.dicom', 'train/e894b833349b062fed9a5990e7b965d0.dicom', 'train/16d7c21686dce918efada843a5ccc4a6.dicom', 'train/03c0919d475ba6f17f3df927223cd5f1.dicom', 'train/f15352aad936ab8ff9c9e19fbfe21868.dicom', 'train/49a7f15806061307d1d75c5c9b698ccd.dicom', 'train/f1515941bf1eba28b1ef10c7fe3a16ff.dicom', 'train/9011e9a105dc72b46be035f16fd5d12a.dicom', 'train/cbada35dcf4acd3c6f61592ea8989f14.dicom', 'train/ad320c18d15cd59385fc1900e516a69d.dicom', 'train/37cd07e39a43cc12a13849194d7b6f25.dicom', 'train/8df7bd13fd1e68138e95a1399dd34904.dicom', 'train/b04c66f6c3e70ce6def179ba27dc1bae.dicom', 'train/b7040f5725b75c0ec6411877fecdd79f.dicom', 'train/29e4cc7a660e9067b6c674424ecd1c84.dicom', 'train/0572177b6a31a73453f8a737e10a0d9e.dicom', 'train/1572fb4303e3d8258813172a072f7752.dicom', 'train/2991b17138ea80000418616f4fb21228.dicom', 'train/60e6f78b2a5eae4c00ebd30f509e3715.dicom', 'train/92f53bd3a710868a36644220276b7649.dicom', 'train/ae8688b9df4e3f8cfbd313c4bc195017.dicom', 'train/a4f5ff14e03725a37f7b042781896612.dicom', 'train/ff08a39ca4a5db2253ebee753f06d560.dicom', 'train/f8d460ffa96abd116a91e066de660ce7.dicom', 'train/c5888808f93555aea2594fab119e55ba.dicom', 'train/dcef30928dd7c164e47a228ab71fc73d.dicom', 'train/3c72e36b18e759c910d44b97f4900fce.dicom', 'train/0dc7c6d0e52aea44cb728aaba110391b.dicom', 'train/2567b7cfd04f576634c38bbbd23db014.dicom', 'train/381333b8dec089970ffbab32e8da3c67.dicom', 'train/5a714b41c0e6c7c8e7fd497476f62e52.dicom', 'train/16c8c319e43b302874db69feb2469a08.dicom', 'train/b41b9d482de979b1052f01df6b49e439.dicom', 'train/ae12272b14e228625e2c922b1f9f5959.dicom', 'train/c7baa5d095d8384109dbdd590e5f3897.dicom', 'train/2e3f097bb06731a9486a5d778502b5b3.dicom', 'train/4b82381005e22c7b5c88ddd4ff7b9de0.dicom', 'train/27117b5847c43f7c96437f4e1ff24a3b.dicom', 'train/f7ae915776d7026d4b1dfc243bf99432.dicom', 'train/afeae2edbbef023b8b95ef83fc139a08.dicom', 'train/11ade8adee661c1a29c621aa49b0bd99.dicom', 'train/bd20494fdd22d2ec608ca0755f0a9dc3.dicom', 'train/da3004d953340894a114baf872fdc1b4.dicom', 'train/21a0ff1d7079c7c31686c5d5b0da22db.dicom', 'train/7c2cf8d9933655594930e27728e9d4af.dicom', 'train/0ad1a68d45cde65c770095cc5384e043.dicom', 'train/a71f1e4b69f646e69af583ed3bb9637c.dicom', 'train/ae2e81c5e9f642a79ebfee3cad09bb0f.dicom', 'train/c76968f49c1f21a420632374024f88df.dicom', 'train/52dd57a4d3fc07fafab3453574a73f78.dicom', 'train/dccdf0a5d418805ffaede8bae8ee2988.dicom', 'train/d5f5fe70461d925f62ab4b2e1b9549dd.dicom', 'train/2ac0cdfa8a9ae1fb39b9882f5e39e180.dicom', 'train/87fbcc19ec3b5567f8eceab866e3aa50.dicom', 'train/1673b8267ec9be727b166ebc711b21c5.dicom', 'train/2b81f0ce861d36ebbbab38df0d66c487.dicom', 'train/3de9b2b14a97d525bc45f3b3c1eff291.dicom', 'train/d90336164b645e4f16c3f67e79316eac.dicom', 'train/09d884f36a79f4c6fbdd1a46b2ac8ca7.dicom', 'train/21b18820a1faae615cfcc162099956f6.dicom', 'train/06aecc3438b0c7bc15c32f3d118eff3b.dicom', 'train/cf8e0e3ffafa2ed629f9ddb6d5e3c2b0.dicom', 'train/050db3a058bb07468ed9adfd3358f9dc.dicom', 'train/27959f67a46a1bbda5fa785ad630b56f.dicom', 'train/30d6eb19fb70d6f952034bc7aebdfb1a.dicom', 'train/df0fe60ac0d6250b5f881121ad783a17.dicom', 'train/82554f4fb90d107b3a1c2bbd269430a7.dicom', 'train/40f61b35c45043babb8c792c72349e9b.dicom', 'train/38a91da30a870b1e49815df449db47cf.dicom', 'train/4fab85241a0769086bd382e65ca39925.dicom', 'train/20eb260853c8cd694a31d8e58137ed18.dicom', 'train/bcbc149b9874de2bf6d4b41e3a29e758.dicom', 'train/83e32e824eca0ac1d755ae515f5819a2.dicom', 'train/387b8abc9a53238cc08597ea67973194.dicom', 'train/3f48d20c9fb46a3a246f305eaca6d3f7.dicom', 'train/c614d9ab6064948f5a059bcefdc124ff.dicom', 'train/150b9b8cde49afe7ac721dfd51709888.dicom', 'train/a6ae47d7f2d440ff39ba48edbe0fbe54.dicom', 'train/d57cc88537fde2764dc7f86952b3b52f.dicom', 'train/75891c7ad58112c56d9aef6cfb593dc7.dicom', 'train/619165d8c74bc954eb2744b2ef88d6ed.dicom', 'train/14ab72471cd01a0f0405547d973c170d.dicom', 'train/f283adb1f55d4678674c5a3814155d92.dicom', 'train/d3e4a6db9eae394cc66ab131fad147d7.dicom', 'train/89b77fc6b74a573e740be40d3acb9a91.dicom', 'train/feda24c94e1d53dce7d812008c3560ee.dicom', 'train/7870f272851b33ede84d1ed1f6086830.dicom', 'train/a3b8919c3628590bc55f9d72641a48a7.dicom', 'train/dcd758995cea36ec72acbfc636756aa6.dicom', 'train/64fe3522e26b95ab03ba6681e29973f0.dicom', 'train/06867f49ec35199ac3f3452087b3e67c.dicom', 'train/108638c79bbda4290c8e0e8ac6a3dec7.dicom', 'train/25dcd78fc1a962942bca83a14a7f6f56.dicom', 'train/22a7c480acfe944d6366e07876ee47c3.dicom', 'train/d670c66ae7f4c7a8cab14d629d61c145.dicom', 'train/090138fa507fe5ac483fe4d5aebbc78d.dicom', 'train/6d02ead631cae5e7aabc2b2e8f8766ef.dicom', 'train/f3a5886a0c1ceaad830c67796bc29a1f.dicom', 'train/fa29851da3d7bbbbbc98a29b302955e2.dicom', 'train/3a0b57c8edacf90efabe8f7b7a03e75f.dicom', 'train/0421884d79fab0f15870f3c8ff604f61.dicom', 'train/0cbd135fff6f313bbf68b88f246051e3.dicom', 'train/dc2b70ba8d56d4a07297658eca54d74b.dicom', 'train/919b83ba1e7c2206b5e874871f6f3369.dicom', 'train/6d7cf99708474c3304adffd4dfb870b1.dicom', 'train/66d542ebd85de0b69d06ff93434372cc.dicom', 'train/9ab04100d60521bfea5ae2b0f94f02d6.dicom', 'train/88a2457a0bc7c7b01882b87842778973.dicom', 'train/10ce4363756155d7cc4d58f57aed2d0d.dicom', 'train/ec6edcfb7408d250cd343bd85d35c3ba.dicom', 'train/81a428f38de2fbba3f282ccc4db78343.dicom', 'train/98bd4ab7667e2ecfbb72aecea2ef8257.dicom', 'train/783a020ae2ffed214e3d444723e9ac8c.dicom', 'train/6880576d842e57c1a54aa0b24d8c1f33.dicom', 'train/1a1963bf648339108ac0739eefe5b572.dicom', 'train/c55c14717f35af9b5447a2e0bd2c80a5.dicom', 'train/8cff9c40122076290ca86cd825e17866.dicom', 'train/37a060be9941fb25f0f6909fcb5f450f.dicom', 'train/bb7d6649fc80b8bf95daeb824b1c7cd9.dicom', 'train/f08d659d1c2087ed151deb9b14bee8de.dicom', 'train/8d3df56f4c154c7eb3695ec2cfb4a767.dicom', 'train/f6d8b969983aa79548640eaf9e604b77.dicom', 'train/6aee5feb50af6ce2aae4c5431b264f02.dicom', 'train/60ea4cf25c34377c46c0a0388c5e0391.dicom', 'train/1bdbfba81dca63ffc7c3c013dab6a2ce.dicom', 'train/f320d6bf92d3ec9e4d8048661acc24ed.dicom', 'train/f03024e224d886eb6adc16e35944cfb3.dicom', 'train/7c38af66567d06796a6ac595a9080e74.dicom', 'train/57f0b83ddb110bd8fb0cde3202cd197c.dicom', 'train/289de1539666b4d8479ab626b00d7273.dicom', 'train/540e7f280a4961373e5163053fd3f6e8.dicom', 'train/bba2f11116c3996fbc33f35699459120.dicom', 'train/2100ac67d074f7a9dc3a75229fc8d24e.dicom', 'train/996f6e418bdd847c450bcdcdebe8fa30.dicom', 'train/edfba17d607d0316ee979a1f060700ff.dicom', 'train/b2194fe3fadb76d86b9fa652c7256bab.dicom', 'train/ec90474ff2a947f1a1cbdc62ae8392dc.dicom', 'train/8b1370d01e1c70d11037bfa8d3d10cb8.dicom', 'train/e4d9e8bd1fc6d266dbf36b9b37c7fa02.dicom', 'train/766a8e74c32c30074e18f06a6a976352.dicom', 'train/e827d636abe7f2c8da64b331914dc299.dicom', 'train/da0a5bc46aa49731d8d71506fa2b82c3.dicom', 'train/f7a8fb60ddc639545b110dcc46db7397.dicom', 'train/df5252e75a5c588878ff58c87bd0d1a0.dicom', 'train/433f39b99da181439a205221730f8c1a.dicom', 'train/2d17e46887c23cee14e0b55f8a24e085.dicom', 'train/178e441715a6ff12b68a635c5d665590.dicom', 'train/5742a5fd4454d8b5849b06d7562e35fb.dicom', 'train/87b0baacf5f92ed6cab2a262ae50990d.dicom', 'train/f5b876729101044384d37e518d1ccfde.dicom', 'train/cce40daef1ff7f6cb848ad8d1586bc41.dicom', 'train/2708362338c18c9b910a01215a3c390c.dicom', 'train/fee9ab64e30471abb2f7627dab60b7a0.dicom', 'train/56c1b19386afcacde7fbb9e4e5da06db.dicom', 'train/ef7b428b65f687ffbc3cfdd2c10fc758.dicom', 'train/a08432550193bcb2425c457c59b968ce.dicom', 'train/6ecacc2bde8171877194eaed380c8dac.dicom', 'train/12581a5e381f04883a19d9cef17a25f7.dicom', 'train/cee33eac13e72e1450f13846c8669304.dicom', 'train/50540bfd11a301dea8e792d9251195e6.dicom', 'train/80e8981092fa65b15b12af1a9bc6635d.dicom', 'train/8a8ba5d027a463f7e61feae20bf9843d.dicom', 'train/7e9713b7d7c412b7551050ddac7c2353.dicom', 'train/f03481ff35f1d6bf858771c019e7511b.dicom', 'train/d45b9a3d52fed4c4d3df3a245aa123e8.dicom', 'train/3aaea957c23931a2cd773f2f5f82d9e7.dicom', 'train/eb1d5fdf84551972c17915e6414cc3f6.dicom', 'train/a65c9ceed70003e03dfedad185b0b62d.dicom', 'train/a3374f3f828e0f916134c305090481e6.dicom', 'train/7a91230ad2e8411a5e2981f44b58c38b.dicom', 'train/80e9ea130e08e9e3160b0bbe687655c7.dicom', 'train/3f0e670a81aa8b6f2b47a2b0fff1a98e.dicom', 'train/943482b4ba0dadfcb887910ef86cab95.dicom', 'train/fec7d4e6481df405a75f3d8260c27ef9.dicom', 'train/954a28933bb0ec128a05acdf0bbccf80.dicom', 'train/1c4466dbedb8d4a456005cb9d96f42b3.dicom', 'train/1375de16abc4035b8bd02aa69bfb5ee5.dicom', 'train/4109b4c99aa9215aa0662e1fe13140d3.dicom', 'train/7c02ffee1dfc066751644f90d19564c0.dicom', 'train/fdca60c8957282192173bb003458d308.dicom', 'train/824d1ac1176b372ece1d839d38e40532.dicom', 'train/c4767e7187c9a4efcd752d5577130849.dicom', 'train/ae6e3ecfa508e6838eb060fed32be7fa.dicom', 'train/8ba970aa3b6893ce2434082ae47e747b.dicom', 'train/824fd6765fe5ed29888b1273b07ec8c8.dicom', 'train/b36453960dc5a6bcbd26c8dd1286aaa2.dicom', 'train/2e92177d05f9cb1cff459cbda628eb1a.dicom', 'train/f7768fce2d07c96db7c9968cdd105c1a.dicom', 'train/2ad3fc83d7ea872b8401180362805f99.dicom', 'train/8fea2c5fae37729100b610ecfe64c051.dicom', 'train/cd503038f77b42621aafdbc554913c31.dicom', 'train/9e2504af7a8770239a068fdefd70e92d.dicom', 'train/9714295f043b04fb2481b8c937f085b2.dicom', 'train/3ce15c74258738e624ac3f419093d211.dicom', 'train/3153150aae9c6cfc442dabb9ae68f217.dicom', 'train/b8e1754ecc69760c5752a88e149ec706.dicom', 'train/8c4fe217d1fb8ebf765f9a93b4d1314e.dicom', 'train/ae88e635d3a79d386da4a391208dcf0c.dicom', 'train/4ab5cf41f492fceaad761b141a9a0056.dicom', 'train/c0796af65a67188b4e7896dca959cb1a.dicom', 'train/b1d4809979b8e7043a7d7fc897b6e151.dicom', 'train/a232fe13ec8edf15c12298e33c1f628b.dicom', 'train/2737a74b0ed2e56e54bd37039ab89bb8.dicom', 'train/29ca75ac3a424e795399428cb9afbe47.dicom', 'train/3db7abda7275c0f5efd9e997a385e56e.dicom', 'train/55ff35f30ab472c3566e47c77c61d743.dicom', 'train/903781da777a74f99a129bd2587f1453.dicom', 'train/c2c2913399b619029420b6c7a20fb295.dicom', 'train/fd8c66fb66751d4210fae4f23a0dd6cc.dicom', 'train/ba4b3d327d7cc22da1d89511bd4c5dd3.dicom', 'train/81fd3bc7670b9ff9574ed55e7d1847c0.dicom', 'train/dc5160a57bbe5371e5bf3b062768ae31.dicom', 'train/e6275d7f7c9f38e2a8704d8de1a389b0.dicom', 'train/a51afe8ade4c8b53a0c69280655771dc.dicom', 'train/642e4223fc6172eacf6bc781286bbadc.dicom', 'train/11ff61dfd8214d93d15fc51f37099f0c.dicom', 'train/9d965a6d5c8664be22f0d04d09756643.dicom', 'train/796c1a725d08aef7a53c9881a658d7b8.dicom', 'train/34d978633b9127356a6f08eb4b8e2cc3.dicom', 'train/6356d8cf6c68233fb53d1edb56f60360.dicom', 'train/cf86b785f843513be7cdcfa9cbedeebe.dicom', 'train/5d82cd41504029407de8e85f3fd9977f.dicom', 'train/ae9bc99f603ca04abe83647af869706b.dicom', 'train/7cfb20464ef64db3d01c780f42a6ff76.dicom', 'train/85f3623c5ec45dd02bb30e56db148386.dicom', 'train/fcb21162a99df7987d8ad7f6be54aaec.dicom', 'train/7034a489ed7a53e619e1799d51a53cfd.dicom', 'train/412bb9b85c0a627e86e343a72cc6dd39.dicom', 'train/3bea6f246f86750eb390fcc18a64d9b3.dicom', 'train/a00503662d52f8cebb57bc4cf640a5d1.dicom', 'train/36feb5320cd14722e7c999ab0fbfe092.dicom', 'train/9eba1e028ccdd5b89b674044fd802bed.dicom', 'train/642920049e84ac0486ff6ea433c65e48.dicom', 'train/5011bf9830a7736542206f2ca8fca4db.dicom', 'train/d800d3a702ebe2418cf04ae4d1e29eae.dicom', 'train/577b9e7dbfc541857f1e4048dade667d.dicom', 'train/ed9bd5e19b37ea936fa9895937d00373.dicom', 'train/1afc05a7c2a8fa0d10c14aa2d33ec8a8.dicom', 'train/ccdd7ca7e1bdd22d71bca177a60be6b7.dicom', 'train/cfaff1cca648d9cf7a55944b4011e57f.dicom', 'train/95eef55a98e36669ba129d91fc3e963b.dicom', 'train/c2f241ce6bda0939d7406b76b84e2a9e.dicom', 'train/592d69e6e8c6447d530c7d3dd329fd88.dicom', 'train/dc6751f5af542064d362ab7b3505c105.dicom', 'train/8836ce8aaae642e9bc4cc614c1f4086a.dicom', 'train/950eba178c034cb00ecb87a05df4c596.dicom', 'train/1a184626938b5869480077073a22ddba.dicom', 'train/90d4ae75890f9ca562401d37743cfea7.dicom', 'train/b4e9d81a67ec8f68c552c3802a295e1e.dicom', 'train/dfba8b64e14e91e2d83bb39a17f16c1f.dicom', 'train/c0ce083f0c862b0eec67ff89a30716e7.dicom', 'train/aa07cd5a80eda890c25b2d3ced4df110.dicom', 'train/de1de53ea6bd1114c6abffb251869e86.dicom', 'train/979d16deedbbea3587077498a87a4ee9.dicom', 'train/af989827bc3b0b33f322091005b7cce4.dicom', 'train/45ab74a8eca8e4824461423e14453ee4.dicom', 'train/50bdd81c299f9dbb7a1b4d71201a8364.dicom', 'train/7797379190206672222300e8e288bee8.dicom', 'train/655ccf59333894eb5c3318072d79e3ed.dicom', 'train/fdbd9aca2cdbd2ed17facaccaca2add0.dicom', 'train/2cf2812d0960c7bd433bd871c28071e2.dicom', 'train/14c6a303e969002c0b05d0be7d2a9c44.dicom', 'train/dc6c21420e821e39d460b6c4ed468afa.dicom', 'train/7f6835648ec7faeb002efcfbed3a2baa.dicom', 'train/307d1704b990352f885d8259f508bcc7.dicom', 'train/e2bd4fa1276afcb61f44043c05260b64.dicom', 'train/49012d1e0fe0092bc1eba7ea07d6b66a.dicom', 'train/2d3e5cead03d4a96c0c90dce9d8c39e1.dicom', 'train/50534874c40b8e128c7e98f49b70c665.dicom', 'train/bb41c1ab70b2dcdaf3e1f20b0b253880.dicom', 'train/32d0ae762a4ed66966060637bca3d51c.dicom', 'train/868497e98d7f5dbedcc272b807bfd4a0.dicom', 'train/b2a0fff2a8cbb1ad39ff8547202606e0.dicom', 'train/82a4e1aeda7df8fdc5c89b365711d1d2.dicom', 'train/ece4bd3fb164491eabd6c134c91d7067.dicom', 'train/5c03743c3e17980423763c6ba3ffb328.dicom', 'train/f1332a29c660582d2cdbbbccf5100132.dicom', 'train/0e8e2484b1a2bb345699313b2eb9c093.dicom', 'train/00dd01488ba5e64f6976d1032106f216.dicom', 'train/2b1067e6fa7863d76666d5c524926e43.dicom', 'train/b0eee12b6599e028d050c38a049e163e.dicom', 'train/476b6f581d81ae1a124b53d8e4ca6427.dicom', 'train/122c325588747ca570b295b8ac71a659.dicom', 'train/4c39c00713638ed38506cf1f1fce8e74.dicom', 'train/4ae5e817093af931efc97ebec909fd63.dicom', 'train/0593023add7a752fd71a29c81717ac03.dicom', 'train/6483fac6d6dccd786c99797eeb5ae9ef.dicom', 'train/2ee824bbd42bcb903237b858b09dc95c.dicom', 'train/d660ee2566d546b19494ea95a8fec092.dicom', 'train/3b818c624df68a46eaf1a25185e25285.dicom', 'train/8c88a333ae77894d69533e8ab363b0e4.dicom', 'train/42487e40ff4e30fb810eb808efe36247.dicom', 'train/b7a7150b1005dcd8b0f2698a086da406.dicom', 'train/236f8945683d2c1d5268de347560178a.dicom', 'train/d35eec38f6ea0dc5b0e8fcb8e41e460c.dicom', 'train/d7d25a0f475e829137d5dfc2316be6bb.dicom', 'train/761bf98e91a6ee4d6bcc7405c34e9c87.dicom', 'train/8bf9f57e4bb711a4eb118b391b5aba65.dicom', 'train/96620b8f0d12a4770afdbeda6336c5de.dicom', 'train/e59d7dd7711abb9231d8812e4cdf207b.dicom', 'train/d1162cf3598527e406bece107a004aff.dicom', 'train/b6d82e0e8d851542d1e0b3671862c702.dicom', 'train/190d3e5dcce84b6d165fa8458b37f16c.dicom', 'train/bcd966375ec0664e95f0b33cdcda0fb3.dicom', 'train/b882d3b0c35df5800f622af00b491028.dicom', 'train/5d3c3a1361b9a5a6b6737ccee0a741a7.dicom', 'train/7a215d56e2b72b329d611b062c26ca58.dicom', 'train/926d36601a467152fc217d2bfe97a9a4.dicom', 'train/5cb67b45876176262014e68ee4801afa.dicom', 'train/fd7c5d882d2af3aa36c1a82e48f0d8a6.dicom', 'train/17d628562109ba68fd3de259e60fb245.dicom', 'train/bf5090dfa2e6f8855eb014cc0d0e0dd8.dicom', 'train/a6a3f845d3854d2f474a6fd88afe8f54.dicom', 'train/9d80890062238588b1d243227784f8b8.dicom', 'train/19bd29d21a0f79b0564e9ee316af279a.dicom', 'train/c86fec2a60613245a5d0ad94e0b34dcc.dicom', 'train/d6a5974b7c629c8883cf29bfbe1edb3b.dicom', 'train/c58457800bcbff60b2bc9b346b5d06d9.dicom', 'train/2618b7fa12dc4ae5326a7315eb0487ae.dicom', 'train/eea5bee6553e9b72cc83c79bbe1f3f6c.dicom', 'train/e20124dde72db149ecea423bd37b18bf.dicom', 'train/db78890ee84f23acf426620f9a6e5b54.dicom', 'train/0e777f6826b4ce922b0d08a477e6cf0d.dicom', 'train/ac576f1b7fd65fdbf887dbbb90e2450b.dicom', 'train/eec5b3279e169eb9aa11bfa3ad7d432c.dicom', 'train/a6da33e9e6e86a099185770f6df3148e.dicom', 'train/ebfdd0f088eb9772294953f945ac71ab.dicom', 'train/baa3d21515be2c689b3c759aacee8aa5.dicom', 'train/34a5474da9a86f4d35da9933fa4da5f9.dicom', 'train/867d718799368f6bb5bfdb7ac1590779.dicom', 'train/54f8be5187338a71358444e094a1de6f.dicom', 'train/65adf457e22e9056dc9dbf099c4f6b57.dicom', 'train/b1507e1591bf1978875626f3bddd64ca.dicom', 'train/5f706a908cda03e82698b6b922bd1cd9.dicom', 'train/4f952a50cd547281e0e2631ee24239ab.dicom', 'train/1b29b230d8a4aca144ce36601f0c2619.dicom', 'train/f7caa06e15cb92191f19c8b878a5d04a.dicom', 'train/5260a2c6f2a6251b9897334e5732e6ee.dicom', 'train/ca8f3c099e64fd0db5c83f1614f743e6.dicom', 'train/e4c2afb0395e88ed32846c6a147a50bf.dicom', 'train/0018c771a8e8c20e6d7d5bc8e64181b4.dicom', 'train/ec0e2893ae8e2de32fa585ea6619cad4.dicom', 'train/3a6ff4823c2ac33812f9417ed219d2f4.dicom', 'train/74acf21e7e58ee216e4497cf32e1fb3c.dicom', 'train/896b9a949d1f73e9c5783268d31c0918.dicom', 'train/1f07d2a46eaf8ce55ca92065a5d03e3f.dicom', 'train/576567d061bb250829dec462d71a7f4e.dicom', 'train/c6b64a0ae86a5eae32369a68379df72b.dicom', 'train/cf96d3ef0c6f5b817368fb1e3cd40696.dicom', 'train/774059e1f943090c0a5c4b7b7894afac.dicom', 'train/9afd4fc5be74ced99d6f3fd179f17415.dicom', 'train/42d524290494c21413a683e726d76b9e.dicom', 'train/dd5a966fa541afa86279c87abeb8f16b.dicom', 'train/8c84bb04eea9b3f986254fd27d926082.dicom', 'train/76262270fd1d3ff12cc6fd1e824d76f0.dicom', 'train/d4c9effe0b00ed211445e54f832ef359.dicom', 'train/2b82c7e3135dd7a86fba6b2216b9b69a.dicom', 'train/30daf6c42e8598562e8c0b5ead8f3965.dicom', 'train/ad5b70d0daeca08b4a79ba82662cbc5e.dicom', 'train/c1a64c01adfcf3a2d9af8d1bc8c97ae5.dicom', 'train/cad0b12e3c516ea26778444974e59052.dicom', 'train/d87bbef35708647b4bf2001fe8d57261.dicom', 'train/2754a792b403b2a38cd038fdc1ce0397.dicom', 'train/1fe866f4601491d3c52542e097a1e73e.dicom', 'train/24e4c0c823d8c3dbb78c2893ca26fa24.dicom', 'train/a5848abdcceda1dc81051ab697953bbf.dicom', 'train/02e6d4ddcc1f77fecc7d901f55eb10b0.dicom', 'train/b5773af8b8048bbf46a1e45ab5863af9.dicom', 'train/35a8129b8965ec3d8a4fc02fdf6fc6cd.dicom', 'train/b087bb332c049c2269c935c4c1f7d037.dicom', 'train/3f353d4256bcdfe35986058f4b6833ae.dicom', 'train/12f650af29ea34f1bbc6eaa048cdee33.dicom', 'train/fc5f3688ce1ea625d85d1cc2ec2a4f32.dicom', 'train/871b4b695314be3c47c56e2db5394395.dicom', 'train/84b095652c4d9b9daa2fdba30abd0804.dicom', 'train/0b51a96ea838eea74b899d0fc761351e.dicom', 'train/e21ee9312fe8601f2ad285d0a318733d.dicom', 'train/8eba6c172c4eefea93328d8b823ea878.dicom', 'train/386cb8b52f30de22284e0156711ea0c4.dicom', 'train/e7d4c99115ec8353c8894854b60899e4.dicom', 'train/346e94017f1b5ebfc972c33bf61ab37f.dicom', 'train/d5549dcf32bcf0ccdf88ff33bc57118f.dicom', 'train/9a564b8851ac3b86d2129df3efff9ec8.dicom', 'train/d0f028712fdce79281242c8d3c2e8a22.dicom', 'train/b30001186b0cac5c73b55325ab83205c.dicom', 'train/22a50e4735b1af583f18f4fc67059059.dicom', 'train/970e75334af0dcbd4ebf02e76aa277ad.dicom', 'train/681bdc4b5f69e6472ca2c8480f4296ed.dicom', 'train/b9e37ca106c967fe29f57e642cd6b1ab.dicom', 'train/fe456090a272ef85e2fb8d74f420226f.dicom', 'train/3e8c08fe8f529bfc9d17c5da2c1bac02.dicom', 'train/6e03da571b25e7dd9be4163f3abdf004.dicom', 'train/3abf5952a935d63f48fdf47d45fa0b85.dicom', 'train/f472abda6093546a0d57dc2920731c21.dicom', 'train/e35ead52bd184b8fa6ec1aea0b375fdd.dicom', 'train/be8724e116e92b204e3a935512e863fb.dicom', 'train/e99c428bd9ffcd293193ac18f80d8de6.dicom', 'train/e6d9035f012fa8ce67f2118d6f1b808e.dicom', 'train/92a686b4bc9d8b8c24ff9507a1bc5d41.dicom', 'train/a48afbfabb5dc6186e03e8a7c8c3879a.dicom', 'train/02d15e5acf769f73180310a9c1678fb4.dicom', 'train/210a22881a0d8268e5e098079b59e9ae.dicom', 'train/0a847b2cd7d50643151d1036a7b246a0.dicom', 'train/950208467cf0ee3bc8fe9d17c86de511.dicom', 'train/25b6d85b22af35987df7b4bfd766fbba.dicom', 'train/c59bf59d1b481adbca1421a15ea67dea.dicom', 'train/74294b1302f2c02bbb0e8304fcab3a19.dicom', 'train/fb8763e64afec448e16cf7015bc6d2ce.dicom', 'train/ff1d961c63b3ae61b2d3fde6f9d58688.dicom', 'train/778e58022bfd172d63a861646e028c94.dicom', 'train/7648fc9a60ca6df04b4903869e211245.dicom', 'train/f39d4c4d35f7c65f7e1b6be83c562cff.dicom', 'train/3b3df53fd4f0d198f6934e022636a566.dicom', 'train/92b066761a365913e2cbc76224c55377.dicom', 'train/11697f8e93f00858424f3e1cbaf26ff4.dicom', 'train/3164e54b3027411e4cf6f0da72131e2e.dicom', 'train/40ca314dfc59f99b4b67bc1f9aa41f07.dicom', 'train/481ba3d161cac1935aeb353b56a88fc8.dicom', 'train/dba20db8a5d29be473f9bd21d8fb287c.dicom', 'train/ee296836eb8e5b382941ab8fb75f5232.dicom', 'train/5b59683ac70d0e4ea2383de2cf62d90d.dicom', 'train/8d9d0d39e2de274b3beefb77fde36388.dicom', 'train/a44d7c0ff58220deb3b8797a1484b589.dicom', 'train/c8da7516c509f498c3c97c562a797e55.dicom', 'train/dc0cbb69548c77d14254925afc30a5df.dicom', 'train/56df9ca8d3786414a68104ef4c78c500.dicom', 'train/fdfe325c8da11f8ebc4141160ea71a8d.dicom', 'train/1059be772f04eccb2465bbe24f915242.dicom', 'train/b9db344689375282493d87d151f70ef6.dicom', 'train/6ea6c2da058e5b10ef2b7b9503c7c7ed.dicom', 'train/e0eb84813df4885a931fe6965c060eae.dicom', 'train/68bb20c8961c31b57ebd2f193f43b93a.dicom', 'train/6da96df670c5a3f7740834071aa00269.dicom', 'train/77a67b25cda980e77e014add65b4eca6.dicom', 'train/88b884c8d136930e0e8ad19c6e9648b0.dicom', 'train/966bc3089f32a2e49cfc5d7f3b6c5cea.dicom', 'train/89ea90d42b024344d7ced5c69ad0bf8a.dicom', 'train/4c95da56c292433530025d5ee3633c62.dicom', 'train/ac99b7f3bb5568f6c131265450b0bb11.dicom', 'train/6f5db0124e804c8bc46a0c8c035bbe5d.dicom', 'train/a586068b965da6ecfae3f79b8c553ceb.dicom', 'train/8135597f4f075586ee4e02cd5bcd23e9.dicom', 'train/ff75dc08847df23b0c0e488d0df97385.dicom', 'train/f02365969d48275a38ffcee2f73c6ce1.dicom', 'train/9b50c0470a24ebfb77cc300ec5e7d5ba.dicom', 'train/a4db8391cdd34d79ea2d4b9c52b04be0.dicom', 'train/618d288c7a998641366dce42ba61923b.dicom', 'train/fa0f974d09b0cfc29cbb5abeaa52433f.dicom', 'train/ebf6fca2f5afb02aded817a2a138e48a.dicom', 'train/d5e4f54fe1ad296752e9672fb41c9211.dicom', 'train/492754757e0ea45ec8077b458b317c7b.dicom', 'train/c3058a9e249637e26682f6e6eb2a9d93.dicom', 'train/f3060fd549710537633f7486e74d37d1.dicom', 'train/f8b518c9de5503e7d9c412f27142af75.dicom', 'train/8f4f9d2a9b42e62d6e37c44f6c36f87e.dicom', 'train/0e8f32c99f697360b8ac74c3cc5c4267.dicom', 'train/3d7a120edb38022691a8c80f475245dc.dicom', 'train/afd962222a1132807a9e0a87e4b88ba0.dicom', 'train/7161bfa79339b2f6e84731dd3a044a65.dicom', 'train/d5cf4f6e430563d3a35569ddbf814d71.dicom', 'train/1f0683287ef463cda7caed3fcae50978.dicom', 'train/d5e14b3e7a24e598b05aa5cbff9a1287.dicom', 'train/0b434eacb500c1170923bc4c2be82ca8.dicom', 'train/2cf174f7ed41046854a32470ada9b80e.dicom', 'train/3a90a70a921427e22ca4ccdc61f0eb33.dicom', 'train/60763fc0d4e8a2f66b99896e98fe3649.dicom', 'train/b7eb23e7652fd31ee450612c76a8ea1d.dicom', 'train/ea5e9149d5ba79c0c947a54401640738.dicom', 'train/cb19af0d931aafaeb03ce0437973a00e.dicom', 'train/2ba2a3b141f363a855c964d981a23b39.dicom', 'train/bc59805a77cbd6dbc0538c39c22c8cba.dicom', 'train/6f184ad7dd96f478d59a87267d1ba830.dicom', 'train/27c7531a6e6c885273f9af592d87c909.dicom', 'train/59780c7966f7d688392b671d49508d06.dicom', 'train/45e0496e3d7954b87b7ed6f3c150d6eb.dicom', 'train/43be3c3b6960d257a9a1eb8d2d02b260.dicom', 'train/4458d09589ab0dc00645b34103d0b8b4.dicom', 'train/7beb17b66a2a4aaf88e54a31f0c211a5.dicom', 'train/13d367029e18bda051dfe145c770eb96.dicom', 'train/56a2ef11fd883384456380e4f1e0ba5e.dicom', 'train/37bb437a5685a89512cb69ebdac79e84.dicom', 'train/eb363c293e02f9dbcd5a6da49182c6ed.dicom', 'train/afbed2084d5e5989cd82ac4ea7cb3601.dicom', 'train/16fbd62c858b63e45207e4975bb41bee.dicom', 'train/a18f31c458cc25cdcff1c1ec2ac1feb8.dicom', 'train/ea6fffbaf5e4c3a689bde7ba3381d5c4.dicom', 'train/1e454ce6fce45c844f88975f2b206bf5.dicom', 'train/00f0b116ea68ff67887a21446ddc546b.dicom', 'train/f5fe7b385d1d01a8381dacc0e765c2a7.dicom', 'train/ab6026726370eb6b059ab6978fd9d981.dicom', 'train/2a05ab85f33aca24848232e607d4160c.dicom', 'train/a853c015155af822b1f832d35edccf89.dicom', 'train/e802fcc9ba83bc652ee40f84c79b3bf9.dicom', 'train/41b0fc2c69ccf17c40bc3326e26b3042.dicom', 'train/4426e2738d953b831e6709fb9b2fdf81.dicom', 'train/cedf0e40dafaf70440e6b7f9b28dc321.dicom', 'train/069510c6d825abe37384571e1df9d79e.dicom', 'train/a43bc96e5b258ce6af71fe81f8ea062d.dicom', 'train/4f9db7b99c8cddbc2bf37b42c659507d.dicom', 'train/fe109d05709a7d525b7f603301327f26.dicom', 'train/06739d3d1405dae2a27d0a4e07ae7b11.dicom', 'train/371fad5387371c46e11ca4ad3cef8ee3.dicom', 'train/f8ae5078cdffd77e938b297aa9867dea.dicom', 'train/74429516041a2771e3063c18af7bf437.dicom', 'train/0e6498f2114cd062a210ee4c7431892a.dicom', 'train/164cdb407b13b63b961834d8244885f8.dicom', 'train/54852c52a65dab8a71d6ff24f15f9863.dicom', 'train/a156ce258e3c5348196ca77a36db2ae5.dicom', 'train/11b5daf7888e995ca3ed1de40dc59c3e.dicom', 'train/243ae87cda9146374eec6b67be0b11c0.dicom', 'train/9bfaeaa68cbf2b1cbe3a1ad87e7f2431.dicom', 'train/9a5a4793338e5d234a4a889adf989efd.dicom', 'train/326bafaa3199fea30599d919ef92472a.dicom', 'train/af29215a8afa894969145b74a28df849.dicom', 'train/ee3b5c7001b305af6fd931b4f09f2d80.dicom', 'train/0dad51217dd5d4604fbd5a34c4614f36.dicom', 'train/47b23036f259ba2402d75e8253af7dae.dicom', 'train/14868c9d632f6fd718e563dd66bc43c7.dicom', 'train/4db4b1f244ca7b066fd5e327121b0e83.dicom', 'train/277de692127bb95541ed02e885583484.dicom', 'train/ed85f517bd14abd7954ca4d0b969c0da.dicom', 'train/db2b9187061af69028ab55f361109822.dicom', 'train/efacff6da5a9974769523d1c71331fcb.dicom', 'train/8fce6923f2706fcea105f8b78053fd6f.dicom', 'train/64653f632c0f4611a32a7ff6081b5d9a.dicom', 'train/716b0aba2e8b6e7868629272b2499de9.dicom', 'train/cd144b2e58e47235182a875a50c6362d.dicom', 'train/047baf42695f09c8f2fb0afcd556e4d2.dicom', 'train/2fe5141f9c1184f84ccb7a1a06fe626f.dicom', 'train/d662d83a684ff1796cd3697fa16b6aaa.dicom', 'train/65c970d6c9e1d8f182e4b17f11fb96fd.dicom', 'train/ba823008b8343286a81845a1b5515d45.dicom', 'train/98d3a4acbc82be9f09a5e521dfabd9f4.dicom', 'train/756c8f0a6f083b9584aa2bfbb5439b23.dicom', 'train/5adac7e77d7ac75721d219fc8c872a3f.dicom', 'train/dc52a5cdb8cf34dff5d44596e84cfe6c.dicom', 'train/6d311e94d7dc71af0f0202d6f816462b.dicom', 'train/6ea294efa484c73e97889d90fe0e3013.dicom', 'train/591167e7bc63b5cb052dfc17eec5ae82.dicom', 'train/a6aff729f6ecc6a50d8a84c5d406cb88.dicom', 'train/37d7e5dfb314c5ad051399f421644f77.dicom', 'train/95a727fae8d6dd54bae46365043f5072.dicom', 'train/9f334080bc29a248bc26e9c541a7a751.dicom', 'train/0db7d1e229f8c3a6035b3b5b7c924968.dicom', 'train/8d18adcce3cd215997b13b2818657b9b.dicom', 'train/4c08c58cf59e8fc8b599982efaf34865.dicom', 'train/2feda6758166fdc98163dac2c2d8e8be.dicom', 'train/00b5ed483799826a59c9634db975c63a.dicom', 'train/4c3c205868353a3ed88200582cabacdf.dicom', 'train/c50ce995504138b2d3bc4e4fca8f85ae.dicom', 'train/e1d844c7a4f6a8532a1b4e7a63b1fd4e.dicom', 'train/86b2abd28487ed8dfcadcf66507dfb59.dicom', 'train/55d5b4aa89c5fe4717dfaa1d5547bc61.dicom', 'train/9eb121f8c3d2ca9a0a26710d07a4e5d8.dicom', 'train/98ef009f9a323836db3906b52adf6f72.dicom', 'train/dbfe724b2ba6eb6495fa0c1f5cd3e352.dicom', 'train/53ba3fb0db97bf35d566cd8740fa2e8d.dicom', 'train/93771b5452af5cc198524ee9f11c5918.dicom', 'train/1da9706462a1784544647ba4b66f331f.dicom', 'train/bced82a05d5522e00613230407b1ebd4.dicom', 'train/4b110dbca756a7f1ff63667c691f89ae.dicom', 'train/8bbac7a553bb67c841690820e4e1b705.dicom', 'train/d2e6c464e47dd8ae99e3db2813bf9af9.dicom', 'train/d64c0d98f4c505f03b988cd82617dfdc.dicom', 'train/637c1d51c9da37566484bcf959970db8.dicom', 'train/6bb1e3d94c5619170e16d4cacd93c024.dicom', 'train/0f859e76bb325d40b636150e6468c0ff.dicom', 'train/0e10eb0dc7862a13da128df3632f5aee.dicom', 'train/347226f648ff8954fbd6f2af1e8bb773.dicom', 'train/94bd39ce2fec4808533f836e1a26a393.dicom', 'train/e3da87bb909136a9fe692bf9985b596f.dicom', 'train/d79969cb87e242ed9148e7f3e89c7cde.dicom', 'train/307386b97f227ade0940a121da9a6e87.dicom', 'train/97c16d7df41670bd0e4681b2fea2a088.dicom', 'train/37e6f489452854164282a63e157603b8.dicom', 'train/7fb93c76b012758d0db403b51eca0435.dicom', 'train/67b3a5395df7bcd98a1b8fda4b41d31b.dicom', 'train/8a97feb39d2297264622a3bc16aa9cbd.dicom', 'train/293b0e26bd2876205a4fef556d3771c8.dicom', 'train/36d985b656f781ac284f1346b1a59a82.dicom', 'train/6abc9b17e220ea468f391bb78a025a28.dicom', 'train/2f3f5e2101434f6c4582d2eab0b7b6d7.dicom', 'train/b95784b61db5285f04ffa27de3ad906f.dicom', 'train/6553af5bb01bfd69f633ccabe4f9e886.dicom', 'train/9e66c213a0f69e859164ed67130eba0b.dicom', 'train/66653e7133c30501eec836ffa238f1dd.dicom', 'train/3ea1b6960b3be672c306e8850a143557.dicom', 'train/24cf1227a87be16bf24af587f2d564ea.dicom', 'train/8c5492ee1fe465e8695c6eb923f132a5.dicom', 'train/16ccc3394e470b15142182dd12e8e9b2.dicom', 'train/0235320dafe8b5025fe8b06542022e27.dicom', 'train/f7328ae600ecfcfaf8baf30706c5653f.dicom', 'train/af6ba5454a06aa5d7c0f69610ea46aee.dicom', 'train/bebe9c159403cf3ff1bc6d1c7e8f1746.dicom', 'train/6fcedfd338382e7456b7f063733eaec7.dicom', 'train/8b04f9b0a4dbc4e6b9ee6fcabd1adc22.dicom', 'train/a87e8274d954b70db5d50e8f784b839e.dicom', 'train/d390801b616ab47fbc6c0c9a1119ab4e.dicom', 'train/ff0ce5bd8b628971c73d0f9dc5f8b1d4.dicom', 'train/df8cb582d1e88086b649f242cd47a3c6.dicom', 'train/abe4b18205ea2c53724dc77c845f1dc6.dicom', 'train/ae1639a657253174f7c473b649da386c.dicom', 'train/0665a1cb9261df14fc4f3c089e5662e6.dicom', 'train/e8e664ee03539f4d50ef13df3ae2bb05.dicom', 'train/200dacd220a7781e042fe679c332d902.dicom', 'train/3c37ec0de01be8eebe6bb6b42b15265b.dicom', 'train/9059cee7ac281e8e8d38aec65dafab72.dicom', 'train/317ec32e26d02385802fb08dd2150bb3.dicom', 'train/5bc4012b11a97e4a6e4cef3fc012925d.dicom', 'train/fb3148e587be59ad43151e520d78a109.dicom', 'train/114def42c39c93242b6df4e81528a5ee.dicom', 'train/ee782c564c5be305a5ddac02c6496897.dicom', 'train/bd391fb37b5b6c9f2d2b8fe01c1b836e.dicom', 'train/13955538bd3f275adfa6dbe98496672d.dicom', 'train/92d99bdecb7f946e73c5fb0034f6b6ad.dicom', 'train/cdc4f7dae6c1595a9f73f108eca45bff.dicom', 'train/a0363399e2c26b7faf567ee1b8255d70.dicom', 'train/44625970ea41de0afb69c027130942d1.dicom', 'train/1ca9bf76b87db35f5415c21a205ed2ec.dicom', 'train/cc289e8f05840e2941e41cf587c48cbd.dicom', 'train/16746cf8be7681dff19321caca898f86.dicom', 'train/061132665cf4527ac345f021702d56bc.dicom', 'train/c333c51f6e5ae0167ab10a57bc254243.dicom', 'train/2e38b6a05e7836013b632fe85adf29fd.dicom', 'train/d426b2e735f4c9c041d786b65ad82f90.dicom', 'train/b263d3d9fba7c45dd6965c86c6b3b6a6.dicom', 'train/294dfef4610c2490d6ae4ba7055f4a9b.dicom', 'train/587d4d414822b408824fde9c4580e8e7.dicom', 'train/fc30f9f01e7f4a9df65a76cb5fca6e5d.dicom', 'train/d92efe22acacf375e23950ae60403217.dicom', 'train/c19c935ffb17a6fc0d22969f4ea413ac.dicom', 'train/0fb0e0bfa0bdee530518dc756b40973e.dicom', 'train/8073856340ec56a88c806308ede3d2cf.dicom', 'train/e13f7679fb5800693e01f6bcb2b5e79f.dicom', 'train/5ead08c3fd60e26c5f07239a5aca9e57.dicom', 'train/efec08c88d755f120d7db0a8a1a79701.dicom', 'train/7eda3a9117859a324366e0d57d2579fc.dicom', 'train/ab6d05d00f0c979a3160eb40be8e6da8.dicom', 'train/5e1ad2c560d55d8fef5b30c8a669bc0a.dicom', 'train/fa53ee3ac75a30d3fdd4b52b3083b1d8.dicom', 'train/44ac09004b42e0b95f1126118487e8bf.dicom', 'train/f08d127075dd147fb373a53b806209bd.dicom', 'train/6a1ae5c8f35c74936da078e565cf7991.dicom', 'train/eaa552befa1f3ce7e95c39dd993c7ca0.dicom', 'train/d42be3ad4e4ec9b6d0b27f3a8d46b19e.dicom', 'train/ad8c7a013ad05b9346bf8dc408969b8a.dicom', 'train/c1d5cf78be2eb551fd19bb315b4095f2.dicom', 'train/fe1148e60ca5381aae77b8067bc9a5a7.dicom', 'train/d270e9834ffe5ded7111fa28e20388cf.dicom', 'train/9f5aae198b2edb0a04b35f3bfc4b6e61.dicom', 'train/ae85db36f32f52b0d042529c2f18a028.dicom', 'train/79986a9b1b53b8df93f6c85a5b1ff8ff.dicom', 'train/f3440dc08a0d6144f88564a9cac097fa.dicom', 'train/356953b5ad17632a1ab79bf3bb9010cb.dicom', 'train/b941944f4847596016f3420d99bf5640.dicom', 'train/a7a010b14618f3ed6d54a10d6d1a3bf8.dicom', 'train/c564548e78599d2dc9cf89600a5020c6.dicom', 'train/40d7155ab52b0702b96266818a014f7b.dicom', 'train/987ec4611b623e02ec072973de4c57db.dicom', 'train/0ce4bf0c42aaf6e7f26e4f6043fbf276.dicom', 'train/9b0a30b152f5c2068a8d7d6c54b51e7f.dicom', 'train/64538ac8ba4dd9f52583faf602a768e1.dicom', 'train/0285960b6afb21aebe4eac1367ff9276.dicom', 'train/52d5b340f548d20070d53171239733ef.dicom', 'train/9b08cc05dbc0c825cfed023814e77a0c.dicom', 'train/a0badd7acf10e63a83dc113f954d4acd.dicom', 'train/599f7abf3c322afaada03b910129edac.dicom', 'train/fb554e43b58dda54773d319af0225ec1.dicom', 'train/af0312b447bda20fcf1b7d08532051d2.dicom', 'train/e774b32b75b008b79d3b4d963f11e667.dicom', 'train/506edf7e3fa97e07f4cadd225d14a66a.dicom', 'train/01b5717dd9fb1e54d69c1d4156d4180d.dicom', 'train/b57090fe1c563fe43919ee6f4b47d17c.dicom', 'train/b2be28070c7363ae12b14ed5dd9b95c5.dicom', 'train/e6160914ec8c59f02d2af8ec32ddcc8a.dicom', 'train/66353cb60fb3fa5e156a47265dd73ee1.dicom', 'train/2c375e19eb8a64a5f8ddcf5da9473060.dicom', 'train/77c57edba42b40bf16f4ac5a8047d808.dicom', 'train/829bc53012eba19a1056fa9842f69107.dicom', 'train/0ad78d8c7ea1957d73c593e865a07745.dicom', 'train/40a729b9138280c119df62acdb040c85.dicom', 'train/5c4e222dfedeb4073e453070e08a25f7.dicom', 'train/43b03d7ef1d8a5a97e72086f575a77ff.dicom', 'train/84ba0cd4a3de7325c9d9a8c9d2223af5.dicom', 'train/76e01d0c19552c05620af82064aa653b.dicom', 'train/94f5501595e6f33238938dbf96364d68.dicom', 'train/6a0a4fa78f930ee36cef1676d891c6ef.dicom', 'train/e399ad7fe9322643280baf0d3eefff3d.dicom', 'train/bcbd8fa55de5d6af9686ca8cb960fcf9.dicom', 'train/5ade9939bfd6c6f5c0d8cab515cf616a.dicom', 'train/c8de0124733c5f81f6a871fbee0b6a21.dicom', 'train/ba5c1ca8098a59a39529f459623e1f71.dicom', 'train/63dcfa5e6443b2c8a28f67f4018e102f.dicom', 'train/fdd68c98d02d492c3810cafc1569fe2e.dicom', 'train/c15607ffdc20d1758ba3cbed00d06e56.dicom', 'train/95c243dda3f41c24a6d091fc6184e49b.dicom', 'train/fa5c009bc744413f1cc4f25bdf6df09d.dicom', 'train/7f66403992b42024fc976f62955c7ecb.dicom', 'train/847e600ff9618958328e75da26a607f2.dicom', 'train/bdd75e62d481df8bdc9caac69c476c9d.dicom', 'train/528291a1563b97ce3f1b706cc9b4352a.dicom', 'train/54fad485e793b55ca4b3b92be649182b.dicom', 'train/f467b4652b79b28a4a6653ec6c629b8d.dicom', 'train/6f331209ed71aa2e23c68700eac12369.dicom', 'train/0664b164ca61f30d3df2420e2bea803d.dicom', 'train/6e311128fbb275e6a52b785362cd2072.dicom', 'train/1d0ac403d2c91b5bd2f25e73ee180e23.dicom', 'train/0b0aad804d236459e62bb0e7b19ee351.dicom', 'train/8536b8226192cabf39e6e5ae6f66cde1.dicom', 'train/8fca586460d2c85234f6e9ba501fa511.dicom', 'train/c8c645d818680096383a9d50189c5aeb.dicom', 'train/af6c39d9640bd8beb480c127dee8daac.dicom', 'train/9cf4bc00075de864f2b90f3c3e7dfab5.dicom', 'train/ed651d1d0279e2afaaba24e790cb9f4e.dicom', 'train/f167d96e3be0792054e5c206382a19aa.dicom', 'train/5923e6ca47b99694c99f176820a322bf.dicom', 'train/0541ea1baa4e028585e8ed89ee9f934d.dicom', 'train/8836f3f2d5ff4d1c30a3765a88a33f38.dicom', 'train/ee3a44bbe99b9c17b7d92e374889c952.dicom', 'train/a11748ab3ab9d9e0afcf85cd552a07c3.dicom', 'train/62482e0d2d4fe95668c8cab494db6045.dicom', 'train/1ccd102ca8a0b24c13f9a286c103883f.dicom', 'train/5838ab655efb448276141603b54254f7.dicom', 'train/85abfd08ac79026a892cd480da98d939.dicom', 'train/771450bedf8f2e320df3afd44edb8c92.dicom', 'train/dc8ec34f8aec660b4de60e82e7029abe.dicom', 'train/fab7fdd41f70f6891203f5286aa800f8.dicom', 'train/bcb65a6dcb4ead72f1d74020f835e8f8.dicom', 'train/7264d8e57bfa8c9ff8f8d51c9227b951.dicom', 'train/c75e8f235f0a3ea7b2da1819d57d26a8.dicom', 'train/d250eba9d8535e58475baa192241e27b.dicom', 'train/8eddd0d8e804e14170423fd22c8f75a2.dicom', 'train/ab8dcd1b496a3e8cbe68d313180c6591.dicom', 'train/f5d3d5c67d3375add7b9040b3e15faf1.dicom', 'train/496a6057e5a75db47cb106e5c4d61a33.dicom', 'train/b7e4dfcc1226456f424da1f48af5827f.dicom', 'train/b7698c54311c35a38f470141fc26daa6.dicom', 'train/8f5271ecdf6a9db7e0692702d55144c3.dicom', 'train/df6582c911222e0ea11c7d9c38d4a60f.dicom', 'train/0c0d542fdf7056c716446797880b227a.dicom', 'train/9b3bc2cfa5707797718758f800d07755.dicom', 'train/5fb57a9cf26402f378b01f9f0363d3d9.dicom', 'train/d868c230ba02916a901a6b4ddf5cb950.dicom', 'train/c16bd812216ad6b72c8f48207d3a9f4e.dicom', 'train/f537f7ca4f3e9856f0a52fd74e1ef642.dicom', 'train/e11914f5e8aae06d23f663e6cfa53b82.dicom', 'train/3b57c09bcab373371f2cd321391ef0bd.dicom', 'train/9d2bb58c60105aeca5433ba4b0a219a3.dicom', 'train/8c0e4bca201d414f53fdf56b9a672da3.dicom', 'train/f5b03646954483794476516b5ba4dfdc.dicom', 'train/2d7f94c9fb91aec488cd7e07b1a70dc3.dicom', 'train/09541863c17800331c64b2c551f0d696.dicom', 'train/b9e250a49add12bc9c72e714e0ffb249.dicom', 'train/fcdf1a49d4da453467bac164c9095c66.dicom', 'train/e1f17dc94657cc8742e2ce8c1bb666b4.dicom', 'train/85c89aa5f90874482c18f0ecc4465809.dicom', 'train/d946d0d2dbeb57676805ada080d625fc.dicom', 'train/f3b2a9275e3bacd6c5340a607b85a449.dicom', 'train/178794f7e82eb1c8e3965665a4d7a490.dicom', 'train/b77b4e7981a4b22d3be8dd0c35bd4260.dicom', 'train/515b9ed71b12dcdc028e2e1602b7abac.dicom', 'train/53317917307c751dca7e53816585427d.dicom', 'train/ea9335ee42d21614192b20a06a4b16cd.dicom', 'train/f2edffe1eb6e04c850b801772132ee45.dicom', 'train/1ab03a17246c018a617d2c385ea6b2f5.dicom', 'train/821855898683196817997d311327d279.dicom', 'train/744d073b40741fd355ee1fedcf2ad6fa.dicom', 'train/fe90556b31ff61e53879b83c30de53e7.dicom', 'train/0da69704029bc519d87fcd8f24dc1863.dicom', 'train/66a81927e4e1f4d57057a387f9f4516a.dicom', 'train/56b9b47f224e746225c42c972c275ea0.dicom', 'train/e0963255a932923791b1649d0dbe7808.dicom', 'train/e05a0db6371b52af05d635f42d2dc443.dicom', 'train/89c0c6356b0fccb614b4698e389d9912.dicom', 'train/15b53d253b6d725718e4f3f162607fdc.dicom', 'train/b3534e365baef935a50ca00faad37c41.dicom', 'train/cd7d42a3081d85a6d21b64f66b64839f.dicom', 'train/36c312c829b43b8e13ac6296e7fed79d.dicom', 'train/d42bd696e3ca2d0d7440140d7a56b41a.dicom', 'train/7c3517684ff6536a42d5b9500af5dcf3.dicom', 'train/5a1182c8e85688364f66fc1b5c61e10c.dicom', 'train/4eced0ac80b12529982ec279d0975646.dicom', 'train/81e2f73235a624e0052e05806c746442.dicom', 'train/a77b77285bc75837450c100bd4bfc8ed.dicom', 'train/5856ee0164e338d8c17588230caf9258.dicom', 'train/ca148bb959891e7b253b71d97144359d.dicom', 'train/1585dcba95b30172ae5e2c99ba741751.dicom', 'train/a5c4b64121e23313dcc742d0b12153f7.dicom', 'train/bab065df0f9afeb610f4047c9329a5cb.dicom', 'train/10abbae0c91d2b1c23c18e5904650ded.dicom', 'train/82a2efa43d7d5dedd8e0dd8fc285d129.dicom', 'train/24cbb23168b4000d890ae2a7293d5a82.dicom', 'train/c73470c9e5f6e847f51d422b9e0b978b.dicom', 'train/506e88a3619f81df15b7f7f555c2f11a.dicom', 'train/ba802f39d5af8b1af6493ececa580685.dicom', 'train/d8b4fb9b491e9e8b8e36d9571df7ffea.dicom', 'train/3c75063689c31eab6c27dd96dd4942a0.dicom', 'train/e9d0a11217bef3a0370c2c97349bacaf.dicom', 'train/48fd62f3c5f321e0b26c2175cbee72c8.dicom', 'train/acfbd3c67ae9b9304545c2c78c23cb4d.dicom', 'train/699114f5661d8e091b97aef72eea9ffe.dicom', 'train/52e21c3a2cec19f68dba9901562d5f9e.dicom', 'train/8af12ee7b85a41aace15746c969d5922.dicom', 'train/6a429f434e36e7c24acb692181c9ccee.dicom', 'train/8c20b56694c8e877fe37a74ef882f149.dicom', 'train/3afd989cbc78e5d29b0015b03062f929.dicom', 'train/fa35cae759d88aae64962c16b513ab77.dicom', 'train/55a0b44eb6e144f837c46605293ab600.dicom', 'train/8f25c12cfac0304027565f591eff0737.dicom', 'train/68f31296bc646168493c9fcf1ba82fa7.dicom', 'train/fea87766504c9ae73807e802724b36ca.dicom', 'train/f4e9ab34564de86fb3f7c1176bdddefb.dicom', 'train/4ede5b44e7e399d6606fce73b2dd8560.dicom', 'train/12cfbb4492a5c544d3b8da4162b8d4cf.dicom', 'train/06fe8c802e3c8a2577d6abaeca5ab60a.dicom', 'train/e6f5dd405ead57f389441bda833535bf.dicom', 'train/4a679482568e2278680a7bbfacde0209.dicom', 'train/501a378fa775c16e4b4c8e6fb7c06ba9.dicom', 'train/5dec93c36b05511792f9d3d1b9f053d2.dicom', 'train/2e9469ed122680a9ba265a6dcf788084.dicom', 'train/3c831ee008e672c6a83b3aedc0081ec1.dicom', 'train/0d35eab110384536a2ae3748cb000453.dicom', 'train/0e1770b763bec19eb1be973ae4e35b88.dicom', 'train/1f733590b34fd27f3f777f379cd3a6ac.dicom', 'train/865f19ce4881ce83630d1fce7b145b76.dicom', 'train/0e09910ca1d36e4f45fe0f46874d590f.dicom', 'train/28fce1cb96dabef59774d48dcae3951a.dicom', 'train/ba1a36764944173a1551a7aaecd43866.dicom', 'train/0375316a3524be176eb6920361ca468a.dicom', 'train/1e897ab317ec516b86172b42dc1df922.dicom', 'train/5d0608482735b3772ff21c86322aaca8.dicom', 'train/38d29ab415a1c0728eeff21ec615746c.dicom', 'train/6fc8f64e3aee49779c487e9aa4145758.dicom', 'train/6c301c22c0f09c7c50962d8701dfa5c6.dicom', 'train/e9b82eead407fa82da7583ed2a88de88.dicom', 'train/20f67765c78a511fbf03cbede65b73bd.dicom', 'train/cff922f64d7e8638838bcd3a7bffba82.dicom', 'train/27946fe5c6c8f23d839f337cc37d5c23.dicom', 'train/554b83de954d2c65d386b92a4b3be788.dicom', 'train/7ac652fc876c89caac26b71b70f113bb.dicom', 'train/23ade6b0412fcd4e2d67838071662d09.dicom', 'train/ab367815bc7f9c0af36cf2eed6252e61.dicom', 'train/e00ecc5706957f1d4325e7dc6c7efd35.dicom', 'train/2684079a04c0808d2f8324812de46cd7.dicom', 'train/30002b99a5b4c8097524f216bddd037e.dicom', 'train/9c1833fd6c1099ab08fa20c607cc07cb.dicom', 'train/d4007937351458c744d7d15f123d020f.dicom', 'train/413abb889bc70fe1e328a3830bbf19c1.dicom', 'train/8fd0d666be7edd0aba44529e60f53b07.dicom', 'train/6246eed5304b262a0d27ba5b105055f3.dicom', 'train/e9a45e293aeb4db6b8c812a08846be15.dicom', 'train/1b497e474a7b8a9dcaecfb9679f5d6cc.dicom', 'train/885c54e200e785f0dcbb6305372a9c52.dicom', 'train/4f85c4d7f2c675d55f7a347936a6b880.dicom', 'train/fd88d388eb93ab0d8995dd3372b9e158.dicom', 'train/f4a0c2475a32e8ec832a8600dd1804f7.dicom', 'train/b9bcd40881f0417a0d74d09fcdf37848.dicom', 'train/ee1700fc47d8da768e8073921a1d5dd2.dicom', 'train/0b26079a6c02ef37e7df43f6e64c765c.dicom', 'train/79424a5ac92eb36641a03d065832e0bb.dicom', 'train/05a6a1c2c29f6a2adeb9ba186d15f683.dicom', 'train/f4a82120f17e5bceb9f05e4719a6059a.dicom', 'train/09f9691d3841292d8b6b8cabf2a309db.dicom', 'train/577c2af223060b2f736a736b9b1b8909.dicom', 'train/f231758ba3b7b2476261408f6df4b271.dicom', 'train/198668f665ceb7e85729215cfcf2f64f.dicom', 'train/b81726e80ed35bb46c7958a0c20c1a90.dicom', 'train/f96b07b63bea561a600580cf6a90e7bf.dicom', 'train/6516344aa7c9054550bc0ba158a66caa.dicom', 'train/e8a512f13133950480bac2c6b4cfd92f.dicom', 'train/5bd0c36910c0105e1850c1ef6ad98833.dicom', 'train/4f2a8d4d1252e5b80151608a0893c592.dicom', 'train/617b675e661ac8df7052a19cfea98440.dicom', 'train/a4c60325e728c17e7efd3121e4e13dd7.dicom', 'train/3027c2cf964e84fc762809f53c91599a.dicom', 'train/f6c7c106acab41be197502f46c84dcff.dicom', 'train/7258a05334c6219b82a1651a4fb3c29c.dicom', 'train/d96a58d9fb115f313a149e6e2fd68434.dicom', 'train/9ca3848ae2d8e7e2d34f43a0067aa823.dicom', 'train/55f36e6987b7555f200740ed7fd6e7b0.dicom', 'train/27dc4d5344f1b8a52514e49b5a7d5486.dicom', 'train/d3428f0fd56f7535de306548edc4d013.dicom', 'train/e52919fa59ef31ccf0280705701494b3.dicom', 'train/8798249aaaf36d62cdd3ecade61d4d44.dicom', 'train/2f28c80828bfd188c9ca4df90624c8a9.dicom', 'train/a657716062616a6feb83e50134f72d74.dicom', 'train/2bd48680009236619a7b6bac64755268.dicom', 'train/487697a5b7fa120dd1fe4b4dc4c5306a.dicom', 'train/cb9bd4f7deccce45c3ae357b32030b49.dicom', 'train/2c50c35666ff974ee33991b0b0212578.dicom', 'train/9926f6facc6332c0f756fce266508bc2.dicom', 'train/528203ae9a40125fe8e1adfc0d2737fa.dicom', 'train/551db5a3cab8c55174d526cdaa20ded3.dicom', 'train/92950e796e4be73f4303fe2f67ba76e6.dicom', 'train/8ba7ef937b633633c8a407ca57dcee8f.dicom', 'train/73268f94fbd615b937cf0230ea2d2b5a.dicom', 'train/0fa80905438f0e2938ea04f34619c395.dicom', 'train/688654b1212d456b7172345423d58be6.dicom', 'train/fd3bc36c71d72a9e4d0495c8ab8027d9.dicom', 'train/95d3cb136827d07c61f6d6c87ac278a7.dicom', 'train/31ea7357d0fdf4f8d13596a24f5f7a59.dicom', 'train/5c4931050870fe7e0f8157914cdd1767.dicom', 'train/470bd5106d7b1793f524da0a8adceb49.dicom', 'train/7b34d6acc86c04c135d7ae91f443e8dd.dicom', 'train/a7606d8ce78255b5272f4a22b8edca32.dicom', 'train/7163061870a623af6c97653dc1bdb8fc.dicom', 'train/b2e1fa3c80c4b48dfeec99c54f67e93d.dicom', 'train/404ce650226fd3d39088f08b0d4f1a89.dicom', 'train/37d2a40749b539edb9e2277471f430ed.dicom', 'train/e272e8fb12439fd1484a2709c9a2491b.dicom', 'train/726d560b75190a2d95bc59b5e82f9151.dicom', 'train/4dc520020b541a53c6462fed0c2edb6f.dicom', 'train/8010b45662fb39fda09fc6dbbad881b6.dicom', 'train/2734e1469ad85b39498e79a697c06a51.dicom', 'train/02acd2c813c6285ff280064b4b409613.dicom', 'train/7011d47004114b8f64911e95b9ff718c.dicom', 'train/52da4f3f40ca5e69007441c7f9ea3350.dicom', 'train/6582c19076d37740aa97075f4c7d443c.dicom', 'train/d4c7c6a8637564622a56c664e57a1bde.dicom', 'train/8cecc2f31a638413a8fcb243c2b7c731.dicom', 'train/10483857962844f4b8fda552f392e9c9.dicom', 'train/d5c2d9781096c89cfae9e4fe25423f1f.dicom', 'train/470406363b75125fc1da37cdc62aa997.dicom', 'train/73fbd5e371364fffd584e417683e2464.dicom', 'train/80bf019cce9da8a98925d982e9813f79.dicom', 'train/512edad61fcc211ed5806c21f74c8f11.dicom', 'train/d1282dd186a816dcc381b621d11433ed.dicom', 'train/7726a8a8461de01557e38ba0b6ed15d1.dicom', 'train/a6288aa5284dbc228deb138b1481b1da.dicom', 'train/5a551b5fd2b34833249b06cef49cabf1.dicom', 'train/cf48d7c4800303ae7e669b4f78a05cbe.dicom', 'train/097edb787f6ae77ab708f427838c1fca.dicom', 'train/2177adf849f7956a6c583bd48c00929f.dicom', 'train/a0908d179c0f8c2d187287eb13d2c0a3.dicom', 'train/717dfe4d19d64ce825b25f62c93bee91.dicom', 'train/3b1843a5db1d91ab4cc48263ce118966.dicom', 'train/3cc5239314ed92219bac7602653dc799.dicom', 'train/1be9b2b919b2bdd75cfe7cded4433789.dicom', 'train/963f94ae3c4f144c6d9efd9d593a49bf.dicom', 'train/449981937dd62e80917b3b4318141b0e.dicom', 'train/86a922fa3420bc60623532af533987a0.dicom', 'train/6ed4014fcee8dd4036b0aa65488a42ad.dicom', 'train/f7972fdf1d9fb187f36c8bb80324e82b.dicom', 'train/1b15e37f79b20147233d73887bfc430e.dicom', 'train/8ad1b3ce21d065d7b8465487ac94dce0.dicom', 'train/20ab4833c3135b08688f23c9be58e470.dicom', 'train/099704427c3e0a78b15cfec232c7fccf.dicom', 'train/d20a3d00d9577cd50b8fba93e091db94.dicom', 'train/9a71b251af3f501bf5b2ea34f9ed6187.dicom', 'train/67ce923481d58472f45a9fab3c5eeb75.dicom', 'train/040277f3faa72a33488e7b3651ada231.dicom', 'train/378784e1bd83fee0c8f138ea4fd24032.dicom', 'train/dfcf38bb9236dc7922804b5955ff3375.dicom', 'train/f368bd47838e07df0e222f3166b7fd29.dicom', 'train/d02e02e947e5acb2d16e6bfa04d90bbe.dicom', 'train/564fc5c533b0b1cc9eaf6898d798eba0.dicom', 'train/e63c022b722527e970bb106bf646cb8a.dicom', 'train/774d690f3d47d662b0727a740780bb19.dicom', 'train/0df3855be46a5ba36c535dd650b839ef.dicom', 'train/bb8c25450004dc689426b3b1eadf05eb.dicom', 'train/9c85ed5006639a267410789ad219fb1e.dicom', 'train/857dd9e239df40fa92e6b26aab1339c1.dicom', 'train/0fa2374693350d95154c27d1c381d190.dicom', 'train/afe814122af733df208938c3614b1e73.dicom', 'train/798049d943ebae881e22096ce88e80ec.dicom', 'train/b11e471215e01e5bcd43afcaa98ff608.dicom', 'train/d510bea1e6386ae1c0b4719126ad143f.dicom', 'train/c820aeee4e0b7de36ac7b99932baef02.dicom', 'train/90c3dc5d07c91c8d3f2bde2fbfa0535e.dicom', 'train/136c39322bde9e230e7fccdd32c752c7.dicom', 'train/4d2ca1464187c5eeb428784c6b5f8a06.dicom', 'train/fb69be9a5a57fb4d24be55d173fab0c3.dicom', 'train/8edf37d5d3ca3dde0dba74c6327561e7.dicom', 'train/c360e96915fb8b180ae0724b18edbc80.dicom', 'train/2c7f6528bbd89ee72bd9dca5e2e885d3.dicom', 'train/e659d8fc168a57b7429d26d3432597c5.dicom', 'train/be5fb8ff4a564212c0cf9c30ba5dbfb8.dicom', 'train/be2d49f6262f0a73d44e976d57768ae2.dicom', 'train/64f35a8980ceb81a1135b8579c2a1aa8.dicom', 'train/24206e1c92ba78ae2428728db4c545ae.dicom', 'train/5ebd70a68943913b7b7b26927b92facc.dicom', 'train/4ba728613272019324ad26d81c5d9891.dicom', 'train/3e4263105cef927944c114aa19c782cc.dicom', 'train/0f87565ab7e229c5a8cebe19b0183514.dicom', 'train/21f81caea58d2be5978356274496a2bb.dicom', 'train/50fe8c6e7afbf8ea6ff0d63561ca1428.dicom', 'train/ae4a886199cf95f83ad8ba0681b166be.dicom', 'train/051c99fd2630523cd7681de808dde94e.dicom', 'train/0839c2b7655e6bb66d20db169e2688e1.dicom', 'train/7eefb44daa43b16c588629d420232f4f.dicom', 'train/5dcc28ebc9832c039acc4d0008dd9293.dicom', 'train/4b14c107b0f35331f543648e42d7bdb4.dicom', 'train/6a3ba16a45816cfaded63ac0feb97885.dicom', 'train/3c72ed49205d45d86d8f8f22e7a670b5.dicom', 'train/29ac35dd766e5fee5b80adc8399867a2.dicom', 'train/2f1b91606e6ebad092f7ea8bec5e5016.dicom', 'train/86ec6e8025dbbbcc725ed3838d8e2168.dicom', 'train/5a68e5dd55612536273b13174c72bc65.dicom', 'train/54a398bb4836085a37bc64518b89dab9.dicom', 'train/2fa2eb572c6b1703ae657c9741c0c4c9.dicom', 'train/eccc1ba5a2dfd09468b03e82118b98d9.dicom', 'train/1fd422b46d3dbaf1d3c771857d9bdca9.dicom', 'train/8dc7cb30d4eb1882c3a14b984ddf5e27.dicom', 'train/e49a52b4f544e0d7f68af3d86b5cf249.dicom', 'train/cda234ed3ba25f656e073d9fec3baf90.dicom', 'train/92ea805d2e7909617ede3f28012df7cd.dicom', 'train/a1c395d101efc9647c9eb248f9bea0ec.dicom', 'train/19810ac90543817c2d665cd4c36fa71a.dicom', 'train/96acd1641600c58eff71905f79786899.dicom', 'train/b4abf9cdf6f24f8e73f0d40eb3c6478a.dicom', 'train/b4e2b47e4bd0ae390f2143c6519e1836.dicom', 'train/ec5e608a799049c720ba5ce603061692.dicom', 'train/27763fad56acb7f93b9856daffb7ca2c.dicom', 'train/c30f061d706ace5e12920f6ac73dc06a.dicom', 'train/dc8e57ca2214e8d1c989393739b37e41.dicom', 'train/e4cf9351866486947972e12e320a2736.dicom', 'train/aa10ddca9988fda39b2315972ea0850e.dicom', 'train/1b1ff26fe0a4af01e81825ddf4dc2b0f.dicom', 'train/68c4ebe5c17ed1f3e06923ece02b2c47.dicom', 'train/0fa63dc31c13dcb58bc37dc4e7aee645.dicom', 'train/f410d5b1b5f9159e887c34e9785ed780.dicom', 'train/3d5128d7acea3afe8933df579166ebe5.dicom', 'train/337c98bfad46d90770782c9fbc46b9b0.dicom', 'train/8625c5abdfb1c60cfd31d13a63a53b4b.dicom', 'train/4cc672f58806bd94ddb23aeceea11721.dicom', 'train/3bfdca3829bc83eec7f9f39c50ffdfa7.dicom', 'train/9666d7342aec44d49297211c903a6a72.dicom', 'train/98243503a2748e42d3de403fe26c75e6.dicom', 'train/a2e1a558efdc73875c633dabaa0c2366.dicom', 'train/ef086b5ab1db959bad4b66af3bb013cb.dicom', 'train/55d56b3b6c220f3f97d55b34ed193799.dicom', 'train/26fe16768910234c4f42aa0ec9be55f7.dicom', 'train/66b4b74c3668716722c7256792f395bc.dicom', 'train/d22f59c808c3240cac79e1bb93bcae98.dicom', 'train/ecab66d7fc3f9dd4cf6e4353fa80f8e0.dicom', 'train/d0f90d0b7c63db772ab1b7143a03b17f.dicom', 'train/97dad6991f49dcb0c55219ced419ab73.dicom', 'train/f5003d06b41b74f9ce6bdf27a6412c53.dicom', 'train/1f64ddaf2b36520535edaf1d00e69de4.dicom', 'train/2a23c661468b9f3ac33cbf8acc9ac2d5.dicom', 'train/9c578dc17d83d0ca0fafa763db2a3c29.dicom', 'train/a2cb700abf1db1bc3ae7bb0a6bdc87f3.dicom', 'train/9c8707960ba2dbaad1c43c6b45f57e92.dicom', 'train/4199262662432c6644164f6203db3f2c.dicom', 'train/40416c800376bb725b2e6d4cdf7b9ff9.dicom', 'train/79d998417533b06d10034fb067f55dfd.dicom', 'train/907d432edeef86971cffe335b75ded72.dicom', 'train/45fa8c837afcd010b507d63b713d0ea1.dicom', 'train/97b126074c06f15433431655c3a04db5.dicom', 'train/4e365be44cf69ef82d9b6653c49fd8be.dicom', 'train/58b7a08f447186d6645435a1804c3aeb.dicom', 'train/c211cd164bded89fc341348436b8017d.dicom', 'train/683c8e54f2b1b0f06bc4dfd511ed5fdd.dicom', 'train/36ee927826ce67d01d636b4882ea417f.dicom', 'train/188feb6db3b150308c7c3fb137709547.dicom', 'train/25c4e2acc9ef8479f7c0d69e5c3e7095.dicom', 'train/22e0fc1bed2739a8e731136b1e5d7346.dicom', 'train/d1b9ced04e6cbe0659cdd6591787d80d.dicom', 'train/bf47c089b7d3ed813d46bdb1935ccc90.dicom', 'train/ff3b49115c6b12c316b1be4e11ec47e2.dicom', 'train/5b992174d8813d0b2dd1803aecd45412.dicom', 'train/e3c2212099277be307a396720476ef47.dicom', 'train/e859e3ab5bf41e10f42c3c2de9cdd32b.dicom', 'train/8d26ef5c333bbb40b55192409e620295.dicom', 'train/a243f6cdc5a8185f77e332e88255c832.dicom', 'train/b673688a8497a36ed6eed15666d1a253.dicom', 'train/4f606ac5788ab956e692be14a3c25c44.dicom', 'train/e17b3abcc5cc2d8c097652881f017c45.dicom', 'train/4b33d9f522da5c5ddbbe4eb8f6b7f2a0.dicom', 'train/5b6c9aaccb7ad5418352fdee9675aee3.dicom', 'train/4ccbd7c20637cd3a79e6188e0c7e11eb.dicom', 'train/f443dfd5c5f3af67f5a66fb8d893a214.dicom', 'train/645f4803358309e1cf1c55075361434a.dicom', 'train/4c955093e41a6650d193312e10b34ece.dicom', 'train/4c03ef2257ac05709d6be77c131e53c6.dicom', 'train/df278a4eefa087bd92aa29069d386b0b.dicom', 'train/9999893990cc0081dec4849e06dbc9b9.dicom', 'train/5940f09f7cee5809d7f099f6fd6711b9.dicom', 'train/9c30accf1e6d46bc566170c8a8c9b8bb.dicom', 'train/5bc77ad14489d3a70a071f5fb6408cf6.dicom', 'train/333c6c44af43645c09a7b80ce853ba78.dicom', 'train/2a486c0ec9bbedefff31c4563da97bb2.dicom', 'train/23386303b152862a812731cfd86cb31f.dicom', 'train/19595480bd625860e3e0d5cc2cde8ccc.dicom', 'train/11c2a710b156c73e8fb16c1eb43ba6b3.dicom', 'train/daee4a055fd374b41ffee5b2482edee9.dicom', 'train/d619dc13497caa26dfe099596c40858d.dicom', 'train/a745cad2fd84d028df6c77830179bd23.dicom', 'train/3e48632ea5ba9f6676d677a86a2c231f.dicom', 'train/4872f819522a2cb9915dbcbd56e98c00.dicom', 'train/abe240e77e252d73e6e79d3e254d3135.dicom', 'train/cabb410b2b748fdc92283422dc017208.dicom', 'train/3964e716ade2f95a67b9a294dceb4424.dicom', 'train/f8aaaff614c4e4774af48d9339f2b754.dicom', 'train/cf82c80ce15927dd4e473d54b67a5144.dicom', 'train/127584e50fa32851eedb382959ee57db.dicom', 'train/5dda43ce77563a0d6c4f888459472473.dicom', 'train/d70ad7ba5644d643de3ede4fed7036e5.dicom', 'train/1ecf4ee3e456d6013b34c3f55be34a9e.dicom', 'train/caec48eb22762ad2b5d9214abfd62327.dicom', 'train/aee53723aec465a0f60675f6d403c10a.dicom', 'train/8eee458157a2df44f2982c49b296b93f.dicom', 'train/75f03d7a3875b9c08b310cc6f3b2d552.dicom', 'train/eee120e6e934d8d64f0fbc3e447f5680.dicom', 'train/5cec92e8c89de5e89d537ee5a236c7ee.dicom', 'train/dfe5829eff34cf9d577d309357c46e07.dicom', 'train/429f1e7f1bc94efb832bb31744aa48a5.dicom', 'train/bf9afea4721b95d34c9a0cbf346246ef.dicom', 'train/ee46985717a1183324427747eb2ec2b8.dicom', 'train/504b75900670ab22dd745c4612f083cd.dicom', 'train/a3a049f2ebb6a579c25329ba480eff85.dicom', 'train/54471ae095e7035aa700aff3274d968c.dicom', 'train/68c5ef38ae6ef2e47b00e70a7e6b2a54.dicom', 'train/f88a81d08fcb2ef7136fc37b9b068622.dicom', 'train/fe65649ad51fa85e91d41d9bd275af27.dicom', 'train/78568d55fca949b7aafd209007ab5575.dicom', 'train/d7226fd10cce731333794c9e2b753952.dicom', 'train/ac074f50a6b8a563766adbe3ddd293b1.dicom', 'train/31594e901b5a9b1dbcd08315a941eea9.dicom', 'train/8b85b7ab661d81325c416bb5260ba24b.dicom', 'train/0363ad9bc16235b6d2eb2969f1aa6124.dicom', 'train/8c79edaa14a17eb08297336d1e80d798.dicom', 'train/e3421519da57863b7def307cbca61d3c.dicom', 'train/1b4af256a989070406cb7e218beedf9c.dicom', 'train/942c316e4b4f04f3c2bad31517574f1a.dicom', 'train/3af27b78470491a71658023b24260d8a.dicom', 'train/3992a802b81351fbf153c51dc4df06e9.dicom', 'train/7698eedc41e284ba4ce1a4754cb3c9cf.dicom', 'train/7864eb88e607d19398a5a85246701868.dicom', 'train/261ef069771836f6aa75e808e402d7a1.dicom', 'train/4ec42b869e1178b0f8c7c2d2a5438776.dicom', 'train/0dd1da6ba5b8ab95c5c6b4b094a8eb3b.dicom', 'train/3128aaac44706c75cbedd9d84949074d.dicom', 'train/a5496696aa9097a6cf44b7710280e63c.dicom', 'train/b828bc2df9768cdd32a17bc9b0f6a0fa.dicom', 'train/8430a95cf19ce65b68a968d392310ed7.dicom', 'train/8871400ac25d2e72d9f3169c6cef3e25.dicom', 'train/0860ed098abd6ca0996b8b9fb51171e1.dicom', 'train/b2b0bb7810a419a60bd5883c6c88b5be.dicom', 'train/36fcdd8cde82bc890cc127d5fdc979ca.dicom', 'train/6ec52d2bb3903776ac04816e2507c711.dicom', 'train/8d4cc0562de2b069bc0659a575b09fd4.dicom', 'train/06ca8228b96fce5c12e6304060fbf4cf.dicom', 'train/e1528346f6cf71755fa40d78803d8e65.dicom', 'train/21371f2897ba3560204fb00719c18230.dicom', 'train/13384fb57a10ae4a978a5c85af364517.dicom', 'train/4f12b8fe29fcaf5c37d4f87e0f15643f.dicom', 'train/0b4e8995936107b09c53413b864ab58e.dicom', 'train/ada3fb6d0483877bdab235dd5ac26e8f.dicom', 'train/596bfd7f6ccf0a16c39c61a5973dc1a9.dicom', 'train/284bf3fa33da78569323d256708c21f1.dicom', 'train/e81f5b78890223b9157035d0decdce3b.dicom', 'train/f023dc605352a67c1a76368b5c6ab1e2.dicom', 'train/24063c4b7694bd81b57c2c0c61b7a7ef.dicom', 'train/0c0f5b7ea2a2028e33674814eec24dd4.dicom', 'train/5a381b333026385a3e57e648c7a51585.dicom', 'train/fe60b966596e3b29fe3b40d5ae3a9f0d.dicom', 'train/72a7f3ba7a9b2b35a54f528a15f968d4.dicom', 'train/986975bee79937c6a2fca18db9178548.dicom', 'train/09ea2e4521077890f316e0133777a044.dicom', 'train/55000f6a3c798a27a00427b531c8fbb9.dicom', 'train/17d9ce5a58b04a6a3c7e15ece0bf86b3.dicom', 'train/2be2dd30a53039062eb6f67fabce72a8.dicom', 'train/64f279d60f93a0e07446bf4c02fec265.dicom', 'train/5e9954d6726b4cc1230070ec1ac9ad1f.dicom', 'train/d27dee1f72c83b1d1368e0ba9ea71c6c.dicom', 'train/4bc289541fc4db26ede44fab6e4d87e5.dicom', 'train/edcf83eeb32f25c4b7a25c918160cb0e.dicom', 'train/286fa3e1b87995d8702f0bd0b65c09d7.dicom', 'train/a08b8c3d867bf0508211e04f48d5f20a.dicom', 'train/09f53db18fab173a86e303d58299037f.dicom', 'train/1e798d29d07ebee46806dd46a0d0392d.dicom', 'train/86ce5d0e4acc0e2af7f87a84d2af436f.dicom', 'train/8d3b2e50ef239c09354b2e16d0fb93ed.dicom', 'train/b780a22f090491a5e609a3ae59a18512.dicom', 'train/1f2f449eb45e6f6b6d24d14fbc63bdae.dicom', 'train/f8456db36a0625d2a70c091994d0a878.dicom', 'train/5be0bb38dddc6721e1b06f69cfcd6fdd.dicom', 'train/400dc08b58f368f15c6fbe0ff24fa288.dicom', 'train/9538a11af47f8d4ad58ef4149f72f64d.dicom', 'train/713a06307554a49b2db3bdda3e50bcac.dicom', 'train/575e008011b2b80ca3adedcd36eec54c.dicom', 'train/5c222473e0e45b0a20d2aacbf0cc9d0f.dicom', 'train/7306589c3c0b518cd1b77e01eba26f16.dicom', 'train/a4276997369ed9ed3c902b9445868418.dicom', 'train/1c3c312d544a775317d90cf9f141e167.dicom', 'train/d21f008c78b5c4ca9c325dd1cf103383.dicom', 'train/410b139cc02bf0c5c0e15623b2eb55e2.dicom', 'train/88b730c88b1c2261f44e0d19fdfcac75.dicom', 'train/a62ab060e2cf6d9d38d0681500e9f5c0.dicom', 'train/a06b9ac71799dfa2133f156d3b970430.dicom', 'train/cb5b2c4fda2b49bf3becd6e9bc09096b.dicom', 'train/f4f58adc455143760f86911834376978.dicom', 'train/a0564541798752dbe8a8db377015ab27.dicom', 'train/088223ba6633e2a0f56ea16454d9a2fa.dicom', 'train/359d752e048434321e86f7d15f1bae8d.dicom', 'train/59b1eebe2a0e029f26d62ca2ed992dab.dicom', 'train/16023c197691327b4060c3387f74bf5a.dicom', 'train/6489b9a0a0a21bd8405989789815b6b1.dicom', 'train/ebf08e7952be8899f3f937ce91447391.dicom', 'train/b78f1d8ffab7175a56d62f74c02cd926.dicom', 'train/1a75bc0c3ae505ba50691137d766d5ba.dicom', 'train/8d3badf181b2db8a836241a4b8c40c1b.dicom', 'train/f94ed82f98264709559bf08533424664.dicom', 'train/95919d656f1bb2476812d01f7af04d13.dicom', 'train/3414fc025fdae8ffb532de5dbd7dc401.dicom', 'train/bb5788925b841cd7664b38f54790cb5b.dicom', 'train/bbd36e333de188aa99d2417db6a6c4d6.dicom', 'train/bf3f10b5d380333b453a210b70312e34.dicom', 'train/aeb8fe66e28a1b2173d3f1ee3617204e.dicom', 'train/e19ba3599f6eff42ac98c5547564bb73.dicom', 'train/9b452f2cf029e13170b8d0d5462e8598.dicom', 'train/b54a35757f4cb1b6d04e20d1d29746f8.dicom', 'train/b9c4839e98111b79898b8e192e862b5e.dicom', 'train/1df8f03c1725a6aa1e9bac554836241b.dicom', 'train/7e7bd7cdec9690bc3efa9a6b8d9f8ffb.dicom', 'train/38847ff672315cb7d147fa95b6f12399.dicom', 'train/82b2efdf354f2267ef63411314504b6d.dicom', 'train/1e9fc7216cdf93b6c828f7c5f5eac6b9.dicom', 'train/33b66b58896b6aa018e8c4c33c3c4ae8.dicom', 'train/77d4d152c9938af0a8ecc063b3e50fc0.dicom', 'train/9c7a6f260a10c129a408f7cbdf34f162.dicom', 'train/55f09af5d842cd67f1fcf656fcb32dd6.dicom', 'train/26325fe017fd8e5785274373ed7d11f7.dicom', 'train/08b482d28ddfb2401a4f64ed33189573.dicom', 'train/5dc909047ac9060aab912da3b01ed21f.dicom', 'train/b7cf3fdc6ec2dc5ca7b04c85643664db.dicom', 'train/93a78c685ae65d8424578eae0359b385.dicom', 'train/de0751b543f338e6628f4a2436f2b7dd.dicom', 'train/de4fe08c96827c24a3b2a073b35cde7c.dicom', 'train/b45b27af3265db6b2c37bdb72bab45b9.dicom', 'train/f70cf372b27b721926166a11ff932d79.dicom', 'train/1779f31da9d80b1433c60884607cea03.dicom', 'train/d289ea923706c862f2e93edac5ecc4fe.dicom', 'train/06529e3beca503647705675688994ba1.dicom', 'train/056424b847a2466b02d835a45c214e06.dicom', 'train/49a21726eb12c9cce3ec1ea3ca0849d3.dicom', 'train/5c748a00ba59377e9ef6776138d4169a.dicom', 'train/d76f169e1caec00d10466684c29fb162.dicom', 'train/6c61f11a842c3132bce470b1bcc06aa4.dicom', 'train/ad7c31befde4a9fe959b49830aee62d0.dicom', 'train/6079b498d6e375889e7187b36460c155.dicom', 'train/cc84ffefd0d3338da5981d2bb8fc18df.dicom', 'train/8cafd2aface69bb11d7220abd6c7c90e.dicom', 'train/6f933ec7394abf4738527176a2e019f8.dicom', 'train/e5bf1d1a0cee4b8df295fbc3e0e0a779.dicom', 'train/d76e56546a5866d35929470978d3648f.dicom', 'train/75738337b5aa0ef4f118a0dc552388ca.dicom', 'train/78e747b67c9a4ec797a4e41b1a527622.dicom', 'train/1993164324d495cefe7e7f99a035e868.dicom', 'train/629a101620bc19d836ba8d3a1ceae747.dicom', 'train/6842fbdd045c648792e8072b8db655df.dicom', 'train/f5a9d1da20910372cb8d0fb9b7ee1ecb.dicom', 'train/b198ef2487f87d7a1489cb534b084720.dicom', 'train/5f841e89de255cec38b08eab87c73745.dicom', 'train/39b0d327d6606768e374a0c3d52ab958.dicom', 'train/865f1e6efa81aa07351545745c07370c.dicom', 'train/88d2d187563c0ddcc02d6fc439693d0c.dicom', 'train/b48a6c74e79b369ce812ea7dd133ee08.dicom', 'train/8ddd65be71b1d6459acd0b85acf50805.dicom', 'train/44f07f6b7dc0690cde6e60ad520fc686.dicom', 'train/3ef1a7bfc72cb8e8b3eecc468338f9c4.dicom', 'train/ad4d5834cb99c587f06b2db742b71c5d.dicom', 'train/ea93e5424d4d14185f4f1f78864970c1.dicom', 'train/aa43b7b19a2c23ed4b04e1cdd3c1ebc6.dicom', 'train/2cf0515a8be535e32a8a12ef5d852ff0.dicom', 'train/b604c01a9bbe6d1f48c537cc26551e94.dicom', 'train/2d07bf101f1f4df23a1429524b082bf6.dicom', 'train/919d218c7613be947cf655becab9c30a.dicom', 'train/dc8062365f2b30697b2c491a962e153c.dicom', 'train/d3cee49bcc8b5b0eff9ca1b14c87910f.dicom', 'train/66160f62ddfb085a0856dbb68170baf4.dicom', 'train/4d2a24a7c42766f4ed8ec04823bed6a7.dicom', 'train/278311177bd4a21e6f84abeb14e1c4ac.dicom', 'train/6d9327c194d1c8404cd75a3eaf9eebee.dicom', 'train/01a797d3e58484fd20005e21901c7590.dicom', 'train/78a9f0e529f122765277b31068a710ae.dicom', 'train/98a2f4996117d1aaa1df47259f773cab.dicom', 'train/1e3419087aba81e2b6de8e8295965ebd.dicom', 'train/135144ad708f7991c9f46de8dd541777.dicom', 'train/57109b3ddb60501ff0aaef37d1e1d80e.dicom', 'train/7baf6a39f1c9b6d30719d2ec6bdc9aab.dicom', 'train/e799af1a194e0341cee078a83244c3a6.dicom', 'train/4bccc78b373420398f6d3d296ba55f67.dicom', 'train/2b13f5cdbae5dd9e0a96328217e45d6c.dicom', 'train/c7cff43e78a519117154595d80d18342.dicom', 'train/3b0854c6809b127b6863a40f5ba31a2a.dicom', 'train/eb10ed40fdeb4ca1a77aa8e4098b0448.dicom', 'train/9f23c97c79b356702937d84d8cfc0581.dicom', 'train/9e2677d5e66e7c32c6b50306bdc87237.dicom', 'train/9a9f8c61f19909d382a3a413ecb52072.dicom', 'train/995e9b6d1694fe2a0033ea7050c2a7d9.dicom', 'train/9866d61c8f64bfe7cfb4aaf70b40a824.dicom', 'train/b90ceb9ae8ff9068bb9426199696ae4a.dicom', 'train/f22241d48b1becc19917a6fbb3e428fc.dicom', 'train/c3f051492fcab632f3f4df814a9bcaab.dicom', 'train/4f0135c3c67ec5d4be4a2b52ac2b0c69.dicom', 'train/02440286bf6ff6cced57db487ae1427f.dicom', 'train/ff19ed7a0fa64e08bba3d6ae1992d5c6.dicom', 'train/1e8678d4642e11a0d0cf4905ecfc5d46.dicom', 'train/79b6fe7588be8c39c1c9416193a0a922.dicom', 'train/e7d367762ca6d37f461a588a6756eab6.dicom', 'train/c5690ccd0af448de57fc7977be1d1371.dicom', 'train/992f5d4e0fd3528060091ca5579a9b03.dicom', 'train/89b1b9ca71a60ddfaa1f81f85acf4e15.dicom', 'train/d7b6dbc35242f990b1c5c2e70a6e9a7c.dicom', 'train/1076aa4e810db98dbd233649f01fedc6.dicom', 'train/80c886e0a2149ff4fa9f7f494da1e035.dicom', 'train/089a8443bcaa526ce476704eeb530edd.dicom', 'train/9597104dfb7d8f51e6c83bac21e3cda3.dicom', 'train/1c16a6ca0fffbe15948e5070e9ce7433.dicom', 'train/327c44ecc997f6b271b9abb77236708c.dicom', 'train/d457c58c65bbc5e463a8c808e6d422bd.dicom', 'train/0faacf79b4276722db782ddb83bafcad.dicom', 'train/f728b641696394641a00f9cb7c38dceb.dicom', 'train/797ba8a217ca7eaa3db6e2bdbc025da4.dicom', 'train/c0ff7dfca92e947e1956dae62564fd3c.dicom', 'train/1260540df9083150f99f2c23d34c9b05.dicom', 'train/9d778a151fd4dcab108a0ad6426da95f.dicom', 'train/c02c3471cf08ad3ff5cc3a8d34d16cd1.dicom', 'train/d900f5b9be08304d7a7ae45b17f2cbed.dicom', 'train/c8425f336d66acc1f99fa56ecf6bed0e.dicom', 'train/f6fbadaf843b1f64669b6d4a366f2742.dicom', 'train/58ac44ade772271567d5766538e6ba97.dicom', 'train/7b7653b8a06ac7c24ef15b465ddac2cb.dicom', 'train/fee57c9842d4ca8f0f88318170cab625.dicom', 'train/0d6d17082378486042a433f57f193d5e.dicom', 'train/de3a428e3af80704699867b5d4d3ed5e.dicom', 'train/0cb33d01ae093363860e57b5351f4faf.dicom', 'train/5782aae6f63ec98c77d8e62ed5749cc8.dicom', 'train/4399c5a7fe1e2d25112e816c305792c3.dicom', 'train/9caed2df74baaf9f02fc0b7fce3073cd.dicom', 'train/6a38af64956e9f030a508e5a7f381620.dicom', 'train/ab0de1e545d1551a1dc5cb6777382728.dicom', 'train/d89dcd47ab053ee6a6bd4812311c2afa.dicom', 'train/f66942686cc4defbc2a6eb3dfe3c4391.dicom', 'train/7c103dfe79e61c586765894bed20c135.dicom', 'train/10ddde5943fa3d5c06e32d7249d7e997.dicom', 'train/32c1b7137810d4e7d02f7ca1eca5cb75.dicom', 'train/cccdcea6ede4777b98bcdf850d930f17.dicom', 'train/f1a9023d1b1e71cf9415bef88d8e970f.dicom', 'train/20ffe5ae94db08915f63af7112ad4bc7.dicom', 'train/a72f03afec5efe215a394ac3550375a0.dicom', 'train/cd6c8418872de747cf11acc29388bd18.dicom', 'train/5d66d58f4a15a5aacab5c9a5b3aafc77.dicom', 'train/67840f1572e3d9420c862aad213f7e34.dicom', 'train/01d8f6644e94d04e66d813535b2861ea.dicom', 'train/4498b568c27fbabfee51a98fd9f3f381.dicom', 'train/513a80d93999dc1fe02ca373239705ef.dicom', 'train/b3692c08b3870d6639f8c85f8f7c153c.dicom', 'train/8f1114eb5534a1088063db27a8e07e3d.dicom', 'train/e9f89a820f642a46710ced51ae3dcf40.dicom', 'train/c3511070eb4c29d0703258ac11a6a00a.dicom', 'train/4fe0dcfff6acfd93ddb2c2a0323dc5cb.dicom', 'train/0d7478afa7adc26488f4c5f97bdb5506.dicom', 'train/97660f98cbac5f406f94e1c4891f11a5.dicom', 'train/4079acf07cc61e062eb6522b4221c689.dicom', 'train/454a9e915a20b84df5e4682c2509ff31.dicom', 'train/396f49d118466d2355e68f212200af98.dicom', 'train/ca5b8be72157466586b1a61fa477f14d.dicom', 'train/6c1e4eae6733cfc11f78d4d09c51f082.dicom', 'train/4166fb6931e4a517be8f842198a992e3.dicom', 'train/c269602da1f760272865efa5a5c4028c.dicom', 'train/08571c6a309e72efd2a6d0f0a3e27452.dicom', 'train/e9bd68849de3be97e4c7a6a4198f37a4.dicom', 'train/832495bf1214a68b9f758baf091d5f6c.dicom', 'train/424ae821c7f066d5e079d0f8839752fa.dicom', 'train/30e2027a8c63df1f3780dfc6b2ff953d.dicom', 'train/aa3c427cb3c61f81ae54f5643d089179.dicom', 'train/7564341eacbfa167b622f7c3617ae51f.dicom', 'train/e16032c0fcc0fd17f881e2a2e5ee41c4.dicom', 'train/c82b67bf88e1735b517895f115df2cf2.dicom', 'train/4cbf730a52b71e2dd6cfa9a755ecba08.dicom', 'train/d1d1ad219026bdbd3b15476addd822ed.dicom', 'train/f654b004e73d632ebc733b69ce0074c8.dicom', 'train/ef47e0ecb0a64987a5760de8e8cb7091.dicom', 'train/7ce79c7990b74e05e75e63157d727fdd.dicom', 'train/49b6d6d6db9020a90647a0a5b0fb6ce5.dicom', 'train/00da6bca5fcd466cd49b5b2add6644a6.dicom', 'train/232264b9f1d13af1a7434fb03461f4cc.dicom', 'train/adde35ba67e2c4982885b65d94119ef2.dicom', 'train/13b5343be3659b52387ed7c273a9ae47.dicom', 'train/e2c1868aa8adcd82713f8c7573478b20.dicom', 'train/4812833d73481216d884aecccdc6697a.dicom', 'train/ddcafab189c45a2725f33c283d328ca8.dicom', 'train/90be7dca19d75d508606291ced897bcb.dicom', 'train/bd08447bbf7ab1012935a2a58ae241e6.dicom', 'train/bd0bae0e467aec2be439407725f74fe3.dicom', 'train/98fb25637fef236a15f10417ee74e416.dicom', 'train/18e379945fc524b40f874a699e57c726.dicom', 'train/a5877263cc116d92de94e4f53f5f2476.dicom', 'train/aae128572352a84a42591971ed28a83c.dicom', 'train/fe05c45a5e6b520f10d4c9d16b05390f.dicom', 'train/9d93581e1449deff17c61cdeb443a101.dicom', 'train/cc99e2c36e3c45826c87dd09baf07b83.dicom', 'train/73ab60c1305dcee61fcdb315bc703ebc.dicom', 'train/db11932fc8ea48d2ad5176ae87d3e898.dicom', 'train/a2f73a62b9fd7dd674af43e6b4ecff75.dicom', 'train/9ee25f3fc69653b7bb8530cb76e0d197.dicom', 'train/65ac76fcbccdb0d7d0556b3115c76a1c.dicom', 'train/43953d051c8924b2e10dbc51188b7957.dicom', 'train/d6cf7ac126d04df1190cf3d028fe2d28.dicom', 'train/3bb278c50d31e3b10dbda64e70f2ba39.dicom', 'train/bcd25b0a0f5b6b14cd4fb416bdc3d7cd.dicom', 'train/88fb6f5473838608561251534f86348a.dicom', 'train/0b7941cecf0198d5ac3781acff9f42d5.dicom', 'train/b46ad9d01219d3a2969a0d0b0fb1ab23.dicom', 'train/0a0b498a6d22bf1009579fd8d9f44bbc.dicom', 'train/1089ee388cd7038605bbf2bedd56f17c.dicom', 'train/6dc004e17c89496b9466bef79380f172.dicom', 'train/ece0950d35b4cb5d7956d3948aba071c.dicom', 'train/8b99212ff9048f281d6b7b39a587af61.dicom', 'train/ddb3838dbd1bf4a51dcb560d8076c5db.dicom', 'train/8a70dcea2756663b58151c0705a00b5b.dicom', 'train/e82337fbc17d9293fbfe6fac34a59fa3.dicom', 'train/f99e2540f398718f1f936010729d107a.dicom', 'train/7a77e3e3310cf80c8b5756ecb5949329.dicom', 'train/435fff354594e30c1d8295a94d6be562.dicom', 'train/849e3e85df4b30b6fe7ba13c28f6fe6d.dicom', 'train/1c3e1695a74c02410759d07708c6f65e.dicom', 'train/e9975df437ee1cb158a29bcb36ce97c2.dicom', 'train/d71a8e53296a0991cda882e27ed5bbf7.dicom', 'train/27462da48fbd2e016efc02a8ced26324.dicom', 'train/82eb6e56eba8200a13425eff6f6be74b.dicom', 'train/7767511a27700490fd09b424bd699b3d.dicom', 'train/44e61f043b505578a80cb9655ae97b36.dicom', 'train/1e03994c12c65dd5e3fbd3cc90724b78.dicom', 'train/4f5837f9e7d6f1270da9604ec106f7ce.dicom', 'train/45deede69925f4d0f9bf9313e01209a1.dicom', 'train/2fe83806ecaf055da3fa08ac307f8b75.dicom', 'train/1f65db8d2741eb6acb130292e8cf0402.dicom', 'train/29d5a0675cb0e79fa8c7b0ab49c2299f.dicom', 'train/fcacc97268753ce8d1593972dee44e7a.dicom', 'train/fe528d4e31ba3a3580190fccd762a200.dicom', 'train/f99d4ff11ee4fb349658ac0643d5437b.dicom', 'train/e6d8d409b0bb90d3f739ceebdcfaae9a.dicom', 'train/ceae9aeec2e4f3807922b44fac801248.dicom', 'train/12060beaf2fd7dd484ff026a57219c73.dicom', 'train/58e46d9ecab65eea1c9732b1a5843da3.dicom', 'train/73192a0e309ffd8e51dffb8f32c18f52.dicom', 'train/13f12ea98358d63021c9cc040228e9b4.dicom', 'train/ae38376c0474cd84eb313708f64f2923.dicom', 'train/5f5c4510b3edbf87d8df08c6be47fa85.dicom', 'train/df3451aeebd02eff0e621f80100adb27.dicom', 'train/1fccef81a7cd97e9b0d0542b86eed084.dicom', 'train/c4dabae341e35d9937edae11fc1c509d.dicom', 'train/aae9faf65d29fd343f2ade26fe786ac2.dicom', 'train/8bded2f206af2876328af091653f44c7.dicom', 'train/c9aabc8aad02bd0375f70e87e956ae58.dicom', 'train/fabe740fa491cbe9736dcc467334adbd.dicom', 'train/1c37b9548dcf8fe23b309da70c9e41a8.dicom', 'train/51b495c47db16063ee5c1d527e65638b.dicom', 'train/e0f7dc3a2276df41b1a1d918f4becfc5.dicom', 'train/002cf1f4cba98648335843f21756ee36.dicom', 'train/1fd154d4678d645ab9c75680b54e4c5b.dicom', 'train/3b81736c8f4a5d1e78aeadf18c4474db.dicom', 'train/c866a0b9e673c75d81c2e46d4ed4fbb3.dicom', 'train/168037f46769d35371596cbf6c7f4dc2.dicom', 'train/85832d13cd0deb140803aad33e794c7c.dicom', 'train/942a1a4ee91e0f934c1f0656ed066921.dicom', 'train/dc12400beb09e8ee5c91d91c7f71be27.dicom', 'train/6b23dd1039afc11cc3a1502d472db4ab.dicom', 'train/88232dc085921d21c4649f1dc7835549.dicom', 'train/0b583818f13b2646498a240cede9cb89.dicom', 'train/f02b88613aa0706d6b26cc7b67011249.dicom', 'train/ecbf8cc92f9a5e40de85452297ddd1c0.dicom', 'train/e9026f261e0f8b23f7d452ed483c09db.dicom', 'train/96a87493220473f69f90925c59210b40.dicom', 'train/4700334f44bd5b71aecbdd797956b261.dicom', 'train/2a73c6826c2395b9a7f00bf2a64e4f44.dicom', 'train/80e607aba749a09027849317b5f8d5be.dicom', 'train/538bb5542a767d90f51045cbe317e0a2.dicom', 'train/206349ea2382267d150c4612d59a6ca6.dicom', 'train/201eaee70f0a3e85717880ae304be120.dicom', 'train/d8ed26a02a588857e22fdb615f76af03.dicom', 'train/7f24acebf8947d4c0eb69a4ba142ba8c.dicom', 'train/7e9ec1e13d19fd793b6f1996e0f90dc3.dicom', 'train/be92d9f91d071d345ee510177318015d.dicom', 'train/c3c52441aaab14b14f31c04f84dba08a.dicom', 'train/a603af59566c665b603aa31e9c70ca39.dicom', 'train/decbc7260bc1d571dc6609ee2ddff565.dicom', 'train/3ee5a3227e23527a429d367d74677910.dicom', 'train/273ea0d5960e4733eccdce08e0dcd931.dicom', 'train/8a6629d97c9da688a154b0c263b703f6.dicom', 'train/fece4db25740957f1f63003e50b72019.dicom', 'train/26c40c00d5ec8e4e937208054ee102a3.dicom', 'train/5cba6f76abfc5e15602d95810d052023.dicom', 'train/98c34343d0e42498aa691730f812b634.dicom', 'train/7623c1e3f018360f8ba0f66538c0c561.dicom', 'train/7fbc56e4235e0adb9e863fc7ee32a5ff.dicom', 'train/f710f5b5f14d7ce775d04d5fb6b0bc95.dicom', 'train/a7f4afe6e9b6687aafb0caba2d952fcf.dicom', 'train/89981ec10af22fbde96e40d22ec85c5b.dicom', 'train/2780d2fe427b992987ca8081c477fce5.dicom', 'train/5f7a5c9f221735fd61cc5b047329c77c.dicom', 'train/3c001c3de73170faa42476608b739651.dicom', 'train/203ce81e995cc15c78a1fd4a8376e468.dicom', 'train/d3f9c026e2b8be2db7c86e1dbc628171.dicom', 'train/cddd6d0f207b15a2e577cc34be049050.dicom', 'train/d5553e0b7460cd5cf444639b1995744b.dicom', 'train/6ebeb8c165b66ffc4da34949fde00dad.dicom', 'train/8bf149201897014900b9596a8be4983c.dicom', 'train/4ede3ea4769845f97c6aa2247ef02357.dicom', 'train/4c55b295ec5c356a101ec710b84da703.dicom', 'train/0e671f47ab3b323a2145bb5d7739508a.dicom', 'train/e5dc7f0363a39509ede2693bf48bb5d2.dicom', 'train/b2dd126a44c56eaac97d2089bc8796e7.dicom', 'train/59a187fb540e775833b3cf7ef61fd5b8.dicom', 'train/62eb19cfd359bfcf62e5cbc9d8b63701.dicom', 'train/d2328b058cd94ebcff5e4642e4712719.dicom', 'train/b0061e4846659e89fa9be698e13bf3da.dicom', 'train/126b7f62fa453eb08eca90037608b7ed.dicom', 'train/1e46511f6ec7d741a7ffeb2d5898129b.dicom', 'train/042c74fcd540012dc260e4ae614f96f6.dicom', 'train/84032a1635c71be9db1bf21e66a4f02e.dicom', 'train/9e0576874823638bf5703f194c2760b9.dicom', 'train/da343559cc3992008b6d351a0f1790ad.dicom', 'train/ee7bae25a5205b62c71be880c7761abf.dicom', 'train/717917fe022cf6049327f54babbc2c99.dicom', 'train/ba3421d7b046bce5ed6d4e5bddfd8566.dicom', 'train/861bc55dc445be778ba7bae70b619093.dicom', 'train/801c9b2143f6797b5c2d4816a2e9dca2.dicom', 'train/d5cc822b2e01f8162cd0b47531b376ce.dicom', 'train/c41c341d699b65fc82e9f5e67d6fadb4.dicom', 'train/f20936b17ba26f0647d3945dcbbc0a64.dicom', 'train/99bb89e2397b2850bd97bf3f71ea8de2.dicom', 'train/03f495c8b10acb482f741ff95f37ec9f.dicom', 'train/a18a193846272935e239aa954f98f044.dicom', 'train/a2bf43741ee207fc93a84d541a72f141.dicom', 'train/3f87c18ef8732fa543b507f6ac1e42f7.dicom', 'train/a525c40913e02f271f628d1e61da819a.dicom', 'train/336840a248085f6b31bed51bc65790ec.dicom', 'train/83362ad905cec82d2087485fdab2eb19.dicom', 'train/3c54aba846b6b80c17137ccf831e326c.dicom', 'train/366951ef2dce37e787b18340a9b2eafb.dicom', 'train/3db2ad0ca3d83cd4e662120a3d02898c.dicom', 'train/636181bdc3687db2def64b87cb6bd175.dicom', 'train/4a486953f45f8c264aa8cab90425992b.dicom', 'train/3edaac9222360abdfe140c31c40c847c.dicom', 'train/a208330e56e6f17764ff21753b78fb60.dicom', 'train/5da2e98a905aa3f86e7d54068f272e46.dicom', 'train/893bba87b957e256ba5c7cf439691056.dicom', 'train/c7742483e2afb0e2894c9b045ba3dd1b.dicom', 'train/ecdd42b18bedd19d2bc9656bc5f2284d.dicom', 'train/d881e32d98dbb95e8f43c1eeb8464bc9.dicom', 'train/5b455e867f40c6798649dc4ea8c32c87.dicom', 'train/badcd4538bad07c52da34bbd159784e6.dicom', 'train/ba9ef74b89f2c993e19d02df526e9b1b.dicom', 'train/4f63218983ed29431ad9f26c298d9391.dicom', 'train/650aa096714fc70d47a1f5c2f9f51381.dicom', 'train/6339874808a608b7c62cff986a9be515.dicom', 'train/5148cbdcd33b7f27ea06310c8fdb3266.dicom', 'train/c4b790c071c4075ad9bbb44f2cb58fd7.dicom', 'train/f70fc8a2244815c4cf997bfbe6aaca00.dicom', 'train/c44828db57af06b9619994198c08c85f.dicom', 'train/cd110b5ad63051239459024409f59823.dicom', 'train/22e70dc14e0e50ff9e16bb9f7b7bdc89.dicom', 'train/940c0a645eea9c32fecb9a118c226a15.dicom', 'train/f9fb97688b1b24368471dc4fb5292c9c.dicom', 'train/45993453e8e6d4ddb58928c8b8b2d98a.dicom', 'train/c3cfe3249cdd15ad7ce40bd09ef281dc.dicom', 'train/8a4f023b747e45f72536fc25171cced0.dicom', 'train/c9230ab47911f78f6d88689fb631307f.dicom', 'train/50879047412dae13d13407adea0ef4f4.dicom', 'train/e544ddd7edf05417d5f4d5dc3adeb136.dicom', 'train/0c6131378245d2f71ecb0dc949c4a458.dicom', 'train/eb5020f93873ab571a3e69015adb006b.dicom', 'train/21f822601908fcbf8502bf2ec9acafa3.dicom', 'train/b7533171a520a4214cd3c1d641878e70.dicom', 'train/f216914c9882d8f04d05e86cb9ac2098.dicom', 'train/f97be3d60509797437e384a76b3dc67b.dicom', 'train/24eef61d8eb89a4d47c1b54c75024e4f.dicom', 'train/867bdffcf4baa4e934fb16c76b3185c5.dicom', 'train/22724acebb563c72e22dbd7deaba0034.dicom', 'train/2535fcddc0408c89d1762de9a76c8155.dicom', 'train/37c6b66b6d493ed00737fcc3daa0f212.dicom', 'train/f4f35ad263aa018278144e0f418aeef1.dicom', 'train/f3e29e0c2970048dd48ea9506e5dca3c.dicom', 'train/95e307ecf8d48b989213bc111725528b.dicom', 'train/911ea5b2303efc44b6ce2c2f84be9f1d.dicom', 'train/fb0b516f595f5ee5bc61067e0df0f548.dicom', 'train/90f30bd1083e5af5311c45e2d21a7a96.dicom', 'train/617f2b45435f369884d3eefe2cce0b8d.dicom', 'train/9610c425fbc410b53603b1271ac32562.dicom', 'train/2c2502f9b942502de342de5ad3b6b8e7.dicom', 'train/53f7d9aa7c63ff98d2374201dd38a85b.dicom', 'train/5592ddeacea39710fcedf9de828a2efc.dicom', 'train/1dd1649d002e8b6132f85fda321db65d.dicom', 'train/f8591a4cf0f77d41bcf445fc2ea55e6b.dicom', 'train/ed2a5826add9e6998cb98db4f705745f.dicom', 'train/14682f2cc722b9d223acd69356ec77ee.dicom', 'train/b5a899a15bf27682eb171ca51db1fd5e.dicom', 'train/4b0be88f4070e2d52acaebb5f13df050.dicom', 'train/d23a8068b34c629e769de6ade1007268.dicom', 'train/22f72239bc25495ac8c0c81f05adaeb1.dicom', 'train/f693b300a87b6aa9e43b5d01a059477b.dicom', 'train/55d831918dd7ef737389b83d4c3660a0.dicom', 'train/9fb376eef6590266ceedd9c340468017.dicom', 'train/ffe90d9828f072fd77cdd68f6118a010.dicom', 'train/b696fd7ff0c05dc47162e902ca6c1994.dicom', 'train/8c5ce8fedf75681f3ac8d90309d43350.dicom', 'train/612ef8be258eed8492ee107a760cb9c0.dicom', 'train/b733404041347e2583096d9e46c07812.dicom', 'train/b58e0b88d83e100fa7fc9012d7ac23bc.dicom', 'train/1784105c0e273cc3781d50900bce9fd3.dicom', 'train/6bf1e359627749096cb4a0e9fd37dbd9.dicom', 'train/e4e56d10baf10708e5947e4c62e53dc5.dicom', 'train/054e6774b2fc54714a2ead96f7aae004.dicom', 'train/468ebaf6494ab868df1912ec6ca32c86.dicom', 'train/349b3eafe55c93eb9d7ad3d9411b724b.dicom', 'train/0cccfe274068fd41f591474697d23bd1.dicom', 'train/68ea879929aae7a92a6795500efaba74.dicom', 'train/7eceaade52cbbff5873acef8d038faae.dicom', 'train/78f2515c6515432c53fc99c5d2379572.dicom', 'train/4fca95d46a17d4866174ea1e8b1c9760.dicom', 'train/8a352ea93439d4279403cc769188a5cd.dicom', 'train/9ca8e977a8b4ce693e1147c816d67ee4.dicom', 'train/1e54ef33316455b7be12f61595cfdc18.dicom', 'train/eb3db73634706045a99c8bd60cc19434.dicom', 'train/5c2380574fb43f463747168b521acdc3.dicom', 'train/6421673b8623a28683e0f5ab926f3b32.dicom', 'train/fcc05057c2df6fbf429317d98c86c358.dicom', 'train/170c727f3ff9ec9b4fbafcbc9cd9c432.dicom', 'train/ed21cdd6cad1c12044cfed895b5735c5.dicom', 'train/6d8ccfcf31cb7156d61aa2b185cced71.dicom', 'train/c23e221d58ed6d1ee36bef00862a96ad.dicom', 'train/0177da59ccd24d7936e228ec6d714742.dicom', 'train/861da7953652ea01f5882c89e8a78b96.dicom', 'train/0355fc831f75419d9d88047af58e45ca.dicom', 'train/78f7925df84f2acf6b9d5ac48144d7dc.dicom', 'train/e9c33c20f604835b3b28442bd8103e97.dicom', 'train/f1fff8ab108063869a2ff3384129ab7e.dicom', 'train/615c34dade3595cc149ecdc4d8232beb.dicom', 'train/f63a53968d2291c18589de2b5fadd8e6.dicom', 'train/bd8f6a6e3ce76a990d7986819a57615d.dicom', 'train/47454c84f171ca1dd830f2e6a6ab7d7c.dicom', 'train/d667b3819bdd7fa68a42222ce84dfd07.dicom', 'train/83a6804d0e73f7ff18b7459ac60fd4fc.dicom', 'train/b2730c631ff122b802c300e22f7e87ea.dicom', 'train/e2104a2b8b9a9c8e0a5bd6f3187fb064.dicom', 'train/c707697d75f19325b1816ca8efaea983.dicom', 'train/a4dff985e00850c98c703c1cb8ad1e66.dicom', 'train/adcc247cafcb0e753694fdcd98427309.dicom', 'train/8d97a08bb786acd157e729f83796d063.dicom', 'train/3ad20c503d552f52001a719a3d8ba8ea.dicom', 'train/baa8c787a367999fbd6b1dae293f07fb.dicom', 'train/bb2faf7bb5f7b588a0edf28647b08d48.dicom', 'train/36a78f00b4d598e338cf45eb96b4e47c.dicom', 'train/d0a400ba7e7382dea5a2baf2b29fbdea.dicom', 'train/187fa07f9363e72855ae5c224b16db2b.dicom', 'train/c5e652b49bde8eaa0a05f8381bc6f121.dicom', 'train/af2865b10650c05732fdecb885760aa3.dicom', 'train/2dccd6219e4944cc1cc3e13f45bb7b8b.dicom', 'train/1527ba6cb4b5c7ea04f708b2ac05e02e.dicom', 'train/46b942e85241353745a767f15eb09f3b.dicom', 'train/c9c4d1ec2498839c4215e30dce78ba0b.dicom', 'train/c26ed5a41a900dfa3c6639cd98d35f71.dicom', 'train/3e514ff938f4751b1920bd2527129426.dicom', 'train/5bec8f9fc71032f0824cc78f6c56b023.dicom', 'train/3d087acaf9286c5a814b810443b9e212.dicom', 'train/e996ca126fe6c12f8106342e3f4161f1.dicom', 'train/ec849935436f9360d3dea70f198a3443.dicom', 'train/3093865997df3d43f0f757c3bc060c36.dicom', 'train/72a77cee55107805f2fe202ca209d7c8.dicom', 'train/a6556c6c3a681e49816c3890b2e1730a.dicom', 'train/df963a9affe128d8d57aa43ace428b4c.dicom', 'train/3c62d96ac5d8aa0cde29b486965166bf.dicom', 'train/7f48fc59035c5fdc2c53739fcc637103.dicom', 'train/da8c391e53ef7d70a3015899bfed03f9.dicom', 'train/3ca8b4ef877d9d30f7615f012095c038.dicom', 'train/6bab29bb08254c02f6952a771a6eb33c.dicom', 'train/bf250f81ecbcc4f3e2a83a598fc48bf2.dicom', 'train/005507c9bc99fe29035c555f86ec4fb9.dicom', 'train/15b42b966aca4f6e74b1ffee78f5367d.dicom', 'train/07840b4c30887a284e386b3dfdfe76d5.dicom', 'train/eb1f02fa8c63c142385441ec7be7c430.dicom', 'train/93b67cd094e862131f165943f12f7276.dicom', 'train/ccd475df208369bed2d791485268ce34.dicom', 'train/a44c3c4df3a53a81edaa28f0606d19af.dicom', 'train/7fc8d8c85bae4fff437fbdf14a4624bc.dicom', 'train/cd42e5bc083db5689970bf61566fb7ac.dicom', 'train/c990b0807ba6a07fc7375ec65e986b71.dicom', 'train/10dc2907538e2ad1b8ebccce2eb58005.dicom', 'train/a164cb6ef9e819b76ba8e4883db4dfec.dicom', 'train/0d212974330155726a2ddc933c463c19.dicom', 'train/7f379b3783f6edd33cf79df799567980.dicom', 'train/f586400179fa0731bc0ecb3b40ea66d2.dicom', 'train/34fd5bd0fd2d93047cb9ff3f9e406db7.dicom', 'train/16ac28df968e4b0d5bf1269ba47984e5.dicom', 'train/55bd033228238e974a1afc0a14470796.dicom', 'train/826df5628f716feb83e58e426b86dd97.dicom', 'train/924b62809905415132bd88f9dc8a1677.dicom', 'train/2ae34ad40f948ff0caba0431f1c84ef1.dicom', 'train/1322b5409dc3546e4fc59b7b86e26d7c.dicom', 'train/77452318791ed293d494e9aacf87e100.dicom', 'train/630f03bfef3eba383613e64af54547d4.dicom', 'train/920797fd0fc7a750742f3f7e783264d9.dicom', 'train/4da415bc534a8a4187fca5bb33d25a62.dicom', 'train/5fa104742493eff1530d61fb9fb710d1.dicom', 'train/acec33f504a49b33d3ea356e44c4a013.dicom', 'train/b7339c4e546eebda66851b5d0d2ba847.dicom', 'train/e98e4c82017b388b7e2cdec20b5b5bba.dicom', 'train/ecd6227bcaeb3c99df5712c06ea62ad6.dicom', 'train/f182ecc1b15dd12a167658aa7755e464.dicom', 'train/fc7972948565a2c9ee1addf7a4fec23d.dicom', 'train/d0563ff10339b680d935f17a582ab044.dicom', 'train/da45253b19ac123ced1001805f4661f8.dicom', 'train/08790f27ef82280213ef11ee05ad75d7.dicom', 'train/f4d6966744ad2a9ed1a5635f01fca6fb.dicom', 'train/0498c1809698548f5ab6d9342c2d270f.dicom', 'train/fb686b0f6aae8860a5ccce6cd1f89ac3.dicom', 'train/3b8018f5dd583237359324b072f62154.dicom', 'train/eb7e87a747be51bc272457f0162b4aa6.dicom', 'train/710a2ed190f1ed692c7917dbdae8f71c.dicom', 'train/18bcdf3087be43150b6a5be2405077f0.dicom', 'train/436618b5aab557b5d6648fa06f4a20b0.dicom', 'train/7edc76e1f39835c8a35ecfae3c50e12c.dicom', 'train/9be50273004ad9eb9d95d9b34424ad84.dicom', 'train/2e5f0e8225bf4220ee0b6a72d028d0d4.dicom', 'train/9ced2c91ffc4462e9eb2ce6dea1c5ea2.dicom', 'train/945400b27b7729aabdb25ab96b7e29af.dicom', 'train/49bcca0de2c386e2d89e2164f3306456.dicom', 'train/8a522cfe1f7c425a0bfd96bce719f219.dicom', 'train/4ae2d90385e4dd7d7485258dd1701556.dicom', 'train/df9747236f1526cb8693464464d32d07.dicom', 'train/019542f81990cf3d693e84be979dfe00.dicom', 'train/fc05e5b5d14abf22f5b5fee91b176974.dicom', 'train/3d839f180c3039a0094c5bda929a0d5d.dicom', 'train/e135c3e11e0556a9c44837e1d315b8dd.dicom', 'train/c749332a4497248549308a396a671967.dicom', 'train/f19e40cacf3da60e5574247f93a65724.dicom', 'train/436f304bafe80d5538b3ff20e166f371.dicom', 'train/3d57f1593b572dd7279d5a14a9ded6b8.dicom', 'train/04f82cca2f306a9c9565ee56fa08f86e.dicom', 'train/50b10c45fa9000ef9a8abb450c8bc4d1.dicom', 'train/7084eb32c94b2c2ce1d7e08c474dcc79.dicom', 'train/2f4d43ed16c121c959db0ac4cbe2339f.dicom', 'train/0734678775dbf6e6036c8390d63d92f8.dicom', 'train/d637bff0e8432a2ef3a6924598898807.dicom', 'train/91b876b0988eb638372a35e3c6ba4e55.dicom', 'train/9a12f2976c8b3cbad52a470b4b539aa6.dicom', 'train/e998f825ea293b2d92d35adde025e1b7.dicom', 'train/e4f8fd021ca186f3254ff0ab6816f7af.dicom', 'train/b3b6919778be062dcb1cbf021f341402.dicom', 'train/de0dd0cc218b51bca2ac645a27c088b5.dicom', 'train/b84fe052651235cd7ddc9fbab8bbb1df.dicom', 'train/cf13db9397921be28758d69d22dcf78d.dicom', 'train/d3a7776916ee0362ed77a4a53917581c.dicom', 'train/27aa7d823ee68e203d5dfcffcedd46d7.dicom', 'train/1ac1ea0b5bc84fbd57eafb609e9dadda.dicom', 'train/3838645b39091276d2d755a7823741c7.dicom', 'train/8bdd0f204e188ce66ba3ec7ffb2c1c40.dicom', 'train/8bec6c00c3d33e10b5679f12fd0c8ee6.dicom', 'train/c23a9632a164016e2de94cf736a8bac3.dicom', 'train/57ad833d4218599a7455cc753ffc6bf2.dicom', 'train/ea19518d6ef6f6af76441584682ded8c.dicom', 'train/7b105af3e7f603c450a032123d75e345.dicom', 'train/dbf468563873425cba7e43646ab8f3d9.dicom', 'train/330c3d409de0c049213e0c9e8e955d51.dicom', 'train/352bd8a67029678d26fb8c3cee98e61c.dicom', 'train/fc02a05e649a7be60e41fef30ec75f2d.dicom', 'train/eb9fd9953dad713847a93105401af130.dicom', 'train/596cbd8084e248a7707aad841f06ce8f.dicom', 'train/876e4cb8ad219f95570ee2cca95d91a4.dicom', 'train/db59b49aedf485a4bf8418f7684e9eaf.dicom', 'train/c9404e7b4e18ab3d190c63abd56da2b3.dicom', 'train/2d3dbc3946560c9352c0437d2350e6bc.dicom', 'train/ec26dc69d77d18a91bfe43d526f22f84.dicom', 'train/78e8e7567c9476f3161c9233d0c0a590.dicom', 'train/45cd30444f541e0785f0d421cd7cc0dc.dicom', 'train/6123e5499f283c7f4c79b102ea484499.dicom', 'train/80755eaa1a84e56da63aa082aebe4115.dicom', 'train/8c49544fc5f80a64ffb24058898ff5b8.dicom', 'train/21733d58259ca5140a4e895c42c4d9d7.dicom', 'train/a08e3f5f1312a197283a33e53e2a1e86.dicom', 'train/a0345231ac5c0acc9ba35497a6bff94e.dicom', 'train/18e51d4015cccb32a078be13cc0840b0.dicom', 'train/bff364d88bfc333c4a22559fa2b5b097.dicom', 'train/d4fec38151f3952a625c1b01206d1e12.dicom', 'train/cf40f76829d038eeeb4727d92057ac53.dicom', 'train/36515d4acf5b0adfa02bf6f70909575b.dicom', 'train/4f2e2aa2bb7122c036213a134b7c7122.dicom', 'train/132c8e93c6a46a88f3f54edcdebf342b.dicom', 'train/967df67bd031e0fc553dad0029260887.dicom', 'train/6ca14af866eeba04615e57e72fc72c66.dicom', 'train/8b003513372c60ccda2be650057916ee.dicom', 'train/a850a8e7c7edc462aa06f10f3ecad0ff.dicom', 'train/8ce43f24b60a674fba3e35743e70da76.dicom', 'train/39aafa7a2eaa8092cd2f9ae29101afe8.dicom', 'train/5633302200761dd552c3fa89fd45a283.dicom', 'train/565ab51bf4227a7446f2a25748b1b50e.dicom', 'train/5f324dd847a307e75fd926b67814768c.dicom', 'train/3b5da0b4760beb02b81f6f559515c179.dicom', 'train/0d37192bc0343a941e3117f2b35bf72b.dicom', 'train/00ef7c2d8f9d768244b2bf7fcd6a8133.dicom', 'train/e0216fefa4123ab6520eeda1e87f1807.dicom', 'train/c3b39bc6a54030c66b3a58ff47c406cf.dicom', 'train/0b5fdf4627605866474a96dea8f30f54.dicom', 'train/2323e249eebbc843f6ca0a35b3cbf7c9.dicom', 'train/3d4d071f30e3d7587366ae8d078a2d6f.dicom', 'train/b46bc8b97f931b07cee01ae96285a27f.dicom', 'train/2d8d2a2b5180b33a7bc891f9f8a041ff.dicom', 'train/7d2dd79fa243a84d2276965d7b2ab6b2.dicom', 'train/e5dde90fe41bf0d0218818ece672cc71.dicom', 'train/48be0791f5e3aa316dc2fb2871d87bee.dicom', 'train/ef412da634365f0e7e3b932f2913eab6.dicom', 'train/79ec22b62811ea02d5958fc7b5f333df.dicom', 'train/ae582e459d130546d866f4eb13696f3c.dicom', 'train/842fed60f30734b6d0c2974c21763593.dicom', 'train/826d3181e591fca4c795b531e05d085c.dicom', 'train/0f4391968c632bafdf510dd7996943a4.dicom', 'train/a62a210c8b0b4872996788f8555644c7.dicom', 'train/22b15cc70aa91d8b736effbff37bee57.dicom', 'train/73b06d0895f5f2be3962261d727020bc.dicom', 'train/c3ccaf6a3b982890d2a15623391a9ca0.dicom', 'train/ff2fbe6c9f3246a98c15449cf85a532d.dicom', 'train/4e9769f8b7087afe128d25433c195c42.dicom', 'train/f6983b82684d4f4ea2813e7f09cccebc.dicom', 'train/96dbf25c805785b20aa357e01526f4e0.dicom', 'train/393bea133da8dd3c09a6d27a5a66a2d8.dicom', 'train/73eb3274f062841592e34be369ae118f.dicom', 'train/4662ddcc1c5af81c04e7926038ecd3df.dicom', 'train/a3bf8413da6447c3a82a498fda64de63.dicom', 'train/1258eccd4b29d83cc7c1c149102e6869.dicom', 'train/86582baab5397fe4cfaea9fde73b73df.dicom', 'train/e1b8f2abae727cbcf82039a59e6e6013.dicom', 'train/8f71d48b3e5edbde1578479bfc8a4759.dicom', 'train/35f4b7bbbd29c44ba6e592cfa0aa7513.dicom', 'train/de52cc15cdd2c7b29817ac2ba5b14ccb.dicom', 'train/8206d6ef07eac9912e418bb4566fddf3.dicom', 'train/221cc8feb75c1e2bbccd32eb43085bb6.dicom', 'train/f6385e32408110bb1edd16de8f64ea3a.dicom', 'train/6eca6de87f9bc50431438d18193a8918.dicom', 'train/e8396b791f9c5ef13de70aac4f31a6ca.dicom', 'train/0d8eccefeb73dec4e20b61189799b17f.dicom', 'train/c293ad1ada1b97cd83d478d4e9c91c58.dicom', 'train/c32a09c27ffbfca417405697c78e1a49.dicom', 'train/846c40dd4fa50791a1c790ca0420bb72.dicom', 'train/d11b44a1097e5a01a47b337378856e74.dicom', 'train/e2ea40ec0dbd71bd6b9f0fdb51cb1432.dicom', 'train/cb700983b38231bc6064e2984916a233.dicom', 'train/d75211d20911726c42c7c06225302ffd.dicom', 'train/43100a98fa6c151de7229a1e05ff70a5.dicom', 'train/864f337cf55b6cb9536fef6f6c87c11e.dicom', 'train/272c4516062970db2b31c001bfca8718.dicom', 'train/f959fbc76ab5caad0e4ac4659dfb82d8.dicom', 'train/c71461f179ae734cb7b5c8b5e08ba2f9.dicom', 'train/86a14c5cf07fe56d84ac4e903f4708d7.dicom', 'train/5768598035110911ed880b23cdeee5b7.dicom', 'train/1044777971f6fe724ad61b5b39d000e8.dicom', 'train/54b8b2e677f62e114337986ee07d1d7f.dicom', 'train/fdaa517139765b9d96767fdb0bccda90.dicom', 'train/fee14fc33e28030ca307ac17281ae40b.dicom', 'train/e7f946c746112db1ef4fc34eaf2ccc0b.dicom', 'train/54f371482406f703a4bcb8865e681adc.dicom', 'train/610f885f640683d8cf60941bd7fb941f.dicom', 'train/a6d1524889e2f7543749cefe618d74dc.dicom', 'train/a47133df58ef34a9de2d8b4825fb09e0.dicom', 'train/865bb0b052b855b745ecc5b372c7211a.dicom', 'train/58866b0e0b7528ddce7dbc35f15abfed.dicom', 'train/cacae218fa9e4fd19ff83d7bb61862de.dicom', 'train/256a5ee37dbaea8d4476a8c5ae28bd0f.dicom', 'train/380ae22ff705996d40a32d5b26e26b3a.dicom', 'train/71dfd060a8e542e16bbc172f0eceb8bf.dicom', 'train/d9d53b5149697946ee337d5f02945876.dicom', 'train/78af4a3072e0acd0e5a2cff056fda16f.dicom', 'train/e1da5cee922987ebc1d22ac10f737b6c.dicom', 'train/406d0d6c71a35595c6f3793ef72a4b22.dicom', 'train/6197c54ed47f22071e2c6602e53ef53b.dicom', 'train/06e6254b198570f31d7cc27a42d6ca3a.dicom', 'train/2cbeffecd3c6a434b952033a276fe4cb.dicom', 'train/bc1b319a5751a2ac53b1b262f26fed5f.dicom', 'train/4f211c24b30884167cdb7a7c030bc01c.dicom', 'train/d351a7204b13ff5dd705deb9fde619a5.dicom', 'train/237f9edafc9bd7995af02ae535ac61e6.dicom', 'train/0ef950bc7ab939ac02c13b5e0df807a4.dicom', 'train/581e05132eb6c3c849be0561ebb45c86.dicom', 'train/c7a15f27fa43695dce5a62be328804cc.dicom', 'train/113599006b78dc4f4ec5e04e2f1f821b.dicom', 'train/606a542af752c8e1f7af741bdd415e07.dicom', 'train/3c8203ee78b2d24ce7ebefe7dc5e4402.dicom', 'train/7b5a73a77cd6e4de3699dedef94204f1.dicom', 'train/73efe49ff1d8b0903b3c516326919ce9.dicom', 'train/8e7579068ddf92993ca93f6424919941.dicom', 'train/094c7f81061ad8915082ec333ed1faa8.dicom', 'train/46334703e94cd0d0e38907d47faf89f2.dicom', 'train/6e3212991bd43137b95659dab84361b5.dicom', 'train/aee9bf75030ebba9849dc5b810411813.dicom', 'train/6d2300555e72ccf0b378334fa1b20d97.dicom', 'train/27fa199875924fe3cb7a2e270f26f0cb.dicom', 'train/4a33d758552fcf83eacc5b3f3e99af16.dicom', 'train/da038841b3ddb552c8483e82a4ee78fe.dicom', 'train/799a37f4ebbf13da6084fee5b2ec7d2e.dicom', 'train/0b1407854437e1c41c4b5ec8fc197160.dicom', 'train/e41df002fedb6dbaa25b50be08122f8d.dicom', 'train/30c24e079ea8d3255fe89658f7df1463.dicom', 'train/2753a78c0d88d48277a5a663fcbc498a.dicom', 'train/134e99d3aeb949c8b8a7bafe5acf3a1b.dicom', 'train/c05191424d0468b68731227165b22a63.dicom', 'train/e112eb94e6a14ab4b2b3255b27a2e769.dicom', 'train/733ec0a644fe857630ba84dc8168f892.dicom', 'train/a1001c1cee70e45e79f26efabfd8f07d.dicom', 'train/4adb02f5bc1b937c79e18a4adab041bc.dicom', 'train/540ff659c7e71c144df3622d1ad4c2a1.dicom', 'train/020b55b9e8fe2c55ba19b8371146ed3d.dicom', 'train/67bee66ecb0840a38dfebb7e6ad6fb57.dicom', 'train/491f712132c4e68e5047a950c64aa0b8.dicom', 'train/93a4197be0caa663c046740f73a406f0.dicom', 'train/ee7f269f93ee0eae47ce07e7c5265abf.dicom', 'train/17bf48f80838a27ab39a1622887f9b65.dicom', 'train/4b101b656763b085b14f640a2e5f1bfe.dicom', 'train/6e51ce55acc3c2ca241803645dbf378c.dicom', 'train/821ed3d979d11c4221b6fd0d3e72f015.dicom', 'train/afff0ed5c28d376dd52631cccfd020f6.dicom', 'train/7c57ee7b17becdc2a8d2de4790860e5b.dicom', 'train/92cef72b5f7f46ee2e1569db2f24d5ce.dicom', 'train/2bfb09b7d0ab81d9b4e16b97e0f872b5.dicom', 'train/95597829ec93c31ad6b0dc99140bfad8.dicom', 'train/e27e92a233f10e7bd454a22b0249ae24.dicom', 'train/446c3fa123089bd2d229841e23b1a848.dicom', 'train/b0ad2500ad6f1aceab31960365414764.dicom', 'train/3c5ebd5e5d91deaccb9b2d0cc9118d7a.dicom', 'train/c7ee96704d968581f13edd62edc01bc4.dicom', 'train/89d328a08ee3f43e54ae4e1414ed6822.dicom', 'train/4635c4225e285c46d73c8e69b1feaec7.dicom', 'train/d586057e90e843c62bfd84f0d73c50fe.dicom', 'train/5e566ab26e0b1ddfe927e7b13e44e34f.dicom', 'train/a008643db0f5d6d70136bbe2ece5c89c.dicom', 'train/187e80daacac4834484c3efdf5465641.dicom', 'train/acc50de71ab87ae564eb9c075d04d274.dicom', 'train/486effe16aa03a6faf94671d96b68156.dicom', 'train/39eb8c5fe9405f1689e00d37a5ffbcf0.dicom', 'train/24aa80cd6b94ac43b78a8243756ddecc.dicom', 'train/9e3363358d8a2ff3da4fc5216122e7cc.dicom', 'train/3422a4e8450d878d61fce61ebf726824.dicom', 'train/83eee7f36ed5c8a8c3d8289f2d1a5488.dicom', 'train/dbffba74d707c16c313803e745db9b65.dicom', 'train/cbdd12303c6e91305280bc281184e751.dicom', 'train/76b44f56e74f1e0ff14838aa2bbb069a.dicom', 'train/8235ff9e36467268425379d19afe1654.dicom', 'train/db4a329afb4ac8c0813c6bba79c9d3ce.dicom', 'train/1c3675a588cbf8323b780556ae0944ba.dicom', 'train/477ad83fbe9c6ed6c4ff6a3df68ea661.dicom', 'train/72a35ec55609b93d859ae14aef0086be.dicom', 'train/64a6b060b3d67366adbd71aaf0273aa2.dicom', 'train/c62ef8aa2bdcf2e01753c1c43f3ed86c.dicom', 'train/aed1e018867d307a5279f4c838abb2e2.dicom', 'train/713faaa5530ac80e85075c896b25b0ba.dicom', 'train/30c81658ebd0e08f95f81af613562497.dicom', 'train/de4c12a55e16c6e11a92de486ad3ed3d.dicom', 'train/a57dfde23ad182b0f519a87d000f4d82.dicom', 'train/ebd45ad51df58fd2cf56f98e5126e050.dicom', 'train/87a84d135b8376034d6a73c0bbdecbf2.dicom', 'train/a62d544bf32ccda14521d194139dbdce.dicom', 'train/fbdff4fee0cdb70a263879825ce25f5b.dicom', 'train/f597f25c099b7978c5e034d753084280.dicom', 'train/fe325d757847985288c18723ac5e594b.dicom', 'train/d8ff599c654f3e06b00f634d1e8f06b0.dicom', 'train/8b367525fe691a088991bf7ceb7b0ba9.dicom', 'train/37f70abbe41a56f0f35c6a91a7aa84ab.dicom', 'train/1ecf33de6119268685431785fc789443.dicom', 'train/d58c02e9d877f088761aca202b95aab2.dicom', 'train/acbbae7a7976f4e9b1fe8bc8e16cb956.dicom', 'train/c76d79791581a94129a5545aaf818406.dicom', 'train/2d5726791c5cbd4a4309d7b0bd320c67.dicom', 'train/07613d505e563d1f82ece1b09a317f05.dicom', 'train/af10c9286c4fc10b5e8afb007fe680b2.dicom', 'train/8fe8e3fd6197248610a96270da572d07.dicom', 'train/168a4d81097706bd548d6c364570b4e7.dicom', 'train/f9b7b4e9c4974ac24511544450340090.dicom', 'train/12413163598b6b2d53b8aba078959186.dicom', 'train/81373a27ed131f1378bb91fba78bcd5d.dicom', 'train/eeb7bb29a72f001a3b5c25df648dc096.dicom', 'train/759d96411338e4fe8588c6039a91f524.dicom', 'train/b96325d6146635f9bf0fd03324d5659b.dicom', 'train/23959969f1798a6e7378bf70f574e058.dicom', 'train/5411856d847eba2ab021bd7c4c1edf1e.dicom', 'train/5432e2facf2312df874e23f1966db9a7.dicom', 'train/dc43d8ab53aeb1c6a1bcd64a76837ff3.dicom', 'train/8be7331b412e969a17f73af734ead879.dicom', 'train/e5996ceecc729c66b4c5cda2be7ef491.dicom', 'train/625efaf77d5c0c403da9eb7fa7e71f51.dicom', 'train/1260a34cdf9125bb239d427f05d58498.dicom', 'train/94f9f151c4c428a0d5ab7e42fefcb876.dicom', 'train/e1c003af75adbcb8fd1aee43256b5df0.dicom', 'train/6704aa82c72f99a967552cb2d4dcf4d5.dicom', 'train/fde962e7a696011256f5006ddc51fba2.dicom', 'train/848553c36bc8007dc338c05a5d39cdfb.dicom', 'train/198581e39ae9b8ddee98667654b804e6.dicom', 'train/0937e11da2e2a71ee9a887af71e6a8e6.dicom', 'train/61566b73c03a4d7a07e2ca86abda0b02.dicom', 'train/cf62e978b2b2cc764706787459e07689.dicom', 'train/db1258ab175074242a030cccf6092a38.dicom', 'train/340fcaf983e4601b1ffba0593059c456.dicom', 'train/546f971ff1b8309f66d0234771d6b049.dicom', 'train/438074448d3eb03ef78f49ede9741515.dicom', 'train/24ade5ef61012ef5bf48be9d26fea6b6.dicom', 'train/2dc129427cbf286ec23018684e9c631e.dicom', 'train/9a3d12d23ac54e559748bffbb21ef820.dicom', 'train/51ac3bc63a312fc9462f50372c3e5c7f.dicom', 'train/028cb352bc18a383151f547b8ed8e752.dicom', 'train/2aa36a308294ad0314247d703604d725.dicom', 'train/78777e32205098592fe73973f2432ac2.dicom', 'train/a98c694a71d650a8c927aabc7ac7332a.dicom', 'train/d5f04b00e8977dfdeab25aff989fe21e.dicom', 'train/1b5b580facd30504356b36ac3dc33357.dicom', 'train/9fc96a0d73e0e3c6ff55aba3cd63edf9.dicom', 'train/7769727fd251049bd81b3ddb83243ba4.dicom', 'train/9f1c468ffde8e65cd49220a133e552f3.dicom', 'train/b61573056220a9f401b54590f3154740.dicom', 'train/fd9f8fd9eddd40812b310f8afedd601b.dicom', 'train/bba945a9e3608dc4103b19ff6fd590d7.dicom', 'train/506832af0b9e16ab0648835474973770.dicom', 'train/a2241650b12e0d57b3606b973e8d4c1e.dicom', 'train/0d3598480b8712bdd37ba94e0367d707.dicom', 'train/08389aaca8bc272dc82d4054e81f202a.dicom', 'train/76d90f37d05ddbd5e04ad65632b32611.dicom', 'train/97fd8d8348e27ae79e0c6494650dffc9.dicom', 'train/c92f2dd496495fc5614499161a445d8c.dicom', 'train/f72e14e3fe153ce61d0005236d1acb09.dicom', 'train/a626ea7472c0494882aca116d34c9dfa.dicom', 'train/1ecff0c649870d0838de99121ec9995c.dicom', 'train/69e9fa3e3a79fb6293fc576708741663.dicom', 'train/cb4f527b2a1c2b45a8eb146bba1371ae.dicom', 'train/2fdcbe917666ad1887d2c45ebb759ee0.dicom', 'train/c5af27ea5237095f2a89695ce6cdfcfc.dicom', 'train/d6ebbdd04f394db03202e0b24c8f902f.dicom', 'train/e8202fd83c1d8d1e0f389af0c9c32cb5.dicom', 'train/cd5335235e42c2ed955ff63d60236e12.dicom', 'train/ea63037cde76e9a979ec2cec0bf0c72e.dicom', 'train/da51d2f6052122e1a0d1453b1fd0b6d2.dicom', 'train/7f777b0129eba60daac138bad56630c1.dicom', 'train/a0774a3b344a511fa17893a52f5ff30d.dicom', 'train/39e3d829703cbd20d5da5982d7bfc332.dicom', 'train/426c006d0980cf1d4277bd241f923ba5.dicom', 'train/db10f28f35390d2f17dbc1e68d6dfe9c.dicom', 'train/24d8a79b8d2fb8804ca5f50f6cf49da9.dicom', 'train/79faf453855188e9345b7a4282d81cd5.dicom', 'train/67a093235debfa47477bb35ad4b5c490.dicom', 'train/1ba88cdd835ab702cf4812d9bcf6df82.dicom', 'train/bb72cc164fd400f06cac60e9c102beb6.dicom', 'train/948ff5661ea2aa38fc6863f4b3d89cf0.dicom', 'train/244c90b8b8f9122703e1bf9e68ff5caf.dicom', 'train/3fedb12dfa865eb82fd972840f62d7bc.dicom', 'train/c1e6d522d878287741897628f1e9efe0.dicom', 'train/1c8ae1f087465427226ee1594b56407a.dicom', 'train/0b032af6f463641a35c43aeb901165c5.dicom', 'train/90d3c19941b9db3e5f7b1847e02dd043.dicom', 'train/404df17ed63dc17a702eb27534860604.dicom', 'train/75883ddb7dcb4f16c1b4cff45f47e87e.dicom', 'train/1cdf646094326f87bb4cd939fb3824c1.dicom', 'train/171f6cc9ed965662f02a05ac25628d41.dicom', 'train/b3c4b02a7a410515b1b7bccc07f33bd2.dicom', 'train/d8f059435d31470fe06d384ea04d53fd.dicom', 'train/0f640318912c058a2d556c439aa21304.dicom', 'train/7fd739fa0fc9e3297c2189d5e621557d.dicom', 'train/ef95b2e75a9219e05af88c2b2091c60d.dicom', 'train/e33baa1c1d0caa8a2e0d5ce1bc26a866.dicom', 'train/bea0d6b771fa64b5ec27f40fa0abcca8.dicom', 'train/dcf6e512419f624a5902180a48313edd.dicom', 'train/15b27f6fac857ce7e3718c16f5ee9489.dicom', 'train/7965f4b80acdab540d884949ddda82d9.dicom', 'train/fcc8db5fc6d8a3de2010a5aadd9047fc.dicom', 'train/dd57e3179515f093bb9ad8d63c8069af.dicom', 'train/63035d284675d804970fbfa92bd9249c.dicom', 'train/84118bf1dd6ecf5afdf39f57dd9a88b2.dicom', 'train/8ada25a8c0b38bfeae5e881c060b9e9e.dicom', 'train/fa019fc52b154620078c33a31aefe436.dicom', 'train/0e0355c0f091b7365693ba50456ee9a5.dicom', 'train/f0f6d7f94091987e4799113649fe0568.dicom', 'train/47938716d348b0b3778a5dd2f877df72.dicom', 'train/c4f462ff5a4ff0a1bce28eb4f77c08fb.dicom', 'train/6cc65c05a8ddf52a47eb93fa01bb52f0.dicom', 'train/66356286e93c020910e10da27eacb12a.dicom', 'train/54d7fc48b90b2bc801a0005ced81bd0f.dicom', 'train/47fe8f4d41bf3f4cbed2722642a4524a.dicom', 'train/bee1a75fd2b6f8ebd2e298ab34bd84a9.dicom', 'train/cd4c9186f8eb5d17b232ee5d3b96a68b.dicom', 'train/e882bdcd1866031fa1c5c418b53ae9fa.dicom', 'train/2a985575c929a1fa39a7b6bb337d6ddd.dicom', 'train/25e8c389e0d8fd50e07ab909bea4e6f0.dicom', 'train/7ecd4f38f171e4a2307fce3f5e864138.dicom', 'train/abded32548b856cb20a719ad4abff1f9.dicom', 'train/a0110ffc82bd2a8331924665d482ad92.dicom', 'train/74831e26cc1d7ce67262344ea4a65439.dicom', 'train/8e8b5ab2c71bb136e073e76d3b93cf21.dicom', 'train/331e9d3c6320ccd0c4cc9d70edc3f591.dicom', 'train/29bef708fad2ad6566d1bf7bb2285d51.dicom', 'train/5d2917bc626994ba29069bbfa72c040f.dicom', 'train/18c84e7c3b7ccf09be6290da96b89a77.dicom', 'train/7a735c82952ad6a491f4c354ba4d4614.dicom', 'train/51f6db949945a4908fe90ff5472cc45a.dicom', 'train/983e7ffd098f9f6886a438e548f49640.dicom', 'train/d416b8ecee26cfe83d744f7a781a6bdd.dicom', 'train/52a28164792a967f6a2aa215c4945611.dicom', 'train/c02560f699318ea09be7560f045c86a5.dicom', 'train/f47c06a6ce797b46f347d4f27f6f95cf.dicom', 'train/4965f56b9b130021c16258a5eee9a7cd.dicom', 'train/0c90881543aea7668bb87edcf786d153.dicom', 'train/5b7ed396e23d5cd7a66da2d5bf5976f5.dicom', 'train/df9461ad5f2ab1b7d00e33eb51ba0f9f.dicom', 'train/23e08e803e24b672995cabd5ceefbb21.dicom', 'train/659b54c0fba3ae651a3027448c69c67e.dicom', 'train/5e444973bf87cbc8a48d9183c65a5277.dicom', 'train/b957b0630ccd4a235c4bff6eaed9518c.dicom', 'train/9a57a7186412230663652112ec40cf3a.dicom', 'train/bd6972f1116065ec880982209729f0d7.dicom', 'train/88437ee4247271ea49e408f2ea2730de.dicom', 'train/eb15832bcc543fc31f42bc9ee2462a3c.dicom', 'train/9f4aec9e3770633a6da4be02f161493a.dicom', 'train/8a991cccbe44aba777a321ad7ca13a77.dicom', 'train/f845ef46e4e7433cc04f1da2a070b4d6.dicom', 'train/e329d707f31b606358a301bf318b122a.dicom', 'train/dfcf6083da07d62494c72f86b86c4493.dicom', 'train/14fba8d5662aacc7a3dbe39c71982af4.dicom', 'train/2d00aecdecf599b69c95dca7587fc3b1.dicom', 'train/e0459b027d609ddef5dc389cee2f8410.dicom', 'train/316b9751f559166ca0401e699d95cc2f.dicom', 'train/9dd7f95db54d6ef382a7018d25498d5e.dicom', 'train/0679b2a31d8be4f06d4fb6b82e7ecce4.dicom', 'train/d8a42f4433ba70d98de5e41a30138bc7.dicom', 'train/65bbc8003aa279dd750c7921410d10e4.dicom', 'train/26165a7cc2869ec0ee4bfd1d63715c77.dicom', 'train/b3b6d743a0ed2f33e2b9b72c3f289f2a.dicom', 'train/9037fba3b6b15546568eba91dbb4b295.dicom', 'train/87f925924c7ea58f6ba1eb13480d73ce.dicom', 'train/72a07c3cdec5bbb2f823bb262eeb6b20.dicom', 'train/305ce69ee28664001e7a6d7adf0fb483.dicom', 'train/82f8834a1256256a86bae18f5a5376a6.dicom', 'train/d4d71985fafedfd5a32aa29736d8add3.dicom', 'train/ff2ca1e8ab1918a19b287fc4f3f8ca01.dicom', 'train/2b225f4980ace743a32deb4868e13feb.dicom', 'train/c51f89fdaed2a1e829c7ec4983228932.dicom', 'train/aaea994f29fd11e4720495d139aaf9d4.dicom', 'train/3aacc3631e3f674168dc340cf07fdec2.dicom', 'train/19826a9b45e3a3264b01e4dbf6b8ee90.dicom', 'train/4ea2fbf2a7fbbe39ce887a1aa5fe2f60.dicom', 'train/4ebd0acd5e16411c7c2ddedad652ef7d.dicom', 'train/3567c51e6f5ff12ea1eb7e8278ce5674.dicom', 'train/bf38ac86b39cd002cc1668409cc5704f.dicom', 'train/ed263568f556586ce663a9d58a53568a.dicom', 'train/9ffc19bd783e18d908c9f117d2695861.dicom', 'train/ebc1f906865243b24835ee1933542f71.dicom', 'train/f69489014b53fcd26fe80b95452d4614.dicom', 'train/4365d8bbc871d54fa615692fe5020e9a.dicom', 'train/71d683b4a0973e5b2978bb32feb30a1d.dicom', 'train/54a0871216e803e2c1db802a3df057e0.dicom', 'train/4fb0742743f6055835afb916c8fec933.dicom', 'train/e44a1e3a7a3e22200881e6bddfad19cc.dicom', 'train/f8deff159622a54debedaaef113ce177.dicom', 'train/418f64adecfe8957de081eb0c6af524f.dicom', 'train/62b59bd33c3333db131552f23e8ae794.dicom', 'train/edb62f1ef90369307e9caf9e6ed62f52.dicom', 'train/26977b3051e7ac44c675f193b6457dc8.dicom', 'train/fa5fef8c5c9093a61562575c3be853b3.dicom', 'train/f56f064cc1c5c74c9d4a9a31565f4c2f.dicom', 'train/50a8942e93da266cec843da15d4d047e.dicom', 'train/e9a00b8bbad564cc0fa26194e82b0820.dicom', 'train/13298bf234d6804f1ee83face8ac2b10.dicom', 'train/0ee5859e09e3509b32798d37d5b3673a.dicom', 'train/acad282d546d9e8c096b187923659693.dicom', 'train/4cd6b4ed0181be63eed408733fa55b8a.dicom', 'train/e7303406a6ad66f84000271d7ecd501a.dicom', 'train/a090803099c73a276b11f4fec2a47024.dicom', 'train/6f2217508e3cc2975dfab0ac9a973043.dicom', 'train/6490059d32d89b00595dd0434d02c0b1.dicom', 'train/1889d7e7597455ed53aeedc9f5e99e85.dicom', 'train/e5fc01e904344cd71e6f3e8f7760fca9.dicom', 'train/910f68c7ae5b59f913fdb36ca2b57fe3.dicom', 'train/817a8314d689c2ef055e85a38a3e44c5.dicom', 'train/535cce0f3bef7610342260ae37227a10.dicom', 'train/4e07b108a1ca71947ae9133ace5a0f23.dicom', 'train/9e03e124fbc07f3b15f6cd66add084d4.dicom', 'train/87a79ae6733a95176a07896b3b03dfbd.dicom', 'train/952c63a7b2e36f0f7cf612d42298abba.dicom', 'train/66d63e3c069e879a961eeea9051b9f19.dicom', 'train/2b9cbd8944410f3c0b8d886ab72c2aa8.dicom', 'train/11f0a426d0abb87d6ae9b57591a494d4.dicom', 'train/a6537646e8bb582a4224ad957463185d.dicom', 'train/7c9015471e522f9931d7ba31397930bd.dicom', 'train/ff5e80052416b729b68e196d8237a85d.dicom', 'train/37852a45aebf94d3fc19f25ba614f263.dicom', 'train/98155abd69ebbb49e49f6877c954683a.dicom', 'train/c6011d5d99fc8eb0811523c9ed961189.dicom', 'train/b359031dc37756d04b585878a9ff2379.dicom', 'train/b000b9ead95110c0c068def48631bf4f.dicom', 'train/5f2523db294c93b31484738a0ff44cf5.dicom', 'train/36f0bcde1f5a01d50e73fccc8f73a452.dicom', 'train/14a5f35b48c4016623100f66af739250.dicom', 'train/5a3602687c5789fe89a2e5af36158d6b.dicom', 'train/2bf888c99d137a29446d64b973cb946b.dicom', 'train/b19806a09e0fe298f4d509933d7160f4.dicom', 'train/8b886f66da9b27dee1c36fa2763ad2f8.dicom', 'train/c2c3bb587e8782bd8279cacd99e0dd36.dicom', 'train/7d9c06471a1e6673b3080b4bfd0ff22d.dicom', 'train/5fac26aaebaab98a10f1f99fff3d4e14.dicom', 'train/c3479c0b297b951ab065ce9474248e27.dicom', 'train/4208b18c18aa408cf5bd40d13b796687.dicom', 'train/4170427203097ce7e38cf83a90eb3e74.dicom', 'train/e8e6091c0638f540166d1e5228d1877b.dicom']\n"
     ]
    }
   ],
   "source": [
    "print(train_files)"
   ]
  },
  {
   "cell_type": "code",
   "execution_count": 19,
   "metadata": {
    "executionInfo": {
     "elapsed": 11,
     "status": "ok",
     "timestamp": 1638231194620,
     "user": {
      "displayName": "Tan Ngoc Pham",
      "photoUrl": "https://lh3.googleusercontent.com/a-/AOh14GjTnKqizUwXZEJCyzVEpyGrf3UB4Q9hXQmOia-K=s64",
      "userId": "14181975107662818559"
     },
     "user_tz": -420
    },
    "id": "zdq6SJV05-aW",
    "scrolled": true
   },
   "outputs": [],
   "source": [
    "# # Create directories if they don't exist\n",
    "# import os\n",
    "# from tqdm import tqdm\n",
    "# os.makedirs('D:/dataset/pcxr/yolo/labels/train', exist_ok=True)\n",
    "# os.makedirs('D:/dataset/pcxr/yolo/labels/val', exist_ok=True)\n",
    "# os.makedirs('D:/dataset/pcxr/yolo/images/train', exist_ok=True)\n",
    "# os.makedirs('D:/dataset/pcxr/yolo/images/val', exist_ok=True)\n",
    "\n",
    "# label_dir = 'D:/dataset/pcxr/archive/labels/'\n",
    "\n",
    "# # Copy files for training set\n",
    "# for file in tqdm(train_files):  \n",
    "#     file = \"D:/dataset/pcxr/images/\" + file\n",
    "#     shutil.copy(file, 'D:/dataset/pcxr/yolo/images/train')\n",
    "# #     filename = os.path.basename(file)[:-6]\n",
    "# #     shutil.copy(os.path.join(label_dir, filename+'.csv'), 'D:/dataset/pcxr/yolo/labels/train')\n",
    "\n",
    "# # # Copy files for validation set\n",
    "# # for file in tqdm(val_files):\n",
    "# #     shutil.copy(file, 'D:/dataset/pcxr/yolo/images/val')\n",
    "# #     filename = os.path.basename(file)[:-6]\n",
    "# #     shutil.copy(os.path.join(label_dir, filename+'.txt'), 'D:/dataset/pcxr/yolo/labels/val')\n"
   ]
  },
  {
   "cell_type": "markdown",
   "metadata": {
    "id": "9Pn_8HE97eaS"
   },
   "source": [
    "# Get class name"
   ]
  },
  {
   "cell_type": "code",
   "execution_count": 20,
   "metadata": {
    "colab": {
     "base_uri": "https://localhost:8080/"
    },
    "executionInfo": {
     "elapsed": 10,
     "status": "ok",
     "timestamp": 1638231194620,
     "user": {
      "displayName": "Tan Ngoc Pham",
      "photoUrl": "https://lh3.googleusercontent.com/a-/AOh14GjTnKqizUwXZEJCyzVEpyGrf3UB4Q9hXQmOia-K=s64",
      "userId": "14181975107662818559"
     },
     "user_tz": -420
    },
    "id": "esXpu-1F6jmX",
    "outputId": "f0c4f575-12ed-4e89-e112-3f4170537c15"
   },
   "outputs": [
    {
     "data": {
      "text/plain": [
       "['Boot-shaped heart',\n",
       " 'Peribronchovascular interstitial opacity',\n",
       " 'Reticulonodular opacity',\n",
       " 'Bronchial thickening',\n",
       " 'Enlarged PA',\n",
       " 'Cardiomegaly',\n",
       " 'Other opacity',\n",
       " 'Intrathoracic digestive structure',\n",
       " 'No finding',\n",
       " 'Diffuse aveolar opacity',\n",
       " 'Other lesion',\n",
       " 'Consolidation',\n",
       " 'Mediastinal shift',\n",
       " 'Anterior mediastinal mass',\n",
       " 'Other nodule/mass',\n",
       " 'Dextro cardia',\n",
       " 'Aortic enlargement',\n",
       " 'Pleural effusion',\n",
       " 'Stomach on the right side',\n",
       " 'Atelectasis',\n",
       " 'Calcification',\n",
       " 'Interstitial lung disease - ILD',\n",
       " 'Lung hyperinflation',\n",
       " 'Egg on string sign',\n",
       " 'Pulmonary fibrosis',\n",
       " 'Infiltration',\n",
       " 'Lung cavity',\n",
       " 'Pneumothorax',\n",
       " 'Edema',\n",
       " 'Pleural thickening',\n",
       " 'Clavicle fracture',\n",
       " 'Chest wall mass',\n",
       " 'Lung cyst',\n",
       " 'Emphysema',\n",
       " 'Bronchectasis',\n",
       " 'Paraveterbral mass']"
      ]
     },
     "execution_count": 20,
     "metadata": {},
     "output_type": "execute_result"
    }
   ],
   "source": [
    "class_ids, class_names = list(zip(*set(zip(train_df.class_id, train_df.class_name))))\n",
    "classes = list(np.array(class_names)[np.argsort(class_ids)])\n",
    "classes = list(map(lambda x: str(x), classes))\n",
    "classes"
   ]
  },
  {
   "cell_type": "markdown",
   "metadata": {
    "id": "KWOASgsI7hXq"
   },
   "source": [
    "# YOLOv5\n"
   ]
  },
  {
   "cell_type": "code",
   "execution_count": 21,
   "metadata": {
    "colab": {
     "base_uri": "https://localhost:8080/"
    },
    "executionInfo": {
     "elapsed": 1756,
     "status": "ok",
     "timestamp": 1638231196369,
     "user": {
      "displayName": "Tan Ngoc Pham",
      "photoUrl": "https://lh3.googleusercontent.com/a-/AOh14GjTnKqizUwXZEJCyzVEpyGrf3UB4Q9hXQmOia-K=s64",
      "userId": "14181975107662818559"
     },
     "user_tz": -420
    },
    "id": "ucblKRn-7fdU",
    "outputId": "bceec803-86e1-492a-821e-9f8a19b66931",
    "scrolled": true
   },
   "outputs": [
    {
     "name": "stdout",
     "output_type": "stream",
     "text": [
      "D:\\dataset\\pcxr\\yolov5\n"
     ]
    },
    {
     "name": "stderr",
     "output_type": "stream",
     "text": [
      "fatal: destination path 'yolov5' already exists and is not an empty directory.\n"
     ]
    }
   ],
   "source": [
    "!git clone https://github.com/ultralytics/yolov5\n",
    "%cd yolov5"
   ]
  },
  {
   "cell_type": "code",
   "execution_count": 23,
   "metadata": {
    "colab": {
     "base_uri": "https://localhost:8080/"
    },
    "executionInfo": {
     "elapsed": 8435,
     "status": "ok",
     "timestamp": 1638231204803,
     "user": {
      "displayName": "Tan Ngoc Pham",
      "photoUrl": "https://lh3.googleusercontent.com/a-/AOh14GjTnKqizUwXZEJCyzVEpyGrf3UB4Q9hXQmOia-K=s64",
      "userId": "14181975107662818559"
     },
     "user_tz": -420
    },
    "id": "OkOgT_xb72yF",
    "outputId": "4336a9f8-d165-4d51-fcbb-4ef1715bf96d"
   },
   "outputs": [
    {
     "name": "stdout",
     "output_type": "stream",
     "text": [
      "Setup complete. Using torch 2.2.0+cpu CPU\n"
     ]
    }
   ],
   "source": [
    "# !pip install -r requirements.txt # install dependencies\n",
    "import torch\n",
    "from IPython.display import Image, clear_output  # to display images\n",
    "clear_output()\n",
    "print('Setup complete. Using torch %s %s' % (torch.__version__, torch.cuda.get_device_properties(0) if torch.cuda.is_available() else 'CPU'))"
   ]
  },
  {
   "cell_type": "markdown",
   "metadata": {
    "id": "ODZYgcIm8HvI"
   },
   "source": [
    "## Train"
   ]
  },
  {
   "cell_type": "code",
   "execution_count": 24,
   "metadata": {
    "colab": {
     "base_uri": "https://localhost:8080/"
    },
    "executionInfo": {
     "elapsed": 20606,
     "status": "ok",
     "timestamp": 1638231225404,
     "user": {
      "displayName": "Tan Ngoc Pham",
      "photoUrl": "https://lh3.googleusercontent.com/a-/AOh14GjTnKqizUwXZEJCyzVEpyGrf3UB4Q9hXQmOia-K=s64",
      "userId": "14181975107662818559"
     },
     "user_tz": -420
    },
    "id": "-x-3sDKu8Dku",
    "outputId": "17746a59-8a3e-4bd1-b4bf-3cab84f823e8"
   },
   "outputs": [
    {
     "name": "stdout",
     "output_type": "stream",
     "text": [
      "\n",
      "yaml:\n",
      "names:\n",
      "- Boot-shaped heart\n",
      "- Peribronchovascular interstitial opacity\n",
      "- Reticulonodular opacity\n",
      "- Bronchial thickening\n",
      "- Enlarged PA\n",
      "- Cardiomegaly\n",
      "- Other opacity\n",
      "- Intrathoracic digestive structure\n",
      "- No finding\n",
      "- Diffuse aveolar opacity\n",
      "- Other lesion\n",
      "- Consolidation\n",
      "- Mediastinal shift\n",
      "- Anterior mediastinal mass\n",
      "- Other nodule/mass\n",
      "- Dextro cardia\n",
      "- Aortic enlargement\n",
      "- Pleural effusion\n",
      "- Stomach on the right side\n",
      "- Atelectasis\n",
      "- Calcification\n",
      "- Interstitial lung disease - ILD\n",
      "- Lung hyperinflation\n",
      "- Egg on string sign\n",
      "- Pulmonary fibrosis\n",
      "- Infiltration\n",
      "- Lung cavity\n",
      "- Pneumothorax\n",
      "- Edema\n",
      "- Pleural thickening\n",
      "- Clavicle fracture\n",
      "- Chest wall mass\n",
      "- Lung cyst\n",
      "- Emphysema\n",
      "- Bronchectasis\n",
      "- Paraveterbral mass\n",
      "nc: 35\n",
      "train: D:/dataset/pcxr/images/train.txt\n",
      "val: D:/dataset/pcxr/images/val.txt\n",
      "\n"
     ]
    }
   ],
   "source": [
    "from os import listdir\n",
    "from os.path import isfile, join\n",
    "import yaml\n",
    "\n",
    "cwd = 'D:/dataset/pcxr/images/'\n",
    "\n",
    "with open(join( cwd , 'train.txt'), 'w') as f:\n",
    "    for path in glob('D:/dataset/pcxr/images/train*'):\n",
    "        f.write(path+'\\n')\n",
    "            \n",
    "with open(join( cwd , 'val.txt'), 'w') as f:\n",
    "    for path in glob('D:/dataset/pcxr/images/test*'):\n",
    "        f.write(path+'\\n')\n",
    "\n",
    "data = dict(\n",
    "    train =  join( cwd , 'train.txt') ,\n",
    "    val   =  join( cwd , 'val.txt' ),\n",
    "    nc    = 35,\n",
    "    names = classes\n",
    "    )\n",
    "\n",
    "with open(join( cwd , 'yolov5_final.yaml'), 'w') as outfile:\n",
    "    yaml.dump(data, outfile, default_flow_style=False)\n",
    "\n",
    "f = open(join( cwd , 'yolov5_final.yaml'), 'r')\n",
    "print('\\nyaml:')\n",
    "print(f.read())"
   ]
  },
  {
   "cell_type": "code",
   "execution_count": 25,
   "metadata": {
    "colab": {
     "base_uri": "https://localhost:8080/"
    },
    "executionInfo": {
     "elapsed": 620,
     "status": "ok",
     "timestamp": 1638231226020,
     "user": {
      "displayName": "Tan Ngoc Pham",
      "photoUrl": "https://lh3.googleusercontent.com/a-/AOh14GjTnKqizUwXZEJCyzVEpyGrf3UB4Q9hXQmOia-K=s64",
      "userId": "14181975107662818559"
     },
     "user_tz": -420
    },
    "id": "2YTL1iNgEvwR",
    "outputId": "05319012-f2c5-4566-8b53-0fa09e5f4a16"
   },
   "outputs": [],
   "source": [
    "# from yolov5 import utils\n",
    "# display = utils.notebook_init()  # checks"
   ]
  },
  {
   "cell_type": "code",
   "execution_count": 30,
   "metadata": {
    "colab": {
     "base_uri": "https://localhost:8080/"
    },
    "executionInfo": {
     "elapsed": 4476699,
     "status": "ok",
     "timestamp": 1638235702716,
     "user": {
      "displayName": "Tan Ngoc Pham",
      "photoUrl": "https://lh3.googleusercontent.com/a-/AOh14GjTnKqizUwXZEJCyzVEpyGrf3UB4Q9hXQmOia-K=s64",
      "userId": "14181975107662818559"
     },
     "user_tz": -420
    },
    "id": "GNxzL9Gb1QSM",
    "outputId": "c75b9d05-c5dd-4b29-80af-afe2b36523ed",
    "scrolled": true
   },
   "outputs": [
    {
     "name": "stderr",
     "output_type": "stream",
     "text": [
      "\u001b[34m\u001b[1mwandb\u001b[0m: WARNING  wandb is deprecated and will be removed in a future release. See supported integrations at https://github.com/ultralytics/yolov5#integrations.\n",
      "WARNING:tensorflow:From D:\\anaconda\\Lib\\site-packages\\keras\\src\\losses.py:2976: The name tf.losses.sparse_softmax_cross_entropy is deprecated. Please use tf.compat.v1.losses.sparse_softmax_cross_entropy instead.\n",
      "\n",
      "wandb: Currently logged in as: vivek-garg1407 (vinpcxr). Use `wandb login --relogin` to force relogin\n",
      "\u001b[34m\u001b[1mtrain: \u001b[0mweights=yolov5x.pt, cfg=, data=D:\\dataset\\pcxr\\images\\yolov5_final.yaml, hyp=data\\hyps\\hyp.scratch-low.yaml, epochs=1, batch_size=8, imgsz=256, rect=False, resume=False, nosave=False, noval=False, noautoanchor=False, noplots=False, evolve=None, evolve_population=data\\hyps, resume_evolve=None, bucket=, cache=None, image_weights=False, device=, multi_scale=False, single_cls=False, optimizer=SGD, sync_bn=False, workers=8, project=runs\\train, name=exp, exist_ok=False, quad=False, cos_lr=False, label_smoothing=0.0, patience=100, freeze=[0], save_period=-1, seed=0, local_rank=-1, entity=None, upload_dataset=False, bbox_interval=-1, artifact_alias=latest, ndjson_console=False, ndjson_file=False\n",
      "\u001b[34m\u001b[1mgithub: \u001b[0m YOLOv5 is out of date by 7 commits. Use 'git pull' or 'git clone https://github.com/ultralytics/yolov5' to update.\n",
      "YOLOv5  v7.0-288-gb9392361 Python-3.11.5 torch-2.2.0+cpu CPU\n",
      "\n",
      "\u001b[34m\u001b[1mhyperparameters: \u001b[0mlr0=0.01, lrf=0.01, momentum=0.937, weight_decay=0.0005, warmup_epochs=3.0, warmup_momentum=0.8, warmup_bias_lr=0.1, box=0.05, cls=0.5, cls_pw=1.0, obj=1.0, obj_pw=1.0, iou_t=0.2, anchor_t=4.0, fl_gamma=0.0, hsv_h=0.015, hsv_s=0.7, hsv_v=0.4, degrees=0.0, translate=0.1, scale=0.5, shear=0.0, perspective=0.0, flipud=0.0, fliplr=0.5, mosaic=1.0, mixup=0.0, copy_paste=0.0\n",
      "\u001b[34m\u001b[1mTensorBoard: \u001b[0mStart with 'tensorboard --logdir runs\\train', view at http://localhost:6006/\n",
      "wandb: - Waiting for wandb.init()...\n",
      "wandb: \\ Waiting for wandb.init()...\n",
      "wandb: Tracking run with wandb version 0.16.3\n",
      "wandb: Run data is saved locally in D:\\dataset\\pcxr\\yolov5\\wandb\\run-20240402_163128-udunmiz5\n",
      "wandb: Run `wandb offline` to turn off syncing.\n",
      "wandb: Syncing run charmed-surf-19\n",
      "wandb:  View project at https://wandb.ai/vinpcxr/train\n",
      "wandb:  View run at https://wandb.ai/vinpcxr/train/runs/udunmiz5\n",
      "COMET WARNING: Comet credentials have not been set. Comet will default to offline logging. Please set your credentials to enable online logging.\n",
      "COMET INFO: Using 'D:\\\\dataset\\\\pcxr\\\\yolov5\\\\.cometml-runs' path as offline directory. Pass 'offline_directory' parameter into constructor or set the 'COMET_OFFLINE_DIRECTORY' environment variable to manually choose where to store offline experiment archives.\n",
      "COMET WARNING: Native output logging mode is not available, falling back to basic output logging\n",
      "Overriding model.yaml nc=80 with nc=36\n",
      "\n",
      "                 from  n    params  module                                  arguments                     \n",
      "  0                -1  1      8800  models.common.Conv                      [3, 80, 6, 2, 2]              \n",
      "  1                -1  1    115520  models.common.Conv                      [80, 160, 3, 2]               \n",
      "  2                -1  4    309120  models.common.C3                        [160, 160, 4]                 \n",
      "  3                -1  1    461440  models.common.Conv                      [160, 320, 3, 2]              \n",
      "  4                -1  8   2259200  models.common.C3                        [320, 320, 8]                 \n",
      "  5                -1  1   1844480  models.common.Conv                      [320, 640, 3, 2]              \n",
      "  6                -1 12  13125120  models.common.C3                        [640, 640, 12]                \n",
      "  7                -1  1   7375360  models.common.Conv                      [640, 1280, 3, 2]             \n",
      "  8                -1  4  19676160  models.common.C3                        [1280, 1280, 4]               \n",
      "  9                -1  1   4099840  models.common.SPPF                      [1280, 1280, 5]               \n",
      " 10                -1  1    820480  models.common.Conv                      [1280, 640, 1, 1]             \n",
      " 11                -1  1         0  torch.nn.modules.upsampling.Upsample    [None, 2, 'nearest']          \n",
      " 12           [-1, 6]  1         0  models.common.Concat                    [1]                           \n",
      " 13                -1  4   5332480  models.common.C3                        [1280, 640, 4, False]         \n",
      " 14                -1  1    205440  models.common.Conv                      [640, 320, 1, 1]              \n",
      " 15                -1  1         0  torch.nn.modules.upsampling.Upsample    [None, 2, 'nearest']          \n",
      " 16           [-1, 4]  1         0  models.common.Concat                    [1]                           \n",
      " 17                -1  4   1335040  models.common.C3                        [640, 320, 4, False]          \n",
      " 18                -1  1    922240  models.common.Conv                      [320, 320, 3, 2]              \n",
      " 19          [-1, 14]  1         0  models.common.Concat                    [1]                           \n",
      " 20                -1  4   4922880  models.common.C3                        [640, 640, 4, False]          \n",
      " 21                -1  1   3687680  models.common.Conv                      [640, 640, 3, 2]              \n",
      " 22          [-1, 10]  1         0  models.common.Concat                    [1]                           \n",
      " 23                -1  4  19676160  models.common.C3                        [1280, 1280, 4, False]        \n",
      " 24      [17, 20, 23]  1    275889  models.yolo.Detect                      [36, [[10, 13, 16, 30, 33, 23], [30, 61, 62, 45, 59, 119], [116, 90, 156, 198, 373, 326]], [320, 640, 1280]]\n",
      "Model summary: 445 layers, 86453329 parameters, 86453329 gradients, 205.4 GFLOPs\n",
      "\n",
      "Transferred 739/745 items from yolov5x.pt\n",
      "\u001b[34m\u001b[1moptimizer:\u001b[0m SGD(lr=0.01) with parameter groups 123 weight(decay=0.0), 126 weight(decay=0.0005), 126 bias\n",
      "\n",
      "\u001b[34m\u001b[1mtrain: \u001b[0mScanning D:\\dataset\\pcxr\\labels\\train_jpeg...:   0%|          | 0/1 [00:00<?, ?it/s]\u001b[34m\u001b[1mwandb\u001b[0m: WARNING  wandb is deprecated and will be removed in a future release. See supported integrations at https://github.com/ultralytics/yolov5#integrations.\n",
      "\u001b[34m\u001b[1mwandb\u001b[0m: WARNING  wandb is deprecated and will be removed in a future release. See supported integrations at https://github.com/ultralytics/yolov5#integrations.\n",
      "\u001b[34m\u001b[1mwandb\u001b[0m: WARNING  wandb is deprecated and will be removed in a future release. See supported integrations at https://github.com/ultralytics/yolov5#integrations.\n",
      "\u001b[34m\u001b[1mwandb\u001b[0m: WARNING  wandb is deprecated and will be removed in a future release. See supported integrations at https://github.com/ultralytics/yolov5#integrations.\n",
      "\u001b[34m\u001b[1mwandb\u001b[0m: WARNING  wandb is deprecated and will be removed in a future release. See supported integrations at https://github.com/ultralytics/yolov5#integrations.\n",
      "\u001b[34m\u001b[1mwandb\u001b[0m: WARNING  wandb is deprecated and will be removed in a future release. See supported integrations at https://github.com/ultralytics/yolov5#integrations.\n",
      "\u001b[34m\u001b[1mwandb\u001b[0m: WARNING  wandb is deprecated and will be removed in a future release. See supported integrations at https://github.com/ultralytics/yolov5#integrations.\n",
      "WARNING:tensorflow:From D:\\anaconda\\Lib\\site-packages\\keras\\src\\losses.py:2976: The name tf.losses.sparse_softmax_cross_entropy is deprecated. Please use tf.compat.v1.losses.sparse_softmax_cross_entropy instead.\n",
      "\n",
      "WARNING:tensorflow:From D:\\anaconda\\Lib\\site-packages\\keras\\src\\losses.py:2976: The name tf.losses.sparse_softmax_cross_entropy is deprecated. Please use tf.compat.v1.losses.sparse_softmax_cross_entropy instead.\n",
      "\n",
      "WARNING:tensorflow:From D:\\anaconda\\Lib\\site-packages\\keras\\src\\losses.py:2976: The name tf.losses.sparse_softmax_cross_entropy is deprecated. Please use tf.compat.v1.losses.sparse_softmax_cross_entropy instead.\n",
      "\n",
      "WARNING:tensorflow:From D:\\anaconda\\Lib\\site-packages\\keras\\src\\losses.py:2976: The name tf.losses.sparse_softmax_cross_entropy is deprecated. Please use tf.compat.v1.losses.sparse_softmax_cross_entropy instead.\n",
      "\n",
      "WARNING:tensorflow:From D:\\anaconda\\Lib\\site-packages\\keras\\src\\losses.py:2976: The name tf.losses.sparse_softmax_cross_entropy is deprecated. Please use tf.compat.v1.losses.sparse_softmax_cross_entropy instead.\n",
      "\n",
      "WARNING:tensorflow:From D:\\anaconda\\Lib\\site-packages\\keras\\src\\losses.py:2976: The name tf.losses.sparse_softmax_cross_entropy is deprecated. Please use tf.compat.v1.losses.sparse_softmax_cross_entropy instead.\n",
      "\n",
      "WARNING:tensorflow:From D:\\anaconda\\Lib\\site-packages\\keras\\src\\losses.py:2976: The name tf.losses.sparse_softmax_cross_entropy is deprecated. Please use tf.compat.v1.losses.sparse_softmax_cross_entropy instead.\n",
      "\n",
      "wandb: Currently logged in as: vivek-garg1407 (vinpcxr). Use `wandb login --relogin` to force relogin\n",
      "wandb: Currently logged in as: vivek-garg1407 (vinpcxr). Use `wandb login --relogin` to force relogin\n",
      "\n",
      "\u001b[34m\u001b[1mtrain: \u001b[0mScanning D:\\dataset\\pcxr\\labels\\train_jpeg... 0 images, 1 backgrounds, 0 corrupt: 100%|##########| 1/1 [00:54<00:00, 54.70s/it]\n",
      "\u001b[34m\u001b[1mtrain: \u001b[0mScanning D:\\dataset\\pcxr\\labels\\train_jpeg... 0 images, 1 backgrounds, 0 corrupt: 100%|##########| 1/1 [00:54<00:00, 54.70s/it]\n",
      "\u001b[34m\u001b[1mtrain: \u001b[0mWARNING  No labels found in D:\\dataset\\pcxr\\labels\\train_jpeg.cache. See https://docs.ultralytics.com/yolov5/tutorials/train_custom_data\n",
      "\u001b[34m\u001b[1mtrain: \u001b[0mWARNING  Cache directory D:\\dataset\\pcxr\\labels is not writeable: [WinError 183] Cannot create a file when that file already exists: 'D:\\\\dataset\\\\pcxr\\\\labels\\\\train_jpeg.cache.npy' -> 'D:\\\\dataset\\\\pcxr\\\\labels\\\\train_jpeg.cache'\n",
      "Traceback (most recent call last):\n",
      "  File \"D:\\dataset\\pcxr\\yolov5\\train.py\", line 848, in <module>\n",
      "    main(opt)\n",
      "  File \"D:\\dataset\\pcxr\\yolov5\\train.py\", line 623, in main\n",
      "    train(opt.hyp, opt, device, callbacks)\n",
      "  File \"D:\\dataset\\pcxr\\yolov5\\train.py\", line 254, in train\n",
      "    train_loader, dataset = create_dataloader(\n",
      "                            ^^^^^^^^^^^^^^^^^^\n",
      "  File \"D:\\dataset\\pcxr\\yolov5\\utils\\dataloaders.py\", line 181, in create_dataloader\n",
      "    dataset = LoadImagesAndLabels(\n",
      "              ^^^^^^^^^^^^^^^^^^^^\n",
      "  File \"D:\\dataset\\pcxr\\yolov5\\utils\\dataloaders.py\", line 604, in __init__\n",
      "    assert nf > 0 or not augment, f\"{prefix}No labels found in {cache_path}, can not start training. {HELP_URL}\"\n",
      "           ^^^^^^\n",
      "AssertionError: \u001b[34m\u001b[1mtrain: \u001b[0mNo labels found in D:\\dataset\\pcxr\\labels\\train_jpeg.cache, can not start training. See https://docs.ultralytics.com/yolov5/tutorials/train_custom_data\n",
      "Traceback (most recent call last):\n",
      "  File \"D:\\dataset\\pcxr\\yolov5\\train.py\", line 848, in <module>\n",
      "    main(opt)\n",
      "  File \"D:\\dataset\\pcxr\\yolov5\\train.py\", line 623, in main\n",
      "    train(opt.hyp, opt, device, callbacks)\n",
      "  File \"D:\\dataset\\pcxr\\yolov5\\train.py\", line 254, in train\n",
      "    train_loader, dataset = create_dataloader(\n",
      "                            ^^^^^^^^^^^^^^^^^^\n",
      "  File \"D:\\dataset\\pcxr\\yolov5\\utils\\dataloaders.py\", line 181, in create_dataloader\n",
      "    dataset = LoadImagesAndLabels(\n",
      "              ^^^^^^^^^^^^^^^^^^^^\n",
      "  File \"D:\\dataset\\pcxr\\yolov5\\utils\\dataloaders.py\", line 604, in __init__\n",
      "    assert nf > 0 or not augment, f\"{prefix}No labels found in {cache_path}, can not start training. {HELP_URL}\"\n",
      "           ^^^^^^\n",
      "AssertionError: \u001b[34m\u001b[1mtrain: \u001b[0mNo labels found in D:\\dataset\\pcxr\\labels\\train_jpeg.cache, can not start training. See https://docs.ultralytics.com/yolov5/tutorials/train_custom_data\n",
      "COMET INFO: ---------------------------------------------------------------------------------------\n",
      "COMET INFO: Comet.ml OfflineExperiment Summary\n",
      "COMET INFO: ---------------------------------------------------------------------------------------\n",
      "COMET INFO:   Data:\n",
      "COMET INFO:     display_summary_level : 1\n",
      "COMET INFO:     url                   : [OfflineExperiment will get URL after upload]\n",
      "COMET INFO:   Others:\n",
      "COMET INFO:     Created from                : YOLOv5\n",
      "COMET INFO:     Name                        : exp\n",
      "COMET INFO:     comet_log_batch_metrics     : False\n",
      "COMET INFO:     comet_log_confusion_matrix  : True\n",
      "COMET INFO:     comet_log_per_class_metrics : False\n",
      "COMET INFO:     comet_max_image_uploads     : 100\n",
      "COMET INFO:     comet_mode                  : online\n",
      "COMET INFO:     comet_model_name            : yolov5\n",
      "COMET INFO:     hasNestedParams             : True\n",
      "COMET INFO:     offline_experiment          : True\n",
      "COMET INFO:   Parameters:\n",
      "COMET INFO:     anchor_t            : 4.0\n",
      "COMET INFO:     artifact_alias      : latest\n",
      "COMET INFO:     batch_size          : 8\n",
      "COMET INFO:     bbox_interval       : 1\n",
      "COMET INFO:     box                 : 0.05\n",
      "COMET INFO:     bucket              : \n",
      "COMET INFO:     cache               : None\n",
      "COMET INFO:     cfg                 : \n",
      "COMET INFO:     cls                 : 0.5\n",
      "COMET INFO:     cls_pw              : 1.0\n",
      "COMET INFO:     copy_paste          : 0.0\n",
      "COMET INFO:     cos_lr              : False\n",
      "COMET INFO:     degrees             : 0.0\n",
      "COMET INFO:     device              : \n",
      "COMET INFO:     entity              : None\n",
      "COMET INFO:     evolve              : None\n",
      "COMET INFO:     evolve_population   : data\\hyps\n",
      "COMET INFO:     exist_ok            : False\n",
      "COMET INFO:     fl_gamma            : 0.0\n",
      "COMET INFO:     fliplr              : 0.5\n",
      "COMET INFO:     flipud              : 0.0\n",
      "COMET INFO:     freeze              : [0]\n",
      "COMET INFO:     hsv_h               : 0.015\n",
      "COMET INFO:     hsv_s               : 0.7\n",
      "COMET INFO:     hsv_v               : 0.4\n",
      "COMET INFO:     hyp|anchor_t        : 4.0\n",
      "COMET INFO:     hyp|box             : 0.05\n",
      "COMET INFO:     hyp|cls             : 0.5\n",
      "COMET INFO:     hyp|cls_pw          : 1.0\n",
      "COMET INFO:     hyp|copy_paste      : 0.0\n",
      "COMET INFO:     hyp|degrees         : 0.0\n",
      "COMET INFO:     hyp|fl_gamma        : 0.0\n",
      "COMET INFO:     hyp|fliplr          : 0.5\n",
      "COMET INFO:     hyp|flipud          : 0.0\n",
      "COMET INFO:     hyp|hsv_h           : 0.015\n",
      "COMET INFO:     hyp|hsv_s           : 0.7\n",
      "COMET INFO:     hyp|hsv_v           : 0.4\n",
      "COMET INFO:     hyp|iou_t           : 0.2\n",
      "COMET INFO:     hyp|lr0             : 0.01\n",
      "COMET INFO:     hyp|lrf             : 0.01\n",
      "COMET INFO:     hyp|mixup           : 0.0\n",
      "COMET INFO:     hyp|momentum        : 0.937\n",
      "COMET INFO:     hyp|mosaic          : 1.0\n",
      "COMET INFO:     hyp|obj             : 1.0\n",
      "COMET INFO:     hyp|obj_pw          : 1.0\n",
      "COMET INFO:     hyp|perspective     : 0.0\n",
      "COMET INFO:     hyp|scale           : 0.5\n",
      "COMET INFO:     hyp|shear           : 0.0\n",
      "COMET INFO:     hyp|translate       : 0.1\n",
      "COMET INFO:     hyp|warmup_bias_lr  : 0.1\n",
      "COMET INFO:     hyp|warmup_epochs   : 3.0\n",
      "COMET INFO:     hyp|warmup_momentum : 0.8\n",
      "COMET INFO:     hyp|weight_decay    : 0.0005\n",
      "COMET INFO:     image_weights       : False\n",
      "COMET INFO:     imgsz               : 256\n",
      "COMET INFO:     iou_t               : 0.2\n",
      "COMET INFO:     label_smoothing     : 0.0\n",
      "COMET INFO:     local_rank          : -1\n",
      "COMET INFO:     lr0                 : 0.01\n",
      "COMET INFO:     lrf                 : 0.01\n",
      "COMET INFO:     mixup               : 0.0\n",
      "COMET INFO:     momentum            : 0.937\n",
      "COMET INFO:     mosaic              : 1.0\n",
      "COMET INFO:     multi_scale         : False\n",
      "COMET INFO:     name                : exp\n",
      "COMET INFO:     ndjson_console      : False\n",
      "COMET INFO:     ndjson_file         : False\n",
      "COMET INFO:     noautoanchor        : False\n",
      "COMET INFO:     noplots             : False\n",
      "COMET INFO:     nosave              : False\n",
      "COMET INFO:     noval               : False\n",
      "COMET INFO:     obj                 : 1.0\n",
      "COMET INFO:     obj_pw              : 1.0\n",
      "COMET INFO:     optimizer           : SGD\n",
      "COMET INFO:     patience            : 100\n",
      "COMET INFO:     perspective         : 0.0\n",
      "COMET INFO:     project             : runs\\train\n",
      "COMET INFO:     quad                : False\n",
      "COMET INFO:     rect                : False\n",
      "COMET INFO:     resume              : False\n",
      "COMET INFO:     resume_evolve       : None\n",
      "COMET INFO:     save_dir            : runs\\train\\exp12\n",
      "COMET INFO:     save_period         : -1\n",
      "COMET INFO:     scale               : 0.5\n",
      "COMET INFO:     seed                : 0\n",
      "COMET INFO:     shear               : 0.0\n",
      "COMET INFO:     single_cls          : False\n",
      "COMET INFO:     sync_bn             : False\n",
      "COMET INFO:     translate           : 0.1\n",
      "COMET INFO:     upload_dataset      : False\n",
      "COMET INFO:     val_conf_threshold  : 0.001\n",
      "COMET INFO:     val_iou_threshold   : 0.6\n",
      "COMET INFO:     warmup_bias_lr      : 0.1\n",
      "COMET INFO:     warmup_epochs       : 3.0\n",
      "COMET INFO:     warmup_momentum     : 0.8\n",
      "COMET INFO:     weight_decay        : 0.0005\n",
      "COMET INFO:     workers             : 8\n",
      "COMET INFO:   Uploads:\n",
      "COMET INFO:     asset                        : 3 (2.00 KB)\n",
      "COMET INFO:     conda-environment-definition : 1\n",
      "COMET INFO:     conda-info                   : 1\n",
      "COMET INFO:     conda-specification          : 1\n",
      "COMET INFO:     environment details          : 1\n",
      "COMET INFO:     git metadata                 : 1\n",
      "COMET INFO:     installed packages           : 1\n",
      "COMET INFO: \n",
      "COMET INFO: Still saving offline stats to messages file before program termination (may take up to 120 seconds)\n",
      "COMET INFO: Starting saving the offline archive\n",
      "COMET INFO: To upload this offline experiment, run:\n",
      "    comet upload D:\\dataset\\pcxr\\yolov5\\.cometml-runs\\bc2ddb93c21848289b94856de4bc1a67.zip\n",
      "wandb: - 0.000 MB of 0.002 MB uploaded\n",
      "wandb: \\ 0.000 MB of 0.002 MB uploaded\n",
      "wandb: | 0.000 MB of 0.002 MB uploaded\n",
      "wandb: / 0.000 MB of 0.041 MB uploaded\n",
      "wandb: - 0.000 MB of 0.041 MB uploaded\n",
      "wandb: \\ 0.000 MB of 0.041 MB uploaded\n",
      "wandb: | 0.000 MB of 0.041 MB uploaded\n",
      "wandb: / 0.000 MB of 0.041 MB uploaded\n",
      "wandb: - 0.000 MB of 0.041 MB uploaded\n",
      "wandb: \\ 0.000 MB of 0.041 MB uploaded\n",
      "wandb: | 0.000 MB of 0.041 MB uploaded\n",
      "wandb: / 0.000 MB of 0.041 MB uploaded\n",
      "wandb: - 0.000 MB of 0.041 MB uploaded\n",
      "wandb: \\ 0.000 MB of 0.041 MB uploaded\n",
      "wandb: | 0.000 MB of 0.041 MB uploaded\n",
      "wandb: / 0.002 MB of 0.041 MB uploaded\n",
      "wandb: - 0.002 MB of 0.041 MB uploaded\n",
      "wandb: \\ 0.002 MB of 0.041 MB uploaded\n",
      "wandb: | 0.002 MB of 0.041 MB uploaded\n",
      "wandb: / 0.002 MB of 0.041 MB uploaded\n",
      "wandb: - 0.002 MB of 0.041 MB uploaded\n",
      "wandb: \\ 0.002 MB of 0.041 MB uploaded\n",
      "wandb: | 0.002 MB of 0.041 MB uploaded\n",
      "wandb: / 0.002 MB of 0.041 MB uploaded\n",
      "wandb: - 0.002 MB of 0.041 MB uploaded\n",
      "wandb: \\ 0.002 MB of 0.041 MB uploaded\n",
      "wandb: | 0.002 MB of 0.041 MB uploaded\n",
      "wandb: / 0.002 MB of 0.041 MB uploaded\n",
      "wandb: - 0.002 MB of 0.041 MB uploaded\n",
      "wandb: \\ 0.002 MB of 0.041 MB uploaded\n",
      "wandb: | 0.002 MB of 0.041 MB uploaded\n",
      "wandb: / 0.002 MB of 0.041 MB uploaded\n",
      "wandb: - 0.002 MB of 0.041 MB uploaded\n",
      "wandb: \\ 0.002 MB of 0.041 MB uploaded\n",
      "wandb: | 0.002 MB of 0.041 MB uploaded\n",
      "wandb: / 0.002 MB of 0.041 MB uploaded\n",
      "wandb: - 0.002 MB of 0.041 MB uploaded\n",
      "wandb: \\ 0.002 MB of 0.041 MB uploaded\n",
      "wandb: | 0.002 MB of 0.041 MB uploaded\n",
      "wandb: / 0.002 MB of 0.041 MB uploaded\n",
      "wandb: - 0.002 MB of 0.041 MB uploaded\n",
      "wandb: \\ 0.002 MB of 0.041 MB uploaded\n",
      "wandb: | 0.002 MB of 0.041 MB uploaded\n",
      "wandb: / 0.002 MB of 0.041 MB uploaded\n",
      "wandb: - 0.002 MB of 0.041 MB uploaded\n",
      "wandb: \\ 0.002 MB of 0.041 MB uploaded\n",
      "wandb: | 0.002 MB of 0.041 MB uploaded\n",
      "wandb: / 0.002 MB of 0.041 MB uploaded\n",
      "wandb: - 0.002 MB of 0.041 MB uploaded\n",
      "wandb: \\ 0.002 MB of 0.041 MB uploaded\n",
      "wandb: | 0.002 MB of 0.041 MB uploaded\n",
      "wandb: / 0.002 MB of 0.041 MB uploaded\n",
      "wandb: - 0.002 MB of 0.041 MB uploaded\n",
      "wandb: \\ 0.002 MB of 0.041 MB uploaded\n",
      "wandb: | 0.002 MB of 0.041 MB uploaded\n",
      "wandb: / 0.002 MB of 0.041 MB uploaded\n",
      "wandb: - 0.002 MB of 0.041 MB uploaded\n",
      "wandb: \\ 0.002 MB of 0.041 MB uploaded\n",
      "wandb: | 0.002 MB of 0.041 MB uploaded\n",
      "wandb: / 0.002 MB of 0.041 MB uploaded\n",
      "wandb: - 0.002 MB of 0.041 MB uploaded\n",
      "wandb: \\ 0.002 MB of 0.041 MB uploaded\n",
      "wandb: | 0.002 MB of 0.041 MB uploaded\n",
      "wandb: / 0.002 MB of 0.041 MB uploaded\n",
      "wandb: - 0.002 MB of 0.041 MB uploaded\n",
      "wandb: \\ 0.002 MB of 0.041 MB uploaded\n",
      "wandb: | 0.002 MB of 0.041 MB uploaded\n",
      "wandb: / 0.002 MB of 0.041 MB uploaded\n",
      "wandb: - 0.002 MB of 0.041 MB uploaded\n",
      "wandb: \\ 0.002 MB of 0.041 MB uploaded\n",
      "wandb: | 0.002 MB of 0.041 MB uploaded\n",
      "wandb: / 0.002 MB of 0.041 MB uploaded\n",
      "wandb: - 0.002 MB of 0.041 MB uploaded\n",
      "wandb: \\ 0.002 MB of 0.041 MB uploaded\n",
      "wandb: | 0.002 MB of 0.041 MB uploaded\n",
      "wandb: / 0.002 MB of 0.041 MB uploaded\n",
      "wandb: - 0.002 MB of 0.041 MB uploaded\n",
      "wandb: \\ 0.002 MB of 0.041 MB uploaded\n",
      "wandb: | 0.002 MB of 0.041 MB uploaded\n",
      "wandb: / 0.002 MB of 0.041 MB uploaded\n",
      "wandb: - 0.002 MB of 0.041 MB uploaded\n",
      "wandb: \\ 0.002 MB of 0.041 MB uploaded\n",
      "wandb: | 0.002 MB of 0.041 MB uploaded\n",
      "wandb: / 0.002 MB of 0.041 MB uploaded\n",
      "wandb: - 0.002 MB of 0.041 MB uploaded\n",
      "wandb: \\ 0.002 MB of 0.041 MB uploaded\n",
      "wandb: | 0.002 MB of 0.041 MB uploaded\n",
      "wandb: / 0.002 MB of 0.041 MB uploaded\n",
      "wandb: - 0.002 MB of 0.041 MB uploaded\n",
      "wandb: \\ 0.020 MB of 0.041 MB uploaded\n",
      "wandb: | 0.020 MB of 0.041 MB uploaded\n",
      "wandb: / 0.041 MB of 0.041 MB uploaded\n",
      "wandb:  View run charmed-surf-19 at: https://wandb.ai/vinpcxr/train/runs/udunmiz5\n",
      "wandb:  View job at https://wandb.ai/vinpcxr/train/jobs/QXJ0aWZhY3RDb2xsZWN0aW9uOjE0NTIxMzg3Nw==/version_details/v1\n",
      "wandb: Synced 6 W&B file(s), 0 media file(s), 0 artifact file(s) and 0 other file(s)\n",
      "wandb: Find logs at: .\\wandb\\run-20240402_163128-udunmiz5\\logs\n"
     ]
    }
   ],
   "source": [
    "!python train.py --img 256 --batch 8 --epochs 1 --data D:\\dataset\\pcxr\\images\\yolov5_final.yaml --weights yolov5x.pt"
   ]
  },
  {
   "cell_type": "code",
   "execution_count": 32,
   "metadata": {
    "colab": {
     "base_uri": "https://localhost:8080/",
     "height": 34
    },
    "executionInfo": {
     "elapsed": 3,
     "status": "ok",
     "timestamp": 1638235834294,
     "user": {
      "displayName": "Tan Ngoc Pham",
      "photoUrl": "https://lh3.googleusercontent.com/a-/AOh14GjTnKqizUwXZEJCyzVEpyGrf3UB4Q9hXQmOia-K=s64",
      "userId": "14181975107662818559"
     },
     "user_tz": -420
    },
    "id": "YAgWj_kwHQOp",
    "outputId": "9d6cd687-2460-4b1e-a0cb-bbe288bf1a82"
   },
   "outputs": [
    {
     "ename": "ModuleNotFoundError",
     "evalue": "No module named 'google.colab'",
     "output_type": "error",
     "traceback": [
      "\u001b[1;31m---------------------------------------------------------------------------\u001b[0m",
      "\u001b[1;31mModuleNotFoundError\u001b[0m                       Traceback (most recent call last)",
      "Cell \u001b[1;32mIn[32], line 3\u001b[0m\n\u001b[0;32m      1\u001b[0m \u001b[38;5;66;03m# !zip -r /content/yolov5.zip /content/yolov5\u001b[39;00m\n\u001b[1;32m----> 3\u001b[0m \u001b[38;5;28;01mfrom\u001b[39;00m \u001b[38;5;21;01mgoogle\u001b[39;00m\u001b[38;5;21;01m.\u001b[39;00m\u001b[38;5;21;01mcolab\u001b[39;00m \u001b[38;5;28;01mimport\u001b[39;00m files\n\u001b[0;32m      4\u001b[0m files\u001b[38;5;241m.\u001b[39mdownload(\u001b[38;5;124m\"\u001b[39m\u001b[38;5;124m/content/yolov5-2.zip\u001b[39m\u001b[38;5;124m\"\u001b[39m)\n",
      "\u001b[1;31mModuleNotFoundError\u001b[0m: No module named 'google.colab'"
     ]
    }
   ],
   "source": [
    "# # !zip -r /content/yolov5.zip /content/yolov5\n",
    "\n",
    "# from google.colab import files\n",
    "# files.download(\"/content/yolov5-2.zip\")"
   ]
  },
  {
   "cell_type": "markdown",
   "metadata": {
    "id": "eMjQgj4VHRvJ"
   },
   "source": [
    "# Dừng nha"
   ]
  },
  {
   "cell_type": "code",
   "execution_count": null,
   "metadata": {
    "colab": {
     "base_uri": "https://localhost:8080/",
     "height": 866
    },
    "executionInfo": {
     "elapsed": 2895,
     "status": "ok",
     "timestamp": 1637893527273,
     "user": {
      "displayName": "Tan Ngoc Pham",
      "photoUrl": "https://lh3.googleusercontent.com/a-/AOh14GjTnKqizUwXZEJCyzVEpyGrf3UB4Q9hXQmOia-K=s64",
      "userId": "14181975107662818559"
     },
     "user_tz": -420
    },
    "id": "JTllwfIWzPcG",
    "outputId": "53adbff9-0651-419b-8fa0-e1114123e4c6"
   },
   "outputs": [],
   "source": [
    "import matplotlib.pyplot as plt\n",
    "plt.figure(figsize = (15, 15))\n",
    "plt.imshow(plt.imread('runs/train/exp/train_batch0.jpg'))\n",
    "plt.savefig('fig1.png')\n",
    "# plt.figure(figsize = (15, 15))\n",
    "# plt.imshow(plt.imread('runs/train/exp2/train_batch1.jpg'))\n",
    "\n",
    "# plt.figure(figsize = (15, 15))\n",
    "# plt.imshow(plt.imread('runs/train/exp2/train_batch2.jpg'))"
   ]
  },
  {
   "cell_type": "code",
   "execution_count": null,
   "metadata": {
    "colab": {
     "base_uri": "https://localhost:8080/",
     "height": 842
    },
    "executionInfo": {
     "elapsed": 2917,
     "status": "ok",
     "timestamp": 1637893503193,
     "user": {
      "displayName": "Tan Ngoc Pham",
      "photoUrl": "https://lh3.googleusercontent.com/a-/AOh14GjTnKqizUwXZEJCyzVEpyGrf3UB4Q9hXQmOia-K=s64",
      "userId": "14181975107662818559"
     },
     "user_tz": -420
    },
    "id": "CVwmW5Do1b9L",
    "outputId": "c828828d-d4a1-428c-8c27-cf45d86aa255"
   },
   "outputs": [],
   "source": [
    "plt.figure(figsize=(30,15))\n",
    "plt.axis('off')\n",
    "plt.imshow(plt.imread('runs/train/exp/confusion_matrix.png'));"
   ]
  },
  {
   "cell_type": "markdown",
   "metadata": {
    "id": "C8WZNREe17hv"
   },
   "source": [
    "# Inference\n"
   ]
  },
  {
   "cell_type": "code",
   "execution_count": null,
   "metadata": {
    "colab": {
     "base_uri": "https://localhost:8080/"
    },
    "executionInfo": {
     "elapsed": 72734,
     "status": "ok",
     "timestamp": 1637894105272,
     "user": {
      "displayName": "Tan Ngoc Pham",
      "photoUrl": "https://lh3.googleusercontent.com/a-/AOh14GjTnKqizUwXZEJCyzVEpyGrf3UB4Q9hXQmOia-K=s64",
      "userId": "14181975107662818559"
     },
     "user_tz": -420
    },
    "id": "_jX3sPxO10Cj",
    "outputId": "e32ea053-5458-42fd-d1b9-b12d0db6dc11"
   },
   "outputs": [],
   "source": [
    "!python detect.py --weights runs/train/exp/weights/best.pt --imgsz 256 \\\n",
    "--conf 0.15 \\\n",
    "--iou 0.5 \\\n",
    "--source '/content/drive/MyDrive/COURSES/CS431/CXR-Abnormalities-Detection/data/yolo/images/val/' \\\n",
    "--exist-ok"
   ]
  },
  {
   "cell_type": "markdown",
   "metadata": {
    "id": "kEGHVDQd5Bbf"
   },
   "source": [
    "## Test"
   ]
  },
  {
   "cell_type": "code",
   "execution_count": null,
   "metadata": {
    "colab": {
     "base_uri": "https://localhost:8080/",
     "height": 206
    },
    "executionInfo": {
     "elapsed": 577,
     "status": "ok",
     "timestamp": 1637894110155,
     "user": {
      "displayName": "Tan Ngoc Pham",
      "photoUrl": "https://lh3.googleusercontent.com/a-/AOh14GjTnKqizUwXZEJCyzVEpyGrf3UB4Q9hXQmOia-K=s64",
      "userId": "14181975107662818559"
     },
     "user_tz": -420
    },
    "id": "GIDpuZTh4-Kr",
    "outputId": "3b29615e-2970-4c67-d690-23ac34d87510"
   },
   "outputs": [],
   "source": [
    "test_df = pd.read_csv('/content/drive/MyDrive/COURSES/CS431/CXR-Abnormalities-Detection/data/test.csv')\n",
    "test_df.head()"
   ]
  },
  {
   "cell_type": "code",
   "execution_count": null,
   "metadata": {
    "colab": {
     "base_uri": "https://localhost:8080/"
    },
    "executionInfo": {
     "elapsed": 889118,
     "status": "ok",
     "timestamp": 1637895002793,
     "user": {
      "displayName": "Tan Ngoc Pham",
      "photoUrl": "https://lh3.googleusercontent.com/a-/AOh14GjTnKqizUwXZEJCyzVEpyGrf3UB4Q9hXQmOia-K=s64",
      "userId": "14181975107662818559"
     },
     "user_tz": -420
    },
    "id": "X7HsMiqL2Lv1",
    "outputId": "0c735f8f-9b9e-4972-de63-b31d835a20ad"
   },
   "outputs": [],
   "source": [
    "!python detect.py --weights runs/train/exp/weights/best.pt \\\n",
    "--img 256 \\\n",
    "--conf 0.01 \\\n",
    "--iou 0.4 \\\n",
    "--source '/content/drive/MyDrive/COURSES/CS431/CXR-Abnormalities-Detection/data/test/' \\\n",
    "--save-txt --save-conf --exist-ok"
   ]
  },
  {
   "cell_type": "code",
   "execution_count": null,
   "metadata": {
    "id": "V0E6bk5TEbr8"
   },
   "outputs": [],
   "source": [
    "def yolo2voc(image_height, image_width, bboxes):\n",
    "    \"\"\"\n",
    "    yolo => [xmid, ymid, w, h] (normalized)\n",
    "    voc  => [x1, y1, x2, y1]\n",
    "    \n",
    "    \"\"\" \n",
    "    bboxes = bboxes.copy().astype(float) # otherwise all value will be 0 as voc_pascal dtype is np.int\n",
    "    \n",
    "    bboxes[..., [0, 2]] = bboxes[..., [0, 2]]* image_width\n",
    "    bboxes[..., [1, 3]] = bboxes[..., [1, 3]]* image_height\n",
    "    \n",
    "    bboxes[..., [0, 1]] = bboxes[..., [0, 1]] - bboxes[..., [2, 3]]/2\n",
    "    bboxes[..., [2, 3]] = bboxes[..., [0, 1]] + bboxes[..., [2, 3]]\n",
    "    \n",
    "    return bboxes"
   ]
  },
  {
   "cell_type": "code",
   "execution_count": null,
   "metadata": {
    "colab": {
     "base_uri": "https://localhost:8080/",
     "height": 48,
     "referenced_widgets": [
      "8ed2d044719e40c9ad7fce8807875f8c",
      "490f8ac93f6d477caaabf509dd2f228b",
      "b5f0415eb33447999a0c099159998f5b",
      "53d81153bb2a4a5585f4957611dab4f9",
      "8772e0d20bbb4a0dafd76fd239425636",
      "4da1b848f728467080451a4e5661812c",
      "e8b5131d73d54a8c96906e56c2ab16ac",
      "52c33158e2a84dfdad5533c898a7c4dd",
      "4bb18410f8004d38bdfd402adf3b17cc",
      "2efe41fc71a24d8889e8ff526753e453",
      "ba16a646e30b457ba3908faf376e774e"
     ]
    },
    "executionInfo": {
     "elapsed": 4704,
     "status": "ok",
     "timestamp": 1637895008644,
     "user": {
      "displayName": "Tan Ngoc Pham",
      "photoUrl": "https://lh3.googleusercontent.com/a-/AOh14GjTnKqizUwXZEJCyzVEpyGrf3UB4Q9hXQmOia-K=s64",
      "userId": "14181975107662818559"
     },
     "user_tz": -420
    },
    "id": "QZMGV3KC5ciO",
    "outputId": "8426e3e3-0447-46fb-c5d4-812947d199e9"
   },
   "outputs": [],
   "source": [
    "image_ids = []\n",
    "PredictionStrings = []\n",
    "\n",
    "for file_path in tqdm(glob('runs/detect/exp/labels/*txt')):\n",
    "    image_id = file_path.split('/')[-1].split('.')[0]\n",
    "    w, h = test_df.loc[test_df.image_id==image_id,['width', 'height']].values[0]\n",
    "    f = open(file_path, 'r')\n",
    "    data = np.array(f.read().replace('\\n', ' ').strip().split(' ')).astype(np.float32).reshape(-1, 6)\n",
    "    data = data[:, [0, 5, 1, 2, 3, 4]]\n",
    "    bboxes = list(np.round(np.concatenate((data[:, :2], np.round(yolo2voc(h, w, data[:, 2:]))), axis =1).reshape(-1), 1).astype(str))\n",
    "    for idx in range(len(bboxes)):\n",
    "        bboxes[idx] = str(int(float(bboxes[idx]))) if idx%6!=1 else bboxes[idx]\n",
    "    image_ids.append(image_id)\n",
    "    PredictionStrings.append(' '.join(bboxes))"
   ]
  },
  {
   "cell_type": "code",
   "execution_count": null,
   "metadata": {
    "colab": {
     "base_uri": "https://localhost:8080/",
     "height": 206
    },
    "executionInfo": {
     "elapsed": 831,
     "status": "ok",
     "timestamp": 1637895009463,
     "user": {
      "displayName": "Tan Ngoc Pham",
      "photoUrl": "https://lh3.googleusercontent.com/a-/AOh14GjTnKqizUwXZEJCyzVEpyGrf3UB4Q9hXQmOia-K=s64",
      "userId": "14181975107662818559"
     },
     "user_tz": -420
    },
    "id": "xM8UF1uA6obM",
    "outputId": "2edc8b7d-e545-44c4-98dd-8dafd4463945"
   },
   "outputs": [],
   "source": [
    "pred_df = pd.DataFrame({'image_id':image_ids,\n",
    "                        'PredictionString':PredictionStrings})\n",
    "sub_df = pd.merge(test_df, pred_df, on = 'image_id', how = 'left').fillna(\"14 1 0 0 1 1\")\n",
    "sub_df = sub_df[['image_id', 'PredictionString']]\n",
    "sub_df.to_csv('submission.csv',index = False)\n",
    "sub_df.tail()"
   ]
  },
  {
   "cell_type": "code",
   "execution_count": null,
   "metadata": {
    "colab": {
     "base_uri": "https://localhost:8080/",
     "height": 1000
    },
    "executionInfo": {
     "elapsed": 24692,
     "status": "error",
     "timestamp": 1637893760411,
     "user": {
      "displayName": "Tan Ngoc Pham",
      "photoUrl": "https://lh3.googleusercontent.com/a-/AOh14GjTnKqizUwXZEJCyzVEpyGrf3UB4Q9hXQmOia-K=s64",
      "userId": "14181975107662818559"
     },
     "user_tz": -420
    },
    "id": "ZIECfuZaFYgV",
    "outputId": "de01c90b-6714-47e9-bb71-ce64bc10a272"
   },
   "outputs": [],
   "source": [
    "# !zip -r /content/yolov5-2.zip /content/yolov5\n",
    "\n",
    "# from google.colab import files\n",
    "# files.download(\"/content/yolov5.zip\")"
   ]
  },
  {
   "cell_type": "code",
   "execution_count": null,
   "metadata": {
    "id": "TWFFFMevEwLC"
   },
   "outputs": [],
   "source": []
  }
 ],
 "metadata": {
  "accelerator": "GPU",
  "colab": {
   "collapsed_sections": [],
   "name": "YOLOv5.ipynb",
   "provenance": []
  },
  "kernelspec": {
   "display_name": "Python 3 (ipykernel)",
   "language": "python",
   "name": "python3"
  },
  "language_info": {
   "codemirror_mode": {
    "name": "ipython",
    "version": 3
   },
   "file_extension": ".py",
   "mimetype": "text/x-python",
   "name": "python",
   "nbconvert_exporter": "python",
   "pygments_lexer": "ipython3",
   "version": "3.11.5"
  },
  "widgets": {
   "application/vnd.jupyter.widget-state+json": {
    "2efe41fc71a24d8889e8ff526753e453": {
     "model_module": "@jupyter-widgets/controls",
     "model_module_version": "1.5.0",
     "model_name": "DescriptionStyleModel",
     "state": {
      "_model_module": "@jupyter-widgets/controls",
      "_model_module_version": "1.5.0",
      "_model_name": "DescriptionStyleModel",
      "_view_count": null,
      "_view_module": "@jupyter-widgets/base",
      "_view_module_version": "1.2.0",
      "_view_name": "StyleView",
      "description_width": ""
     }
    },
    "490f8ac93f6d477caaabf509dd2f228b": {
     "model_module": "@jupyter-widgets/base",
     "model_module_version": "1.2.0",
     "model_name": "LayoutModel",
     "state": {
      "_model_module": "@jupyter-widgets/base",
      "_model_module_version": "1.2.0",
      "_model_name": "LayoutModel",
      "_view_count": null,
      "_view_module": "@jupyter-widgets/base",
      "_view_module_version": "1.2.0",
      "_view_name": "LayoutView",
      "align_content": null,
      "align_items": null,
      "align_self": null,
      "border": null,
      "bottom": null,
      "display": null,
      "flex": null,
      "flex_flow": null,
      "grid_area": null,
      "grid_auto_columns": null,
      "grid_auto_flow": null,
      "grid_auto_rows": null,
      "grid_column": null,
      "grid_gap": null,
      "grid_row": null,
      "grid_template_areas": null,
      "grid_template_columns": null,
      "grid_template_rows": null,
      "height": null,
      "justify_content": null,
      "justify_items": null,
      "left": null,
      "margin": null,
      "max_height": null,
      "max_width": null,
      "min_height": null,
      "min_width": null,
      "object_fit": null,
      "object_position": null,
      "order": null,
      "overflow": null,
      "overflow_x": null,
      "overflow_y": null,
      "padding": null,
      "right": null,
      "top": null,
      "visibility": null,
      "width": null
     }
    },
    "4bb18410f8004d38bdfd402adf3b17cc": {
     "model_module": "@jupyter-widgets/base",
     "model_module_version": "1.2.0",
     "model_name": "LayoutModel",
     "state": {
      "_model_module": "@jupyter-widgets/base",
      "_model_module_version": "1.2.0",
      "_model_name": "LayoutModel",
      "_view_count": null,
      "_view_module": "@jupyter-widgets/base",
      "_view_module_version": "1.2.0",
      "_view_name": "LayoutView",
      "align_content": null,
      "align_items": null,
      "align_self": null,
      "border": null,
      "bottom": null,
      "display": null,
      "flex": null,
      "flex_flow": null,
      "grid_area": null,
      "grid_auto_columns": null,
      "grid_auto_flow": null,
      "grid_auto_rows": null,
      "grid_column": null,
      "grid_gap": null,
      "grid_row": null,
      "grid_template_areas": null,
      "grid_template_columns": null,
      "grid_template_rows": null,
      "height": null,
      "justify_content": null,
      "justify_items": null,
      "left": null,
      "margin": null,
      "max_height": null,
      "max_width": null,
      "min_height": null,
      "min_width": null,
      "object_fit": null,
      "object_position": null,
      "order": null,
      "overflow": null,
      "overflow_x": null,
      "overflow_y": null,
      "padding": null,
      "right": null,
      "top": null,
      "visibility": null,
      "width": null
     }
    },
    "4da1b848f728467080451a4e5661812c": {
     "model_module": "@jupyter-widgets/controls",
     "model_module_version": "1.5.0",
     "model_name": "DescriptionStyleModel",
     "state": {
      "_model_module": "@jupyter-widgets/controls",
      "_model_module_version": "1.5.0",
      "_model_name": "DescriptionStyleModel",
      "_view_count": null,
      "_view_module": "@jupyter-widgets/base",
      "_view_module_version": "1.2.0",
      "_view_name": "StyleView",
      "description_width": ""
     }
    },
    "52c33158e2a84dfdad5533c898a7c4dd": {
     "model_module": "@jupyter-widgets/controls",
     "model_module_version": "1.5.0",
     "model_name": "ProgressStyleModel",
     "state": {
      "_model_module": "@jupyter-widgets/controls",
      "_model_module_version": "1.5.0",
      "_model_name": "ProgressStyleModel",
      "_view_count": null,
      "_view_module": "@jupyter-widgets/base",
      "_view_module_version": "1.2.0",
      "_view_name": "StyleView",
      "bar_color": null,
      "description_width": ""
     }
    },
    "53d81153bb2a4a5585f4957611dab4f9": {
     "model_module": "@jupyter-widgets/controls",
     "model_module_version": "1.5.0",
     "model_name": "FloatProgressModel",
     "state": {
      "_dom_classes": [],
      "_model_module": "@jupyter-widgets/controls",
      "_model_module_version": "1.5.0",
      "_model_name": "FloatProgressModel",
      "_view_count": null,
      "_view_module": "@jupyter-widgets/controls",
      "_view_module_version": "1.5.0",
      "_view_name": "ProgressView",
      "bar_style": "success",
      "description": "",
      "description_tooltip": null,
      "layout": "IPY_MODEL_4bb18410f8004d38bdfd402adf3b17cc",
      "max": 2997,
      "min": 0,
      "orientation": "horizontal",
      "style": "IPY_MODEL_52c33158e2a84dfdad5533c898a7c4dd",
      "value": 2997
     }
    },
    "8772e0d20bbb4a0dafd76fd239425636": {
     "model_module": "@jupyter-widgets/controls",
     "model_module_version": "1.5.0",
     "model_name": "HTMLModel",
     "state": {
      "_dom_classes": [],
      "_model_module": "@jupyter-widgets/controls",
      "_model_module_version": "1.5.0",
      "_model_name": "HTMLModel",
      "_view_count": null,
      "_view_module": "@jupyter-widgets/controls",
      "_view_module_version": "1.5.0",
      "_view_name": "HTMLView",
      "description": "",
      "description_tooltip": null,
      "layout": "IPY_MODEL_ba16a646e30b457ba3908faf376e774e",
      "placeholder": "​",
      "style": "IPY_MODEL_2efe41fc71a24d8889e8ff526753e453",
      "value": " 2997/2997 [00:04&lt;00:00, 648.14it/s]"
     }
    },
    "8ed2d044719e40c9ad7fce8807875f8c": {
     "model_module": "@jupyter-widgets/controls",
     "model_module_version": "1.5.0",
     "model_name": "HBoxModel",
     "state": {
      "_dom_classes": [],
      "_model_module": "@jupyter-widgets/controls",
      "_model_module_version": "1.5.0",
      "_model_name": "HBoxModel",
      "_view_count": null,
      "_view_module": "@jupyter-widgets/controls",
      "_view_module_version": "1.5.0",
      "_view_name": "HBoxView",
      "box_style": "",
      "children": [
       "IPY_MODEL_b5f0415eb33447999a0c099159998f5b",
       "IPY_MODEL_53d81153bb2a4a5585f4957611dab4f9",
       "IPY_MODEL_8772e0d20bbb4a0dafd76fd239425636"
      ],
      "layout": "IPY_MODEL_490f8ac93f6d477caaabf509dd2f228b"
     }
    },
    "b5f0415eb33447999a0c099159998f5b": {
     "model_module": "@jupyter-widgets/controls",
     "model_module_version": "1.5.0",
     "model_name": "HTMLModel",
     "state": {
      "_dom_classes": [],
      "_model_module": "@jupyter-widgets/controls",
      "_model_module_version": "1.5.0",
      "_model_name": "HTMLModel",
      "_view_count": null,
      "_view_module": "@jupyter-widgets/controls",
      "_view_module_version": "1.5.0",
      "_view_name": "HTMLView",
      "description": "",
      "description_tooltip": null,
      "layout": "IPY_MODEL_e8b5131d73d54a8c96906e56c2ab16ac",
      "placeholder": "​",
      "style": "IPY_MODEL_4da1b848f728467080451a4e5661812c",
      "value": "100%"
     }
    },
    "ba16a646e30b457ba3908faf376e774e": {
     "model_module": "@jupyter-widgets/base",
     "model_module_version": "1.2.0",
     "model_name": "LayoutModel",
     "state": {
      "_model_module": "@jupyter-widgets/base",
      "_model_module_version": "1.2.0",
      "_model_name": "LayoutModel",
      "_view_count": null,
      "_view_module": "@jupyter-widgets/base",
      "_view_module_version": "1.2.0",
      "_view_name": "LayoutView",
      "align_content": null,
      "align_items": null,
      "align_self": null,
      "border": null,
      "bottom": null,
      "display": null,
      "flex": null,
      "flex_flow": null,
      "grid_area": null,
      "grid_auto_columns": null,
      "grid_auto_flow": null,
      "grid_auto_rows": null,
      "grid_column": null,
      "grid_gap": null,
      "grid_row": null,
      "grid_template_areas": null,
      "grid_template_columns": null,
      "grid_template_rows": null,
      "height": null,
      "justify_content": null,
      "justify_items": null,
      "left": null,
      "margin": null,
      "max_height": null,
      "max_width": null,
      "min_height": null,
      "min_width": null,
      "object_fit": null,
      "object_position": null,
      "order": null,
      "overflow": null,
      "overflow_x": null,
      "overflow_y": null,
      "padding": null,
      "right": null,
      "top": null,
      "visibility": null,
      "width": null
     }
    },
    "e8b5131d73d54a8c96906e56c2ab16ac": {
     "model_module": "@jupyter-widgets/base",
     "model_module_version": "1.2.0",
     "model_name": "LayoutModel",
     "state": {
      "_model_module": "@jupyter-widgets/base",
      "_model_module_version": "1.2.0",
      "_model_name": "LayoutModel",
      "_view_count": null,
      "_view_module": "@jupyter-widgets/base",
      "_view_module_version": "1.2.0",
      "_view_name": "LayoutView",
      "align_content": null,
      "align_items": null,
      "align_self": null,
      "border": null,
      "bottom": null,
      "display": null,
      "flex": null,
      "flex_flow": null,
      "grid_area": null,
      "grid_auto_columns": null,
      "grid_auto_flow": null,
      "grid_auto_rows": null,
      "grid_column": null,
      "grid_gap": null,
      "grid_row": null,
      "grid_template_areas": null,
      "grid_template_columns": null,
      "grid_template_rows": null,
      "height": null,
      "justify_content": null,
      "justify_items": null,
      "left": null,
      "margin": null,
      "max_height": null,
      "max_width": null,
      "min_height": null,
      "min_width": null,
      "object_fit": null,
      "object_position": null,
      "order": null,
      "overflow": null,
      "overflow_x": null,
      "overflow_y": null,
      "padding": null,
      "right": null,
      "top": null,
      "visibility": null,
      "width": null
     }
    }
   }
  }
 },
 "nbformat": 4,
 "nbformat_minor": 1
}
